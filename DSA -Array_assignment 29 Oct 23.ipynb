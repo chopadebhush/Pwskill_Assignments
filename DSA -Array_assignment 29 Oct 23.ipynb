{
 "cells": [
  {
   "cell_type": "markdown",
   "id": "60f9701a-baaf-4b38-a57d-04a8fc7eefbf",
   "metadata": {},
   "source": [
    "### Array Assignments 28 Oct 2023"
   ]
  },
  {
   "cell_type": "markdown",
   "id": "31bab10b-d0fd-43a1-b14c-f293ff2125e1",
   "metadata": {},
   "source": [
    "    1. Given an array, check if it contains any duplicates or not. \n",
    "\n",
    "    arr = [1, 2, 4, 2, 5, 9] \n",
    "\n",
    "    Output = True"
   ]
  },
  {
   "cell_type": "code",
   "execution_count": 13,
   "id": "9e82cf43-05df-432d-80b1-c498c7b6dc3e",
   "metadata": {},
   "outputs": [],
   "source": [
    "def check_duplicate(arr):\n",
    "     for i in range(len(arr)):\n",
    "            if arr[i] == arr[i]:\n",
    "                res =arr[i]\n",
    "            return f\"True : index {res} is duplicate\""
   ]
  },
  {
   "cell_type": "code",
   "execution_count": 14,
   "id": "e621c8a9-1017-4e88-9e67-815c39f4192a",
   "metadata": {},
   "outputs": [
    {
     "name": "stdout",
     "output_type": "stream",
     "text": [
      "True : index 1 is duplicate\n"
     ]
    }
   ],
   "source": [
    "arr =[1, 2, 4, 2, 5, 9]\n",
    "checkDuplicate =check_duplicate(arr)\n",
    "print(checkDuplicate)"
   ]
  },
  {
   "cell_type": "markdown",
   "id": "104ef988-1f9b-45b8-a40a-cab0c82178fd",
   "metadata": {},
   "source": [
    "    2. Given an array and an integer k, rotate the array to the right by k steps. \n",
    "\n",
    "    arr = [1, 2, 3, 4, 5, 6, 7] k = 3 \n",
    "\n",
    "    Output = [5, 6, 7, 1, 2, 3, 4]"
   ]
  },
  {
   "cell_type": "code",
   "execution_count": 23,
   "id": "306ed7ea-194f-49d0-af50-0af5184ae3bc",
   "metadata": {},
   "outputs": [],
   "source": [
    "def rotate_array(nums, k):\n",
    "    n = len(nums)\n",
    "    k = k % n\n",
    "    rotated_nums = [0] * n\n",
    "\n",
    "    for i in range(n):\n",
    "        new_index = (i + k) % n\n",
    "        rotated_nums[new_index] = nums[i]\n",
    "        \n",
    "    for i in range(n):\n",
    "        nums[i] = rotated_nums[i]"
   ]
  },
  {
   "cell_type": "code",
   "execution_count": 24,
   "id": "1e006c2b-8623-4d84-881c-d80fa9c812ea",
   "metadata": {},
   "outputs": [
    {
     "name": "stdout",
     "output_type": "stream",
     "text": [
      "[5, 6, 7, 1, 2, 3, 4]\n"
     ]
    }
   ],
   "source": [
    "# Driver Code\n",
    "arr = [1, 2, 3, 4, 5, 6, 7]\n",
    "k = 3\n",
    "rotate_array(arr, k)\n",
    "print(arr)  # Output will be [4, 5, 1, 2, 3]"
   ]
  },
  {
   "cell_type": "markdown",
   "id": "a727c777-307c-416d-9f3b-a79572ac9f73",
   "metadata": {},
   "source": [
    "    3. Reverse the given array in-place, means without using any extra data structure. \n",
    "\n",
    "    arr = [2, 4, 5, 7, 9, 12] \n",
    "\n",
    "    Output = [12, 9, 7, 5, 4, 2]"
   ]
  },
  {
   "cell_type": "code",
   "execution_count": 14,
   "id": "554bf68a-b4e7-40ac-b3a2-fae0e0ef95c7",
   "metadata": {},
   "outputs": [],
   "source": [
    "def reverse(arr):\n",
    "    for i in reversed(arr):\n",
    "        print(i,end=\" \")      "
   ]
  },
  {
   "cell_type": "code",
   "execution_count": 15,
   "id": "d3aebdff-d1a3-4d4b-a8ea-f79689205e2e",
   "metadata": {},
   "outputs": [
    {
     "name": "stdout",
     "output_type": "stream",
     "text": [
      "12 9 7 5 4 2 "
     ]
    }
   ],
   "source": [
    "# Driver code \n",
    "arr =[2, 4, 5, 7, 9, 12]\n",
    "reverse(arr)"
   ]
  },
  {
   "cell_type": "markdown",
   "id": "51328ee1-21cb-4235-9e98-b5d8f9d9f6b6",
   "metadata": {},
   "source": [
    "OR"
   ]
  },
  {
   "cell_type": "code",
   "execution_count": 109,
   "id": "d2c1875f-3c54-4e00-a6f9-5766e620e0ec",
   "metadata": {},
   "outputs": [],
   "source": [
    "def reverse_data(arr):\n",
    "    n= len(arr)\n",
    "    d=arr[-1]\n",
    "    for i in range(d ,n,-1):\n",
    "        print(i,end =\" \")"
   ]
  },
  {
   "cell_type": "code",
   "execution_count": 110,
   "id": "9c081b26-5043-4507-8a53-751f685e3b85",
   "metadata": {},
   "outputs": [
    {
     "name": "stdout",
     "output_type": "stream",
     "text": [
      "12 11 10 9 8 7 "
     ]
    }
   ],
   "source": [
    "# driver code\n",
    "arr =[2, 4, 5, 7, 9, 12]\n",
    "reverse_data(arr)"
   ]
  },
  {
   "cell_type": "markdown",
   "id": "81503762-39e3-4fb6-b2de-2c6e8b60e002",
   "metadata": {},
   "source": [
    "    4. Given an array of integers, find the maximum element in an array\n",
    "\n",
    "     arr = [10, 5, 20, 8, 15]\n",
    "\n",
    "     Output = 20"
   ]
  },
  {
   "cell_type": "code",
   "execution_count": 73,
   "id": "77b9257a-f7a8-4b4b-8390-c0963ed67ead",
   "metadata": {},
   "outputs": [],
   "source": [
    "def Max_element(arr):\n",
    "    max_ele = arr[0]\n",
    "    # n =len(arr)\n",
    "    for i in range(len(arr)):\n",
    "        if arr[i] > max_ele:\n",
    "            max_ele =arr[i]\n",
    "    return max_ele\n",
    "            "
   ]
  },
  {
   "cell_type": "code",
   "execution_count": 93,
   "id": "123b09da-142d-442e-b120-2c6a93bc2701",
   "metadata": {},
   "outputs": [
    {
     "data": {
      "text/plain": [
       "20"
      ]
     },
     "execution_count": 93,
     "metadata": {},
     "output_type": "execute_result"
    }
   ],
   "source": [
    "# driver Code\n",
    "arr =[10,5,20,8,15]\n",
    "Max_element(arr)"
   ]
  },
  {
   "cell_type": "markdown",
   "id": "023f2206-577b-4239-9ac7-bb7efb74560a",
   "metadata": {},
   "source": [
    "OR"
   ]
  },
  {
   "cell_type": "code",
   "execution_count": 90,
   "id": "54632de6-c27c-4fd7-b429-bc43693371a3",
   "metadata": {},
   "outputs": [],
   "source": [
    "def max_of(arr):\n",
    "        max_element =max(arr)\n",
    "        return max_element"
   ]
  },
  {
   "cell_type": "code",
   "execution_count": 91,
   "id": "0e60c7e7-57b7-4a39-bee9-62380ad4025f",
   "metadata": {},
   "outputs": [
    {
     "data": {
      "text/plain": [
       "20"
      ]
     },
     "execution_count": 91,
     "metadata": {},
     "output_type": "execute_result"
    }
   ],
   "source": [
    "max_of([10,5,20,8,15])"
   ]
  },
  {
   "cell_type": "markdown",
   "id": "144aed43-0cee-45c9-bba5-ae53d42a565a",
   "metadata": {},
   "source": [
    "5. Given a sorted array, remove the duplicate element without using any extra data structure. \n",
    "\n",
    "arr = [1, 1, 2, 2, 2, 3, 3, 4, 4, 4, 5, 5] \n",
    "\n",
    "Output = [1, 2, 3, 4, 5]"
   ]
  },
  {
   "cell_type": "code",
   "execution_count": 1,
   "id": "ae3485bb-9ec4-4c53-94cc-01604b762725",
   "metadata": {},
   "outputs": [],
   "source": [
    "def sort_array(arr):\n",
    "    array =list(set(arr))\n",
    "    return array"
   ]
  },
  {
   "cell_type": "code",
   "execution_count": 11,
   "id": "0f07f93a-004a-41fb-9f4d-00c6dd9116d0",
   "metadata": {},
   "outputs": [
    {
     "name": "stdout",
     "output_type": "stream",
     "text": [
      "[1, 2, 3, 4, 5]\n"
     ]
    }
   ],
   "source": [
    "#driver Code\n",
    "\n",
    "arr =[1, 1, 2, 2, 2, 3, 3, 4, 4, 4, 5, 5]\n",
    "sorted_array =sort_array(arr)\n",
    "print(sorted_array)"
   ]
  },
  {
   "cell_type": "code",
   "execution_count": null,
   "id": "00f67493-9ff2-4a2a-8658-94221297716f",
   "metadata": {},
   "outputs": [],
   "source": []
  }
 ],
 "metadata": {
  "kernelspec": {
   "display_name": "Python 3 (ipykernel)",
   "language": "python",
   "name": "python3"
  },
  "language_info": {
   "codemirror_mode": {
    "name": "ipython",
    "version": 3
   },
   "file_extension": ".py",
   "mimetype": "text/x-python",
   "name": "python",
   "nbconvert_exporter": "python",
   "pygments_lexer": "ipython3",
   "version": "3.10.8"
  }
 },
 "nbformat": 4,
 "nbformat_minor": 5
}
