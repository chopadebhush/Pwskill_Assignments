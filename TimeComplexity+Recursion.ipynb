{
 "cells": [
  {
   "cell_type": "markdown",
   "id": "43400e5d-7633-43c8-85e6-863bb6c492a5",
   "metadata": {
    "tags": []
   },
   "source": [
    "#### `Find time complexity of below code blocks `"
   ]
  },
  {
   "cell_type": "markdown",
   "id": "4490c3e4-528f-48b9-883a-a56ed4307e1d",
   "metadata": {
    "tags": []
   },
   "source": [
    "#### `Problem 1` :"
   ]
  },
  {
   "cell_type": "code",
   "execution_count": 69,
   "id": "7d041c02-d805-408e-b4d0-248604b20224",
   "metadata": {},
   "outputs": [],
   "source": [
    "def quicksort(arr):\n",
    "\n",
    "    if len(arr) <= 1:\n",
    "\n",
    "        return arr\n",
    "\n",
    "    pivot = arr[len(arr) // 2]\n",
    "\n",
    "    left = [x for x in arr if x < pivot]\n",
    "\n",
    "    middle = [x for x in arr if x == pivot]\n",
    "\n",
    "    right = [x for x in arr if x > pivot]\n",
    "\n",
    "    return quicksort(left) + middle + quicksort(right)"
   ]
  },
  {
   "cell_type": "markdown",
   "id": "f07008a6-11e7-4239-be54-8f58ca69482a",
   "metadata": {},
   "source": [
    "Ans :\n",
    "    \n",
    "    Time Complexity of these code is `O(nlog n)`\n",
    "    \n",
    "    Space complexity is `O(n)`\n",
    "    "
   ]
  },
  {
   "cell_type": "markdown",
   "id": "2b1a03b6-89cd-49b3-aa57-2da92b2d02ad",
   "metadata": {},
   "source": [
    "#### `Problem 2` :"
   ]
  },
  {
   "cell_type": "code",
   "execution_count": 70,
   "id": "64eecb2f-1100-43d2-aa52-72df0bc985d4",
   "metadata": {},
   "outputs": [],
   "source": [
    "def nested_loop_example(matrix):\n",
    "\n",
    "    rows, cols = len(matrix), len(matrix[0])\n",
    "\n",
    "    total = 0\n",
    "\n",
    "    for i in range(rows):\n",
    "\n",
    "        for j in range(cols):\n",
    "\n",
    "            total += matrix[i][j]\n",
    "\n",
    "    return total"
   ]
  },
  {
   "cell_type": "markdown",
   "id": "664330ab-368f-4d6e-bdf8-6b6e7faa87cd",
   "metadata": {},
   "source": [
    "Ans :\n",
    "    \n",
    "    Time Complexity is O(n**2)\n",
    "    \n",
    "    space complexity  is O(n)"
   ]
  },
  {
   "cell_type": "markdown",
   "id": "bacae083-00d6-49bf-8816-98f6f7f0fb0c",
   "metadata": {},
   "source": [
    "#### `Problem 3 `"
   ]
  },
  {
   "cell_type": "code",
   "execution_count": 71,
   "id": "04c109b1-4eb7-4163-b263-2e72fd8c5f7f",
   "metadata": {},
   "outputs": [],
   "source": [
    "def example_function(arr):\n",
    "\n",
    "    result = 0\n",
    "\n",
    "    for element in arr:\n",
    "\n",
    "        result += element\n",
    "\n",
    "    return result"
   ]
  },
  {
   "cell_type": "markdown",
   "id": "de7b593a-5590-4f73-90f7-70bae5dd553c",
   "metadata": {},
   "source": [
    "Ans :\n",
    "    \n",
    "    Time Complexity is O(n)\n",
    "    \n",
    "    space complexity is O(1)"
   ]
  },
  {
   "cell_type": "markdown",
   "id": "ee6c5adf-39fb-48d7-8e54-ee0d841894df",
   "metadata": {},
   "source": [
    "#### `Problem 4` "
   ]
  },
  {
   "cell_type": "code",
   "execution_count": 72,
   "id": "883f6eeb-8890-4e17-955c-a71a6b53a09a",
   "metadata": {},
   "outputs": [],
   "source": [
    "def longest_increasing_subsequence(nums):\n",
    "    n = len(nums)\n",
    "    lis = [1] * n\n",
    "    for i in range(1, n):\n",
    "        for j in range(0, i):\n",
    "            if nums[i] > nums[j] and lis[i] < lis[j] + 1:\n",
    "                lis[i] = lis[j] + 1\n",
    "    return max(lis)"
   ]
  },
  {
   "cell_type": "markdown",
   "id": "325ee078-db5e-4d3c-8663-226f601a19bb",
   "metadata": {},
   "source": [
    "Ans :\n",
    "\n",
    "\n",
    "    Time complexity is O(n)\n",
    "    \n",
    "    space Complexity is O(1)"
   ]
  },
  {
   "cell_type": "markdown",
   "id": "7f70d86b-df4b-48e9-8dfa-7c78d5c328e6",
   "metadata": {},
   "source": [
    "### `Problem 5 `:"
   ]
  },
  {
   "cell_type": "code",
   "execution_count": 73,
   "id": "13bb778c-0d70-4020-ab6e-edb229bbff21",
   "metadata": {},
   "outputs": [],
   "source": [
    "def mysterious_function(arr):\n",
    "\n",
    "    n = len(arr)\n",
    "\n",
    "    result = 0\n",
    "\n",
    "    for i in range(n):\n",
    "\n",
    "        for j in range(i, n):\n",
    "\n",
    "            result += arr[i] * arr[j]\n",
    "\n",
    "    return result"
   ]
  },
  {
   "cell_type": "markdown",
   "id": "8f720aba-fe2c-4148-969f-7d67395875ab",
   "metadata": {},
   "source": [
    "Ans :\n",
    "    \n",
    "    Time complexity is O(n**2)\n",
    "    \n",
    "    space complexity is O(1)"
   ]
  },
  {
   "cell_type": "markdown",
   "id": "f5f08783-d92b-468d-aee7-3181fae2ffde",
   "metadata": {},
   "source": [
    "### Solve the following problems on recursion"
   ]
  },
  {
   "cell_type": "markdown",
   "id": "07f8857a-c706-4c4d-b317-26195e6292f4",
   "metadata": {},
   "source": [
    "#### Problem 6 : Sum of Digit"
   ]
  },
  {
   "cell_type": "markdown",
   "id": "e7f6a03a-eb96-4293-9016-c0334c9f320f",
   "metadata": {},
   "source": [
    "Write a recursive function to calculate the sum of digits of a given positive integer.\n",
    "sum_of_digits(123) -> 6"
   ]
  },
  {
   "cell_type": "code",
   "execution_count": 74,
   "id": "eafeff5b-91b8-41d0-bf02-c246f518c094",
   "metadata": {
    "tags": []
   },
   "outputs": [
    {
     "name": "stdout",
     "output_type": "stream",
     "text": [
      "6\n"
     ]
    }
   ],
   "source": [
    "# Thise is one of approach \n",
    "def CalcSumOfDigit(n):\n",
    "    if(n == 0):\n",
    "        return 0\n",
    "    unit_no = n % 10\n",
    "    remaining_no =int(n/10)\n",
    "    return unit_no + CalcSumOfDigit(remaining_no)\n",
    "\n",
    "print(CalcSumOfDigit(123))"
   ]
  },
  {
   "cell_type": "markdown",
   "id": "05e16201-4298-462a-b677-c5231851a656",
   "metadata": {},
   "source": [
    "#### Problem 7: Fibonacci Series"
   ]
  },
  {
   "cell_type": "markdown",
   "id": "d45890c0-1a34-4c14-9308-16fc3b843269",
   "metadata": {},
   "source": [
    "Write a recursive function to generate the first n numbers of the Fibonacci series.\n",
    "fibonacci_series(6) -> [0, 1, 1, 2, 3, 5]"
   ]
  },
  {
   "cell_type": "code",
   "execution_count": 75,
   "id": "fb519d5e-b6e6-41a9-ba9f-7b795f6e0b31",
   "metadata": {},
   "outputs": [
    {
     "name": "stdout",
     "output_type": "stream",
     "text": [
      "0,1,1,2,3,5,8,13,21,34,"
     ]
    }
   ],
   "source": [
    "def Fibonacci(n):\n",
    "    if(n <= 0):\n",
    "        return 0\n",
    "    elif n ==1 :\n",
    "        return 1\n",
    "    return Fibonacci(n-2) + Fibonacci(n-1)\n",
    "\n",
    "for i in range(10):\n",
    "    print(Fibonacci(i),end=\",\")"
   ]
  },
  {
   "cell_type": "markdown",
   "id": "55a4a008-b598-4444-ac71-79e5848962fc",
   "metadata": {},
   "source": [
    "#### Problem 8 : Subset Sum"
   ]
  },
  {
   "cell_type": "markdown",
   "id": "ca3fade5-5f9b-4385-a828-8854bfa13582",
   "metadata": {},
   "source": [
    "Given a set of positive integers and a target sum, write a recursive function to determine if there exists a subset of the integers that adds up to the target sum.subset_sum([3, 34, 4, 12, 5, 2], 9) -> True"
   ]
  },
  {
   "cell_type": "code",
   "execution_count": 76,
   "id": "a044ab9e-7756-4064-b628-747eb6f3f38d",
   "metadata": {},
   "outputs": [
    {
     "name": "stdout",
     "output_type": "stream",
     "text": [
      "True\n"
     ]
    }
   ],
   "source": [
    "def SubsetSum(num,target ,n):\n",
    "    if target == 0:\n",
    "        return True\n",
    "    if n == 0 :\n",
    "        return False\n",
    "    if num[n-1] > target :\n",
    "        return SubsetSum(num,target ,n-1)\n",
    "    \n",
    "    return SubsetSum(num,target,n-1) or SubsetSum(num ,target - num[n-1] ,n-1)\n",
    "num =[3, 34, 4, 12, 5, 2]\n",
    "res =SubsetSum(num, 9,len(num)) \n",
    "print(res)"
   ]
  },
  {
   "cell_type": "markdown",
   "id": "8af03e29-d1f8-46f5-a786-cbc32eec566b",
   "metadata": {},
   "source": [
    "#### Problem 9: Word Break"
   ]
  },
  {
   "cell_type": "markdown",
   "id": "88dd6abd-d138-4f60-95bd-a8c42955077c",
   "metadata": {},
   "source": [
    "Given a non-empty string and a dictionary of words, write a recursive function to determine if the string can be segmented into a space-separated sequence of dictionary words.word_break( leetcode , [ leet , code ]) -> True"
   ]
  },
  {
   "cell_type": "code",
   "execution_count": 3,
   "id": "f7c5b627-32f9-4e51-8c05-baa5b3b3d56e",
   "metadata": {},
   "outputs": [
    {
     "name": "stdout",
     "output_type": "stream",
     "text": [
      "True\n",
      "False\n"
     ]
    }
   ],
   "source": [
    "def wordBreak(wordList , word):\n",
    "    if word == \"\":\n",
    "        return True\n",
    "    else :\n",
    "        wordLen = len(word)\n",
    "        for i in range(1, wordLen+1):\n",
    "            if word[:i] in wordList and wordBreak(wordList, word[i:]):\n",
    "                return True\n",
    "        return False\n",
    "    \n",
    "print(wordBreak([\"leet\",\"code\"], \"leetcode\"))\n",
    "print(wordBreak([\"I\",\"am\", \"sam\", \"sung\", \"love\", \"vishwa\"], \"Vishwalovesamsung\"))"
   ]
  },
  {
   "cell_type": "markdown",
   "id": "7d23eb60-6727-488c-8551-90d0ea700c86",
   "metadata": {},
   "source": [
    "#### Problem 10 : N-Queens"
   ]
  },
  {
   "cell_type": "markdown",
   "id": "d91314a9-42fa-4b62-882e-65aea0e47de0",
   "metadata": {},
   "source": [
    "Implement a recursive function to solve the N Queens problem, where you have to place N queens on an N×N chessboard in such a way that no two queens threaten each other.n_queens(4)\n",
    "[[\".Q..\",\n",
    "\n",
    "  \"...Q\",\n",
    "\n",
    "  \"Q...\",\n",
    "\n",
    "  \"..Q.\"],\n",
    "\n",
    " [\"..Q.\",\n",
    "\n",
    "  \"Q...\",\n",
    "\n",
    "  \"...Q\",\n",
    "\n",
    "  \".Q..\"]]"
   ]
  },
  {
   "cell_type": "code",
   "execution_count": 11,
   "id": "39c22346-4975-40ac-827a-a6906008f273",
   "metadata": {},
   "outputs": [],
   "source": [
    "# N Queen Problem\n",
    "# Return True if it's safe to place queen on the board\n",
    "def isSafeToPlaceQueen(board , row , col , n):\n",
    "    # Check in the left side\n",
    "    for i in range(col):\n",
    "        if board[row][i]==1 :\n",
    "            return False\n",
    "\n",
    "    #Check in the upper left diagonal\n",
    "    for i, j in zip(range(row,-1,-1),range(col,-1,-1)):\n",
    "        if board[i][j] ==1:\n",
    "            return False\n",
    "\n",
    "    #Check in the lower left diagonal\n",
    "    for i,j in zip(range(row,n,1 ), range(col, -1,-1)):\n",
    "        if board[i][j]==1:\n",
    "            return False\n",
    "\n",
    "    return True\n",
    "\n",
    "\n",
    "def solveNQ(board,n):\n",
    "    if not solveNQUtil(board,0,n):\n",
    "        print(\"Solution doesn't exist\")\n",
    "        return\n",
    "\n",
    "    printBoard(board,n)\n",
    "\n",
    "# Should return True if we are able to place all the queens\n",
    "def solveNQUtil(board , col , n):\n",
    "    if(col >=n): #Base condition\n",
    "        return True  # Means we have bee able to put queens in all the columns\n",
    "\n",
    "  # Check for all the rows\n",
    "    for row in range(n) :\n",
    "        if isSafeToPlaceQueen(board,row,col, n) :\n",
    "            board[row][col]= 1 #Set the queen\n",
    "            #Recursively try for the next columns\n",
    "            if solveNQUtil(board,col+1,n):\n",
    "                return True\n",
    "      #Back Tracking\n",
    "        board[row][col]= 0 # Queen can't be set here\n",
    "\n",
    "    return False #Won't be able to place the queen\n",
    "\n",
    "\n",
    "def printBoard(board,n):\n",
    "    for i in range(n):\n",
    "        for j in range(n):\n",
    "            if board[i][j]==1 :\n",
    "                print(\"Q\",end=\" \")\n",
    "            else :\n",
    "                print(\".\",end=\" \")\n",
    "        print()"
   ]
  },
  {
   "cell_type": "code",
   "execution_count": 12,
   "id": "2533ab54-7513-4d04-a7a9-43a906d67690",
   "metadata": {},
   "outputs": [
    {
     "name": "stdout",
     "output_type": "stream",
     "text": [
      "Q . . . . . . . \n",
      ". . . . . . Q . \n",
      ". . . . Q . . . \n",
      ". . . . . . . Q \n",
      ". Q . . . . . . \n",
      ". . . Q . . . . \n",
      ". . . . . Q . . \n",
      ". . Q . . . . . \n"
     ]
    }
   ],
   "source": [
    "board = [[0,0,0,0],\n",
    "         [0,0,0,0],\n",
    "         [0,0,0,0],\n",
    "         [0,0,0,0]\n",
    "         ]\n",
    "\n",
    "\n",
    "board8 = [[0,0,0,0,0,0,0,0],\n",
    "          [0,0,0,0,0,0,0,0],\n",
    "          [0,0,0,0,0,0,0,0],\n",
    "          [0,0,0,0,0,0,0,0],\n",
    "          [0,0,0,0,0,0,0,0],\n",
    "          [0,0,0,0,0,0,0,0],\n",
    "          [0,0,0,0,0,0,0,0],\n",
    "          [0,0,0,0,0,0,0,0]\n",
    "          ]\n",
    "solveNQ(board8,8)"
   ]
  },
  {
   "cell_type": "code",
   "execution_count": null,
   "id": "332bca21-cee1-43bb-b7fe-4f7576e93196",
   "metadata": {},
   "outputs": [],
   "source": []
  }
 ],
 "metadata": {
  "kernelspec": {
   "display_name": "Python 3 (ipykernel)",
   "language": "python",
   "name": "python3"
  },
  "language_info": {
   "codemirror_mode": {
    "name": "ipython",
    "version": 3
   },
   "file_extension": ".py",
   "mimetype": "text/x-python",
   "name": "python",
   "nbconvert_exporter": "python",
   "pygments_lexer": "ipython3",
   "version": "3.10.8"
  }
 },
 "nbformat": 4,
 "nbformat_minor": 5
}
