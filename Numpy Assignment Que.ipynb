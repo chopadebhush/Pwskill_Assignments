{
 "cells": [
  {
   "cell_type": "markdown",
   "id": "4c81ef2f-18bc-4e76-8e79-89a8073cac31",
   "metadata": {},
   "source": [
    "### Numpy Assignment"
   ]
  },
  {
   "cell_type": "code",
   "execution_count": 2,
   "id": "eb941e9b-bdbb-4b9a-95aa-b6126ef1cc60",
   "metadata": {},
   "outputs": [],
   "source": [
    "import numpy as np"
   ]
  },
  {
   "cell_type": "markdown",
   "id": "a7310f16-f755-4f1a-a35d-4895f62d2d16",
   "metadata": {
    "tags": []
   },
   "source": [
    "#### `1. What is a Python library? Why do we use Python libraries?`"
   ]
  },
  {
   "cell_type": "markdown",
   "id": "0fe249ff-b33a-4f9f-bf77-342bd9895f41",
   "metadata": {},
   "source": [
    "Ans  :\n",
    "    \n",
    "    python library is collection of related module.it contain bunddles of code that we can use repeatedly.\n",
    "    \n",
    "    Python libraries make it easier for developers to work on specific tasks without reinventing the wheel. They provide a wide range of tools and modules for various tasks. "
   ]
  },
  {
   "cell_type": "markdown",
   "id": "24227005-70b5-4a73-b529-b80b8bb0ad05",
   "metadata": {},
   "source": [
    "#### `2. What is the difference between Numpy array and List?`"
   ]
  },
  {
   "cell_type": "markdown",
   "id": "db804f31-0608-4cf8-9188-daa66101472f",
   "metadata": {},
   "source": [
    "Ans :\n",
    "    \n",
    "    Numpy Array :- numpy array contain no of element have same data type. \n",
    "                    array should be homogeneous.\n",
    "                    it consume less memory\n",
    "                    we can define array by using numpy library. (import numpy as np)\n",
    "                    Ex. np.array([1,2,3,4,5]) like that\n",
    "                    \n",
    "    List :  list is used to store the multiple iteam in single variable. list is unorder, mutable,\n",
    "            its allow duplicate elements.\n",
    "            \n",
    "            list contain numbers of element having differant data type. \n",
    "            list is hetergenous data structure.\n",
    "            list consume more memory as compare to array.\n",
    "            \n",
    "            Implementation of list is l = [1,2,3,4,5,6] like that"
   ]
  },
  {
   "cell_type": "markdown",
   "id": "472d6190-ffbd-43e2-84f5-a6a89b9294bb",
   "metadata": {},
   "source": [
    "#### `3. Fin^ the shape, size and dimension of the following array?`\n",
    "\n",
    "\n",
    "[[1, 2, 3, 4]\n",
    "[5, 6, 7, 8],\n",
    "[9, 10, 11, 12]]"
   ]
  },
  {
   "cell_type": "code",
   "execution_count": 3,
   "id": "c9dbd5ed-64cf-4915-8495-62c7cf1403e1",
   "metadata": {},
   "outputs": [],
   "source": [
    "arr =[[1, 2, 3, 4],[5, 6, 7, 8],[9, 10, 11, 12]]"
   ]
  },
  {
   "cell_type": "code",
   "execution_count": 4,
   "id": "97a1e2be-bc30-4c78-9392-5c1bba65bd76",
   "metadata": {},
   "outputs": [
    {
     "data": {
      "text/plain": [
       "array([[ 1,  2,  3,  4],\n",
       "       [ 5,  6,  7,  8],\n",
       "       [ 9, 10, 11, 12]])"
      ]
     },
     "execution_count": 4,
     "metadata": {},
     "output_type": "execute_result"
    }
   ],
   "source": [
    "import numpy as np\n",
    "arr = np.array(arr)\n",
    "arr"
   ]
  },
  {
   "cell_type": "code",
   "execution_count": 5,
   "id": "74f6d16d-210e-4d1c-a211-0c95f9751438",
   "metadata": {},
   "outputs": [
    {
     "name": "stdout",
     "output_type": "stream",
     "text": [
      "(3, 4)\n"
     ]
    }
   ],
   "source": [
    "# shape of array \n",
    "print(arr.shape)"
   ]
  },
  {
   "cell_type": "code",
   "execution_count": 6,
   "id": "a4d97e13-62e3-4cc9-af45-3ec0af7bb578",
   "metadata": {},
   "outputs": [
    {
     "name": "stdout",
     "output_type": "stream",
     "text": [
      "12\n"
     ]
    }
   ],
   "source": [
    "#Size of array\n",
    "print(arr.size)"
   ]
  },
  {
   "cell_type": "code",
   "execution_count": 7,
   "id": "8497c3d9-c57d-476a-85a2-5d94e8faed66",
   "metadata": {},
   "outputs": [
    {
     "name": "stdout",
     "output_type": "stream",
     "text": [
      "2\n"
     ]
    }
   ],
   "source": [
    "# n dimension of array\n",
    "print(arr.ndim)"
   ]
  },
  {
   "cell_type": "markdown",
   "id": "850a0d21-3bf7-4321-8951-49082beaa1ff",
   "metadata": {},
   "source": [
    "#### `4. Write python code to access the first row of the following array?`\n",
    "\n",
    "\n",
    "[[1, 2, 3, 4]\n",
    "[5, 6, 7, 8],\n",
    "[9, 10, 11, 12]]"
   ]
  },
  {
   "cell_type": "code",
   "execution_count": 8,
   "id": "eb5094c0-7b79-4200-8d02-a2f8ebf4a690",
   "metadata": {},
   "outputs": [],
   "source": [
    "arr =[[1, 2, 3, 4],[5, 6, 7, 8],[9, 10, 11, 12]]"
   ]
  },
  {
   "cell_type": "code",
   "execution_count": 9,
   "id": "5186c869-ee0e-44db-ac3b-60280a4a866b",
   "metadata": {},
   "outputs": [
    {
     "data": {
      "text/plain": [
       "array([[ 1,  2,  3,  4],\n",
       "       [ 5,  6,  7,  8],\n",
       "       [ 9, 10, 11, 12]])"
      ]
     },
     "execution_count": 9,
     "metadata": {},
     "output_type": "execute_result"
    }
   ],
   "source": [
    "import numpy as np \n",
    "arr =np.array(arr)\n",
    "arr"
   ]
  },
  {
   "cell_type": "code",
   "execution_count": 10,
   "id": "4edc7a0d-5240-4f40-9765-d1f930636c2e",
   "metadata": {},
   "outputs": [
    {
     "data": {
      "text/plain": [
       "array([1, 2, 3, 4])"
      ]
     },
     "execution_count": 10,
     "metadata": {},
     "output_type": "execute_result"
    }
   ],
   "source": [
    "# Access the first row of array\n",
    "arr[0]"
   ]
  },
  {
   "cell_type": "markdown",
   "id": "dc883e45-0c12-4181-a1c0-5c0260591453",
   "metadata": {},
   "source": [
    "#### `5. How do you access the element at the third row and fourth column from the given numpy array?`"
   ]
  },
  {
   "cell_type": "code",
   "execution_count": 11,
   "id": "cf3f25e3-9ba6-4ff5-a883-33fbdabc7de6",
   "metadata": {},
   "outputs": [],
   "source": [
    "arr =[[1, 2, 3, 4],[5, 6, 7, 8],[9, 10, 11, 12]]"
   ]
  },
  {
   "cell_type": "code",
   "execution_count": 12,
   "id": "c15a3599-15dc-4684-ba62-b1940f49c1b9",
   "metadata": {},
   "outputs": [
    {
     "data": {
      "text/plain": [
       "array([[ 1,  2,  3,  4],\n",
       "       [ 5,  6,  7,  8],\n",
       "       [ 9, 10, 11, 12]])"
      ]
     },
     "execution_count": 12,
     "metadata": {},
     "output_type": "execute_result"
    }
   ],
   "source": [
    "arr =np.array(arr)\n",
    "arr"
   ]
  },
  {
   "cell_type": "code",
   "execution_count": 13,
   "id": "1275c34b-a2e8-48af-9593-06e89d3c1e5e",
   "metadata": {},
   "outputs": [
    {
     "data": {
      "text/plain": [
       "array([12])"
      ]
     },
     "execution_count": 13,
     "metadata": {},
     "output_type": "execute_result"
    }
   ],
   "source": [
    "arr[2,[3]]"
   ]
  },
  {
   "cell_type": "markdown",
   "id": "ad1fe952-7406-4062-9157-1a5a455dc638",
   "metadata": {},
   "source": [
    "#### `6. Write code to extract all odd-indexed elements from the given numpy array?`"
   ]
  },
  {
   "cell_type": "code",
   "execution_count": 105,
   "id": "ebbe47f4-7b5c-4ea9-bb58-80e8674efed4",
   "metadata": {},
   "outputs": [],
   "source": [
    "import numpy as np\n",
    "arr =np.array([[1, 2, 3, 4],[5, 6, 7, 8],[9, 10, 11, 12]])"
   ]
  },
  {
   "cell_type": "code",
   "execution_count": 116,
   "id": "01af4a23-da05-43ac-8d68-9052556fddd0",
   "metadata": {},
   "outputs": [
    {
     "name": "stdout",
     "output_type": "stream",
     "text": [
      "[[ 1  3]\n",
      " [ 5  7]\n",
      " [ 9 11]]\n"
     ]
    }
   ],
   "source": [
    "# Extract odd indexed from array\n",
    "odd_elements = arr[:, ::2]\n",
    "print(odd_elements)"
   ]
  },
  {
   "cell_type": "markdown",
   "id": "e9761679-38b4-48f2-a844-0c19002ea583",
   "metadata": {},
   "source": [
    "#### `7. How can you generate a random 3x3 matrix with values between 0 and 1?`"
   ]
  },
  {
   "cell_type": "code",
   "execution_count": 16,
   "id": "7ab5d261-f6a9-485c-b005-f26ce38a24cf",
   "metadata": {},
   "outputs": [
    {
     "name": "stdout",
     "output_type": "stream",
     "text": [
      "[[0. 0. 0.]\n",
      " [0. 0. 0.]\n",
      " [0. 0. 0.]]\n"
     ]
    }
   ],
   "source": [
    "import numpy as np\n",
    "arr = np.zeros((3,3))\n",
    "print(arr)"
   ]
  },
  {
   "cell_type": "code",
   "execution_count": 17,
   "id": "54fe5fed-1582-4bf0-85f4-8d47e38534fe",
   "metadata": {},
   "outputs": [
    {
     "name": "stdout",
     "output_type": "stream",
     "text": [
      "[[1. 1. 1.]\n",
      " [1. 1. 1.]\n",
      " [1. 1. 1.]]\n"
     ]
    }
   ],
   "source": [
    "arr1 =np.ones((3,3))\n",
    "print(arr1)"
   ]
  },
  {
   "cell_type": "markdown",
   "id": "9a0f0a5b-ac33-4150-877a-3d82c9cac166",
   "metadata": {},
   "source": [
    "#### `8. Describe the difference between np.random.rand and np.random.randn?`"
   ]
  },
  {
   "cell_type": "code",
   "execution_count": 18,
   "id": "edf0ca46-a594-4356-8213-10cf4f7f149a",
   "metadata": {},
   "outputs": [
    {
     "data": {
      "text/plain": [
       "array([[0.12045544, 0.59378921, 0.70636069, 0.21198192],\n",
       "       [0.00116992, 0.0040617 , 0.53836045, 0.88233025],\n",
       "       [0.76359279, 0.83662522, 0.49308815, 0.71799429]])"
      ]
     },
     "execution_count": 18,
     "metadata": {},
     "output_type": "execute_result"
    }
   ],
   "source": [
    "import numpy as np\n",
    "np.random.rand(3,4)"
   ]
  },
  {
   "cell_type": "markdown",
   "id": "ac9e4e79-ff54-492b-8c7e-4da329eea14c",
   "metadata": {},
   "source": [
    "##### its gives random values from given shape "
   ]
  },
  {
   "cell_type": "code",
   "execution_count": 19,
   "id": "97b749cc-0e9b-4192-9986-ca45bc5af175",
   "metadata": {},
   "outputs": [
    {
     "data": {
      "text/plain": [
       "array([[ 0.12523743,  0.29484031, -1.15006889,  1.09706343],\n",
       "       [ 0.50443773,  0.46197353,  0.70824776,  0.23002993],\n",
       "       [-1.34064287,  0.39526269,  0.12653332,  0.02361195]])"
      ]
     },
     "execution_count": 19,
     "metadata": {},
     "output_type": "execute_result"
    }
   ],
   "source": [
    "np.random.randn(3,4)"
   ]
  },
  {
   "cell_type": "markdown",
   "id": "f31b2734-35a6-434d-af11-e583708fa04e",
   "metadata": {},
   "source": [
    "##### Return a sample (or samples) from the \"standard normal\" distribution."
   ]
  },
  {
   "cell_type": "markdown",
   "id": "7cebd60d-183f-4de8-9198-11052320e754",
   "metadata": {
    "tags": []
   },
   "source": [
    "#### `9. Write code to increase the dimension of the following array?`"
   ]
  },
  {
   "cell_type": "code",
   "execution_count": 20,
   "id": "0db1b39f-e985-45d0-b123-f9bc23223dd1",
   "metadata": {},
   "outputs": [],
   "source": [
    "# By using Expand dimension we can increase the dimesion of array"
   ]
  },
  {
   "cell_type": "code",
   "execution_count": 21,
   "id": "d0e281bf-7a10-4476-924e-820cad17c377",
   "metadata": {},
   "outputs": [],
   "source": [
    "arr =[[1, 2, 3, 4],[5, 6, 7, 8],[9, 10, 11, 12]]"
   ]
  },
  {
   "cell_type": "code",
   "execution_count": 22,
   "id": "d928272a-9133-4c49-899c-1493e49241a4",
   "metadata": {},
   "outputs": [
    {
     "data": {
      "text/plain": [
       "array([[ 1,  2,  3,  4],\n",
       "       [ 5,  6,  7,  8],\n",
       "       [ 9, 10, 11, 12]])"
      ]
     },
     "execution_count": 22,
     "metadata": {},
     "output_type": "execute_result"
    }
   ],
   "source": [
    "arr =np.array(arr)\n",
    "arr"
   ]
  },
  {
   "cell_type": "code",
   "execution_count": 23,
   "id": "ee29d83c-a473-4760-bf1f-ec651e330e1c",
   "metadata": {},
   "outputs": [],
   "source": [
    "arr1 =np.expand_dims(arr,axis =0)"
   ]
  },
  {
   "cell_type": "code",
   "execution_count": 24,
   "id": "77b446b5-6db8-4dbf-b8fb-1cb2148f6a79",
   "metadata": {},
   "outputs": [
    {
     "data": {
      "text/plain": [
       "array([[[ 1,  2,  3,  4],\n",
       "        [ 5,  6,  7,  8],\n",
       "        [ 9, 10, 11, 12]]])"
      ]
     },
     "execution_count": 24,
     "metadata": {},
     "output_type": "execute_result"
    }
   ],
   "source": [
    "arr1"
   ]
  },
  {
   "cell_type": "code",
   "execution_count": 25,
   "id": "576108c2-b7a4-4c0d-859a-95580e6f83dd",
   "metadata": {},
   "outputs": [],
   "source": [
    "arr2 =np.expand_dims(arr,axis=1)"
   ]
  },
  {
   "cell_type": "code",
   "execution_count": 26,
   "id": "098beb68-2944-4584-8858-b5482445ffa9",
   "metadata": {},
   "outputs": [
    {
     "data": {
      "text/plain": [
       "array([[[ 1,  2,  3,  4]],\n",
       "\n",
       "       [[ 5,  6,  7,  8]],\n",
       "\n",
       "       [[ 9, 10, 11, 12]]])"
      ]
     },
     "execution_count": 26,
     "metadata": {},
     "output_type": "execute_result"
    }
   ],
   "source": [
    "arr2"
   ]
  },
  {
   "cell_type": "markdown",
   "id": "a8e47113-cf7c-4631-805f-dd3119e3d880",
   "metadata": {},
   "source": [
    "#### `10. How to transpose the following array in NumPy?`"
   ]
  },
  {
   "cell_type": "code",
   "execution_count": 27,
   "id": "15ac471a-b85f-4182-9fc5-c74724959436",
   "metadata": {},
   "outputs": [],
   "source": [
    "arr =[[1, 2, 3, 4],[5, 6, 7, 8],[9, 10, 11, 12]]"
   ]
  },
  {
   "cell_type": "code",
   "execution_count": 29,
   "id": "429340cf-3e66-4f70-8ab7-d4fce0a1297b",
   "metadata": {},
   "outputs": [
    {
     "data": {
      "text/plain": [
       "array([[ 1,  2,  3,  4],\n",
       "       [ 5,  6,  7,  8],\n",
       "       [ 9, 10, 11, 12]])"
      ]
     },
     "execution_count": 29,
     "metadata": {},
     "output_type": "execute_result"
    }
   ],
   "source": [
    "import numpy as np\n",
    "arr =np.array(arr)\n",
    "arr"
   ]
  },
  {
   "cell_type": "code",
   "execution_count": 30,
   "id": "f58029ec-1a7e-42f8-8a7f-9efc3dc3e4e3",
   "metadata": {},
   "outputs": [
    {
     "data": {
      "text/plain": [
       "array([[ 1,  5,  9],\n",
       "       [ 2,  6, 10],\n",
       "       [ 3,  7, 11],\n",
       "       [ 4,  8, 12]])"
      ]
     },
     "execution_count": 30,
     "metadata": {},
     "output_type": "execute_result"
    }
   ],
   "source": [
    "arr.T"
   ]
  },
  {
   "cell_type": "markdown",
   "id": "115aaec1-83ed-4c52-939f-0a3f3daefadd",
   "metadata": {},
   "source": [
    "#### `11. Consider the following matrix:`\n",
    "\n",
    "Matrix A2 [[1, 2, 3, 4] [5, 6, 7, 8],[9, 10, 11, 12]]\n",
    "\n",
    "Matrix B2 [[1, 2, 3, 4] [5, 6, 7, 8],[9, 10, 11, 12]]"
   ]
  },
  {
   "cell_type": "code",
   "execution_count": 88,
   "id": "b2f1f251-8da8-44ce-bf86-dc7f0ef22275",
   "metadata": {},
   "outputs": [],
   "source": [
    "import numpy as np\n",
    "MatrixA2 = [[1, 2, 3, 4],[5, 6, 7, 8],[9, 10, 11, 12]]\n",
    "MatrixB2 = [[1, 2, 3, 4],[5, 6, 7, 8],[9, 10, 11, 12]]"
   ]
  },
  {
   "cell_type": "code",
   "execution_count": 89,
   "id": "107403c4-f861-4138-9cad-27b9393fec29",
   "metadata": {},
   "outputs": [
    {
     "data": {
      "text/plain": [
       "array([[ 1,  2,  3,  4],\n",
       "       [ 5,  6,  7,  8],\n",
       "       [ 9, 10, 11, 12]])"
      ]
     },
     "execution_count": 89,
     "metadata": {},
     "output_type": "execute_result"
    }
   ],
   "source": [
    "MatrixA =np.array(MatrixA2)\n",
    "MatrixA"
   ]
  },
  {
   "cell_type": "code",
   "execution_count": 90,
   "id": "7e6f4f8c-e70d-4108-b8e9-69a5b1956ff9",
   "metadata": {},
   "outputs": [
    {
     "data": {
      "text/plain": [
       "array([[ 1,  2,  3,  4],\n",
       "       [ 5,  6,  7,  8],\n",
       "       [ 9, 10, 11, 12]])"
      ]
     },
     "execution_count": 90,
     "metadata": {},
     "output_type": "execute_result"
    }
   ],
   "source": [
    "MatrixB =np.array(MatrixB2)\n",
    "MatrixB"
   ]
  },
  {
   "cell_type": "markdown",
   "id": "0fdfc419-5999-41da-b114-c7ffab3adb45",
   "metadata": {},
   "source": [
    "Perform the following operation using Python"
   ]
  },
  {
   "cell_type": "markdown",
   "id": "ea878ad0-a12e-437e-b3de-c50153117469",
   "metadata": {},
   "source": [
    "Perform Index wise Multiplication"
   ]
  },
  {
   "cell_type": "code",
   "execution_count": 91,
   "id": "093a5889-9b69-4cb5-a81d-fcf7ae2fc8aa",
   "metadata": {},
   "outputs": [
    {
     "data": {
      "text/plain": [
       "array([[  1,   4,   9,  16],\n",
       "       [ 25,  36,  49,  64],\n",
       "       [ 81, 100, 121, 144]])"
      ]
     },
     "execution_count": 91,
     "metadata": {},
     "output_type": "execute_result"
    }
   ],
   "source": [
    "MatrixA * MatrixB"
   ]
  },
  {
   "cell_type": "markdown",
   "id": "13116b8c-2f68-4449-aebc-5b13f8e3159e",
   "metadata": {},
   "source": [
    "Matrix multiplication"
   ]
  },
  {
   "cell_type": "code",
   "execution_count": 92,
   "id": "b6bee973-913d-4a60-abc9-7b3b10501283",
   "metadata": {},
   "outputs": [
    {
     "data": {
      "text/plain": [
       "array([[107, 122, 137, 152],\n",
       "       [122, 140, 158, 176],\n",
       "       [137, 158, 179, 200],\n",
       "       [152, 176, 200, 224]])"
      ]
     },
     "execution_count": 92,
     "metadata": {},
     "output_type": "execute_result"
    }
   ],
   "source": [
    "Matrix = MatrixA.T\n",
    "Matrix @ MatrixB"
   ]
  },
  {
   "cell_type": "markdown",
   "id": "dc88f947-2afb-4dfa-bb02-87b7479c6b29",
   "metadata": {},
   "source": [
    "Add both matrix"
   ]
  },
  {
   "cell_type": "code",
   "execution_count": 93,
   "id": "c87afdb5-3535-4731-bb2a-151f0f79ce60",
   "metadata": {},
   "outputs": [
    {
     "data": {
      "text/plain": [
       "array([[ 2,  4,  6,  8],\n",
       "       [10, 12, 14, 16],\n",
       "       [18, 20, 22, 24]])"
      ]
     },
     "execution_count": 93,
     "metadata": {},
     "output_type": "execute_result"
    }
   ],
   "source": [
    "MatrixA + MatrixB"
   ]
  },
  {
   "cell_type": "markdown",
   "id": "2c47cebc-45b3-48aa-87a7-e6282cccb3e3",
   "metadata": {},
   "source": [
    "Subtract B Matrix from MatrixA"
   ]
  },
  {
   "cell_type": "code",
   "execution_count": 94,
   "id": "be21c568-c648-41b4-8680-e366990c9799",
   "metadata": {},
   "outputs": [
    {
     "data": {
      "text/plain": [
       "array([[0, 0, 0, 0],\n",
       "       [0, 0, 0, 0],\n",
       "       [0, 0, 0, 0]])"
      ]
     },
     "execution_count": 94,
     "metadata": {},
     "output_type": "execute_result"
    }
   ],
   "source": [
    "MatrixB - MatrixA"
   ]
  },
  {
   "cell_type": "markdown",
   "id": "3cc18f69-06bc-41d6-a4c1-7e1ab7048e4b",
   "metadata": {},
   "source": [
    "Devide B2 Matrix from Matrix A2"
   ]
  },
  {
   "cell_type": "code",
   "execution_count": 95,
   "id": "84cf4fd0-8d25-41de-b1d4-2e3f1b5f2a99",
   "metadata": {},
   "outputs": [
    {
     "data": {
      "text/plain": [
       "array([[1., 1., 1., 1.],\n",
       "       [1., 1., 1., 1.],\n",
       "       [1., 1., 1., 1.]])"
      ]
     },
     "execution_count": 95,
     "metadata": {},
     "output_type": "execute_result"
    }
   ],
   "source": [
    "MatrixB / MatrixA"
   ]
  },
  {
   "cell_type": "markdown",
   "id": "4f3ef648-97e1-4814-9cd3-749f1f0b98af",
   "metadata": {},
   "source": [
    "#### `12.  Which function in Numpy can be used to swap the byte order of an array?`"
   ]
  },
  {
   "cell_type": "markdown",
   "id": "63d6284d-81bd-4960-a4d4-b0fb4df9f7a6",
   "metadata": {},
   "source": [
    "Ans :\n",
    "\n",
    "\n",
    "     Byteswap function is use to swap byte order of an array"
   ]
  },
  {
   "cell_type": "code",
   "execution_count": 96,
   "id": "a21a92be-6528-462e-9998-bc1259b5da10",
   "metadata": {},
   "outputs": [
    {
     "data": {
      "text/plain": [
       "array([1, 2, 3, 4])"
      ]
     },
     "execution_count": 96,
     "metadata": {},
     "output_type": "execute_result"
    }
   ],
   "source": [
    "# Example\n",
    "import numpy as np\n",
    "arr =np.array([1,2,3,4])\n",
    "arr"
   ]
  },
  {
   "cell_type": "code",
   "execution_count": 97,
   "id": "bb69b206-fb16-4518-8847-e53ffba09708",
   "metadata": {},
   "outputs": [
    {
     "data": {
      "text/plain": [
       "array([ 72057594037927936, 144115188075855872, 216172782113783808,\n",
       "       288230376151711744])"
      ]
     },
     "execution_count": 97,
     "metadata": {},
     "output_type": "execute_result"
    }
   ],
   "source": [
    "arr.byteswap(inplace = True)"
   ]
  },
  {
   "cell_type": "markdown",
   "id": "62ad1037-0d51-49f2-a2c3-8dce58ff6f13",
   "metadata": {},
   "source": [
    "#### `13.  What is the significance of the np.linalg.inv function?`"
   ]
  },
  {
   "cell_type": "markdown",
   "id": "f7125df2-bdf9-486a-876b-c37909571c02",
   "metadata": {},
   "source": [
    "Ans :\n",
    "    \n",
    "    We use numpy. linalg. inv() function to calculate the inverse of a matrix. The inverse of a matrix is such that if it is multiplied by the original matrix, it results in identity matrix"
   ]
  },
  {
   "cell_type": "markdown",
   "id": "7198667f-923d-4b3c-92b0-6bb529d2bf27",
   "metadata": {},
   "source": [
    "#### `14. What does the np.reshape function do, and how is it use^?`"
   ]
  },
  {
   "cell_type": "markdown",
   "id": "5cddeba1-1992-40b0-8ddf-ad56572627be",
   "metadata": {},
   "source": [
    "Ans :\n",
    "    \n",
    "     it gives new shape to the array without changing its data."
   ]
  },
  {
   "cell_type": "code",
   "execution_count": 101,
   "id": "6d9f72f9-31f1-4c9a-b610-dabb608cf905",
   "metadata": {},
   "outputs": [
    {
     "data": {
      "text/plain": [
       "array([[ 1,  2,  3],\n",
       "       [ 4,  5,  6],\n",
       "       [ 7,  8,  9],\n",
       "       [10, 11, 12]])"
      ]
     },
     "execution_count": 101,
     "metadata": {},
     "output_type": "execute_result"
    }
   ],
   "source": [
    "# example\n",
    "arr = np.array([1, 2, 3, 4, 5, 6, 7, 8, 9, 10, 11, 12])\n",
    "newarr = arr.reshape(4, 3)\n",
    "newarr"
   ]
  },
  {
   "cell_type": "markdown",
   "id": "40428616-1829-4b61-b113-0f4e9a5bd2c9",
   "metadata": {},
   "source": [
    "#### `15. What is broadcasting in Numpy?`"
   ]
  },
  {
   "cell_type": "markdown",
   "id": "499ab1e8-8a34-4a67-8bf3-ce4ccaee2d98",
   "metadata": {},
   "source": [
    "Ans :\n",
    "\n",
    "\n",
    "     The term broadcasting describes how NumPy treats arrays with different shapes during arithmetic operations. Subject to certain constraints, the smaller array is “broadcast” across the larger array so that they have compatible shapes.\n",
    "    "
   ]
  }
 ],
 "metadata": {
  "kernelspec": {
   "display_name": "Python 3 (ipykernel)",
   "language": "python",
   "name": "python3"
  },
  "language_info": {
   "codemirror_mode": {
    "name": "ipython",
    "version": 3
   },
   "file_extension": ".py",
   "mimetype": "text/x-python",
   "name": "python",
   "nbconvert_exporter": "python",
   "pygments_lexer": "ipython3",
   "version": "3.10.8"
  }
 },
 "nbformat": 4,
 "nbformat_minor": 5
}
