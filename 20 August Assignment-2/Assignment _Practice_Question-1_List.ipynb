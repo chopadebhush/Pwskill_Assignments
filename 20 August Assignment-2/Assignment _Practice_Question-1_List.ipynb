{
 "cells": [
  {
   "cell_type": "markdown",
   "id": "81119706-d377-4616-a2cb-401df2041728",
   "metadata": {
    "tags": []
   },
   "source": [
    "## `List Based PracticeQuestions`"
   ]
  },
  {
   "cell_type": "markdown",
   "id": "fe2f12e9-728e-47b6-9fde-97e04d21964b",
   "metadata": {},
   "source": [
    "## `TOPIC: List Based Assignment Problem`"
   ]
  },
  {
   "cell_type": "markdown",
   "id": "c744da2e-e760-4d4c-a80c-1b414018b7c8",
   "metadata": {},
   "source": [
    "`1. Create a list with integers from 1 to 10.`"
   ]
  },
  {
   "cell_type": "code",
   "execution_count": 31,
   "id": "636c0404-3f2b-410d-9bd7-90a468c90d5c",
   "metadata": {
    "tags": []
   },
   "outputs": [
    {
     "name": "stdout",
     "output_type": "stream",
     "text": [
      "[1, 2, 3, 4, 5, 6, 7, 8, 9, 10]\n"
     ]
    }
   ],
   "source": [
    "lst1 =[1,2,3,4,5,6,7,8,9,10] # Crreated list\n",
    "print(lst1) # print list"
   ]
  },
  {
   "cell_type": "code",
   "execution_count": 32,
   "id": "080920c3-1c9c-4b65-b3f4-ee69732244ea",
   "metadata": {},
   "outputs": [],
   "source": [
    "lst1=[] # By using for loop we can make list\n",
    "for i in range(0,10+1):\n",
    "    lst1.append(i)"
   ]
  },
  {
   "cell_type": "code",
   "execution_count": 33,
   "id": "37480bce-5ed8-474f-afca-b7051fb2e3fe",
   "metadata": {},
   "outputs": [
    {
     "name": "stdout",
     "output_type": "stream",
     "text": [
      "[0, 1, 2, 3, 4, 5, 6, 7, 8, 9, 10]\n",
      "<class 'list'>\n"
     ]
    }
   ],
   "source": [
    "print(lst1)\n",
    "print(type(lst1))"
   ]
  },
  {
   "cell_type": "markdown",
   "id": "6f4670ac-a527-4d0b-9710-d6422c0dd645",
   "metadata": {},
   "source": [
    "`3. Append an element to the end of a list.`"
   ]
  },
  {
   "cell_type": "code",
   "execution_count": 34,
   "id": "9b37f39f-e36d-4814-a6f5-90ca2b743e90",
   "metadata": {},
   "outputs": [
    {
     "name": "stdout",
     "output_type": "stream",
     "text": [
      "[0, 1, 2, 3, 4, 5, 6, 7, 8, 9, 10, 11]\n"
     ]
    }
   ],
   "source": [
    "lst1.append(11)\n",
    "# Signature: lst1.append(object, /)\n",
    "# Docstring: Append object to the end of the list.\n",
    "\n",
    "print(lst1)"
   ]
  },
  {
   "cell_type": "markdown",
   "id": "fa8266e7-3fed-412d-803a-71a17ac25684",
   "metadata": {},
   "source": [
    "`4. Insert an element at a specific index in a list.`"
   ]
  },
  {
   "cell_type": "code",
   "execution_count": 35,
   "id": "69fe8963-8d97-411a-858c-e51a6c4cf15d",
   "metadata": {},
   "outputs": [
    {
     "name": "stdout",
     "output_type": "stream",
     "text": [
      "[0, 1, 'Bhushan', 2, 3, 4, 5, 6, 7, 8, 9, 10, 11]\n"
     ]
    }
   ],
   "source": [
    "lst1.insert(2,'Bhushan')\n",
    "\n",
    "# Signature: lst1.insert(index, object, /)\n",
    "# Docstring: Insert object before index.\n",
    "print(lst1)"
   ]
  },
  {
   "cell_type": "markdown",
   "id": "59346cb9-7ff0-47e8-a6f0-42bad80c9a2a",
   "metadata": {},
   "source": [
    "`5. Remove an element from a list by its value.`"
   ]
  },
  {
   "cell_type": "code",
   "execution_count": 36,
   "id": "2af69fb7-ff93-4890-83ab-d3f8e25fcc10",
   "metadata": {},
   "outputs": [
    {
     "name": "stdout",
     "output_type": "stream",
     "text": [
      "list is :>> [0, 1, 2, 3, 4, 5, 6, 7, 8, 9, 10, 11]\n"
     ]
    }
   ],
   "source": [
    "lst1.remove(\"Bhushan\")\n",
    "# signature: lst1.remove(value, /)\n",
    "# Docstring:Remove first occurrence of value.\n",
    "print(\"list is :>>\",lst1)"
   ]
  },
  {
   "cell_type": "markdown",
   "id": "8a0ddc44-4016-4212-bc48-5bcac531ca96",
   "metadata": {},
   "source": [
    "`6. Remove an element from a list by its index`"
   ]
  },
  {
   "cell_type": "code",
   "execution_count": 37,
   "id": "377900e4-c314-4f4d-aca2-8221b0b12584",
   "metadata": {},
   "outputs": [
    {
     "name": "stdout",
     "output_type": "stream",
     "text": [
      "list values are :>>> [0, 1, 3, 4, 5, 6, 7, 8, 9, 10, 11]\n"
     ]
    }
   ],
   "source": [
    "lst1.pop(2)\n",
    "# Signature: lst1.pop(index=-1, /)\n",
    "# Docstring: Remove and return item at index (default last).\n",
    "print(f\"list values are :>>> {lst1}\")"
   ]
  },
  {
   "cell_type": "markdown",
   "id": "9a14d898-c31d-484b-87fe-1872173bda01",
   "metadata": {},
   "source": [
    "`7. Check if an element exists in a list.`"
   ]
  },
  {
   "cell_type": "code",
   "execution_count": 38,
   "id": "33ccccdf-a39f-4f19-b6c3-d5745c535c54",
   "metadata": {},
   "outputs": [
    {
     "name": "stdout",
     "output_type": "stream",
     "text": [
      "Yes.. its is exist in list\n",
      "List iteams are : [0, 1, 3, 4, 5, 6, 7, 8, 9, 10, 11]\n"
     ]
    }
   ],
   "source": [
    "# By using if else we can check list iteams \n",
    "if (11 in lst1):\n",
    "    print(\"Yes.. its is exist in list\")\n",
    "    print(\"List iteams are :\",lst1)\n",
    "else:\n",
    "    print(\"NO.. Its not exist in list\")"
   ]
  },
  {
   "cell_type": "markdown",
   "id": "bcc5b0ca-741a-49aa-a7f1-42b285fc1a8a",
   "metadata": {},
   "source": [
    "`8. Find the index of the first occurrence of an element in a list.`"
   ]
  },
  {
   "cell_type": "code",
   "execution_count": 39,
   "id": "5a690872-cd9f-44fe-9796-be123c47c9d9",
   "metadata": {},
   "outputs": [
    {
     "data": {
      "text/plain": [
       "2"
      ]
     },
     "execution_count": 39,
     "metadata": {},
     "output_type": "execute_result"
    }
   ],
   "source": [
    "# Signature: lst1.index(value, start=0, stop=9223372036854775807, /)\n",
    "# Docstring:Return first index of value.\n",
    "lst1.index(3)"
   ]
  },
  {
   "cell_type": "markdown",
   "id": "ba90635b-33a9-441d-bcb4-5939ed168d4f",
   "metadata": {},
   "source": [
    "`9. Count the occurrences of an element in a list.`"
   ]
  },
  {
   "cell_type": "code",
   "execution_count": 40,
   "id": "97a8eefa-d51f-4d72-820b-a7e671b89d50",
   "metadata": {},
   "outputs": [
    {
     "data": {
      "text/plain": [
       "3"
      ]
     },
     "execution_count": 40,
     "metadata": {},
     "output_type": "execute_result"
    }
   ],
   "source": [
    "lst2 =[1,2,3,3,5,6,4,6,3]\n",
    "# Signature: lst2.count(value, /)\n",
    "# Docstring: Return number of occurrences of value.\n",
    "\n",
    "lst2.count(3)"
   ]
  },
  {
   "cell_type": "markdown",
   "id": "e8deaa24-1122-4e6d-9c22-232b0dc446db",
   "metadata": {},
   "source": [
    "`10. Reverse the order of elements in a list.`"
   ]
  },
  {
   "cell_type": "code",
   "execution_count": 41,
   "id": "02b191ee-bec9-4c85-9ce2-72da227ab8d2",
   "metadata": {},
   "outputs": [
    {
     "data": {
      "text/plain": [
       "[3, 6, 4, 6, 5, 3, 3, 2, 1]"
      ]
     },
     "execution_count": 41,
     "metadata": {},
     "output_type": "execute_result"
    }
   ],
   "source": [
    "lst2[::-1] # reverse the list elements"
   ]
  },
  {
   "cell_type": "markdown",
   "id": "d3ab70dd-efbb-4cb3-92a2-e081eab117fa",
   "metadata": {},
   "source": [
    "`11. Sort a list in ascending order.`"
   ]
  },
  {
   "cell_type": "code",
   "execution_count": 42,
   "id": "24c15a11-3234-4ce5-83ed-0c081c52af8b",
   "metadata": {},
   "outputs": [],
   "source": [
    "lst2.sort(key=None, reverse=False)\n",
    "# Signature: lst2.sort(*, key=None, reverse=False)\n",
    "# Docstring:Sort the list in ascending order and return None."
   ]
  },
  {
   "cell_type": "code",
   "execution_count": 43,
   "id": "d725a951-fe1a-43d7-950e-0e6b28351336",
   "metadata": {},
   "outputs": [
    {
     "name": "stdout",
     "output_type": "stream",
     "text": [
      "list iteams are sorted : [1, 2, 3, 3, 3, 4, 5, 6, 6]\n"
     ]
    }
   ],
   "source": [
    "print(f\"list iteams are sorted : {lst2}\")"
   ]
  },
  {
   "cell_type": "markdown",
   "id": "4d87ce3a-27dd-41f7-b585-7f82ec7947ae",
   "metadata": {},
   "source": [
    "`12. Sort a list in descending order.`"
   ]
  },
  {
   "cell_type": "code",
   "execution_count": 44,
   "id": "89bb6206-39ee-4ddd-bc51-69f813bb711a",
   "metadata": {},
   "outputs": [],
   "source": [
    "lst2.sort(key=None, reverse=True)\n",
    "# Signature: lst2.sort(*, key=None, reverse=False)\n",
    "# Docstring:Sort the list in ascending order and return None."
   ]
  },
  {
   "cell_type": "code",
   "execution_count": 45,
   "id": "6a59802e-a3db-4b97-a9ac-a1d7954901dd",
   "metadata": {},
   "outputs": [
    {
     "name": "stdout",
     "output_type": "stream",
     "text": [
      "list iteams are sorted : [6, 6, 5, 4, 3, 3, 3, 2, 1]\n"
     ]
    }
   ],
   "source": [
    "print(f\"list iteams are sorted : {lst2}\")"
   ]
  },
  {
   "cell_type": "markdown",
   "id": "fd6261ab-7920-4c71-aa04-e93334d07c00",
   "metadata": {},
   "source": [
    "`13. Create a list of even numbers from 1 to 20.`"
   ]
  },
  {
   "cell_type": "code",
   "execution_count": 46,
   "id": "d648e100-bf07-43b8-9c87-7ffbeffade3e",
   "metadata": {},
   "outputs": [
    {
     "name": "stdout",
     "output_type": "stream",
     "text": [
      "[0, 2, 4, 6, 8, 10, 12, 14, 16, 18, 20]\n"
     ]
    }
   ],
   "source": [
    "# Manual Created list\n",
    "list_even_number =[0,2,4,6,8,10,12,14,16,18,20]\n",
    "print(list_even_number)"
   ]
  },
  {
   "cell_type": "code",
   "execution_count": 47,
   "id": "43780ed9-a34a-49df-a95b-d0d5c53d2c64",
   "metadata": {},
   "outputs": [
    {
     "name": "stdout",
     "output_type": "stream",
     "text": [
      "List of Even numbers are : [0, 2, 4, 6, 8, 10, 12, 14, 16, 18, 20]\n"
     ]
    }
   ],
   "source": [
    "# By using For loop Created list\n",
    "list_even_number =[]\n",
    "for i in range(0,21):\n",
    "    if i%2 == 0:\n",
    "        list_even_number.append(i)\n",
    "        \n",
    "print(\"List of Even numbers are :\",list_even_number)    "
   ]
  },
  {
   "cell_type": "markdown",
   "id": "fe90bc08-69f7-4e09-b0e8-56fff4cfd5f0",
   "metadata": {},
   "source": [
    "`14. Create a list of odd numbers from 1 to 20.`"
   ]
  },
  {
   "cell_type": "code",
   "execution_count": 48,
   "id": "76e95e90-63f7-454d-ae99-5fc638d71096",
   "metadata": {},
   "outputs": [
    {
     "name": "stdout",
     "output_type": "stream",
     "text": [
      "List of odd numbers are : [1, 3, 5, 7, 9, 11, 13, 15, 17, 19]\n"
     ]
    }
   ],
   "source": [
    "# By using for loop Created odd elements list\n",
    "Odd_numbers_list =[]\n",
    "\n",
    "for i in range(0,21):\n",
    "    if i%2 ==1:\n",
    "        Odd_numbers_list.append(i)\n",
    "print(\"List of odd numbers are :\",Odd_numbers_list)         "
   ]
  },
  {
   "cell_type": "markdown",
   "id": "6524ab91-1ea9-4e46-8a53-b05c2f32758f",
   "metadata": {},
   "source": [
    "`15. Find the sum of all elements in a list.`"
   ]
  },
  {
   "cell_type": "code",
   "execution_count": 49,
   "id": "7e2b6c11-4a54-4de7-9573-e77b117ad09b",
   "metadata": {},
   "outputs": [
    {
     "name": "stdout",
     "output_type": "stream",
     "text": [
      "list3 iteams are : [2, 4, 6, 7, 8, 9]\n"
     ]
    }
   ],
   "source": [
    "# First method -----\n",
    "lst3= [2,4,6,7,8,9]\n",
    "print(\"list3 iteams are :\",lst3)\n",
    "sum_of_list = 0\n",
    "for i in (lst3):\n",
    "    sum_of_list += i"
   ]
  },
  {
   "cell_type": "code",
   "execution_count": 50,
   "id": "95e45199-0008-44c5-9f18-c864411f87cd",
   "metadata": {},
   "outputs": [
    {
     "name": "stdout",
     "output_type": "stream",
     "text": [
      "Sum of all list Iteam are : 36\n"
     ]
    }
   ],
   "source": [
    "print(\"Sum of all list Iteam are :\",sum_of_list)"
   ]
  },
  {
   "cell_type": "code",
   "execution_count": 51,
   "id": "da7dd045-397e-4f92-b96f-e856c2e1ba4e",
   "metadata": {},
   "outputs": [
    {
     "name": "stdout",
     "output_type": "stream",
     "text": [
      "Sum of list iteams are : 36\n"
     ]
    }
   ],
   "source": [
    "#Second Method -----\n",
    "sumoflist =sum(lst3,0)\n",
    "print(\"Sum of list iteams are :\",sumoflist)"
   ]
  },
  {
   "cell_type": "code",
   "execution_count": 52,
   "id": "9a861340-2947-4f72-8b37-780edddc2a86",
   "metadata": {},
   "outputs": [
    {
     "name": "stdout",
     "output_type": "stream",
     "text": [
      "36\n"
     ]
    }
   ],
   "source": [
    "## 3 rd method of addition\n",
    "s= 0\n",
    "for i,a in enumerate(lst3):\n",
    "    s =s+a\n",
    "print(s)"
   ]
  },
  {
   "cell_type": "markdown",
   "id": "814a1c6e-7214-498e-9bbe-96d4f2887c61",
   "metadata": {},
   "source": [
    "`16. Find the maximum value in a list.`"
   ]
  },
  {
   "cell_type": "code",
   "execution_count": 53,
   "id": "af89e8dd-4ba6-4468-b2e2-30cc066170b5",
   "metadata": {},
   "outputs": [
    {
     "name": "stdout",
     "output_type": "stream",
     "text": [
      "[2, 4, 6, 7, 8, 9]\n",
      "The max value from list is : 9\n"
     ]
    }
   ],
   "source": [
    "# By using max Function we can access max value from list\n",
    "print(lst3)\n",
    "print(\"The max value from list is :\",(max(lst3)))"
   ]
  },
  {
   "cell_type": "markdown",
   "id": "7ec8f1fa-8888-4343-8a16-82974060b2dd",
   "metadata": {},
   "source": [
    "`17. Find the minimum value in a list.`"
   ]
  },
  {
   "cell_type": "code",
   "execution_count": 54,
   "id": "d49b135f-78f8-4a50-8256-6e75e80f9ed1",
   "metadata": {},
   "outputs": [
    {
     "name": "stdout",
     "output_type": "stream",
     "text": [
      "[2, 4, 6, 7, 8, 9]\n",
      "The max value from list is : 2\n"
     ]
    }
   ],
   "source": [
    "# By using min Function we can access max value from list\n",
    "print(lst3)\n",
    "print(\"The max value from list is :\",(min(lst3)))"
   ]
  },
  {
   "cell_type": "markdown",
   "id": "9a97266b-8406-4949-924c-dcb6052a68bc",
   "metadata": {},
   "source": [
    "`18. Create a list of squares of numbers from 1 to 10.`"
   ]
  },
  {
   "cell_type": "code",
   "execution_count": 55,
   "id": "9b32bd45-4461-45b8-bec3-eafe59fcc9c5",
   "metadata": {},
   "outputs": [],
   "source": [
    "lsts =[] # Create empty list\n",
    "\n",
    "for i in range(1,11): # By using for loop\n",
    "    square =(i*i)\n",
    "    lsts.append(square)   "
   ]
  },
  {
   "cell_type": "code",
   "execution_count": 56,
   "id": "acebbf5a-b79a-46fb-ad5b-71fb05061ad5",
   "metadata": {},
   "outputs": [
    {
     "name": "stdout",
     "output_type": "stream",
     "text": [
      "the list of squares of numbers : [1, 4, 9, 16, 25, 36, 49, 64, 81, 100]\n"
     ]
    }
   ],
   "source": [
    "print(\"the list of squares of numbers :\",lsts)"
   ]
  },
  {
   "cell_type": "markdown",
   "id": "a4b62d76-fbb5-43f7-b6b4-c1ac9baed610",
   "metadata": {},
   "source": [
    "`19. Create a list of random numbers.`"
   ]
  },
  {
   "cell_type": "code",
   "execution_count": 57,
   "id": "e50b7d96-d167-4986-acd4-ecd50367e8e9",
   "metadata": {},
   "outputs": [],
   "source": [
    "import random\n",
    "lst_random = []\n",
    "\n",
    "for i in range(50):\n",
    "    random_number =random.randint(0,49)\n",
    "    lst_random.append(random_number)"
   ]
  },
  {
   "cell_type": "code",
   "execution_count": 58,
   "id": "e5c46ed4-9b94-42da-9d60-4480a9edd84f",
   "metadata": {},
   "outputs": [
    {
     "name": "stdout",
     "output_type": "stream",
     "text": [
      "The random numbers list is :\n",
      " [13, 43, 11, 13, 33, 13, 14, 46, 11, 15, 17, 28, 34, 39, 34, 39, 37, 49, 11, 37, 43, 46, 18, 2, 28, 26, 13, 44, 6, 28, 46, 28, 19, 10, 49, 25, 19, 21, 47, 1, 14, 23, 28, 39, 46, 38, 20, 29, 47, 46]\n"
     ]
    }
   ],
   "source": [
    "print(\"The random numbers list is :\\n\",lst_random)"
   ]
  },
  {
   "cell_type": "code",
   "execution_count": 59,
   "id": "41d2e57c-817f-4178-996b-52c538d0ec9c",
   "metadata": {},
   "outputs": [],
   "source": [
    "## By using the randrange function we can generate the random numbers\n",
    "lst_random = []\n",
    "\n",
    "for i in range(50):\n",
    "    random_number =random.randrange(0,49)\n",
    "    lst_random.append(random_number)"
   ]
  },
  {
   "cell_type": "code",
   "execution_count": 60,
   "id": "4775b2ba-c1ea-428e-b484-41d6372b19c4",
   "metadata": {},
   "outputs": [
    {
     "name": "stdout",
     "output_type": "stream",
     "text": [
      "[2, 1, 28, 7, 13, 3, 27, 38, 10, 1, 39, 39, 25, 37, 13, 45, 39, 14, 40, 13, 39, 35, 31, 6, 11, 6, 26, 7, 39, 31, 27, 22, 32, 45, 22, 40, 32, 0, 43, 41, 47, 18, 47, 43, 36, 20, 6, 29, 36, 12]\n"
     ]
    }
   ],
   "source": [
    "print(lst_random)"
   ]
  },
  {
   "cell_type": "markdown",
   "id": "985b0d7a-73d9-4750-a39d-e48616f386e4",
   "metadata": {},
   "source": [
    "`20. Remove duplicates from a list.`"
   ]
  },
  {
   "cell_type": "code",
   "execution_count": 61,
   "id": "6a0edf1a-700f-422b-ae71-79286caf71f3",
   "metadata": {},
   "outputs": [
    {
     "name": "stdout",
     "output_type": "stream",
     "text": [
      "The list iteams are :\n",
      " [2, 1, 28, 7, 13, 3, 27, 38, 10, 1, 39, 39, 25, 37, 13, 45, 39, 14, 40, 13, 39, 35, 31, 6, 11, 6, 26, 7, 39, 31, 27, 22, 32, 45, 22, 40, 32, 0, 43, 41, 47, 18, 47, 43, 36, 20, 6, 29, 36, 12]\n"
     ]
    }
   ],
   "source": [
    "print(\"The list iteams are :\\n\",lst_random)"
   ]
  },
  {
   "cell_type": "code",
   "execution_count": 62,
   "id": "0851fce0-e88c-4f95-b453-c93708e5bee1",
   "metadata": {},
   "outputs": [],
   "source": [
    "Remove_duplicate =lst_random.copy() # copy the List into another variable\n",
    "converted_into_set= set(Remove_duplicate) #Converted into set"
   ]
  },
  {
   "cell_type": "code",
   "execution_count": 63,
   "id": "d82bbdc5-b561-47cf-be52-18bb53d7265c",
   "metadata": {},
   "outputs": [
    {
     "name": "stdout",
     "output_type": "stream",
     "text": [
      "{0, 1, 2, 3, 6, 7, 10, 11, 12, 13, 14, 18, 20, 22, 25, 26, 27, 28, 29, 31, 32, 35, 36, 37, 38, 39, 40, 41, 43, 45, 47}\n",
      "<class 'set'>\n"
     ]
    }
   ],
   "source": [
    "print(converted_into_set) # Converted into set so duplicate are removed\n",
    "print(type(converted_into_set))"
   ]
  },
  {
   "cell_type": "code",
   "execution_count": 64,
   "id": "735424be-6042-4133-a126-32dcf7223886",
   "metadata": {},
   "outputs": [
    {
     "name": "stdout",
     "output_type": "stream",
     "text": [
      "[0, 1, 2, 3, 6, 7, 10, 11, 12, 13, 14, 18, 20, 22, 25, 26, 27, 28, 29, 31, 32, 35, 36, 37, 38, 39, 40, 41, 43, 45, 47]\n"
     ]
    }
   ],
   "source": [
    "print(list(converted_into_set)) # Again Converted into list"
   ]
  },
  {
   "cell_type": "markdown",
   "id": "0fe2ca22-3de8-4268-a129-6805c2778f09",
   "metadata": {},
   "source": [
    "`21. Find the common elements between two lists.`"
   ]
  },
  {
   "cell_type": "code",
   "execution_count": 65,
   "id": "eaa37f8e-d176-426f-b25d-49f81b1d4373",
   "metadata": {},
   "outputs": [
    {
     "name": "stdout",
     "output_type": "stream",
     "text": [
      "The common elements are : {1, 2, 44}\n"
     ]
    }
   ],
   "source": [
    "lst4 =[1,2,44,55,66] # List-1\n",
    "lst5 =[34,1,2,44,78,56,90] # List -2\n",
    "common_element =set(lst4).intersection(lst5) # Created common elememts find func\n",
    "print(\"The common elements are :\",common_element) # PrintCommon elements"
   ]
  },
  {
   "cell_type": "markdown",
   "id": "f5c8479a-3141-4f2d-b1cd-33e7b3768df3",
   "metadata": {},
   "source": [
    "## `OR`"
   ]
  },
  {
   "cell_type": "code",
   "execution_count": 66,
   "id": "5f1fd615-813e-46f5-9a7f-84b3fa5cea8a",
   "metadata": {},
   "outputs": [],
   "source": [
    "lst4 =[1,2,44,55,66] # List-1\n",
    "lst5 =[34,1,2,44,78,56,90] # List -2\n",
    "set_lst4 =set(lst4) #converted into set\n",
    "set_lst5 =set(lst5) #converted into set\n",
    "common_element =set_lst4.intersection(set_lst5)"
   ]
  },
  {
   "cell_type": "code",
   "execution_count": 67,
   "id": "e57c0283-bd91-4440-a831-b29a8fd90c8e",
   "metadata": {},
   "outputs": [
    {
     "name": "stdout",
     "output_type": "stream",
     "text": [
      "The common elements are : {1, 2, 44}\n"
     ]
    }
   ],
   "source": [
    "print(\"The common elements are :\",common_element) # PrintCommon elements"
   ]
  },
  {
   "cell_type": "markdown",
   "id": "76f8da0c-5e14-405b-99b8-42d97135816a",
   "metadata": {},
   "source": [
    "`22. Find the difference between two lists.`"
   ]
  },
  {
   "cell_type": "code",
   "execution_count": 68,
   "id": "b6a3f016-6bc4-4c0b-983e-9b90b85a2ac6",
   "metadata": {},
   "outputs": [
    {
     "name": "stdout",
     "output_type": "stream",
     "text": [
      "The differance is : {66, 55}\n"
     ]
    }
   ],
   "source": [
    "lst4 =[1,2,44,55,66] # List-1\n",
    "lst5 =[34,1,2,44,78,56,90] # List -2\n",
    "differ =set(lst4).difference(lst5) # by using diffrence function find diff\n",
    "\n",
    "print(\"The differance is :\",differ)"
   ]
  },
  {
   "cell_type": "markdown",
   "id": "6608566b-1765-46b0-a676-c9b1dd3d8685",
   "metadata": {
    "tags": []
   },
   "source": [
    "`23. Merge two lists.`"
   ]
  },
  {
   "cell_type": "code",
   "execution_count": 69,
   "id": "90f83eea-bb11-42bc-bba0-c28c0a843c1b",
   "metadata": {},
   "outputs": [
    {
     "name": "stdout",
     "output_type": "stream",
     "text": [
      "mergerd lists are : [1, 2, 44, 55, 66, 34, 1, 2, 44, 78, 56, 90]\n"
     ]
    }
   ],
   "source": [
    "l01 =[1,2,44,55,66] # List-1\n",
    "l02 =[34,1,2,44,78,56,90] # List -2\n",
    "l01.extend(l02) # By using extend function\n",
    "print(\"mergerd lists are :\",l01)"
   ]
  },
  {
   "cell_type": "markdown",
   "id": "40fdb8d7-a2c8-421a-afed-54699d18ef5a",
   "metadata": {},
   "source": [
    "`24. Multiply all elements in a list by 2.`"
   ]
  },
  {
   "cell_type": "code",
   "execution_count": 70,
   "id": "db76337f-da68-4f91-88bd-17e35c0c48a9",
   "metadata": {},
   "outputs": [
    {
     "name": "stdout",
     "output_type": "stream",
     "text": [
      "46 68 90 24 48 90 "
     ]
    }
   ],
   "source": [
    "list_iteams =[23,34,45,12,24,45] #List\n",
    "\n",
    "for i in list_iteams:\n",
    "    print(i*2,end=\" \")"
   ]
  },
  {
   "cell_type": "markdown",
   "id": "5782935c-c0a8-4ac4-b2b3-84c90e6c5c97",
   "metadata": {},
   "source": [
    "`25. Filter out all even numbers from a list.`"
   ]
  },
  {
   "cell_type": "code",
   "execution_count": 71,
   "id": "9d7902c2-0b51-4a40-873d-a385f69ca319",
   "metadata": {},
   "outputs": [],
   "source": [
    "lsst =[1, 2, 44, 55, 66, 34, 1, 2, 44, 78, 56, 90]\n",
    "filter_list= []\n",
    "for i in lsst:\n",
    "    if i %2 ==0:\n",
    "        filter_list.append(i)"
   ]
  },
  {
   "cell_type": "code",
   "execution_count": 72,
   "id": "a0700f83-a19e-430b-b9e3-e3c44418bf93",
   "metadata": {},
   "outputs": [
    {
     "name": "stdout",
     "output_type": "stream",
     "text": [
      "Filter Even numbers :  [2, 44, 66, 34, 2, 44, 78, 56, 90]\n"
     ]
    }
   ],
   "source": [
    "print(\"Filter Even numbers : \",filter_list)"
   ]
  },
  {
   "cell_type": "markdown",
   "id": "e8f4db2f-4091-4ded-81a1-fe10970e2f00",
   "metadata": {},
   "source": [
    "`26. Convert a list of strings to a list of integers.`"
   ]
  },
  {
   "cell_type": "code",
   "execution_count": 73,
   "id": "5a8b991c-5a7f-4b85-974a-be2787096f63",
   "metadata": {},
   "outputs": [],
   "source": [
    "list_string =[\"1\",\"2\",\"3\",\"45\"] # List Of string\n",
    "res =list(map(int,list_string))"
   ]
  },
  {
   "cell_type": "code",
   "execution_count": 74,
   "id": "d87e5506-2830-4cd5-8905-8abda1a6c4af",
   "metadata": {},
   "outputs": [
    {
     "name": "stdout",
     "output_type": "stream",
     "text": [
      "List of string Convert into integer : [1, 2, 3, 45]\n"
     ]
    }
   ],
   "source": [
    "print(\"List of string Convert into integer :\",res)"
   ]
  },
  {
   "cell_type": "markdown",
   "id": "5a0ef170-adba-4212-a4a5-3547056b016d",
   "metadata": {},
   "source": [
    "`27. Convert a list of integers to a list of strings.`"
   ]
  },
  {
   "cell_type": "code",
   "execution_count": 75,
   "id": "8c535806-5178-4da3-881f-6b5b1e199799",
   "metadata": {},
   "outputs": [],
   "source": [
    "list_int =[1,2,3,45] # List Of string\n",
    "res_int =list(map(str,list_int))"
   ]
  },
  {
   "cell_type": "code",
   "execution_count": 76,
   "id": "70f8fb1f-a498-490c-a905-8c7410b27730",
   "metadata": {},
   "outputs": [
    {
     "name": "stdout",
     "output_type": "stream",
     "text": [
      "List of integer Convert into string: ['1', '2', '3', '45']\n"
     ]
    }
   ],
   "source": [
    "print(\"List of integer Convert into string:\",res_int)"
   ]
  },
  {
   "cell_type": "markdown",
   "id": "bde4199d-7699-4fc0-80dc-dcb228e967ef",
   "metadata": {},
   "source": [
    "`28. Flatten a nested list.`"
   ]
  },
  {
   "cell_type": "code",
   "execution_count": 77,
   "id": "cf91e636-eb93-4ac0-934e-adf10dec9382",
   "metadata": {},
   "outputs": [
    {
     "name": "stdout",
     "output_type": "stream",
     "text": [
      "flatten list is is : [1, 2, 3, 4, 5, 6, 7]\n"
     ]
    }
   ],
   "source": [
    "my_list = [[1], [2, 3], [4, 5, 6, 7]]\n",
    "flat_list =sum(my_list,[])\n",
    "print(\"flatten list is is :\",flat_list)"
   ]
  },
  {
   "cell_type": "markdown",
   "id": "1b7b45e4-4b66-4016-8cec-290d05fc817b",
   "metadata": {},
   "source": [
    "# `OR`"
   ]
  },
  {
   "cell_type": "code",
   "execution_count": 78,
   "id": "dc3cc149-240a-45e5-a8df-c41f975f5677",
   "metadata": {},
   "outputs": [
    {
     "name": "stdout",
     "output_type": "stream",
     "text": [
      "List is flatten....\n",
      "List is flatten....\n",
      "List is flatten....\n"
     ]
    }
   ],
   "source": [
    "flat_lst =[]\n",
    "for i in my_list:\n",
    "    flat_lst.extend(i)\n",
    "    print(\"List is flatten....\")"
   ]
  },
  {
   "cell_type": "code",
   "execution_count": 79,
   "id": "b688936d-0818-4943-b1e1-d6df9452b12b",
   "metadata": {},
   "outputs": [
    {
     "name": "stdout",
     "output_type": "stream",
     "text": [
      "Flatten list is : [1, 2, 3, 4, 5, 6, 7]\n"
     ]
    }
   ],
   "source": [
    "print(\"Flatten list is :\",flat_lst)"
   ]
  },
  {
   "cell_type": "markdown",
   "id": "3f49c7d8-f687-43da-b81f-d72e1ddcfd7a",
   "metadata": {},
   "source": [
    "`29. Create a list of the first 10 Fibonacci numbers.`"
   ]
  },
  {
   "cell_type": "markdown",
   "id": "2f5a14b0-f17b-43d1-ae33-57ad1406e502",
   "metadata": {},
   "source": [
    "`30. Check if a list is sorted.`"
   ]
  },
  {
   "cell_type": "code",
   "execution_count": 80,
   "id": "aaa686e4-2f7e-4bd6-aed7-b17c024a1425",
   "metadata": {},
   "outputs": [
    {
     "name": "stdout",
     "output_type": "stream",
     "text": [
      "List is sorted in order\n"
     ]
    }
   ],
   "source": [
    "sort_list=[1,2,4,5,7,8]\n",
    "sort_list1= sort_list[:]\n",
    "sort_list1.sort()\n",
    "if(sort_list == sort_list1):\n",
    "    print('List is sorted in order')\n",
    "else:\n",
    "    print('List is not sorted in order')"
   ]
  },
  {
   "cell_type": "markdown",
   "id": "8da726c0-b9b1-456d-b422-316691fe1700",
   "metadata": {},
   "source": [
    "`31. Rotate a list to the left by `n` positions.`"
   ]
  },
  {
   "cell_type": "code",
   "execution_count": 81,
   "id": "89ae424c-9345-425c-8197-a83e5cee2344",
   "metadata": {},
   "outputs": [
    {
     "data": {
      "text/plain": [
       "[5, 6, 7, 1, 2, 3, 4]"
      ]
     },
     "execution_count": 81,
     "metadata": {},
     "output_type": "execute_result"
    }
   ],
   "source": [
    "Rotate_left_list =[1,2,3,4,5,6,7]\n",
    "n =4\n",
    "Rotate_left_list[n:] + Rotate_left_list[:n]"
   ]
  },
  {
   "cell_type": "markdown",
   "id": "afa0d86c-7bf4-4829-8ffc-432732a17724",
   "metadata": {},
   "source": [
    "`32. Rotate a list to the right by `n` positions.`"
   ]
  },
  {
   "cell_type": "code",
   "execution_count": 82,
   "id": "2edf58c0-d7de-4fd7-b507-b69efca0efac",
   "metadata": {},
   "outputs": [
    {
     "data": {
      "text/plain": [
       "[4, 5, 6, 7, 1, 2, 3]"
      ]
     },
     "execution_count": 82,
     "metadata": {},
     "output_type": "execute_result"
    }
   ],
   "source": [
    "rotate_right_list =[1,2,3,4,5,6,7]\n",
    "n =4\n",
    "rotate_right_list[-n:] + rotate_right_list[:-n]"
   ]
  },
  {
   "cell_type": "markdown",
   "id": "99e87a65-8a34-4082-8c39-6562960e4cc1",
   "metadata": {},
   "source": [
    "`33. Create a list of prime numbers up to 50.`"
   ]
  },
  {
   "cell_type": "code",
   "execution_count": 83,
   "id": "7e635979-3682-46ad-bf0d-db9eaf26ce1e",
   "metadata": {},
   "outputs": [],
   "source": [
    "primes = []\n",
    "for possiblePrime in range(2, 50):\n",
    "    isPrime = True\n",
    "    for num in range(2, possiblePrime):\n",
    "        if possiblePrime % num == 0:\n",
    "            isPrime = False\n",
    "      \n",
    "    if isPrime:\n",
    "        primes.append(possiblePrime)"
   ]
  },
  {
   "cell_type": "code",
   "execution_count": 84,
   "id": "28f82997-e7a3-4619-9f39-2e05c8738390",
   "metadata": {},
   "outputs": [
    {
     "name": "stdout",
     "output_type": "stream",
     "text": [
      "Prime Numbers are : [2, 3, 5, 7, 11, 13, 17, 19, 23, 29, 31, 37, 41, 43, 47]\n"
     ]
    }
   ],
   "source": [
    "print(\"Prime Numbers are :\",primes)"
   ]
  },
  {
   "cell_type": "markdown",
   "id": "e9b5e228-8468-470d-bd54-7373640659e0",
   "metadata": {},
   "source": [
    "`34. Split a list into chunks of size `n`.`"
   ]
  },
  {
   "cell_type": "code",
   "execution_count": 85,
   "id": "10a4e8ce-2512-4108-b104-f541040d4f22",
   "metadata": {},
   "outputs": [
    {
     "name": "stdout",
     "output_type": "stream",
     "text": [
      "first_half=[1, 2, 3, 4, 5]\n",
      "second_half=[6, 7, 8, 9, 10]\n"
     ]
    }
   ],
   "source": [
    "a_list = [1, 2, 3, 4, 5, 6, 7, 8, 9,10]\n",
    "half_length = (len(a_list) // 2)\n",
    "first_half = a_list[:half_length]\n",
    "second_half =a_list[half_length:]\n",
    "print(f'{first_half=}')\n",
    "print(f'{second_half=}')"
   ]
  },
  {
   "cell_type": "markdown",
   "id": "9f0004b6-c8b1-401c-ab9a-f5e5d6575aac",
   "metadata": {},
   "source": [
    "`35. Find the second largest number in a list.`"
   ]
  },
  {
   "cell_type": "code",
   "execution_count": 86,
   "id": "75e0b6b0-888b-4e22-be83-8011084c988f",
   "metadata": {},
   "outputs": [],
   "source": [
    "second_largest = [500, 2, 40, 999, 99]\n",
    "second_largest.sort()"
   ]
  },
  {
   "cell_type": "code",
   "execution_count": 87,
   "id": "978ca7f5-45ac-4e8e-960c-f965dd12de06",
   "metadata": {},
   "outputs": [
    {
     "name": "stdout",
     "output_type": "stream",
     "text": [
      "Sorted list:  [2, 40, 99, 500, 999]\n",
      "second Largest number is : 500\n"
     ]
    }
   ],
   "source": [
    "print(\"Sorted list: \",second_largest)\n",
    "print(\"second Largest number is :\",second_largest[-2])"
   ]
  },
  {
   "cell_type": "code",
   "execution_count": 88,
   "id": "4211c4e0-f963-4984-843d-340dcb800e46",
   "metadata": {},
   "outputs": [
    {
     "name": "stdout",
     "output_type": "stream",
     "text": [
      "[12, 45, 123, 678, 4533]\n"
     ]
    },
    {
     "data": {
      "text/plain": [
       "678"
      ]
     },
     "execution_count": 88,
     "metadata": {},
     "output_type": "execute_result"
    }
   ],
   "source": [
    "lsit_sort =[123,4533,12,45,678]\n",
    "lsit_sort.sort()\n",
    "print(lsit_sort)\n",
    "sorted(lsit_sort)[-2]"
   ]
  },
  {
   "cell_type": "markdown",
   "id": "e373f2c6-a9a4-4535-9fa4-e569cc5f51c1",
   "metadata": {},
   "source": [
    "`36. Replace every element in a list with its square`"
   ]
  },
  {
   "cell_type": "code",
   "execution_count": 89,
   "id": "620556d8-608b-43b6-bf92-73cd0c83c9a8",
   "metadata": {},
   "outputs": [],
   "source": [
    "list_1 =[1,2,3,4,5,6,7,8,9,10]\n",
    "for i in range(len(list_1)):\n",
    "        list_1[i] = list_1[i]**2"
   ]
  },
  {
   "cell_type": "code",
   "execution_count": 90,
   "id": "73797e92-be64-431c-814d-887f8042f6b1",
   "metadata": {},
   "outputs": [
    {
     "name": "stdout",
     "output_type": "stream",
     "text": [
      "Replace every Elements with its square : [1, 4, 9, 16, 25, 36, 49, 64, 81, 100]\n"
     ]
    }
   ],
   "source": [
    "print(\"Replace every Elements with its square :\",list_1)"
   ]
  },
  {
   "cell_type": "markdown",
   "id": "3d02b711-f75b-4d11-8df4-e66a2c57d831",
   "metadata": {},
   "source": [
    "`37. Convert a list to a dictionary where list elements become keys and their\n",
    "indices become values`"
   ]
  },
  {
   "cell_type": "code",
   "execution_count": 91,
   "id": "b5c5536d-9d2d-4382-ba4f-f3a6ebb034bf",
   "metadata": {},
   "outputs": [
    {
     "name": "stdout",
     "output_type": "stream",
     "text": [
      "{1: 'a', 2: 'b', 3: 'c', 4: 'd'}\n"
     ]
    }
   ],
   "source": [
    "L1=[1,2,3,4]\n",
    "L2=['a','b','c','d']\n",
    "d1 =zip(L1,L2)\n",
    "print(dict(d1))"
   ]
  },
  {
   "cell_type": "markdown",
   "id": "1e5afdcc-9f3f-45e2-a35b-a0e406675c9e",
   "metadata": {},
   "source": [
    "`38. Shuffle the elements of a list randomly.`"
   ]
  },
  {
   "cell_type": "code",
   "execution_count": 92,
   "id": "28221761-6e95-4d14-a02a-4092e1398e84",
   "metadata": {},
   "outputs": [
    {
     "name": "stdout",
     "output_type": "stream",
     "text": [
      "['bhushan', 'dilip', 'patil']\n"
     ]
    }
   ],
   "source": [
    "import random\n",
    "mylist = [\"bhushan\", \"dilip\", \"patil\"]\n",
    "random.shuffle(mylist)\n",
    "\n",
    "print(mylist)"
   ]
  },
  {
   "cell_type": "markdown",
   "id": "4c89ec54-1874-4bfd-a7a1-79db6e01ac36",
   "metadata": {},
   "source": [
    "`39. Create a list of the first 10 factorial numbers.`"
   ]
  },
  {
   "cell_type": "code",
   "execution_count": 93,
   "id": "81a4c296-4e3f-4804-91f1-1b0487b641af",
   "metadata": {},
   "outputs": [
    {
     "name": "stdout",
     "output_type": "stream",
     "text": [
      "Factorial of 1 is : 1\n",
      "Factorial of 2 is : 2\n",
      "Factorial of 3 is : 6\n",
      "Factorial of 4 is : 24\n",
      "Factorial of 5 is : 120\n",
      "Factorial of 6 is : 720\n",
      "Factorial of 7 is : 5040\n",
      "Factorial of 8 is : 40320\n",
      "Factorial of 9 is : 362880\n",
      "Factorial of 10 is : 3628800\n"
     ]
    }
   ],
   "source": [
    "# factorial of 1 to 10 numbers--\n",
    "input_set = [1, 2, 3, 4, 5,6,7,8,9,10]\n",
    "for item in input_set:\n",
    "    fact = 1\n",
    "    for number in range(1,item+1):\n",
    "        fact = fact * number\n",
    "    print (\"Factorial of\", item, \"is :\", fact)    "
   ]
  },
  {
   "cell_type": "markdown",
   "id": "28f78e78-1607-4a58-8e3c-de8d8a60c9ae",
   "metadata": {},
   "source": [
    "`40. Check if two lists have at least one element in common.`"
   ]
  },
  {
   "cell_type": "code",
   "execution_count": 94,
   "id": "eea61a91-24d5-409a-938c-183a7b610fc5",
   "metadata": {},
   "outputs": [
    {
     "name": "stdout",
     "output_type": "stream",
     "text": [
      "True\n"
     ]
    }
   ],
   "source": [
    "list_1 = [1, 2, 3, 4, 55]\n",
    "list_2 = [2, 3, 90, 22]\n",
    "output =(check in list_1 for check in list_2)\n",
    "if output:\n",
    "    print(\"True\")\n",
    "else:\n",
    "    print('False')"
   ]
  },
  {
   "cell_type": "markdown",
   "id": "ad15c4c9-475f-435f-9c1f-af4921234990",
   "metadata": {},
   "source": [
    "`41. Remove all elements from a list.`"
   ]
  },
  {
   "cell_type": "code",
   "execution_count": 95,
   "id": "dadd09bc-a54e-4992-9fe3-25dc74f502da",
   "metadata": {},
   "outputs": [],
   "source": [
    "remove_all_elements = [1, 2, 3, 4, 55]\n",
    "remove_all_elements.clear()"
   ]
  },
  {
   "cell_type": "code",
   "execution_count": 96,
   "id": "370ac8fa-edcd-4e49-ba84-5627bac6fa2c",
   "metadata": {},
   "outputs": [
    {
     "name": "stdout",
     "output_type": "stream",
     "text": [
      "[]\n"
     ]
    }
   ],
   "source": [
    "print(remove_all_elements)"
   ]
  },
  {
   "cell_type": "markdown",
   "id": "a788b489-15e3-42b3-8001-ccddfeb0f64d",
   "metadata": {},
   "source": [
    "`42. Replace negative numbers in a list with 0.`"
   ]
  },
  {
   "cell_type": "code",
   "execution_count": 97,
   "id": "8e617983-2afd-453c-9589-3de8991904b6",
   "metadata": {},
   "outputs": [],
   "source": [
    "list_with_minus_numb =[1,-2,-3,4,5,6,-7]\n",
    "list_without_numb =[]\n",
    "for i in list_with_minus_numb:\n",
    "    if i < 0:\n",
    "        list_without_numb.append(0)\n",
    "    else:\n",
    "        list_without_numb.append(i)"
   ]
  },
  {
   "cell_type": "code",
   "execution_count": 98,
   "id": "9c6a1889-326f-42cc-8ce1-85d26860c740",
   "metadata": {},
   "outputs": [
    {
     "name": "stdout",
     "output_type": "stream",
     "text": [
      "Replace numbers with 0: [1, 0, 0, 4, 5, 6, 0]\n"
     ]
    }
   ],
   "source": [
    "print(\"Replace numbers with 0: {}\".format(list_without_numb))"
   ]
  },
  {
   "cell_type": "markdown",
   "id": "bc833836-8e79-4ff1-a0bf-c2815d5de6ca",
   "metadata": {},
   "source": [
    "`43. Convert a string into a list of words.`"
   ]
  },
  {
   "cell_type": "code",
   "execution_count": 99,
   "id": "68e7902f-44f0-4be4-98c0-3c1654c7ee4d",
   "metadata": {},
   "outputs": [],
   "source": [
    "string =\"Hello My Name is bhushan\"\n",
    "list_of_word =string.split()"
   ]
  },
  {
   "cell_type": "code",
   "execution_count": 100,
   "id": "18733724-5ceb-4389-bb86-ed7bff6466fa",
   "metadata": {},
   "outputs": [
    {
     "name": "stdout",
     "output_type": "stream",
     "text": [
      "['Hello', 'My', 'Name', 'is', 'bhushan']\n"
     ]
    }
   ],
   "source": [
    "print(list_of_word)"
   ]
  },
  {
   "cell_type": "markdown",
   "id": "51f51305-258b-41e6-888e-4e15084bf753",
   "metadata": {},
   "source": [
    "`44. Convert a list of words into a string`"
   ]
  },
  {
   "cell_type": "code",
   "execution_count": 101,
   "id": "1a38ed4b-114f-460c-afe9-fe8a407125fa",
   "metadata": {},
   "outputs": [],
   "source": [
    "list_of_word =['Hello', 'My', 'Name', 'is', 'bhushan']\n",
    "String_12 =\" \".join(list_of_word)"
   ]
  },
  {
   "cell_type": "code",
   "execution_count": 102,
   "id": "a39d043b-7ff3-45bd-9ec3-17637ef03149",
   "metadata": {},
   "outputs": [
    {
     "name": "stdout",
     "output_type": "stream",
     "text": [
      "Hello My Name is bhushan\n"
     ]
    }
   ],
   "source": [
    "print(String_12)"
   ]
  },
  {
   "cell_type": "markdown",
   "id": "31ccf01b-5078-4f99-ba8c-e52754f8a43c",
   "metadata": {},
   "source": [
    "`45. Create a list of the first `n` powers of 2.`"
   ]
  },
  {
   "cell_type": "code",
   "execution_count": 103,
   "id": "5ec34a95-7449-4e88-a26f-00091c779958",
   "metadata": {},
   "outputs": [],
   "source": [
    "power_2 =[]\n",
    "\n",
    "for i in range(1,10):\n",
    "    power_2.append(i**2)"
   ]
  },
  {
   "cell_type": "code",
   "execution_count": 104,
   "id": "676f3c29-439c-4048-a0fd-80abb4c77f9b",
   "metadata": {},
   "outputs": [
    {
     "name": "stdout",
     "output_type": "stream",
     "text": [
      "Power of n th list : [1, 4, 9, 16, 25, 36, 49, 64, 81]\n"
     ]
    }
   ],
   "source": [
    "print(\"Power of n th list : {}\".format(power_2))"
   ]
  },
  {
   "cell_type": "markdown",
   "id": "45431c3b-2e5a-49e5-8ac7-3b4962757fe8",
   "metadata": {},
   "source": [
    "`46. Find the longest string in a list of strings.`"
   ]
  },
  {
   "cell_type": "code",
   "execution_count": 105,
   "id": "cd219515-5007-4c16-989c-ee404ac2f353",
   "metadata": {},
   "outputs": [
    {
     "name": "stdout",
     "output_type": "stream",
     "text": [
      "The splited string is : ['Find', 'the', 'longest', 'string', 'in', 'a', 'list', 'of', 'stringsss']\n"
     ]
    }
   ],
   "source": [
    "Longest_string ='Find the longest string in a list of stringsss'\n",
    "split_string = Longest_string.split()\n",
    "print(\"The splited string is :\",split_string)"
   ]
  },
  {
   "cell_type": "code",
   "execution_count": 106,
   "id": "88397914-2561-4972-8206-fdcc20bba4ed",
   "metadata": {},
   "outputs": [
    {
     "name": "stdout",
     "output_type": "stream",
     "text": [
      "The longest string : stringsss\n"
     ]
    }
   ],
   "source": [
    "result =max(split_string,key=len)\n",
    "print('The longest string :',result)"
   ]
  },
  {
   "cell_type": "markdown",
   "id": "5394e0a9-19b4-4a33-bdad-0f6f42b0756e",
   "metadata": {},
   "source": [
    "`OR`"
   ]
  },
  {
   "cell_type": "code",
   "execution_count": 118,
   "id": "42b16d9d-fecc-4559-9e12-78e104b478f5",
   "metadata": {},
   "outputs": [],
   "source": [
    "max_length = 0\n",
    "for i in split_string:\n",
    "    if len(i) > max_length:\n",
    "        max_length =len(i)\n",
    "        res =i"
   ]
  },
  {
   "cell_type": "code",
   "execution_count": 119,
   "id": "8681c227-cfa1-4f27-9a2f-6b739bffba5d",
   "metadata": {},
   "outputs": [
    {
     "name": "stdout",
     "output_type": "stream",
     "text": [
      "Long element : stringsss\n"
     ]
    }
   ],
   "source": [
    "print(\"Long element :\",res)"
   ]
  },
  {
   "cell_type": "markdown",
   "id": "f5918b42-187e-400e-a557-8ea822a0853d",
   "metadata": {},
   "source": [
    "`47. Find the shortest string in a list of strings`"
   ]
  },
  {
   "cell_type": "code",
   "execution_count": 109,
   "id": "4ce7aa13-1413-42b3-bd4e-0af5d267e09d",
   "metadata": {},
   "outputs": [
    {
     "name": "stdout",
     "output_type": "stream",
     "text": [
      "shortest string is : a\n"
     ]
    }
   ],
   "source": [
    "result1 =min(split_string,key=len)\n",
    "print(\"shortest string is :\",result1)"
   ]
  },
  {
   "cell_type": "code",
   "execution_count": 131,
   "id": "3d81f921-d144-4ba4-94cf-55591d92f675",
   "metadata": {},
   "outputs": [],
   "source": [
    "min_length =10\n",
    "\n",
    "for i in split_string:\n",
    "    if len(i) < min_length:\n",
    "        min_length =len(i)\n",
    "        abcd = i"
   ]
  },
  {
   "cell_type": "code",
   "execution_count": 132,
   "id": "94c40271-4ee6-4b71-873e-b6d8bfe89182",
   "metadata": {},
   "outputs": [
    {
     "name": "stdout",
     "output_type": "stream",
     "text": [
      "The shortest string is : a\n"
     ]
    }
   ],
   "source": [
    "print(\"The shortest string is :\",abcd)"
   ]
  },
  {
   "cell_type": "markdown",
   "id": "cc614fbe-feef-4b03-bdff-4cab81514fff",
   "metadata": {},
   "source": [
    "`48. Create a list of the first `n` triangular numbers.`"
   ]
  },
  {
   "cell_type": "code",
   "execution_count": 137,
   "id": "7c730f11-c79c-4c6e-a044-e47305b2f30c",
   "metadata": {},
   "outputs": [
    {
     "name": "stdin",
     "output_type": "stream",
     "text": [
      "Enter no.of Triangulars you want: 10\n"
     ]
    }
   ],
   "source": [
    "n=int(input('Enter no.of Triangulars you want:'))\n",
    "triangulars = []\n",
    "sum_of_triangular =0\n",
    "for i in range(1,n+1):\n",
    "    sum_of_triangular += i\n",
    "    triangulars.append(sum_of_triangular)"
   ]
  },
  {
   "cell_type": "code",
   "execution_count": 139,
   "id": "3ed89004-7cc9-43bd-b78e-0592d9937b83",
   "metadata": {},
   "outputs": [
    {
     "name": "stdout",
     "output_type": "stream",
     "text": [
      "[1, 3, 6, 10, 15, 21, 28, 36, 45, 55]\n"
     ]
    }
   ],
   "source": [
    "print(triangulars)"
   ]
  },
  {
   "cell_type": "markdown",
   "id": "d4b6d9f4-335f-4b94-8f3b-7c13c0c7e908",
   "metadata": {},
   "source": [
    "`49. Check if a list contains another list as a subsequence.`"
   ]
  },
  {
   "cell_type": "code",
   "execution_count": 143,
   "id": "73513379-eccd-4976-8341-e19ff1d8ab1e",
   "metadata": {},
   "outputs": [],
   "source": [
    "one = [1, 2, 3, 4, 5]\n",
    "two = [1, 2]\n",
    "subset =set(two).intersection(one)"
   ]
  },
  {
   "cell_type": "code",
   "execution_count": 145,
   "id": "e71fffa3-8af0-45bc-ba42-36a24ed6c127",
   "metadata": {},
   "outputs": [
    {
     "name": "stdout",
     "output_type": "stream",
     "text": [
      "It is subset of another list\n"
     ]
    }
   ],
   "source": [
    "if (set(one).intersection(two)):\n",
    "    print(\"It is subset of another list\")\n",
    "else:\n",
    "    print(\"it is not subset of another list\")"
   ]
  },
  {
   "cell_type": "markdown",
   "id": "42deda93-9ebe-4d38-a445-b22bc08d22b9",
   "metadata": {},
   "source": [
    "`50. Swap two elements in a list by their indices.`"
   ]
  },
  {
   "cell_type": "code",
   "execution_count": 148,
   "id": "65673e89-70eb-4cd6-b38c-46af9c75860d",
   "metadata": {},
   "outputs": [],
   "source": [
    "one1 = [1,2,3,4,5]\n",
    "two2 = [10,11,12,13,14]\n",
    "one1[0] =11\n",
    "two2[1] =1"
   ]
  },
  {
   "cell_type": "code",
   "execution_count": 149,
   "id": "1923f182-b17e-4a0d-acdc-9be1ed94882f",
   "metadata": {},
   "outputs": [
    {
     "name": "stdout",
     "output_type": "stream",
     "text": [
      "List one is : [11, 2, 3, 4, 5]\n",
      "List two is : [10, 1, 12, 13, 14]\n"
     ]
    }
   ],
   "source": [
    "print(\"List one is :\",one1)\n",
    "print(\"List two is :\",two2)"
   ]
  },
  {
   "cell_type": "code",
   "execution_count": null,
   "id": "34a95758-8929-4c97-b053-31489231893a",
   "metadata": {},
   "outputs": [],
   "source": []
  }
 ],
 "metadata": {
  "kernelspec": {
   "display_name": "Python 3 (ipykernel)",
   "language": "python",
   "name": "python3"
  },
  "language_info": {
   "codemirror_mode": {
    "name": "ipython",
    "version": 3
   },
   "file_extension": ".py",
   "mimetype": "text/x-python",
   "name": "python",
   "nbconvert_exporter": "python",
   "pygments_lexer": "ipython3",
   "version": "3.10.8"
  }
 },
 "nbformat": 4,
 "nbformat_minor": 5
}
