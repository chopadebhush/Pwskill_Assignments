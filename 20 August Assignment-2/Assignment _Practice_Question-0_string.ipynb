{
 "cells": [
  {
   "cell_type": "markdown",
   "id": "3f78be0a-dd1f-4979-aac9-cdd3112d64ec",
   "metadata": {
    "jp-MarkdownHeadingCollapsed": true,
    "tags": []
   },
   "source": [
    "## `String Based Practice Questions`"
   ]
  },
  {
   "cell_type": "markdown",
   "id": "a6dd37c9-4ed1-41c9-b455-721cffc9ddb3",
   "metadata": {},
   "source": [
    "## `TOPIC: String Based Assignment Problem`"
   ]
  },
  {
   "cell_type": "markdown",
   "id": "15fd9cad-23c2-4dda-bf4a-771e534d8b0c",
   "metadata": {},
   "source": [
    "`1. Write a program to reverse a string`"
   ]
  },
  {
   "cell_type": "code",
   "execution_count": 1,
   "id": "19419d17-6dca-4a68-bda5-973231039edd",
   "metadata": {},
   "outputs": [
    {
     "data": {
      "text/plain": [
       "'nahsuhb si eman ym gninrom doog olleH'"
      ]
     },
     "execution_count": 1,
     "metadata": {},
     "output_type": "execute_result"
    }
   ],
   "source": [
    "Abc= \"Hello good morning my name is bhushan\" # Define string \n",
    "Abc[::-1] # By using Indexing Method"
   ]
  },
  {
   "cell_type": "code",
   "execution_count": 2,
   "id": "9ce24ba1-36e3-413a-be30-de86abebedca",
   "metadata": {},
   "outputs": [],
   "source": [
    "Abc= \"Hello good morning my name is bhushan\" # Define string \n",
    "bdc= list(Abc) # Create a list\n",
    "bdc.reverse() # used Reverse function"
   ]
  },
  {
   "cell_type": "code",
   "execution_count": 3,
   "id": "e255fffa-43c5-4267-b09d-06cf9e77ff5e",
   "metadata": {},
   "outputs": [
    {
     "name": "stdout",
     "output_type": "stream",
     "text": [
      "['n', 'a', 'h', 's', 'u', 'h', 'b', ' ', 's', 'i', ' ', 'e', 'm', 'a', 'n', ' ', 'y', 'm', ' ', 'g', 'n', 'i', 'n', 'r', 'o', 'm', ' ', 'd', 'o', 'o', 'g', ' ', 'o', 'l', 'l', 'e', 'H']\n"
     ]
    }
   ],
   "source": [
    "print(bdc)"
   ]
  },
  {
   "cell_type": "markdown",
   "id": "8cf91d37-e0d3-464c-88e6-bc00569dda39",
   "metadata": {},
   "source": [
    "`2. Check if a string is a palindrome`"
   ]
  },
  {
   "cell_type": "code",
   "execution_count": 4,
   "id": "ac9f8de5-7d24-4caf-8d02-895f8a198667",
   "metadata": {},
   "outputs": [
    {
     "name": "stdin",
     "output_type": "stream",
     "text": [
      "Enter the string for check>>> MADAM\n"
     ]
    },
    {
     "name": "stdout",
     "output_type": "stream",
     "text": [
      "String is palindrome...\n"
     ]
    }
   ],
   "source": [
    "User =input(\"Enter the string for check>>>\") # Accept input from user\n",
    "\n",
    "if (User == User[::-1]): # Check the condition Overhere\n",
    "    print(\"String is palindrome...\")\n",
    "else:\n",
    "    print(\"String is not palindrome...\")"
   ]
  },
  {
   "cell_type": "markdown",
   "id": "7ee22f16-ba8a-43a5-b54e-dccd5f04a140",
   "metadata": {},
   "source": [
    "`3. Convert a string to uppercase.`"
   ]
  },
  {
   "cell_type": "code",
   "execution_count": 5,
   "id": "99a99b81-a5c5-405b-9dd5-6563aac3a8fe",
   "metadata": {},
   "outputs": [
    {
     "data": {
      "text/plain": [
       "'HELLO GOOD MORNING MY NAME IS BHUSHAN'"
      ]
     },
     "execution_count": 5,
     "metadata": {},
     "output_type": "execute_result"
    }
   ],
   "source": [
    "Abc= \"Hello good morning my name is bhushan\" # Define string\n",
    "\n",
    "# Abc.upper() -Docstring: Return a copy of the string converted to uppercase.\n",
    "\n",
    "Abc.upper()"
   ]
  },
  {
   "cell_type": "markdown",
   "id": "e363adee-33cf-41bd-9d52-f099865f121e",
   "metadata": {},
   "source": [
    "`4. Convert a string to lowercase.`"
   ]
  },
  {
   "cell_type": "code",
   "execution_count": 6,
   "id": "de6abd15-b0a4-4305-8775-c9c3e518fabd",
   "metadata": {},
   "outputs": [
    {
     "data": {
      "text/plain": [
       "'hello good morning my name is bhushan'"
      ]
     },
     "execution_count": 6,
     "metadata": {},
     "output_type": "execute_result"
    }
   ],
   "source": [
    "Abc= \"Hello good morning my name is bhushan\" # Define string\n",
    "# Abc.lower() Docstring: Return a copy of the string converted to lowercase\n",
    "\n",
    "Abc.lower()"
   ]
  },
  {
   "cell_type": "markdown",
   "id": "5df47fcc-c3eb-4658-9878-b7055216188d",
   "metadata": {},
   "source": [
    "`5. Count the number of vowels in a string`"
   ]
  },
  {
   "cell_type": "code",
   "execution_count": 7,
   "id": "195f1daf-6134-4d52-976e-6e06097b8926",
   "metadata": {},
   "outputs": [
    {
     "name": "stdout",
     "output_type": "stream",
     "text": [
      "Count of a =2\n",
      "count of e =2\n",
      "count of i =2\n",
      "count of o =4\n",
      "count of u =1\n"
     ]
    }
   ],
   "source": [
    "Abc= \"Hello good morning my name is bhushan\"  # Define String\n",
    "# Count Numbers of vowels from string\n",
    "# Return the number of non-overlapping occurrences of substring sub in\n",
    "# string S[start:end].  Optional arguments start and end are\n",
    "a=Abc.count(\"a\")\n",
    "e=Abc.count(\"e\")\n",
    "i=Abc.count(\"i\")\n",
    "o=Abc.count(\"o\")\n",
    "u=Abc.count(\"u\")\n",
    "# Print No Of vowels from String\n",
    "print(f\"Count of a ={a}\\ncount of e ={e}\\ncount of i ={i}\\ncount of o ={o}\\ncount of u ={u}\")"
   ]
  },
  {
   "cell_type": "markdown",
   "id": "4d2ab94a-0d30-4c6a-92ec-2321afef5fb7",
   "metadata": {},
   "source": [
    "`6. Count the number of consonants in a string`"
   ]
  },
  {
   "cell_type": "code",
   "execution_count": 8,
   "id": "314dfffd-9e58-4696-a509-dd9136f392f0",
   "metadata": {},
   "outputs": [
    {
     "name": "stdout",
     "output_type": "stream",
     "text": [
      "The Result is:-  hll gd mrnng my nm s bhshn\n",
      "Total consonants are:-  26\n"
     ]
    }
   ],
   "source": [
    "string= \"hello good morning my name is bhushan\"  # Define String\n",
    "\n",
    "vowels = 'aeiou' # Define Vowels\n",
    "result = '' #Store Result Variable\n",
    "for i in string:\n",
    "    if i not in vowels:\n",
    "        result += i\n",
    "\n",
    "print(\"The Result is:- \", result)\n",
    "print(\"Total consonants are:- \", len(result))"
   ]
  },
  {
   "cell_type": "markdown",
   "id": "b1fff667-2348-42b6-aa31-6533ecfcad72",
   "metadata": {},
   "source": [
    "`7. Remove all whitespaces from a string.`"
   ]
  },
  {
   "cell_type": "code",
   "execution_count": 9,
   "id": "cb94b416-9282-46d1-a288-9738d80967df",
   "metadata": {},
   "outputs": [
    {
     "name": "stdout",
     "output_type": "stream",
     "text": [
      "one two three\n"
     ]
    }
   ],
   "source": [
    "# By using Replace function function we can remove whitespace from String\n",
    "\n",
    "stri = \"one,two,three\"\n",
    "words = stri.replace(',',' ')\n",
    "print(words)"
   ]
  },
  {
   "cell_type": "markdown",
   "id": "3f023c11-a182-4124-9b71-74fbbfdf2ff9",
   "metadata": {},
   "source": [
    "`8. Find the length of a string without using the `len()` function.`"
   ]
  },
  {
   "cell_type": "code",
   "execution_count": 10,
   "id": "c8b66ce2-630c-4995-9165-13bea1a0022e",
   "metadata": {},
   "outputs": [
    {
     "name": "stdout",
     "output_type": "stream",
     "text": [
      "My name is bhushan from pune\n",
      "The length of whole string is :28\n"
     ]
    }
   ],
   "source": [
    "Lengthstr =\"My name is bhushan from pune\" # Define string\n",
    "Lenghth = 0\n",
    "for i in Lengthstr:\n",
    "    print(i,end=\"\")\n",
    "    Lenghth +=1\n",
    "print(f\"\\nThe length of whole string is :{Lenghth}\")"
   ]
  },
  {
   "cell_type": "markdown",
   "id": "0cfeb51f-f90f-4763-b4a1-756bfbd7b21a",
   "metadata": {},
   "source": [
    "`9. Check if a string contains a specific word.`"
   ]
  },
  {
   "cell_type": "code",
   "execution_count": 11,
   "id": "b7ee0a61-bdc2-411c-a911-c4f815fb364d",
   "metadata": {},
   "outputs": [
    {
     "name": "stdout",
     "output_type": "stream",
     "text": [
      "Yes ! Bhushan is in string..\n"
     ]
    }
   ],
   "source": [
    "contain =\"Hii Good morning myself bhushan from pune\" #define String\n",
    "if \"bhushan\" in contain: # Check Condition\n",
    "    print(\"Yes ! Bhushan is in string..\")"
   ]
  },
  {
   "cell_type": "code",
   "execution_count": 12,
   "id": "e5bb5b43-52f0-4427-9bef-a88ce55d1e40",
   "metadata": {},
   "outputs": [
    {
     "data": {
      "text/plain": [
       "37"
      ]
     },
     "execution_count": 12,
     "metadata": {},
     "output_type": "execute_result"
    }
   ],
   "source": [
    "# By Using index check the string contain specific word\n",
    "contain =\"Hii Good morning myself bhushan from pune\"\n",
    "contain.index('pune',0,100)"
   ]
  },
  {
   "cell_type": "markdown",
   "id": "1c6adf23-679f-4478-ac3e-ca04156ad64e",
   "metadata": {},
   "source": [
    "`10. Replace a word in a string with another word`"
   ]
  },
  {
   "cell_type": "code",
   "execution_count": 13,
   "id": "c8a89619-547b-4b0c-9a55-2b2c6b30b7cb",
   "metadata": {},
   "outputs": [
    {
     "data": {
      "text/plain": [
       "'jello bhushan how are you'"
      ]
     },
     "execution_count": 13,
     "metadata": {},
     "output_type": "execute_result"
    }
   ],
   "source": [
    "repl =\"Hello bhushan how are you\" \n",
    "\n",
    "# Signature: repl.replace(old, new, count=-1, /)\n",
    "# Docstring:Return a copy with all occurrences of substring old replaced by new.\n",
    "\n",
    "repl.replace('H','j')"
   ]
  },
  {
   "cell_type": "markdown",
   "id": "e6258f24-20f8-4551-90a0-6ff899903b7d",
   "metadata": {},
   "source": [
    "`11. Count the occurrences of a word in a string`"
   ]
  },
  {
   "cell_type": "code",
   "execution_count": 14,
   "id": "d94ed59b-8737-4774-b75f-84da30c22e1b",
   "metadata": {},
   "outputs": [
    {
     "data": {
      "text/plain": [
       "6"
      ]
     },
     "execution_count": 14,
     "metadata": {},
     "output_type": "execute_result"
    }
   ],
   "source": [
    "cnt =\"Hello bhushan how are you what do you do\"\n",
    "\n",
    "# Return the number of non-overlapping occurrences of substring sub in\n",
    "# string S[start:end].  Optional arguments start and end are\n",
    "\n",
    "cnt.count('o')"
   ]
  },
  {
   "cell_type": "markdown",
   "id": "ceb4de92-13ef-4b58-8235-236cb6e55641",
   "metadata": {},
   "source": [
    "`12. Find the first occurrence of a word in a string`"
   ]
  },
  {
   "cell_type": "code",
   "execution_count": 15,
   "id": "de683710-a2c7-4fb7-b51a-b3dafc92ee05",
   "metadata": {},
   "outputs": [
    {
     "data": {
      "text/plain": [
       "4"
      ]
     },
     "execution_count": 15,
     "metadata": {},
     "output_type": "execute_result"
    }
   ],
   "source": [
    "cnt =\"Hello bhushan how are you what do you do\"\n",
    "cnt.find(\"o\")\n",
    "# First Occurance of \"o\" word in string is 4 index"
   ]
  },
  {
   "cell_type": "markdown",
   "id": "4031a84d-9f04-4624-a7e8-87ecbd9201eb",
   "metadata": {},
   "source": [
    "`13. Find the last occurrence of a word in a string.`"
   ]
  },
  {
   "cell_type": "code",
   "execution_count": 16,
   "id": "6865574f-cb41-4d69-ac1e-40c3215dfdeb",
   "metadata": {},
   "outputs": [
    {
     "name": "stdout",
     "output_type": "stream",
     "text": [
      "40\n"
     ]
    },
    {
     "data": {
      "text/plain": [
       "39"
      ]
     },
     "execution_count": 16,
     "metadata": {},
     "output_type": "execute_result"
    }
   ],
   "source": [
    "cnt =\"Hello bhushan how are you what do you do\"\n",
    "print(len(cnt))\n",
    "cnt.rfind('o')"
   ]
  },
  {
   "cell_type": "markdown",
   "id": "bfa913e5-8e0c-4bf2-80ca-e37a68ac693c",
   "metadata": {},
   "source": [
    "`14. Split a string into a list of words.`"
   ]
  },
  {
   "cell_type": "code",
   "execution_count": 17,
   "id": "efe41d0e-6037-4493-ba32-c91d23d31175",
   "metadata": {},
   "outputs": [
    {
     "data": {
      "text/plain": [
       "['Hello', 'bhushan', 'how', 'are', 'you', 'what', 'do', 'you', 'do']"
      ]
     },
     "execution_count": 17,
     "metadata": {},
     "output_type": "execute_result"
    }
   ],
   "source": [
    "cnt1 =\"Hello bhushan how are you what do you do\" # Define String\n",
    "# Return a list of the substrings in the string, using sep as the separator string.\n",
    "# syntax -: cnt1.split(sep=None, maxsplit=-1)\n",
    "cnt1.split()"
   ]
  },
  {
   "cell_type": "markdown",
   "id": "6821b2c0-5177-43d4-9c83-f62a0d313e49",
   "metadata": {},
   "source": [
    "`15. Join a list of words into a string.`"
   ]
  },
  {
   "cell_type": "code",
   "execution_count": 18,
   "id": "210c2312-3d44-4101-a2c9-dc1c314d2cc2",
   "metadata": {},
   "outputs": [
    {
     "data": {
      "text/plain": [
       "'Hello bhushan how are you what do you do'"
      ]
     },
     "execution_count": 18,
     "metadata": {},
     "output_type": "execute_result"
    }
   ],
   "source": [
    "Lst=['Hello', 'bhushan', 'how', 'are', 'you', 'what', 'do', 'you', 'do'] # Define List of words\n",
    "sep =' '\n",
    "# Concatenate any number of strings.\n",
    "# Syntax:- sep.join(iterable, /)\n",
    "sep.join(Lst)"
   ]
  },
  {
   "cell_type": "markdown",
   "id": "72e83423-0775-46c2-aa2d-9db25066167e",
   "metadata": {},
   "source": [
    "`16. Convert a string where words are separated by spaces to one where words\n",
    "are separated by underscores`"
   ]
  },
  {
   "cell_type": "code",
   "execution_count": 19,
   "id": "b3da2123-5c77-4e12-9bf2-195a159ebb5e",
   "metadata": {},
   "outputs": [
    {
     "data": {
      "text/plain": [
       "'Hello bhushan how are you wha_ do you do'"
      ]
     },
     "execution_count": 19,
     "metadata": {},
     "output_type": "execute_result"
    }
   ],
   "source": [
    "conv_string=\"Hello,bhushan,how,are,you,what,do,you,do\" # Define string \n",
    "# Signature: conv_string.replace(old, new, count=-1, /)\n",
    "# Docstring:Return a copy with all occurrences of substring old replaced by new.\n",
    "\n",
    "conv_string.replace(\",\",\" \").replace(\"t\",\"_\")"
   ]
  },
  {
   "cell_type": "markdown",
   "id": "239dfcb3-23d0-4b98-bbe1-b8e5e61c5e31",
   "metadata": {},
   "source": [
    "`17. Check if a string starts with a specific word or phrase`"
   ]
  },
  {
   "cell_type": "code",
   "execution_count": 20,
   "id": "2c97437c-035a-4551-9677-184652c56ab1",
   "metadata": {},
   "outputs": [
    {
     "data": {
      "text/plain": [
       "True"
      ]
     },
     "execution_count": 20,
     "metadata": {},
     "output_type": "execute_result"
    }
   ],
   "source": [
    "check_string=\"Hello,bhushan,how,are,you,what,do,you,do\" # Define String\n",
    "# S.startswith(prefix[, start[, end]]) -> bool\n",
    "# Return True if S starts with the specified prefix, False otherwise.\n",
    "# With optional start, test S beginning at that position.\n",
    "# With optional end, stop comparing S at that position.\n",
    "\n",
    "check_string.startswith('Hello')"
   ]
  },
  {
   "cell_type": "markdown",
   "id": "b5490d50-0e51-4b30-964b-e10c6209b857",
   "metadata": {},
   "source": [
    "`18. Check if a string ends with a specific word or phrase.`"
   ]
  },
  {
   "cell_type": "code",
   "execution_count": 21,
   "id": "e3c6676e-3c1e-4b07-9857-3aab8324ff3f",
   "metadata": {},
   "outputs": [
    {
     "data": {
      "text/plain": [
       "True"
      ]
     },
     "execution_count": 21,
     "metadata": {},
     "output_type": "execute_result"
    }
   ],
   "source": [
    "check_string=\"Hello,bhushan,how,are,you,what,do,you,do\" # Define String\n",
    "# S.endswith(suffix[, start[, end]]) -> bool\n",
    "# Return True if S ends with the specified suffix, False otherwise.\n",
    "# With optional start, test S beginning at that position.\n",
    "# With optional end, stop comparing S at that position.\n",
    "\n",
    "check_string.endswith(\"do\")"
   ]
  },
  {
   "cell_type": "markdown",
   "id": "279b85d7-8bef-49d7-afef-32d904de78a8",
   "metadata": {},
   "source": [
    "`19. Convert a string to title case (e.g., \"hello world\" to \"Hello World\").`"
   ]
  },
  {
   "cell_type": "code",
   "execution_count": 22,
   "id": "0cfc11c9-6184-49f5-8ff8-1aa1093806fd",
   "metadata": {},
   "outputs": [
    {
     "data": {
      "text/plain": [
       "'Hello World'"
      ]
     },
     "execution_count": 22,
     "metadata": {},
     "output_type": "execute_result"
    }
   ],
   "source": [
    "Convstring ='hello world' # Define String \n",
    "# Signature: Convstring.title()\n",
    "# Docstring:Return a version of the string where each word is titlecased.\n",
    "\n",
    "Convstring.title()"
   ]
  },
  {
   "cell_type": "markdown",
   "id": "745146a6-6953-4820-8c0f-925f30e949e9",
   "metadata": {},
   "source": [
    "`20. Find the longest word in a string.`"
   ]
  },
  {
   "cell_type": "code",
   "execution_count": 23,
   "id": "598d2c17-7e06-48de-b489-98c3bfd3d50f",
   "metadata": {},
   "outputs": [
    {
     "name": "stdout",
     "output_type": "stream",
     "text": [
      "Longest length of word in string : bhushan\n",
      "Position word in string : 7\n"
     ]
    }
   ],
   "source": [
    "long_string =\"Hello bhushan how are you what do you do\" # define string\n",
    "long_wrd=long_string.split() # split string into list\n",
    "longest_word= max(long_wrd, key=len) # use max for length of word\n",
    "length_of_word =len(longest_word)\n",
    "# print longest word from string and length of word \n",
    "print(f\"Longest length of word in string : {longest_word}\")\n",
    "print(f\"Position word in string : {length_of_word}\")"
   ]
  },
  {
   "cell_type": "markdown",
   "id": "503d3b50-69c5-40ba-ba39-ad9061b6533c",
   "metadata": {},
   "source": [
    "`21. Find the shortest word in a string.`"
   ]
  },
  {
   "cell_type": "code",
   "execution_count": 24,
   "id": "2fbf1f8a-7ba4-4dd7-a0f9-b26fa8fbd002",
   "metadata": {},
   "outputs": [
    {
     "name": "stdout",
     "output_type": "stream",
     "text": [
      "Longest length of word in string : d\n",
      "Position word in string : 1\n"
     ]
    }
   ],
   "source": [
    "short_string =\"Hello bhushan how are you what do you d\" # define string\n",
    "short_wrd=short_string.split() # split string into list\n",
    "shortest_word= min(short_wrd, key=len) # use min for length of word\n",
    "length_of_word =len(shortest_word)\n",
    "# print shortest word from string and length of word \n",
    "print(f\"Longest length of word in string : {shortest_word}\")\n",
    "print(f\"Position word in string : {length_of_word}\")"
   ]
  },
  {
   "cell_type": "markdown",
   "id": "6106a2cf-121a-40ec-a02e-d8a786dd413e",
   "metadata": {},
   "source": [
    "`22. Reverse the order of words in a string.`"
   ]
  },
  {
   "cell_type": "code",
   "execution_count": 25,
   "id": "c0cc7750-bce1-4882-9e4f-e75b3b2ddc2a",
   "metadata": {},
   "outputs": [
    {
     "name": "stdout",
     "output_type": "stream",
     "text": [
      "Reverse orders of word===>  you are how bhushan Hello\n"
     ]
    }
   ],
   "source": [
    "Rev_order_word =\"Hello bhushan how are you\"\n",
    "s =Rev_order_word.split()[::-1]\n",
    "join_string =\" \".join(s)\n",
    "\n",
    "print(f\"Reverse orders of word===>  {join_string}\")"
   ]
  },
  {
   "cell_type": "markdown",
   "id": "40263c82-6f52-45ce-b30e-9d25fa6b8dba",
   "metadata": {},
   "source": [
    "`23. Check if a string is alphanumeric.`"
   ]
  },
  {
   "cell_type": "code",
   "execution_count": 26,
   "id": "4460302d-f141-4c42-9acc-ec544d06663f",
   "metadata": {},
   "outputs": [
    {
     "data": {
      "text/plain": [
       "True"
      ]
     },
     "execution_count": 26,
     "metadata": {},
     "output_type": "execute_result"
    }
   ],
   "source": [
    "alpha_numeric =\"123244567\" #define aplha numeric string\n",
    "# Signature: alpha_numeric.isalnum()\n",
    "# Docstring:Return True if the string is an alpha-numeric string, False otherwise.\n",
    "\n",
    "alpha_numeric.isalnum()"
   ]
  },
  {
   "cell_type": "markdown",
   "id": "935757d7-d29b-473b-9c53-e049c9a454a6",
   "metadata": {},
   "source": [
    "`24. Extract all digits from a string`"
   ]
  },
  {
   "cell_type": "code",
   "execution_count": 27,
   "id": "1326bf52-7f53-4168-b21a-c860f6c835bd",
   "metadata": {},
   "outputs": [
    {
     "name": "stdout",
     "output_type": "stream",
     "text": [
      "Original string is :>> 123 bhushan\n",
      "123"
     ]
    }
   ],
   "source": [
    "extract_digit =\"123 bhushan\" # define String\n",
    "print(f'Original string is :>>',extract_digit) \n",
    "for i in extract_digit:\n",
    "    if(i.isdigit()):\n",
    "        print(i,end='')"
   ]
  },
  {
   "cell_type": "markdown",
   "id": "5059a61a-1236-493c-9ca5-35031d20227a",
   "metadata": {},
   "source": [
    "`25. Extract all alphabets from a string.`"
   ]
  },
  {
   "cell_type": "code",
   "execution_count": 28,
   "id": "54230af7-d7ca-46bc-855e-e59794efed29",
   "metadata": {},
   "outputs": [
    {
     "name": "stdout",
     "output_type": "stream",
     "text": [
      "Original String is :>>Abc 123345 Bdc\n",
      "A b c B d c "
     ]
    }
   ],
   "source": [
    "extract_alphabet =\"Abc 123345 Bdc\" # define String \n",
    "print(f'Original String is :>>{extract_alphabet}') # print the Original string\n",
    "for i in extract_alphabet:\n",
    "    if i.isalpha():\n",
    "        print(i,end=' ')"
   ]
  },
  {
   "cell_type": "markdown",
   "id": "9a6b797b-ac87-42f7-8e3a-953be16273bf",
   "metadata": {},
   "source": [
    "`26. Count the number of uppercase letters in a string.`"
   ]
  },
  {
   "cell_type": "code",
   "execution_count": 29,
   "id": "d0bc0945-aaec-4328-9fe7-2cf70c239174",
   "metadata": {},
   "outputs": [
    {
     "name": "stdout",
     "output_type": "stream",
     "text": [
      "A C B C \n",
      "upper case letters are 4\n"
     ]
    }
   ],
   "source": [
    "count_upper_letter =\"AbC 123 BdC\"\n",
    "uppper =0\n",
    "\n",
    "for i in count_upper_letter:\n",
    "    if(i.isupper()):\n",
    "        uppper +=1\n",
    "        print(i,end=\" \")\n",
    "print(\"\\nupper case letters are\",uppper)"
   ]
  },
  {
   "cell_type": "markdown",
   "id": "b007c604-ae50-4790-bcb1-538e9cf0c6c9",
   "metadata": {},
   "source": [
    "`27. Count the number of lowercase letters in a string.`"
   ]
  },
  {
   "cell_type": "code",
   "execution_count": 30,
   "id": "1a456331-626b-4142-960c-0c64755d7f03",
   "metadata": {},
   "outputs": [
    {
     "name": "stdout",
     "output_type": "stream",
     "text": [
      "h i i a m b h u s h a n f r o m \n",
      "Lower case letters are 16\n"
     ]
    }
   ],
   "source": [
    "count_lower_case=\"hi i am bhushan from PUNE 123\"\n",
    "lower = 0\n",
    "\n",
    "for i in count_lower_case:\n",
    "    if (i.islower()):\n",
    "        lower +=1\n",
    "        print(i,end=\" \")\n",
    "        \n",
    "print(\"\\nLower case letters are\",lower)"
   ]
  },
  {
   "cell_type": "markdown",
   "id": "45e8e291-fee5-48c9-b7a7-03fe42b80cfe",
   "metadata": {},
   "source": [
    "`28. Swap the case of each character in a string.`"
   ]
  },
  {
   "cell_type": "code",
   "execution_count": 31,
   "id": "3133d994-6949-455e-9d7c-895fea0d12a5",
   "metadata": {},
   "outputs": [
    {
     "data": {
      "text/plain": [
       "'hI mY NAME IS BHUSHAN'"
      ]
     },
     "execution_count": 31,
     "metadata": {},
     "output_type": "execute_result"
    }
   ],
   "source": [
    "swap_case_char =\"Hi My name is bhushan\"\n",
    "# Signature: swap_case_char.swapcase()\n",
    "# Docstring: Convert uppercase characters to lowercase and lowercase characters to \n",
    "\n",
    "swap_case_char.swapcase()"
   ]
  },
  {
   "cell_type": "markdown",
   "id": "6410784a-b62a-4362-8dbb-683c5ff1a325",
   "metadata": {},
   "source": [
    "`29. Remove a specific word from a string.`"
   ]
  },
  {
   "cell_type": "code",
   "execution_count": 32,
   "id": "6a540e54-8412-4513-a3fd-5a3d3bfb2df6",
   "metadata": {},
   "outputs": [
    {
     "data": {
      "text/plain": [
       "' My name is bhushan'"
      ]
     },
     "execution_count": 32,
     "metadata": {},
     "output_type": "execute_result"
    }
   ],
   "source": [
    "Remove_specificword =\"Hi My name is bhushan\"\n",
    "Remove_specificword.removeprefix('Hi')"
   ]
  },
  {
   "cell_type": "code",
   "execution_count": 33,
   "id": "b88a9ac0-7657-406e-b58c-194a08a85a18",
   "metadata": {},
   "outputs": [
    {
     "data": {
      "text/plain": [
       "'Hi My name is '"
      ]
     },
     "execution_count": 33,
     "metadata": {},
     "output_type": "execute_result"
    }
   ],
   "source": [
    "Remove_specificword.removesuffix('bhushan')"
   ]
  },
  {
   "cell_type": "code",
   "execution_count": 34,
   "id": "47d6785e-823e-4c31-8af4-f11839b253bd",
   "metadata": {},
   "outputs": [
    {
     "data": {
      "text/plain": [
       "'Hi My  is bhushan'"
      ]
     },
     "execution_count": 34,
     "metadata": {},
     "output_type": "execute_result"
    }
   ],
   "source": [
    "Remove_specificword.replace('name','')"
   ]
  },
  {
   "cell_type": "markdown",
   "id": "9b6abd3d-84b5-48cd-8715-0639b2189c88",
   "metadata": {},
   "source": [
    "`30. Check if a string is a valid email address`"
   ]
  },
  {
   "cell_type": "code",
   "execution_count": 35,
   "id": "04636aaf-d054-4e99-ad79-8cb628b7eeae",
   "metadata": {},
   "outputs": [
    {
     "name": "stdout",
     "output_type": "stream",
     "text": [
      "Collecting validators\n",
      "  Downloading validators-0.21.2-py3-none-any.whl (25 kB)\n",
      "Installing collected packages: validators\n",
      "Successfully installed validators-0.21.2\n"
     ]
    }
   ],
   "source": [
    "!pip install validators"
   ]
  },
  {
   "cell_type": "code",
   "execution_count": 36,
   "id": "4e01fc33-2db6-412c-9a27-b81b16700a89",
   "metadata": {},
   "outputs": [],
   "source": [
    "check_email ='chopadebhush@gmail.com'"
   ]
  },
  {
   "cell_type": "code",
   "execution_count": 37,
   "id": "e91b60e5-2c24-4750-a2ff-d8a1b597bfa0",
   "metadata": {},
   "outputs": [
    {
     "name": "stdin",
     "output_type": "stream",
     "text": [
      "Enter email address chopadebhush@gmail.com\n"
     ]
    },
    {
     "name": "stdout",
     "output_type": "stream",
     "text": [
      "Email is valid...\n"
     ]
    }
   ],
   "source": [
    "import validators # Import Validator modules\n",
    "check_email =validators.email(input('Enter email address'))\n",
    "if check_email:\n",
    "    print('Email is valid...')\n",
    "else:\n",
    "    print('Email is not valid...')"
   ]
  },
  {
   "cell_type": "markdown",
   "id": "53451e30-82f5-4e6f-9f6b-ec7b42e3eb11",
   "metadata": {},
   "source": [
    "`31. Extract the username from an email address string.`"
   ]
  },
  {
   "cell_type": "code",
   "execution_count": 38,
   "id": "b879ec66-d11d-4360-bf9a-751a5444efeb",
   "metadata": {},
   "outputs": [
    {
     "name": "stdout",
     "output_type": "stream",
     "text": [
      "22\n",
      "10\n"
     ]
    },
    {
     "data": {
      "text/plain": [
       "'chopadebhush'"
      ]
     },
     "execution_count": 38,
     "metadata": {},
     "output_type": "execute_result"
    }
   ],
   "source": [
    "extract_username ='chopadebhush@gmail.com' # Define Email address\n",
    "print(len(extract_username)) # check length of email\n",
    "print(extract_username.index('s')) # Print index of Email address\n",
    "# By using slicing fetch the user name string\n",
    "extract_username[0:11+1]"
   ]
  },
  {
   "cell_type": "markdown",
   "id": "14cc89f3-4e51-41d3-8ccd-2e28c7e6d705",
   "metadata": {},
   "source": [
    "`32. Extract the domain name from an email address string.`"
   ]
  },
  {
   "cell_type": "code",
   "execution_count": 39,
   "id": "b2b2f1de-3258-4a72-ad48-247b11a2ec15",
   "metadata": {},
   "outputs": [
    {
     "name": "stdout",
     "output_type": "stream",
     "text": [
      "13\n"
     ]
    },
    {
     "data": {
      "text/plain": [
       "'gmail'"
      ]
     },
     "execution_count": 39,
     "metadata": {},
     "output_type": "execute_result"
    }
   ],
   "source": [
    "check_domain ='chopadebhush@gmail.com'\n",
    "print(check_domain.index('g'))\n",
    "# By using indexing we can access the domain name\n",
    "check_domain[13:17+1]"
   ]
  },
  {
   "cell_type": "markdown",
   "id": "d5594a74-390e-49fc-b6ea-c7b3d4cbc2b4",
   "metadata": {},
   "source": [
    "`33. Replace multiple spaces in a string with a single space`"
   ]
  },
  {
   "cell_type": "code",
   "execution_count": 40,
   "id": "f9739426-f7d3-48b0-b503-cb4dcafd5265",
   "metadata": {},
   "outputs": [
    {
     "name": "stdout",
     "output_type": "stream",
     "text": [
      "original string :>>>> hello  my name   bhushan   from   pune\n"
     ]
    },
    {
     "data": {
      "text/plain": [
       "['hello', 'my', 'name', 'bhushan', 'from', 'pune']"
      ]
     },
     "execution_count": 40,
     "metadata": {},
     "output_type": "execute_result"
    }
   ],
   "source": [
    "multiple_spaces =\"hello  my name   bhushan   from   pune\"\n",
    "print(\"original string :>>>>\",multiple_spaces) # Print original string\n",
    "\n",
    "multi_space_list = multiple_spaces.split() # Split the string \n",
    "multi_space_list"
   ]
  },
  {
   "cell_type": "code",
   "execution_count": 41,
   "id": "1b8f422b-e445-4281-bf59-2ddd0bde1822",
   "metadata": {},
   "outputs": [
    {
     "name": "stdout",
     "output_type": "stream",
     "text": [
      "Whole string with single space :>>> hello my name bhushan from pune\n"
     ]
    }
   ],
   "source": [
    "join_single_space =' '.join(multi_space_list) # Join the splited string \n",
    "print(\"Whole string with single space :>>>\",join_single_space)"
   ]
  },
  {
   "cell_type": "markdown",
   "id": "fb81c91b-8de4-4da2-a592-88b30d124442",
   "metadata": {},
   "source": [
    "`34. Check if a string is a valid URL.`"
   ]
  },
  {
   "cell_type": "code",
   "execution_count": 42,
   "id": "46f17935-620b-4f92-9f5e-47a325b757ed",
   "metadata": {},
   "outputs": [
    {
     "name": "stdout",
     "output_type": "stream",
     "text": [
      "Requirement already satisfied: validators in /opt/conda/lib/python3.10/site-packages (0.21.2)\n"
     ]
    }
   ],
   "source": [
    "!pip install validators"
   ]
  },
  {
   "cell_type": "code",
   "execution_count": 43,
   "id": "674d09ba-3361-4f10-b06f-e0b5f56785f5",
   "metadata": {},
   "outputs": [
    {
     "name": "stdout",
     "output_type": "stream",
     "text": [
      "URL is valid\n"
     ]
    }
   ],
   "source": [
    "import validators #import validator modules\n",
    "\n",
    "validation = validators.url(\"https://red-carpenter-elnpu.pwskills.app/lab/tree/work\") \n",
    "if validation: \n",
    "    print(\"URL is valid\") \n",
    "else:\n",
    "    print(\"URL is invalid\")"
   ]
  },
  {
   "cell_type": "markdown",
   "id": "fbf13931-c289-4581-95cd-371aeb4ab077",
   "metadata": {},
   "source": [
    "`35. Extract the protocol (http or https) from a URL string`"
   ]
  },
  {
   "cell_type": "code",
   "execution_count": 44,
   "id": "6c0cf99f-946c-4170-b763-745dd811bfd3",
   "metadata": {},
   "outputs": [],
   "source": [
    "extract_protocol ='https://red-carpenter-elnpu.pwskills.app/lab/tree/work'"
   ]
  },
  {
   "cell_type": "markdown",
   "id": "4ec50a9b-4f0b-46d8-9485-367275332694",
   "metadata": {},
   "source": [
    "`36. Find the frequency of each character in a string.`"
   ]
  },
  {
   "cell_type": "code",
   "execution_count": 45,
   "id": "a8b8a4af-89e9-4328-9632-c51bfc25e1bf",
   "metadata": {},
   "outputs": [
    {
     "name": "stdout",
     "output_type": "stream",
     "text": [
      "s: 1\n",
      "t: 1\n",
      "r: 1\n",
      "i: 2\n",
      "n: 1\n",
      "g: 1\n",
      " : 2\n",
      "v: 1\n",
      "a: 1\n",
      "l: 1\n",
      "i: 2\n",
      "d: 1\n",
      " : 2\n",
      "U: 1\n",
      "R: 1\n",
      "L: 1\n"
     ]
    }
   ],
   "source": [
    "find_freq =\"string valid URL\" # string\n",
    "\n",
    "for i in find_freq:\n",
    "    frequency= find_freq.count(i) # Used count with for loop\n",
    "    print(str(i) + \": \" + str(frequency))"
   ]
  },
  {
   "cell_type": "markdown",
   "id": "be351b0e-18b8-4d0a-8a14-230038e9c383",
   "metadata": {},
   "source": [
    "`37. Remove all punctuation from a string.`"
   ]
  },
  {
   "cell_type": "code",
   "execution_count": 46,
   "id": "431aea2f-d195-4b78-a2f5-08acdae9388d",
   "metadata": {},
   "outputs": [
    {
     "name": "stdout",
     "output_type": "stream",
     "text": [
      "Hey, Bhushan ?, How are you?\n"
     ]
    }
   ],
   "source": [
    "import string\n",
    "Remove_punctuation = \"Hey, Bhushan ?, How are you?\"\n",
    "Remove_punctuation.translate(str.maketrans('','',string.punctuation))\n",
    "print(Remove_punctuation)"
   ]
  },
  {
   "cell_type": "code",
   "execution_count": 47,
   "id": "d29a9714-013b-4975-8dfe-a70a3bbc6fbe",
   "metadata": {},
   "outputs": [
    {
     "data": {
      "text/plain": [
       "'Hey, Bhushan , How are you'"
      ]
     },
     "execution_count": 47,
     "metadata": {},
     "output_type": "execute_result"
    }
   ],
   "source": [
    "R_Quemark =Remove_punctuation.replace(\"?\",\"\")\n",
    "R_Quemark"
   ]
  },
  {
   "cell_type": "code",
   "execution_count": 48,
   "id": "15c9e4bc-54e8-44e7-9b3e-9134cd0aa958",
   "metadata": {},
   "outputs": [
    {
     "data": {
      "text/plain": [
       "'Hey Bhushan  How are you'"
      ]
     },
     "execution_count": 48,
     "metadata": {},
     "output_type": "execute_result"
    }
   ],
   "source": [
    "R_Quemark.replace(',','')"
   ]
  },
  {
   "cell_type": "markdown",
   "id": "1471ce0f-ee33-4451-b39d-9f9226b63657",
   "metadata": {},
   "source": [
    "`38. Check if a string contains only digits`"
   ]
  },
  {
   "cell_type": "code",
   "execution_count": 49,
   "id": "d4105d3a-262e-4c3a-88a8-1d6938f2f0cc",
   "metadata": {},
   "outputs": [
    {
     "name": "stdin",
     "output_type": "stream",
     "text": [
      "Enter Digit string==>> 12345\n"
     ]
    },
    {
     "data": {
      "text/plain": [
       "True"
      ]
     },
     "execution_count": 49,
     "metadata": {},
     "output_type": "execute_result"
    }
   ],
   "source": [
    "check_digit_string =input(\"Enter Digit string==>>\")  # Take input from user\n",
    "# Signature: check_digit_string.isdigit()\n",
    "# Docstring:Return True if the string is a digit string, False otherwise.\n",
    "\n",
    "check_digit_string.isdigit() # By using isdigit we can check the string if its digit or not."
   ]
  },
  {
   "cell_type": "markdown",
   "id": "9d5289a3-e96d-4c5d-8d58-fc2d6dc5309a",
   "metadata": {},
   "source": [
    "`39. Check if a string contains only alphabets`"
   ]
  },
  {
   "cell_type": "code",
   "execution_count": 50,
   "id": "420e83d1-33a8-42db-b19f-619c24ce31de",
   "metadata": {},
   "outputs": [
    {
     "name": "stdin",
     "output_type": "stream",
     "text": [
      "Enter alpha character==>> abcdfe\n"
     ]
    },
    {
     "data": {
      "text/plain": [
       "True"
      ]
     },
     "execution_count": 50,
     "metadata": {},
     "output_type": "execute_result"
    }
   ],
   "source": [
    "check_string_alpha =input(\"Enter alpha character==>>\")\n",
    "# Signature: check_string_alpha.isalpha()\n",
    "# Docstring:Return True if the string is an alphabetic string, False otherwise.\n",
    "\n",
    "check_string_alpha.isalpha()"
   ]
  },
  {
   "cell_type": "markdown",
   "id": "866ae0ab-06f8-412e-b18d-9210c5570e23",
   "metadata": {},
   "source": [
    "`40. Convert a string to a list of characters.`"
   ]
  },
  {
   "cell_type": "code",
   "execution_count": 51,
   "id": "40a2ce02-5bdd-4ba3-ac0d-676d707eaff6",
   "metadata": {},
   "outputs": [
    {
     "name": "stdin",
     "output_type": "stream",
     "text": [
      "Enter the string==>> My Name is bhushan\n"
     ]
    },
    {
     "name": "stdout",
     "output_type": "stream",
     "text": [
      "['M', 'y', ' ', 'N', 'a', 'm', 'e', ' ', 'i', 's', ' ', 'b', 'h', 'u', 's', 'h', 'a', 'n']\n",
      "<class 'list'>\n"
     ]
    }
   ],
   "source": [
    "convert_into_list =input(\"Enter the string==>>\")# taken input from user\n",
    "converted_into_list =list(convert_into_list) # Conv into list\n",
    "print(converted_into_list) # Print list overhere\n",
    "print(type(converted_into_list)) # Check type"
   ]
  },
  {
   "cell_type": "markdown",
   "id": "06232aac-d7af-4c02-a268-5cb0c5a05196",
   "metadata": {},
   "source": [
    "`41. Check if two strings are anagrams.`"
   ]
  },
  {
   "cell_type": "code",
   "execution_count": 1,
   "id": "9280f288-95ef-4513-8556-d6b99c238ba6",
   "metadata": {},
   "outputs": [
    {
     "name": "stdout",
     "output_type": "stream",
     "text": [
      "'listen' and 'silent' are anagrams: True\n",
      "'hello' and 'world' are anagrams: False\n"
     ]
    }
   ],
   "source": [
    "def are_anagrams(str1, str2):\n",
    "    # Remove spaces and convert strings to lowercase for accurate comparison\n",
    "    str1 = str1.replace(\" \", \"\").lower()\n",
    "    str2 = str2.replace(\" \", \"\").lower()\n",
    "\n",
    "    # Sort the characters in both strings and compare\n",
    "    return sorted(str1) == sorted(str2)\n",
    "\n",
    "# Example strings\n",
    "string1 = \"listen\"\n",
    "string2 = \"silent\"\n",
    "string3 = \"hello\"\n",
    "string4 = \"world\"\n",
    "\n",
    "# Check if strings are anagrams\n",
    "result1 = are_anagrams(string1, string2)\n",
    "result2 = are_anagrams(string3, string4)\n",
    "\n",
    "# Print the results\n",
    "print(f\"'{string1}' and '{string2}' are anagrams:\", result1)\n",
    "print(f\"'{string3}' and '{string4}' are anagrams:\", result2)"
   ]
  },
  {
   "cell_type": "markdown",
   "id": "10dbdf48-c782-4edd-9cff-c154648c1d6f",
   "metadata": {},
   "source": [
    "`42. Encode a string using a Caesar cipher.`"
   ]
  },
  {
   "cell_type": "code",
   "execution_count": 2,
   "id": "e9a2cdce-e9bb-4779-a376-20ade2bb0adb",
   "metadata": {},
   "outputs": [
    {
     "name": "stdout",
     "output_type": "stream",
     "text": [
      "Encoded text: ehoor, zruog!\n"
     ]
    }
   ],
   "source": [
    "# Define a function named caesar_cipher that encodes a string using a Caesar cipher.\n",
    "def caesar_cipher(text, shift):\n",
    "  \"\"\"\n",
    "  Encodes a string using a Caesar cipher.\n",
    "\n",
    "  Args:\n",
    "    text: The string to encode.\n",
    "    shift: The number of positions to shift each letter.\n",
    "\n",
    "  Returns:\n",
    "    The encoded string.\n",
    "  \"\"\"\n",
    "\n",
    "  # Initialize an empty string to store the encoded text.\n",
    "  encoded_text = \"\"\n",
    "\n",
    "  # Iterate through each character in the input text.\n",
    "  for char in text:\n",
    "    # Check if the character is alphabetic.\n",
    "    if char.isalpha():\n",
    "      # Calculate the encoded character's Unicode code point value by shifting it by the specified amount.\n",
    "      # Ensure the value wraps around within the lowercase alphabet range (a-z).\n",
    "      encoded_char = chr((ord(char) + shift - ord('a')) % 26 + ord('a'))\n",
    "    else:\n",
    "      # Keep non-alphabetic characters unchanged.\n",
    "      encoded_char = char\n",
    "\n",
    "    # Add the encoded character to the encoded text.\n",
    "    encoded_text += encoded_char\n",
    "\n",
    "  # Return the resulting encoded text.\n",
    "  return encoded_text\n",
    "\n",
    "# Define the input text and the shift value for encoding.\n",
    "text = \"Hello, world!\"\n",
    "shift = 3\n",
    "\n",
    "# Call the caesar_cipher function to encode the text using the specified shift.\n",
    "encoded_text = caesar_cipher(text, shift)\n",
    "\n",
    "# Print the encoded text.\n",
    "print(\"Encoded text:\", encoded_text)"
   ]
  },
  {
   "cell_type": "markdown",
   "id": "f7081e73-876d-4c78-8037-acbfb9edfc70",
   "metadata": {},
   "source": [
    "`43. Decode a Caesar cipher encoded string`"
   ]
  },
  {
   "cell_type": "code",
   "execution_count": 3,
   "id": "e17ac1fc-5700-4ed7-8300-faa5ca3f2c72",
   "metadata": {},
   "outputs": [
    {
     "name": "stdout",
     "output_type": "stream",
     "text": [
      "Decoded text: ilmm, world!\n"
     ]
    }
   ],
   "source": [
    "# Define a function to decode a string using a Caesar cipher\n",
    "def caesar_cipher_decoder(text, shift):\n",
    "    \"\"\"\n",
    "    Decodes a string using a Caesar cipher.\n",
    "\n",
    "    Args:\n",
    "        text: The string to decode.\n",
    "        shift: The number of positions to shift each letter.\n",
    "\n",
    "    Returns:\n",
    "        The decoded string.\n",
    "    \"\"\"\n",
    "\n",
    "    # Initialize an empty string to store the decoded text\n",
    "    decoded_text = \"\"\n",
    "\n",
    "    # Loop through each character in the input text\n",
    "    for char in text:\n",
    "        # Check if the character is an alphabetic character\n",
    "        if char.isalpha():\n",
    "            # Calculate the decoded character using the shift value\n",
    "            decoded_char = chr((ord(char) - shift - ord('a')) % 26 + ord('a'))\n",
    "        else:\n",
    "            # If the character is not alphabetic, keep it unchanged\n",
    "            decoded_char = char\n",
    "\n",
    "        # Add the decoded character to the decoded text\n",
    "        decoded_text += decoded_char\n",
    "\n",
    "    # Return the fully decoded text\n",
    "    return decoded_text\n",
    "\n",
    "# Example input\n",
    "text = \"lopp, zruog!\"\n",
    "shift = 3\n",
    "\n",
    "# Call the caesar_cipher_decoder function to decode the input text\n",
    "decoded_text = caesar_cipher_decoder(text, shift)\n",
    "\n",
    "# Print the decoded text\n",
    "print(\"Decoded text:\", decoded_text)"
   ]
  },
  {
   "cell_type": "markdown",
   "id": "fc5d3d91-eab9-46dd-8faf-ad450ef8cace",
   "metadata": {},
   "source": [
    "`44. Find the most frequent word in a string.`"
   ]
  },
  {
   "cell_type": "code",
   "execution_count": 53,
   "id": "fc3588f4-227d-42fa-bd12-ab5323c6334f",
   "metadata": {},
   "outputs": [
    {
     "name": "stdout",
     "output_type": "stream",
     "text": [
      "The most frequent letter is : n\n"
     ]
    }
   ],
   "source": [
    "from collections import Counter # Import counter\n",
    "most_frequent_word ='Findthemostfrequentwordinastring' # string\n",
    "final=Counter(most_frequent_word) # used counter\n",
    "final1 =max(final,key=final.get) # get result\n",
    "\n",
    "print(\"The most frequent letter is :\", final1)"
   ]
  },
  {
   "cell_type": "markdown",
   "id": "f9303d5b-6281-452b-a50d-2acad2a48398",
   "metadata": {},
   "source": [
    "`45. Find all unique words in a string.`"
   ]
  },
  {
   "cell_type": "code",
   "execution_count": 54,
   "id": "496bb027-d293-43d9-85f7-e60a0a09c990",
   "metadata": {},
   "outputs": [
    {
     "name": "stdout",
     "output_type": "stream",
     "text": [
      "Unique words in the sentence is : {'G', 'r', 'g', 'e', 'o', 'i', 'a', ' ', 's', 'P', 'h', '.', 'l', 'n', 't', 'y'}\n"
     ]
    }
   ],
   "source": [
    "unique_word =\"Python is great. Grails is also great\"\n",
    "unique_word.split()\n",
    "unique_word1 =set(unique_word)\n",
    "\n",
    "print(\"Unique words in the sentence is :\",unique_word1)"
   ]
  },
  {
   "cell_type": "markdown",
   "id": "d2d50266-7344-4e72-831c-139b245a8165",
   "metadata": {},
   "source": [
    "`46. Count the number of syllables in a string`"
   ]
  },
  {
   "cell_type": "code",
   "execution_count": 4,
   "id": "bba95619-5a05-4960-9492-7176a3f225e2",
   "metadata": {},
   "outputs": [
    {
     "name": "stdout",
     "output_type": "stream",
     "text": [
      "'hello' has 2 syllables.\n",
      "'banana' has 3 syllables.\n",
      "'syllable' has 3 syllables.\n"
     ]
    }
   ],
   "source": [
    "import re\n",
    "\n",
    "def count_syllables(word):\n",
    "    # Count vowel groups using regular expression\n",
    "    vowel_groups = re.findall(r'[aeiouy]+', word, re.IGNORECASE)\n",
    "\n",
    "    return len(vowel_groups)\n",
    "\n",
    "# Example words\n",
    "word1 = \"hello\"\n",
    "word2 = \"banana\"\n",
    "word3 = \"syllable\"\n",
    "\n",
    "# Count syllables\n",
    "syllables1 = count_syllables(word1)\n",
    "syllables2 = count_syllables(word2)\n",
    "syllables3 = count_syllables(word3)\n",
    "\n",
    "# Print the results\n",
    "print(f\"'{word1}' has {syllables1} syllables.\")\n",
    "print(f\"'{word2}' has {syllables2} syllables.\")\n",
    "print(f\"'{word3}' has {syllables3} syllables.\")"
   ]
  },
  {
   "cell_type": "markdown",
   "id": "5e712231-2646-49b8-8302-7f50ead333c6",
   "metadata": {},
   "source": [
    "`47. Check if a string contains any special characters`"
   ]
  },
  {
   "cell_type": "code",
   "execution_count": 5,
   "id": "ed27833b-c89e-496c-b411-9eb761962045",
   "metadata": {},
   "outputs": [
    {
     "name": "stdout",
     "output_type": "stream",
     "text": [
      "'Hello, world!' contains special characters: True\n",
      "'This is a test.' contains special characters: True\n",
      "'Special@Characters' contains special characters: True\n"
     ]
    }
   ],
   "source": [
    "import re\n",
    "\n",
    "def contains_special_characters(input_string):\n",
    "    # Define a regular expression pattern to match special characters\n",
    "    pattern = re.compile(r'[!@#$%^&*()_+{}\\[\\]:;<>,.?~\\\\/]')\n",
    "\n",
    "    # Use the search() method to find a match\n",
    "    match = pattern.search(input_string)\n",
    "\n",
    "    # Return True if a match is found, False otherwise\n",
    "    return bool(match)\n",
    "\n",
    "# Example strings\n",
    "string1 = \"Hello, world!\"\n",
    "string2 = \"This is a test.\"\n",
    "string3 = \"Special@Characters\"\n",
    "\n",
    "# Check if strings contain special characters\n",
    "result1 = contains_special_characters(string1)\n",
    "result2 = contains_special_characters(string2)\n",
    "result3 = contains_special_characters(string3)\n",
    "\n",
    "# Print the results\n",
    "print(f\"'{string1}' contains special characters:\", result1)\n",
    "print(f\"'{string2}' contains special characters:\", result2)\n",
    "print(f\"'{string3}' contains special characters:\", result3)"
   ]
  },
  {
   "cell_type": "markdown",
   "id": "3a5a576b-c349-4420-b3b0-8bfc89f78262",
   "metadata": {},
   "source": [
    "`48. Remove the nth word from a string.`"
   ]
  },
  {
   "cell_type": "code",
   "execution_count": 55,
   "id": "84300d86-0e57-4e71-a5c5-a93e4c7d27e8",
   "metadata": {},
   "outputs": [
    {
     "name": "stdout",
     "output_type": "stream",
     "text": [
      "Remove the  word from a string\n"
     ]
    }
   ],
   "source": [
    "nth_word ='Remove the nth word from a string'\n",
    "print(nth_word.replace('nth',''))"
   ]
  },
  {
   "cell_type": "markdown",
   "id": "50eb0f2e-c397-4936-a334-2b9c031bace7",
   "metadata": {},
   "source": [
    "`49. Insert a word at the nth position in a string.`"
   ]
  },
  {
   "cell_type": "code",
   "execution_count": 56,
   "id": "af3c1f3e-3e6d-4887-892d-c4d7a949478a",
   "metadata": {},
   "outputs": [
    {
     "name": "stdout",
     "output_type": "stream",
     "text": [
      "Inserted string ==> Its is Basic python lector\n"
     ]
    }
   ],
   "source": [
    "insert_word_instring =\"Its is python lector\" # First String\n",
    "\n",
    "added_string =insert_word_instring[:7] + 'Basic'+ \" \" + insert_word_instring[7:]\n",
    "print(\"Inserted string ==>\",added_string)"
   ]
  },
  {
   "cell_type": "markdown",
   "id": "0e9b0988-bdef-499d-a154-5d38821b3a56",
   "metadata": {},
   "source": [
    "`50. Convert a CSV string to a list of lists.`"
   ]
  },
  {
   "cell_type": "markdown",
   "id": "7512ed20-6dd3-4415-a7a5-b87b899d76ff",
   "metadata": {},
   "source": [
    "`----- String Assignments End ------`"
   ]
  }
 ],
 "metadata": {
  "kernelspec": {
   "display_name": "Python 3 (ipykernel)",
   "language": "python",
   "name": "python3"
  },
  "language_info": {
   "codemirror_mode": {
    "name": "ipython",
    "version": 3
   },
   "file_extension": ".py",
   "mimetype": "text/x-python",
   "name": "python",
   "nbconvert_exporter": "python",
   "pygments_lexer": "ipython3",
   "version": "3.10.8"
  }
 },
 "nbformat": 4,
 "nbformat_minor": 5
}
