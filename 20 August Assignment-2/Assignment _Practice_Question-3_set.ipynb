{
 "cells": [
  {
   "cell_type": "markdown",
   "id": "331298d1-284d-4e27-99b9-2aa7b0e48070",
   "metadata": {},
   "source": [
    "## `Set Based Practice Questions`"
   ]
  },
  {
   "cell_type": "markdown",
   "id": "defd9851-7a7f-4645-9dd0-b138377b696f",
   "metadata": {},
   "source": [
    "## `TOPIC: Set Based Assignment Problem`"
   ]
  },
  {
   "cell_type": "markdown",
   "id": "d63b1860-383e-4692-9202-4f586557e74d",
   "metadata": {},
   "source": [
    "`1. Create a set with integers from 1 to 5.`"
   ]
  },
  {
   "cell_type": "code",
   "execution_count": 15,
   "id": "3833cd38-3d03-4b84-b483-3beacaab5a9e",
   "metadata": {},
   "outputs": [
    {
     "name": "stdout",
     "output_type": "stream",
     "text": [
      "Set is : {1, 2, 3, 4, 5}\n"
     ]
    }
   ],
   "source": [
    "set_0 ={1,2,3,4,5}\n",
    "print(\"Set is : {}\".format(set_0))"
   ]
  },
  {
   "cell_type": "markdown",
   "id": "92c3e6ff-cfb7-4b64-9be3-236a341273b6",
   "metadata": {},
   "source": [
    "`2. Add an element to a set.`"
   ]
  },
  {
   "cell_type": "code",
   "execution_count": 16,
   "id": "fe2c4cc8-f918-4a2a-b404-7b27e23b0967",
   "metadata": {},
   "outputs": [
    {
     "name": "stdout",
     "output_type": "stream",
     "text": [
      "Added Element in set: {1, 2, 3, 4, 5, 6}\n"
     ]
    }
   ],
   "source": [
    "set_0.add(6)\n",
    "print(\"Added Element in set:\",set_0)"
   ]
  },
  {
   "cell_type": "markdown",
   "id": "e2b8f761-9997-4e9f-b785-b524fa41bac6",
   "metadata": {},
   "source": [
    "`3. Remove an element from a set.`"
   ]
  },
  {
   "cell_type": "code",
   "execution_count": 17,
   "id": "c8d10f94-ebe9-4960-9554-b7d8b4460f1c",
   "metadata": {},
   "outputs": [
    {
     "name": "stdout",
     "output_type": "stream",
     "text": [
      "Remove element from set : {1, 2, 3, 4, 5}\n"
     ]
    }
   ],
   "source": [
    "set_0.remove(6)\n",
    "print(\"Remove element from set :\",set_0)"
   ]
  },
  {
   "cell_type": "markdown",
   "id": "ab8dc5a1-eae0-44ad-9c3e-00aa1cb59e52",
   "metadata": {},
   "source": [
    "`4. Check if an element exists in a set.`"
   ]
  },
  {
   "cell_type": "code",
   "execution_count": 20,
   "id": "969c42ad-611a-4823-8b0e-98c5d4bdbe8c",
   "metadata": {},
   "outputs": [
    {
     "name": "stdout",
     "output_type": "stream",
     "text": [
      "True\n"
     ]
    }
   ],
   "source": [
    "if 2 in set_0:\n",
    "    print(\"True\")\n",
    "else:\n",
    "    print(\"False\")"
   ]
  },
  {
   "cell_type": "markdown",
   "id": "77cbc5a7-2c37-410f-8ea4-cfde98a3c619",
   "metadata": {},
   "source": [
    "`5. Find the length of a set without using the `len()` function.`"
   ]
  },
  {
   "cell_type": "code",
   "execution_count": 21,
   "id": "41ff2e7c-7acb-40d3-b08f-655b96eb60c8",
   "metadata": {},
   "outputs": [
    {
     "name": "stdout",
     "output_type": "stream",
     "text": [
      "loop execute successful..\n",
      "length of set is : 9\n"
     ]
    }
   ],
   "source": [
    "Set_1={1,2,3,4,5,6,7,8,9}\n",
    "count_set =0\n",
    "for i in Set_1:\n",
    "    count_set =count_set+1\n",
    "else:\n",
    "    print(\"loop execute successful..\")\n",
    "    print(\"length of set is :\",count_set)"
   ]
  },
  {
   "cell_type": "markdown",
   "id": "5cf125e5-f524-4e89-adb5-ad27f3cff7da",
   "metadata": {},
   "source": [
    "`6. Clear all elements from a set.`"
   ]
  },
  {
   "cell_type": "code",
   "execution_count": 26,
   "id": "084c14c4-1c72-434f-b8de-2dd04e773bbe",
   "metadata": {},
   "outputs": [
    {
     "name": "stdout",
     "output_type": "stream",
     "text": [
      "clear the set : None\n"
     ]
    },
    {
     "data": {
      "text/plain": [
       "set()"
      ]
     },
     "execution_count": 26,
     "metadata": {},
     "output_type": "execute_result"
    }
   ],
   "source": [
    "clear_set =Set_1.clear()\n",
    "print(\"clear the set :\",clear_set)\n",
    "Set_1"
   ]
  },
  {
   "cell_type": "markdown",
   "id": "054aa4ad-1341-44bd-833e-c80706bb8ad8",
   "metadata": {},
   "source": [
    "`7. Create a set of even numbers from 1 to 10.`"
   ]
  },
  {
   "cell_type": "code",
   "execution_count": 29,
   "id": "d2ea8423-0388-4792-869a-105435bf988c",
   "metadata": {},
   "outputs": [
    {
     "name": "stdout",
     "output_type": "stream",
     "text": [
      "For loop execute sucessful\n",
      "Even numbres : {2, 4, 6, 8, 10}\n"
     ]
    }
   ],
   "source": [
    "set_2 =set()\n",
    "for i in range(1,10+1):\n",
    "    if i %2 ==0:\n",
    "        set_2.add(i)\n",
    "else:\n",
    "    print('For loop execute sucessful')\n",
    "    print(\"Even numbres :\",set_2)"
   ]
  },
  {
   "cell_type": "markdown",
   "id": "56f1df44-9b33-437b-989e-8ac2a50fcc9a",
   "metadata": {},
   "source": [
    "`8. Create a set of odd numbers from 1 to 10.`"
   ]
  },
  {
   "cell_type": "code",
   "execution_count": 30,
   "id": "64f7b956-83d5-403f-ab8c-9cf82229e2cc",
   "metadata": {},
   "outputs": [
    {
     "name": "stdout",
     "output_type": "stream",
     "text": [
      "For loop execute sucessful\n",
      "Even numbres : {1, 3, 5, 7, 9}\n"
     ]
    }
   ],
   "source": [
    "set_3 =set()\n",
    "for i in range(1,10+1):\n",
    "    if i %2 !=0:\n",
    "        set_3.add(i)\n",
    "else:\n",
    "    print('For loop execute sucessful')\n",
    "    print(\"Even numbres :\",set_3)"
   ]
  },
  {
   "cell_type": "markdown",
   "id": "872cc3c1-4ad4-40c4-bab1-7b5a06a4338e",
   "metadata": {},
   "source": [
    "`9. Find the union of two sets.`"
   ]
  },
  {
   "cell_type": "code",
   "execution_count": 34,
   "id": "f1a22103-37ff-47a0-88d6-e0f853a681a2",
   "metadata": {},
   "outputs": [],
   "source": [
    "set_3 = {1, 2, 3, 4, 5}\n",
    "set_4 = {10, 9, 6, 7, 8}\n",
    "union_of_two_set =set_3.union(set_4)"
   ]
  },
  {
   "cell_type": "code",
   "execution_count": 35,
   "id": "ea0be3a5-9a6a-4d12-b658-300b5d8aed53",
   "metadata": {},
   "outputs": [
    {
     "name": "stdout",
     "output_type": "stream",
     "text": [
      "Union of two set : {1, 2, 3, 4, 5, 6, 7, 8, 9, 10}\n"
     ]
    }
   ],
   "source": [
    "print(\"Union of two set :\",union_of_two_set)"
   ]
  },
  {
   "cell_type": "markdown",
   "id": "ea34c25f-8bd9-4b37-897a-99bc3c43ed69",
   "metadata": {},
   "source": [
    "`10. Find the intersection of two sets.`"
   ]
  },
  {
   "cell_type": "code",
   "execution_count": 38,
   "id": "3f18464e-d91f-4390-a0b3-9513db97ea8b",
   "metadata": {},
   "outputs": [],
   "source": [
    "set_3 = {1, 2, 3, 4, 5}\n",
    "set_4 = {4, 5, 6, 7, 8}\n",
    "intersection_of_two_set =set_3.intersection(set_4)"
   ]
  },
  {
   "cell_type": "code",
   "execution_count": 39,
   "id": "2c982d6c-931f-46df-ae90-34ebbc641e48",
   "metadata": {},
   "outputs": [
    {
     "name": "stdout",
     "output_type": "stream",
     "text": [
      "Intersection of two set : {4, 5}\n"
     ]
    }
   ],
   "source": [
    "print(\"Intersection of two set :\",intersection_of_two_set)"
   ]
  },
  {
   "cell_type": "markdown",
   "id": "d7e1f8b7-e238-42c9-a36a-01680febc342",
   "metadata": {},
   "source": [
    "`11. Find the difference between two sets`"
   ]
  },
  {
   "cell_type": "code",
   "execution_count": 40,
   "id": "286cdfef-959d-4ad7-b00b-08fa54d56049",
   "metadata": {},
   "outputs": [],
   "source": [
    "set_3 = {1, 2, 3, 4, 5}\n",
    "set_4 = {4, 5, 6, 7, 8}\n",
    "difference_between_two_set =set_3.difference(set_4)"
   ]
  },
  {
   "cell_type": "code",
   "execution_count": 41,
   "id": "d3dc2052-52c7-41e3-928d-75672513ed81",
   "metadata": {},
   "outputs": [
    {
     "name": "stdout",
     "output_type": "stream",
     "text": [
      "Differance between two set : {1, 2, 3}\n"
     ]
    }
   ],
   "source": [
    "print(\"Differance between two set :\",difference_between_two_set)"
   ]
  },
  {
   "cell_type": "markdown",
   "id": "b855814c-877d-4f7e-953c-7d5b28de15bb",
   "metadata": {},
   "source": [
    "`12. Check if a set is a subset of another set.`"
   ]
  },
  {
   "cell_type": "code",
   "execution_count": 44,
   "id": "136e75f0-1d28-4bbe-964e-930667b4fc18",
   "metadata": {},
   "outputs": [],
   "source": [
    "set_5 = {1, 2, 3}\n",
    "set_6 = {1, 2, 3, 4, 5}\n",
    "\n",
    "subset =set_5.issubset(set_6)"
   ]
  },
  {
   "cell_type": "code",
   "execution_count": 45,
   "id": "c4f2fdbb-dc65-483a-8ff4-7974e8d86a34",
   "metadata": {},
   "outputs": [
    {
     "name": "stdout",
     "output_type": "stream",
     "text": [
      "Check the subset of another set : True\n"
     ]
    }
   ],
   "source": [
    "print(\"Check the subset of another set :\",subset)"
   ]
  },
  {
   "cell_type": "markdown",
   "id": "8898355e-f22b-472c-a239-cdb9a6ba82bb",
   "metadata": {},
   "source": [
    "`13. Check if a set is a superset of another set.`"
   ]
  },
  {
   "cell_type": "code",
   "execution_count": 48,
   "id": "f5957821-f16f-4769-a3ae-d8acce977fc7",
   "metadata": {},
   "outputs": [
    {
     "name": "stdout",
     "output_type": "stream",
     "text": [
      "Set_7 is superset of set_8\n"
     ]
    }
   ],
   "source": [
    "set_7 = {1, 2, 3, 4, 5, 6}\n",
    "set_8 = {3, 4}\n",
    "\n",
    "superset =set_7.issuperset(set_8)\n",
    "\n",
    "if superset:\n",
    "    print(\"Set_7 is superset of set_8\")\n",
    "else:\n",
    "    print(\"Set_7 is not superset of set_8\")"
   ]
  },
  {
   "cell_type": "markdown",
   "id": "72a7e6c6-cc11-4d2c-b7fc-a06cbc1a3d81",
   "metadata": {},
   "source": [
    "`14. Create a set from a list.`"
   ]
  },
  {
   "cell_type": "code",
   "execution_count": 50,
   "id": "b1758ff7-d350-421e-8644-a0bf2238c775",
   "metadata": {},
   "outputs": [
    {
     "name": "stdout",
     "output_type": "stream",
     "text": [
      "list from set is : {1, 2, 3, 4, 5}\n"
     ]
    }
   ],
   "source": [
    "my_list = [2, 4, 1, 4, 3, 2, 5]\n",
    "convert_set =set(my_list)\n",
    "print(\"list from set is :\",convert_set)"
   ]
  },
  {
   "cell_type": "markdown",
   "id": "5bacb1b3-d6d2-4f9f-abcc-9ce56d2d3254",
   "metadata": {},
   "source": [
    "`15. Convert a set to a list.`"
   ]
  },
  {
   "cell_type": "code",
   "execution_count": 52,
   "id": "7c8b3ea8-9bdf-43e2-9559-da0d67456c8d",
   "metadata": {},
   "outputs": [
    {
     "name": "stdout",
     "output_type": "stream",
     "text": [
      "list from set is : [1, 2, 3, 4, 5]\n"
     ]
    }
   ],
   "source": [
    "my_set = {2, 4, 1, 4, 3, 2, 5}\n",
    "convert_list =list(my_set)\n",
    "print(\"list from set is :\",convert_list)"
   ]
  },
  {
   "cell_type": "markdown",
   "id": "c31fb8d0-e598-47dc-92b7-233e4fa652da",
   "metadata": {},
   "source": [
    "`16. Remove a random element from a set.`"
   ]
  },
  {
   "cell_type": "code",
   "execution_count": 60,
   "id": "516bcc4d-7e03-47fe-8ed9-17c111926878",
   "metadata": {},
   "outputs": [
    {
     "name": "stdout",
     "output_type": "stream",
     "text": [
      "Original set: {1, 2, 3, 4, 5}\n",
      "Updated set after removing 4 : {1, 2, 3, 5}\n"
     ]
    }
   ],
   "source": [
    "import random\n",
    "my_set = {1, 2, 3, 4, 5}\n",
    "print(\"Original set:\", my_set)\n",
    "\n",
    "random_element = random.choice(list(my_set))\n",
    "my_set.remove(random_element)\n",
    "print(\"Updated set after removing\", random_element, \":\", my_set)"
   ]
  },
  {
   "cell_type": "markdown",
   "id": "ca631e00-7036-4ef2-bb89-2966499aabf5",
   "metadata": {},
   "source": [
    "```17. Pop an element from a set.```"
   ]
  },
  {
   "cell_type": "code",
   "execution_count": 72,
   "id": "f2a735fe-4f80-4690-a31b-dcbe8e3b04b6",
   "metadata": {},
   "outputs": [
    {
     "name": "stdout",
     "output_type": "stream",
     "text": [
      "Remove first element from set : {2, 3, 4, 5}\n"
     ]
    }
   ],
   "source": [
    "Original_set ={1, 2, 3, 4, 5}\n",
    "Original_set.pop()\n",
    "print(\"Remove first element from set :\",Original_set)"
   ]
  },
  {
   "cell_type": "markdown",
   "id": "8b925286-28ac-4ffc-b7bc-af79f59c43c5",
   "metadata": {},
   "source": [
    "`18. Check if two sets have no elements in common.`"
   ]
  },
  {
   "cell_type": "code",
   "execution_count": 80,
   "id": "d34a1502-ea6a-4303-a2a7-ede093c33897",
   "metadata": {},
   "outputs": [],
   "source": [
    "set_9 = {1, 2, 3, 4}\n",
    "set_10= {5, 6, 7, 8}\n",
    "Common_element_check=set_9.intersection(set_10)"
   ]
  },
  {
   "cell_type": "code",
   "execution_count": 81,
   "id": "c0b87d7f-5824-4aa0-bed7-f30be2b11a64",
   "metadata": {},
   "outputs": [
    {
     "name": "stdout",
     "output_type": "stream",
     "text": [
      "Elements are not common in set\n"
     ]
    }
   ],
   "source": [
    "if Common_element_check:\n",
    "    print(\"Elements are common in set\")\n",
    "else:\n",
    "    print(\"Elements are not common in set\")"
   ]
  },
  {
   "cell_type": "markdown",
   "id": "edea6451-6ec1-46a6-8d51-309eda8df61c",
   "metadata": {},
   "source": [
    "`19. Find the symmetric difference between two sets.`"
   ]
  },
  {
   "cell_type": "code",
   "execution_count": 82,
   "id": "c1fb8f1f-c6e9-4b0f-9b16-11383eec3127",
   "metadata": {},
   "outputs": [],
   "source": [
    "# Define two sets\n",
    "set_11 = {1, 2, 3, 4, 5}\n",
    "set_12 = {4, 5, 6, 7, 8}\n",
    "# Find symmetric differance \n",
    "Symmetric_diff =set_11 ^ set_12"
   ]
  },
  {
   "cell_type": "code",
   "execution_count": 84,
   "id": "887796c1-622c-4285-ae5a-20ed9fec3e07",
   "metadata": {},
   "outputs": [
    {
     "name": "stdout",
     "output_type": "stream",
     "text": [
      "Symmetric differance between set : {1, 2, 3, 6, 7, 8}\n"
     ]
    }
   ],
   "source": [
    "print(\"Symmetric differance between set :\",Symmetric_diff)"
   ]
  },
  {
   "cell_type": "markdown",
   "id": "104aa651-9dd6-4eee-8613-0731e073ace1",
   "metadata": {},
   "source": [
    "`20. Update a set with elements from another set.`"
   ]
  },
  {
   "cell_type": "code",
   "execution_count": 89,
   "id": "6cfd027f-0dd0-4107-adcf-1de9126a13b1",
   "metadata": {},
   "outputs": [
    {
     "name": "stdout",
     "output_type": "stream",
     "text": [
      "Update set with another set : {1, 2, 3, 4, 5, 6}\n"
     ]
    }
   ],
   "source": [
    "# Define Set -1\n",
    "set_13 ={1,2,3,4}\n",
    "# Define set -2\n",
    "set_14 ={3,4,5,6}\n",
    "# Update Set \n",
    "set_13.update(set_14)\n",
    "print(\"Update set with another set :\",set_13)"
   ]
  },
  {
   "cell_type": "markdown",
   "id": "b267e94a-45ba-4d60-95d9-be843d0beb57",
   "metadata": {},
   "source": [
    "`21. Create a set of the first 5 prime numbers.`"
   ]
  },
  {
   "cell_type": "code",
   "execution_count": 90,
   "id": "31c88606-8f67-429d-a877-4ef7339af308",
   "metadata": {},
   "outputs": [
    {
     "name": "stdout",
     "output_type": "stream",
     "text": [
      "Set of the first 5 prime numbers: {2, 3, 5, 7, 11}\n"
     ]
    }
   ],
   "source": [
    "# Function to check if a number is prime\n",
    "def is_prime(num):\n",
    "    if num <= 1:\n",
    "        return False\n",
    "    for i in range(2, int(num ** 0.5) + 1):\n",
    "        if num % i == 0:\n",
    "            return False\n",
    "    return True\n",
    "\n",
    "prime_set = set()\n",
    "\n",
    "num = 2\n",
    "while len(prime_set) < 5:\n",
    "    if is_prime(num):\n",
    "        prime_set.add(num)\n",
    "    num += 1\n",
    "\n",
    "# Print the set of prime numbers\n",
    "print(\"Set of the first 5 prime numbers:\", prime_set)"
   ]
  },
  {
   "cell_type": "markdown",
   "id": "bbcfea16-8ab3-4c49-a798-983ca698837a",
   "metadata": {},
   "source": [
    "`22. Check if two sets are identical.`"
   ]
  },
  {
   "cell_type": "code",
   "execution_count": 93,
   "id": "7089ea6d-98df-4a18-9f44-4260438911b2",
   "metadata": {},
   "outputs": [
    {
     "name": "stdout",
     "output_type": "stream",
     "text": [
      "Sets are not identical...\n"
     ]
    }
   ],
   "source": [
    "set_15 ={1,2,3,4}\n",
    "set_16 ={0,2,3,4}\n",
    "\n",
    "if set_15 ==set_16:\n",
    "    print(\"Sets are identical...\")\n",
    "else:\n",
    "    print(\"Sets are not identical...\")"
   ]
  },
  {
   "cell_type": "markdown",
   "id": "3f7eac0a-5e3c-480e-9051-b452ffe096ca",
   "metadata": {},
   "source": [
    "`````23. Create a frozen set.`````"
   ]
  },
  {
   "cell_type": "code",
   "execution_count": 94,
   "id": "d29a2f6e-d444-4244-b97e-df28d0e03b89",
   "metadata": {},
   "outputs": [
    {
     "name": "stdout",
     "output_type": "stream",
     "text": [
      "Created frozen set is: frozenset({1, 2, 3, 4, 5, 6, 7})\n"
     ]
    }
   ],
   "source": [
    "set_17=[1,2,3,4,5,6,7]\n",
    "create_frozenset =frozenset(set_17)\n",
    "print(\"Created frozen set is:\",create_frozenset)"
   ]
  },
  {
   "cell_type": "markdown",
   "id": "0adf812a-ea09-4258-8615-a9cc1fbefd29",
   "metadata": {},
   "source": [
    "`24. Check if a set is disjoint with another set.`"
   ]
  },
  {
   "cell_type": "code",
   "execution_count": 95,
   "id": "3b3fb4c1-4d7f-4bd8-8879-1d60054af3d6",
   "metadata": {},
   "outputs": [
    {
     "data": {
      "text/plain": [
       "True"
      ]
     },
     "execution_count": 95,
     "metadata": {},
     "output_type": "execute_result"
    }
   ],
   "source": [
    "set_18 = {1, 2, 3, 4}\n",
    "set_19 = {5, 6, 7, 8}\n",
    "\n",
    "set_18.isdisjoint(set_19)"
   ]
  },
  {
   "cell_type": "markdown",
   "id": "c9f92426-237a-40da-b85e-043798d3d778",
   "metadata": {},
   "source": [
    "`25. Create a set of squares of numbers from 1 to 5.`"
   ]
  },
  {
   "cell_type": "code",
   "execution_count": 2,
   "id": "d4c10a94-5b44-4c42-aa2e-5304ec83ce43",
   "metadata": {},
   "outputs": [
    {
     "name": "stdout",
     "output_type": "stream",
     "text": [
      "For loop execution Success...\n",
      "Squares of numbers 1-5 is : {1, 4, 9, 16, 25}\n"
     ]
    }
   ],
   "source": [
    "set_create =set()\n",
    "\n",
    "for i in range(1,5+1):\n",
    "    Square_set = i**2\n",
    "    set_create.add(Square_set)\n",
    "else:\n",
    "    print(\"For loop execution Success...\")\n",
    "    print(\"Squares of numbers 1-5 is :\",set_create)"
   ]
  },
  {
   "cell_type": "markdown",
   "id": "8d4745d0-8627-4567-85a0-b1cb40f4bb86",
   "metadata": {},
   "source": [
    "`26. Filter out all even numbers from a set.`"
   ]
  },
  {
   "cell_type": "code",
   "execution_count": 3,
   "id": "bd4a1ff4-5dec-486c-81fb-7e383dd65d87",
   "metadata": {},
   "outputs": [
    {
     "name": "stdout",
     "output_type": "stream",
     "text": [
      "For loop execute succesful...\n",
      "=========================================\n",
      "filterd even values are : {2, 4, 6, 8, 10}\n",
      "=========================================\n",
      "filterd off values are : {1, 3, 5, 7, 9}\n"
     ]
    }
   ],
   "source": [
    "Org_set ={1,2,3,4,5,6,7,8,9,10}\n",
    "filter_outEven =set()\n",
    "filter_outodd =set()\n",
    "for i in Org_set:\n",
    "    if i %2 ==0:\n",
    "        filter_outEven.add(i)\n",
    "    else:\n",
    "        filter_outodd.add(i)\n",
    "else:\n",
    "    print('For loop execute succesful...')\n",
    "    print(\"=========================================\")\n",
    "    print('filterd even values are :',filter_outEven)\n",
    "    print(\"=========================================\")\n",
    "    print('filterd off values are :',filter_outodd)"
   ]
  },
  {
   "cell_type": "markdown",
   "id": "df7691f1-5770-4022-80f4-6c859cfdfc20",
   "metadata": {},
   "source": [
    "`27. Multiply all elements in a set by 2.`"
   ]
  },
  {
   "cell_type": "code",
   "execution_count": 12,
   "id": "644cb121-25c0-41b4-a877-92ac15703ec2",
   "metadata": {},
   "outputs": [
    {
     "name": "stdout",
     "output_type": "stream",
     "text": [
      "for loop exe sucessfull\n",
      "===============================================\n",
      "Multiply set by 2 : {2, 4, 6, 8, 10, 12, 14, 16}\n"
     ]
    }
   ],
   "source": [
    "set_20 = {1,2,3,4,5,6,7,8}\n",
    "\n",
    "multiplied_set =set()\n",
    "for i in set_20:\n",
    "    Mul= i*2\n",
    "    multiplied_set.add(Mul)\n",
    "else:\n",
    "    print(\"for loop exe sucessfull\")\n",
    "    print('===============================================')\n",
    "    print(\"Multiply set by 2 :\",multiplied_set)"
   ]
  },
  {
   "cell_type": "markdown",
   "id": "fe2b1762-5ffc-4716-80d9-aa65f542867d",
   "metadata": {},
   "source": [
    "`28. Create a set of random numbers.`"
   ]
  },
  {
   "cell_type": "code",
   "execution_count": 22,
   "id": "5108b340-31e7-4b59-977e-e23b9a5a44f1",
   "metadata": {},
   "outputs": [
    {
     "name": "stdout",
     "output_type": "stream",
     "text": [
      "For loop execute sucessful\n",
      "==================================================================\n",
      "Generated random numbers are : {64, 37, 71, 74, 76, 46, 49, 22, 94}\n"
     ]
    }
   ],
   "source": [
    "import random\n",
    "Generate_random=set()\n",
    "for i in range(1,10):\n",
    "    g_rand =random.randint(1,100)\n",
    "    Generate_random.add(g_rand)\n",
    "else:\n",
    "    print(\"For loop execute sucessful\")\n",
    "    print('==================================================================')\n",
    "    print(\"Generated random numbers are :\",Generate_random)"
   ]
  },
  {
   "cell_type": "markdown",
   "id": "ae89ae22-e030-4578-a63e-756db6ba9d62",
   "metadata": {},
   "source": [
    "`29. Check if a set is empty.`"
   ]
  },
  {
   "cell_type": "code",
   "execution_count": 35,
   "id": "761d1e5a-4bbc-4927-b6a0-4db732b889fd",
   "metadata": {},
   "outputs": [
    {
     "data": {
      "text/plain": [
       "0"
      ]
     },
     "execution_count": 35,
     "metadata": {},
     "output_type": "execute_result"
    }
   ],
   "source": [
    "set_21 =set()\n",
    "len(set_21)"
   ]
  },
  {
   "cell_type": "code",
   "execution_count": 36,
   "id": "052d54e1-b254-4c43-8afc-9111bc5486b9",
   "metadata": {},
   "outputs": [
    {
     "name": "stdout",
     "output_type": "stream",
     "text": [
      "set is empty\n"
     ]
    }
   ],
   "source": [
    "if len(set_21)<=0:\n",
    "    print(\"set is empty\")\n",
    "else:\n",
    "    print(\"set is not empty\")"
   ]
  },
  {
   "cell_type": "markdown",
   "id": "fa9463bd-e520-44af-889b-e7c51f9d8bd7",
   "metadata": {},
   "source": [
    "`OR`"
   ]
  },
  {
   "cell_type": "code",
   "execution_count": 38,
   "id": "839df31b-b7fe-4e7a-a840-edcefe8dd2e0",
   "metadata": {},
   "outputs": [
    {
     "name": "stdout",
     "output_type": "stream",
     "text": [
      "set is empty\n"
     ]
    }
   ],
   "source": [
    "if not set_21:\n",
    "    print(\"set is empty\")\n",
    "else:\n",
    "    print(\"set is not empty\")"
   ]
  },
  {
   "cell_type": "markdown",
   "id": "96767e4e-0740-4adc-a7bd-96c2d0264e29",
   "metadata": {},
   "source": [
    "`30. Create a nested set (hint: use frozenset).`"
   ]
  },
  {
   "cell_type": "code",
   "execution_count": 39,
   "id": "3ca93d15-12d8-48d6-b3a2-40a511e81c29",
   "metadata": {},
   "outputs": [
    {
     "name": "stdout",
     "output_type": "stream",
     "text": [
      "Nested set is : {frozenset({1, 2, 3, 4, 5}), frozenset({6, 7, 8, 9, 10})}\n"
     ]
    }
   ],
   "source": [
    "# Step 1: Create the inner sets\n",
    "set_22 = {1, 2, 3, 4, 5}\n",
    "set_23 = {6, 7, 8, 9, 10}\n",
    "\n",
    "frozen_set_1 =frozenset(set_22)\n",
    "frozen_set_2 =frozenset(set_23)\n",
    "\n",
    "nested_set ={frozen_set_1,frozen_set_2}\n",
    "\n",
    "print(\"Nested set is :\",nested_set)"
   ]
  },
  {
   "cell_type": "markdown",
   "id": "2c732909-e0ac-4854-b9c0-77b7e9e9f998",
   "metadata": {},
   "source": [
    "`31. Remove an element from a set using the discard method.`"
   ]
  },
  {
   "cell_type": "code",
   "execution_count": 41,
   "id": "f473d8c5-c750-421d-a89e-4ead16c185ff",
   "metadata": {},
   "outputs": [
    {
     "name": "stdout",
     "output_type": "stream",
     "text": [
      "Removed elements from set is : {6, 7, 9, 10}\n"
     ]
    }
   ],
   "source": [
    "set_24 = {6, 7, 8, 9, 10}\n",
    "set_24.discard(8)\n",
    "\n",
    "print(\"Removed elements from set is :\",set_24)"
   ]
  },
  {
   "cell_type": "markdown",
   "id": "b493c0ad-0e45-490c-8f5f-406552ac240b",
   "metadata": {},
   "source": [
    "`32. Compare two sets.`"
   ]
  },
  {
   "cell_type": "code",
   "execution_count": 46,
   "id": "b9601f37-de2a-43c1-8b90-53a1395767ea",
   "metadata": {},
   "outputs": [
    {
     "name": "stdout",
     "output_type": "stream",
     "text": [
      "Set 1: {1, 2, 3, 4, 5}\n",
      "==============================================\n",
      "Set 2: {4, 5, 6, 7, 8}\n",
      "==============================================\n",
      "Is set1 a subset of set2? False\n",
      "==============================================\n",
      "Is set2 a subset of set1? False\n",
      "==============================================\n",
      "Intersection: {4, 5}\n",
      "==============================================\n",
      "Union: {1, 2, 3, 4, 5, 6, 7, 8}\n",
      "==============================================\n",
      "Elements in set1 but not in set2: {1, 2, 3}\n",
      "==============================================\n",
      "Elements in set2 but not in set1: {8, 6, 7}\n",
      "==============================================\n"
     ]
    }
   ],
   "source": [
    "# Step 1: Define two sets\n",
    "set1 = {1, 2, 3, 4, 5}\n",
    "set2 = {4, 5, 6, 7, 8}\n",
    "\n",
    "\n",
    "is_subset = set1.issubset(set2)\n",
    "\n",
    "is_superset = set1.issuperset(set2)\n",
    "\n",
    "\n",
    "intersection = set1.intersection(set2)\n",
    "\n",
    "\n",
    "union = set1.union(set2)\n",
    "\n",
    "\n",
    "difference1 = set1.difference(set2)\n",
    "\n",
    "\n",
    "difference2 = set2.difference(set1)\n",
    "print(\"Set 1:\", set1)\n",
    "print(\"==============================================\")\n",
    "print(\"Set 2:\", set2)\n",
    "print(\"==============================================\")\n",
    "print(\"Is set1 a subset of set2?\", is_subset)\n",
    "print(\"==============================================\")\n",
    "print(\"Is set2 a subset of set1?\", is_superset)\n",
    "print(\"==============================================\")\n",
    "print(\"Intersection:\", intersection)\n",
    "print(\"==============================================\")\n",
    "print(\"Union:\", union)\n",
    "print(\"==============================================\")\n",
    "print(\"Elements in set1 but not in set2:\", difference1)\n",
    "print(\"==============================================\")\n",
    "print(\"Elements in set2 but not in set1:\", difference2)\n",
    "print(\"==============================================\")"
   ]
  },
  {
   "cell_type": "markdown",
   "id": "b12c2a45-e509-41b3-a877-ca773e95fa84",
   "metadata": {},
   "source": [
    "`33. Create a set from a string.`"
   ]
  },
  {
   "cell_type": "code",
   "execution_count": 49,
   "id": "53ed2ad4-1592-4ad9-a0c5-a320bb113341",
   "metadata": {},
   "outputs": [
    {
     "name": "stdout",
     "output_type": "stream",
     "text": [
      "{'b', 'u', 's', 'h', 'n', 'a'}\n"
     ]
    },
    {
     "data": {
      "text/plain": [
       "set"
      ]
     },
     "execution_count": 49,
     "metadata": {},
     "output_type": "execute_result"
    }
   ],
   "source": [
    "string_con =\"bhushan\"\n",
    "set_25 =set(string_con)\n",
    "print(set_25)\n",
    "type(set_25)"
   ]
  },
  {
   "cell_type": "markdown",
   "id": "fef81d54-8b81-4b7f-883c-594539731cf3",
   "metadata": {},
   "source": [
    "`34. Convert a set of strings to a set of integers.`"
   ]
  },
  {
   "cell_type": "code",
   "execution_count": 50,
   "id": "5c8fe034-8afc-4b2a-87b9-ddc5f0f4984f",
   "metadata": {},
   "outputs": [
    {
     "name": "stdout",
     "output_type": "stream",
     "text": [
      "for loop exe. sucessful...\n",
      "==============================\n",
      "Set of integer : {456, 123, 789}\n"
     ]
    }
   ],
   "source": [
    "string_26 = {\"123\", \"456\", \"789\"}\n",
    "set_of_int =set()\n",
    "for i in string_26:\n",
    "    set_27 =int(i)\n",
    "    set_of_int.add(set_27)\n",
    "else:\n",
    "    print(\"for loop exe. sucessful...\")\n",
    "    print('==============================')\n",
    "    print(\"Set of integer :\",set_of_int)"
   ]
  },
  {
   "cell_type": "markdown",
   "id": "54aaf4d6-cdab-456d-874b-8ec67f6f3596",
   "metadata": {},
   "source": [
    "`35. Convert a set of integers to a set of strings.`"
   ]
  },
  {
   "cell_type": "code",
   "execution_count": 56,
   "id": "d6bd0e36-6475-40ac-af54-c1a75481f8ae",
   "metadata": {},
   "outputs": [
    {
     "name": "stdout",
     "output_type": "stream",
     "text": [
      "for loop exe. sucessful...\n",
      "=====================================\n",
      "Set of string : {'123', '789', '456'}\n"
     ]
    }
   ],
   "source": [
    "set_28 = {456, 123, 789}\n",
    "\n",
    "set_of_string =set()\n",
    "\n",
    "for i in set_28:\n",
    "    set_29 =str(i)\n",
    "    set_of_string.add(set_29)\n",
    "else:\n",
    "    print(\"for loop exe. sucessful...\")\n",
    "    print('=====================================')\n",
    "    print(\"Set of string :\",set_of_string)"
   ]
  },
  {
   "cell_type": "markdown",
   "id": "575683bb-3bc8-421e-a133-1180941ef594",
   "metadata": {},
   "source": [
    "`36. Create a set from a tuple.`"
   ]
  },
  {
   "cell_type": "code",
   "execution_count": 60,
   "id": "c2652633-725c-45db-9804-3975c5e238c8",
   "metadata": {},
   "outputs": [
    {
     "name": "stdout",
     "output_type": "stream",
     "text": [
      "<class 'tuple'>\n",
      "created set from tuple : {1, 2, 3, 'bhush'}\n"
     ]
    }
   ],
   "source": [
    "set_from_tuple =(1,'bhush',2,3)\n",
    "print(type(set_from_tuple))\n",
    "conv_set =set(set_from_tuple)\n",
    "print('created set from tuple :',conv_set)"
   ]
  },
  {
   "cell_type": "markdown",
   "id": "c9ca5ca3-2d51-4f2c-becb-066c825fbf70",
   "metadata": {},
   "source": [
    "`37. Convert a set to a tuple.`"
   ]
  },
  {
   "cell_type": "code",
   "execution_count": 62,
   "id": "f3d61426-d7f4-4f46-a694-a7e1692fd9b0",
   "metadata": {},
   "outputs": [
    {
     "name": "stdout",
     "output_type": "stream",
     "text": [
      "<class 'set'>\n",
      "converted tuple from set : (1, 2, 3, 'bhush')\n"
     ]
    }
   ],
   "source": [
    "tuple_from_set= {1, 2, 3, 'bhush'}\n",
    "print(type(tuple_from_set))\n",
    "convert_tuple =tuple(tuple_from_set)\n",
    "print(\"converted tuple from set :\",convert_tuple)"
   ]
  },
  {
   "cell_type": "markdown",
   "id": "39772d4e-6ab0-427a-b9da-5c930b72693a",
   "metadata": {},
   "source": [
    "`38. Find the maximum value in a set.`"
   ]
  },
  {
   "cell_type": "code",
   "execution_count": 63,
   "id": "deabf79e-ffca-4269-b933-d9d1a84f03e7",
   "metadata": {},
   "outputs": [
    {
     "name": "stdout",
     "output_type": "stream",
     "text": [
      "Maxm value from set is : 894\n"
     ]
    }
   ],
   "source": [
    "set_30 ={23,34,45,577,344,133,894}\n",
    "Max_value =max(set_30,)\n",
    "\n",
    "print(\"Maxm value from set is :\",Max_value)"
   ]
  },
  {
   "cell_type": "markdown",
   "id": "e7014065-4fd6-4e97-82f6-8f6a17a62bf0",
   "metadata": {},
   "source": [
    "`39. Find the minimum value in a set.`"
   ]
  },
  {
   "cell_type": "code",
   "execution_count": 64,
   "id": "803b8b73-4db9-418c-ac8e-918bb5b758f8",
   "metadata": {},
   "outputs": [
    {
     "name": "stdout",
     "output_type": "stream",
     "text": [
      "Min value from set is : 23\n"
     ]
    }
   ],
   "source": [
    "set_30 ={23,34,45,577,344,133,894}\n",
    "Min_value =min(set_30,)\n",
    "\n",
    "print(\"Min value from set is :\",Min_value)"
   ]
  },
  {
   "cell_type": "markdown",
   "id": "88627c61-77b8-474b-967c-22c8b588d757",
   "metadata": {},
   "source": [
    "`40. Create a set from user input.`"
   ]
  },
  {
   "cell_type": "code",
   "execution_count": 69,
   "id": "377f459c-2ac2-4f5a-8582-713c90f8dbc4",
   "metadata": {},
   "outputs": [
    {
     "name": "stdin",
     "output_type": "stream",
     "text": [
      "Enter the values ====> 12\n"
     ]
    },
    {
     "name": "stdout",
     "output_type": "stream",
     "text": [
      "=======================\n"
     ]
    },
    {
     "name": "stdin",
     "output_type": "stream",
     "text": [
      "Enter the values ====> 23\n"
     ]
    },
    {
     "name": "stdout",
     "output_type": "stream",
     "text": [
      "=======================\n"
     ]
    },
    {
     "name": "stdin",
     "output_type": "stream",
     "text": [
      "Enter the values ====> 34\n"
     ]
    },
    {
     "name": "stdout",
     "output_type": "stream",
     "text": [
      "=======================\n",
      "For loop exe sucessfull...\n",
      "=================================\n",
      "cearted set from user input:>> {34, 12, 23}\n"
     ]
    }
   ],
   "source": [
    "user_set =set()\n",
    "\n",
    "for i in range(3):\n",
    "    user_ip =int(input(\"Enter the values ====>\"))\n",
    "    print('=======================')\n",
    "    user_set.add(user_ip)\n",
    "else:\n",
    "    print(\"For loop exe sucessfull...\")\n",
    "    print('=================================')\n",
    "    print('cearted set from user input:>>',user_set)"
   ]
  },
  {
   "cell_type": "markdown",
   "id": "e1cc6e29-007a-4f80-8480-5d4562912397",
   "metadata": {},
   "source": [
    "`41. Check if the intersection of two sets is empty.`"
   ]
  },
  {
   "cell_type": "code",
   "execution_count": 70,
   "id": "37577fac-019c-4f1d-81f3-613b910641de",
   "metadata": {},
   "outputs": [
    {
     "name": "stdout",
     "output_type": "stream",
     "text": [
      "The intersection of the two sets is not empty.\n"
     ]
    }
   ],
   "source": [
    "# Step 1: Define two sets\n",
    "set1 = {1, 2, 3, 4, 5}\n",
    "set2 = {4, 5, 6, 7, 8}\n",
    "\n",
    "# Step 2: Find the intersection of the two sets using the `intersection()` method\n",
    "intersection_result = set1.intersection(set2)\n",
    "\n",
    "# Step 3: Check if the intersection result is empty\n",
    "if not intersection_result:\n",
    "    print(\"The intersection of the two sets is empty.\")\n",
    "else:\n",
    "    print(\"The intersection of the two sets is not empty.\")"
   ]
  },
  {
   "cell_type": "markdown",
   "id": "830dc793-9b50-4836-a888-b79c3743f81b",
   "metadata": {},
   "source": [
    "`42. Create a set of the first 5 Fibonacci numbers.`"
   ]
  },
  {
   "cell_type": "code",
   "execution_count": 73,
   "id": "b71efa7c-73ea-4559-86b3-6c19760b49fa",
   "metadata": {},
   "outputs": [
    {
     "name": "stdout",
     "output_type": "stream",
     "text": [
      "Set of fibonacci numbers : {0, 1, 2, 3, 5}\n"
     ]
    }
   ],
   "source": [
    "fibonacci_set = set()\n",
    "a,b =0,1\n",
    "\n",
    "for i in range(6):\n",
    "    fibonacci_set.add(a)\n",
    "    a, b = b, a + b\n",
    "        \n",
    "print(\"Set of fibonacci numbers :\",fibonacci_set)"
   ]
  },
  {
   "cell_type": "markdown",
   "id": "e80a33ed-261d-46f6-951a-fba6715f1c79",
   "metadata": {},
   "source": [
    "`43. Remove duplicates from a list using sets.`"
   ]
  },
  {
   "cell_type": "code",
   "execution_count": 79,
   "id": "85aeb4bf-00db-4247-9400-5122f344bfcd",
   "metadata": {},
   "outputs": [
    {
     "name": "stdout",
     "output_type": "stream",
     "text": [
      "Original list : [2, 4, 6, 8, 4, 10, 6, 12, 14, 8]\n",
      "=======================================================\n",
      "Removed duplicate from list : {2, 4, 6, 8, 10, 12, 14}\n",
      "=======================================================\n",
      "Conerted into list : [2, 4, 6, 8, 10, 12, 14]\n"
     ]
    }
   ],
   "source": [
    "# Original List\n",
    "original_list = [2, 4, 6, 8, 4, 10, 6, 12, 14, 8]\n",
    "print('Original list :',original_list)\n",
    "print(\"=======================================================\")\n",
    "Remove_duplicate =set(original_list)\n",
    "print(\"Removed duplicate from list :\",Remove_duplicate)\n",
    "print(\"=======================================================\")\n",
    "again_conv_lst =list(Remove_duplicate)\n",
    "print(\"Conerted into list :\",again_conv_lst)"
   ]
  },
  {
   "cell_type": "markdown",
   "id": "db69d684-50b5-425c-b236-2bf13547cd9f",
   "metadata": {},
   "source": [
    "`44. Check if two sets have the same elements, regardless of their count`"
   ]
  },
  {
   "cell_type": "code",
   "execution_count": 81,
   "id": "4ab409fb-7ff4-4c86-aa47-9b168e9571fb",
   "metadata": {},
   "outputs": [
    {
     "name": "stdout",
     "output_type": "stream",
     "text": [
      "The sets have the same elements.\n"
     ]
    }
   ],
   "source": [
    "def have_same_elements(set1, set2):\n",
    "    # Convert the sets to lists and sort them\n",
    "    sorted_list1 = sorted(list(set1))\n",
    "    sorted_list2 = sorted(list(set2))\n",
    "    return sorted_list1 == sorted_list2\n",
    "\n",
    "\n",
    "set1 = {1, 2, 3, 2, 1}\n",
    "set2 = {3, 1, 2}\n",
    "\n",
    "\n",
    "result = have_same_elements(set1, set2)\n",
    "\n",
    "# Print the result\n",
    "if result:\n",
    "    print(\"The sets have the same elements.\")\n",
    "else:\n",
    "    print(\"The sets do not have the same elements.\")"
   ]
  },
  {
   "cell_type": "markdown",
   "id": "adc90b65-fd54-4c66-aa27-163679d62189",
   "metadata": {},
   "source": [
    "`45. Create a set of the first `n` powers of 2.`"
   ]
  },
  {
   "cell_type": "code",
   "execution_count": 96,
   "id": "bc95677a-fde8-4cd9-9c7b-5aa01f8b854a",
   "metadata": {},
   "outputs": [
    {
     "name": "stdout",
     "output_type": "stream",
     "text": [
      "for loop execution sucessful..\n",
      "Set is : {1, 2, 4, 8, 16}\n"
     ]
    }
   ],
   "source": [
    "set_31 =set()\n",
    "nth =5\n",
    "for i in range(nth):\n",
    "    set_32 =2**i\n",
    "    set_31.add(set_32)\n",
    "else:\n",
    "    print(\"for loop execution sucessful..\")\n",
    "    print(\"Set is :\",set_31)"
   ]
  },
  {
   "cell_type": "markdown",
   "id": "84c6748f-fc80-4931-9328-194a95568cef",
   "metadata": {},
   "source": [
    "`46. Find the common elements between a set and a list.`"
   ]
  },
  {
   "cell_type": "code",
   "execution_count": 97,
   "id": "091404f4-d7c0-4f11-a2a7-10c7e710868d",
   "metadata": {},
   "outputs": [
    {
     "name": "stdout",
     "output_type": "stream",
     "text": [
      "for loop execution completed..\n",
      "Common elements are : [7, 9, 12]\n"
     ]
    }
   ],
   "source": [
    "my_set = {3, 7, 9, 12, 15}\n",
    "my_list = [7, 12, 5, 9]\n",
    "conv_to_set =set(my_list)\n",
    "\n",
    "common_elements =[]\n",
    "for i in my_set:\n",
    "    if i in conv_to_set:\n",
    "        common_elements.append(i)\n",
    "else:\n",
    "    print(\"for loop execution completed..\")\n",
    "    print(\"Common elements are :\",common_elements)"
   ]
  },
  {
   "cell_type": "markdown",
   "id": "4cacf484-5a3a-4b19-9565-a3896dc6e190",
   "metadata": {},
   "source": [
    "`47. Create a set of the first `n` triangular numbers.`"
   ]
  },
  {
   "cell_type": "code",
   "execution_count": 98,
   "id": "580eebe9-65cc-494d-8291-345777ed8d82",
   "metadata": {},
   "outputs": [
    {
     "name": "stdin",
     "output_type": "stream",
     "text": [
      "Enter the value of n:  7\n"
     ]
    },
    {
     "name": "stdout",
     "output_type": "stream",
     "text": [
      "The set of the first 7 triangular numbers is: {1, 3, 6, 10, 15, 21, 28}\n"
     ]
    }
   ],
   "source": [
    "def generate_triangular_numbers(n):\n",
    "    triangular_numbers = set()  # Create an empty set to store the triangular numbers\n",
    "    for i in range(1, n + 1):\n",
    "        triangular_number = i * (i + 1) // 2  # Calculate the ith triangular number using the formula\n",
    "        triangular_numbers.add(triangular_number)  # Add the calculated triangular number to the set\n",
    "    return triangular_numbers\n",
    "\n",
    "# Input the value of 'n'\n",
    "n = int(input(\"Enter the value of n: \"))\n",
    "\n",
    "# Call the function to generate the set of first 'n' triangular numbers\n",
    "triangular_set = generate_triangular_numbers(n)\n",
    "\n",
    "# Display the set of triangular numbers\n",
    "print(f\"The set of the first {n} triangular numbers is:\", triangular_set)"
   ]
  },
  {
   "cell_type": "markdown",
   "id": "60b42071-d23d-4558-b298-bf366cb4ba78",
   "metadata": {},
   "source": [
    "`48. Check if a set contains another set as a subset.`"
   ]
  },
  {
   "cell_type": "code",
   "execution_count": 106,
   "id": "80a60587-9e3c-48ce-bce6-c531a79debd1",
   "metadata": {},
   "outputs": [],
   "source": [
    "# Define two sets\n",
    "set_33 = {1, 2, 3, 4, 5}\n",
    "set_34 = {3, 4}\n",
    "\n",
    "is_subset = set_34.issubset(set_33)"
   ]
  },
  {
   "cell_type": "code",
   "execution_count": 107,
   "id": "b8fdb7e9-7b4c-4b05-a65e-a565e8ede843",
   "metadata": {},
   "outputs": [
    {
     "name": "stdout",
     "output_type": "stream",
     "text": [
      "Set_34 is subset of set_33\n"
     ]
    }
   ],
   "source": [
    "if is_subset:\n",
    "    print(\"Set_34 is subset of set_33\")\n",
    "else:\n",
    "    print(\"Set_34 is not subset of set_33\")"
   ]
  },
  {
   "cell_type": "markdown",
   "id": "c1b73593-c579-45c9-8de3-3c3235c10d00",
   "metadata": {},
   "source": [
    "`49. Create a set of alternating 1s and 0s of length `n`.`"
   ]
  },
  {
   "cell_type": "code",
   "execution_count": 108,
   "id": "ee78a82d-f917-451c-abd2-5d554a9affa7",
   "metadata": {},
   "outputs": [
    {
     "name": "stdin",
     "output_type": "stream",
     "text": [
      "Enter the range ====>> 10\n"
     ]
    },
    {
     "name": "stdout",
     "output_type": "stream",
     "text": [
      "for loop executed\n",
      "Alternating set 0s & 1s : {0, 1}\n"
     ]
    }
   ],
   "source": [
    "set_35 =set()\n",
    "length =int(input(\"Enter the range ====>>\"))\n",
    "\n",
    "for i in range(length):\n",
    "    if i%2 ==0:\n",
    "        set_35.add(0)\n",
    "    else:\n",
    "        set_35.add(1)\n",
    "else:\n",
    "    print(\"for loop executed\")\n",
    "    print(\"Alternating set 0s & 1s :\",set_35)"
   ]
  },
  {
   "cell_type": "markdown",
   "id": "745eddc3-c692-4da9-a7a5-d6e2c0d248aa",
   "metadata": {},
   "source": [
    "`50. Merge multiple sets into one.`"
   ]
  },
  {
   "cell_type": "code",
   "execution_count": 111,
   "id": "e97bc8d2-2766-4bb1-a49a-dbbea2df5a51",
   "metadata": {},
   "outputs": [
    {
     "name": "stdout",
     "output_type": "stream",
     "text": [
      "Merged Set: {1, 2, 3, 4, 5, 6, 7}\n"
     ]
    }
   ],
   "source": [
    "# Step 1: Create multiple sets\n",
    "set1 = {1, 2, 3}\n",
    "set2 = {3, 4, 5}\n",
    "set3 = {5, 6, 7}\n",
    "\n",
    "# Step 2: Use the union() method to merge sets\n",
    "merged_set = set1.union(set2, set3)\n",
    "\n",
    "# Alternatively, you can use the | operator\n",
    "# merged_set = set1 | set2 | set3\n",
    "\n",
    "# Step 3: Print the merged set\n",
    "print(\"Merged Set:\", merged_set)"
   ]
  },
  {
   "cell_type": "code",
   "execution_count": null,
   "id": "9f72da70-920f-4952-82b0-11786b45c68c",
   "metadata": {},
   "outputs": [],
   "source": []
  }
 ],
 "metadata": {
  "kernelspec": {
   "display_name": "Python 3 (ipykernel)",
   "language": "python",
   "name": "python3"
  },
  "language_info": {
   "codemirror_mode": {
    "name": "ipython",
    "version": 3
   },
   "file_extension": ".py",
   "mimetype": "text/x-python",
   "name": "python",
   "nbconvert_exporter": "python",
   "pygments_lexer": "ipython3",
   "version": "3.10.8"
  }
 },
 "nbformat": 4,
 "nbformat_minor": 5
}
