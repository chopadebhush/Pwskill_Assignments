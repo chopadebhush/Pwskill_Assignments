{
 "cells": [
  {
   "cell_type": "markdown",
   "id": "d9dd3ca0-7442-42cd-b9cf-47deb5ad0d26",
   "metadata": {
    "tags": []
   },
   "source": [
    "## `Tuple Based PracticeQuestions`"
   ]
  },
  {
   "cell_type": "markdown",
   "id": "9ab6c6ec-a460-42d0-ad3a-0bad7b067abf",
   "metadata": {},
   "source": [
    "## `TOPIC: Tuple Based Assignment Problem`"
   ]
  },
  {
   "cell_type": "markdown",
   "id": "0b6a82f5-efa6-44c0-983a-ec676319ec73",
   "metadata": {},
   "source": [
    "`1. Create a tuple with integers from 1 to 5.`"
   ]
  },
  {
   "cell_type": "code",
   "execution_count": 1,
   "id": "31dc2575-dd62-4cde-a6da-a8fa03b99997",
   "metadata": {},
   "outputs": [
    {
     "name": "stdout",
     "output_type": "stream",
     "text": [
      "(1, 2, 3, 4, 5)\n"
     ]
    },
    {
     "data": {
      "text/plain": [
       "5"
      ]
     },
     "execution_count": 1,
     "metadata": {},
     "output_type": "execute_result"
    }
   ],
   "source": [
    "t1 =(1,2,3,4,5)\n",
    "print(t1)\n",
    "len(t1)"
   ]
  },
  {
   "cell_type": "markdown",
   "id": "6b40492d-0169-46b4-9fff-927f2b121a8b",
   "metadata": {},
   "source": [
    "`2. Access the third element of a tuple.`"
   ]
  },
  {
   "cell_type": "code",
   "execution_count": 2,
   "id": "2d99a762-3dec-47e9-bd6d-9c5f3453a8ca",
   "metadata": {},
   "outputs": [
    {
     "data": {
      "text/plain": [
       "3"
      ]
     },
     "execution_count": 2,
     "metadata": {},
     "output_type": "execute_result"
    }
   ],
   "source": [
    "t1[2]"
   ]
  },
  {
   "cell_type": "markdown",
   "id": "0ee73ccf-78ff-4439-a215-8c6546be63f6",
   "metadata": {},
   "source": [
    "`3. Find the length of a tuple without using the `len()` function.`"
   ]
  },
  {
   "cell_type": "code",
   "execution_count": 3,
   "id": "7de55c8c-5c57-48c8-9fe0-d39303f183d2",
   "metadata": {},
   "outputs": [
    {
     "name": "stdout",
     "output_type": "stream",
     "text": [
      "For loop will Executed\n",
      "======================\n",
      "Length of tuple is: 5\n"
     ]
    }
   ],
   "source": [
    "length =0\n",
    "for i in t1:\n",
    "    length= length+1\n",
    "else:\n",
    "    print(\"For loop will Executed\")\n",
    "    print(\"======================\")\n",
    "    print(\"Length of tuple is:\",length)"
   ]
  },
  {
   "cell_type": "markdown",
   "id": "14b5864c-b398-4419-8bba-f49980ead385",
   "metadata": {},
   "source": [
    "`4. Count the occurrences of an element in a tuple.`"
   ]
  },
  {
   "cell_type": "code",
   "execution_count": 4,
   "id": "e43b1693-0764-4687-b906-31ea2ae80117",
   "metadata": {},
   "outputs": [
    {
     "data": {
      "text/plain": [
       "2"
      ]
     },
     "execution_count": 4,
     "metadata": {},
     "output_type": "execute_result"
    }
   ],
   "source": [
    "t2 =(1,1,2,3,4,5,5)\n",
    "t2.count(1)"
   ]
  },
  {
   "cell_type": "markdown",
   "id": "cad3aca7-9314-4e5f-95ca-833c67c69b8d",
   "metadata": {},
   "source": [
    "`5. Find the index of the first occurrence of an element in a tuple.`"
   ]
  },
  {
   "cell_type": "code",
   "execution_count": 5,
   "id": "3733528b-e1e1-4167-b391-e08e9eccdfbe",
   "metadata": {},
   "outputs": [
    {
     "data": {
      "text/plain": [
       "5"
      ]
     },
     "execution_count": 5,
     "metadata": {},
     "output_type": "execute_result"
    }
   ],
   "source": [
    "t2.index(5)"
   ]
  },
  {
   "cell_type": "markdown",
   "id": "c75f51f5-0182-413b-b115-5a658909b681",
   "metadata": {},
   "source": [
    "`6. Check if an element exists in a tuple.`"
   ]
  },
  {
   "cell_type": "code",
   "execution_count": 6,
   "id": "c68b3c3e-ee4b-48d8-9fef-7c576ba30cf9",
   "metadata": {},
   "outputs": [
    {
     "name": "stdout",
     "output_type": "stream",
     "text": [
      "True\n"
     ]
    }
   ],
   "source": [
    "t3 =(1,2,3,\"bhush\",\"Chopade\")\n",
    "if \"bhush\" in t3:\n",
    "    print(\"True\")\n",
    "else:\n",
    "    print(\"False\")"
   ]
  },
  {
   "cell_type": "markdown",
   "id": "ab25aa5b-8756-434c-b227-60fea06081ce",
   "metadata": {},
   "source": [
    "`7. Convert a tuple to a list.`"
   ]
  },
  {
   "cell_type": "code",
   "execution_count": 7,
   "id": "a87003c0-3346-4b9c-b26a-8a70adadfb30",
   "metadata": {},
   "outputs": [
    {
     "name": "stdout",
     "output_type": "stream",
     "text": [
      "(1, 2, 3, 'bhush', 'Chopade')\n",
      "[1, 2, 3, 'bhush', 'Chopade']\n"
     ]
    },
    {
     "data": {
      "text/plain": [
       "list"
      ]
     },
     "execution_count": 7,
     "metadata": {},
     "output_type": "execute_result"
    }
   ],
   "source": [
    "print(t3)\n",
    "T_list= list(t3)\n",
    "print(T_list)\n",
    "type(T_list)"
   ]
  },
  {
   "cell_type": "markdown",
   "id": "e0c6941d-1fe2-494f-8204-1df8f7256b23",
   "metadata": {},
   "source": [
    "`9. Unpack the elements of a tuple into variables.`"
   ]
  },
  {
   "cell_type": "code",
   "execution_count": 8,
   "id": "db43f1d0-9d2c-4b98-a16a-26b852ad0fe4",
   "metadata": {},
   "outputs": [
    {
     "name": "stdout",
     "output_type": "stream",
     "text": [
      "('Bhushan', 1, 'SPPU')\n"
     ]
    }
   ],
   "source": [
    "a =('Bhushan',1,'SPPU')\n",
    "print(a) #Pack Elements"
   ]
  },
  {
   "cell_type": "code",
   "execution_count": 9,
   "id": "7578b1be-6e68-4bbf-9508-900e3d7dce1c",
   "metadata": {},
   "outputs": [
    {
     "name": "stdout",
     "output_type": "stream",
     "text": [
      "Bhushan\n",
      "1\n",
      "SPPU\n"
     ]
    }
   ],
   "source": [
    "# Unpacking Elements\n",
    "(Name,Roll_no,University)=a\n",
    "\n",
    "print(Name)\n",
    "print(Roll_no)\n",
    "print(University)"
   ]
  },
  {
   "cell_type": "markdown",
   "id": "b55e7e65-ab48-4cc2-a12a-34eb7d738321",
   "metadata": {},
   "source": [
    "`10. Create a tuple of even numbers from 1 to 10.`"
   ]
  },
  {
   "cell_type": "code",
   "execution_count": 10,
   "id": "0cfe5612-40db-4b0a-9a4b-7e2634c8bec9",
   "metadata": {},
   "outputs": [
    {
     "name": "stdin",
     "output_type": "stream",
     "text": [
      "Enter the range of even No ==>> 10\n"
     ]
    },
    {
     "name": "stdout",
     "output_type": "stream",
     "text": [
      "For loop Exe. done\n"
     ]
    }
   ],
   "source": [
    "user =int(input(\"Enter the range of even No ==>>\"))\n",
    "tuple_1 =[]\n",
    "for t in range(1,user):\n",
    "    if t % 2==0:\n",
    "        tuple_1.append(t)\n",
    "else:\n",
    "    print(\"For loop Exe. done\")\n",
    "    t4 =tuple(tuple_1)"
   ]
  },
  {
   "cell_type": "code",
   "execution_count": 11,
   "id": "e4ddee6d-4066-4bac-a536-09d941c9eeb9",
   "metadata": {},
   "outputs": [
    {
     "name": "stdout",
     "output_type": "stream",
     "text": [
      "(2, 4, 6, 8)\n"
     ]
    }
   ],
   "source": [
    "print(t4)"
   ]
  },
  {
   "cell_type": "markdown",
   "id": "9f4a1fc5-671a-4e8a-8a4c-1974fbe7c11f",
   "metadata": {},
   "source": [
    "`11. Create a tuple of odd numbers from 1 to 10.`"
   ]
  },
  {
   "cell_type": "code",
   "execution_count": 12,
   "id": "36e7c962-876b-4fbb-9017-1c33d079f30e",
   "metadata": {},
   "outputs": [
    {
     "name": "stdin",
     "output_type": "stream",
     "text": [
      "Enter the range of even No ==>> 20\n"
     ]
    },
    {
     "name": "stdout",
     "output_type": "stream",
     "text": [
      "For loop Exe. done\n"
     ]
    }
   ],
   "source": [
    "user =int(input(\"Enter the range of even No ==>>\"))\n",
    "tuple_2 =[]\n",
    "for t in range(1,user):\n",
    "    if t % 2!=0:\n",
    "        tuple_2.append(t)\n",
    "else:\n",
    "    print(\"For loop Exe. done\")\n",
    "    t5 =tuple(tuple_2)"
   ]
  },
  {
   "cell_type": "code",
   "execution_count": 13,
   "id": "8654a35b-e226-4dfc-8dc2-9bb2eec4e70a",
   "metadata": {},
   "outputs": [
    {
     "name": "stdout",
     "output_type": "stream",
     "text": [
      "(1, 3, 5, 7, 9, 11, 13, 15, 17, 19)\n"
     ]
    }
   ],
   "source": [
    "print(t5)"
   ]
  },
  {
   "cell_type": "markdown",
   "id": "d13ccbdf-ef8b-4a61-afc4-5fbe93c47485",
   "metadata": {},
   "source": [
    "`12. Concatenate two tuples.`"
   ]
  },
  {
   "cell_type": "code",
   "execution_count": 14,
   "id": "1cc371ef-4488-42f3-b481-2e764619d46e",
   "metadata": {},
   "outputs": [],
   "source": [
    "tuple_3 =(23,34,45,56,67)\n",
    "tuple_4 =(98,87,76,65,54)\n",
    "Concatenate_tuple = tuple_3 + tuple_4"
   ]
  },
  {
   "cell_type": "code",
   "execution_count": 15,
   "id": "65960b58-a1ef-4bfb-b5ae-81ce2a477464",
   "metadata": {},
   "outputs": [
    {
     "name": "stdout",
     "output_type": "stream",
     "text": [
      "Concatenate two tuple :(23, 34, 45, 56, 67, 98, 87, 76, 65, 54) \n"
     ]
    }
   ],
   "source": [
    "print(\"Concatenate two tuple :{} \".format(Concatenate_tuple))"
   ]
  },
  {
   "cell_type": "markdown",
   "id": "6c0c3652-9d40-48e0-bdb2-0d02995f7bd0",
   "metadata": {},
   "source": [
    "`13. Repeat a tuple three times.`"
   ]
  },
  {
   "cell_type": "code",
   "execution_count": 16,
   "id": "0a66a1b5-0f33-4ebc-9914-8d2a81bb0ace",
   "metadata": {},
   "outputs": [],
   "source": [
    "tuple_5 =(23,34,45,56,67)\n",
    "Reapeat_tuple =tuple_5*3"
   ]
  },
  {
   "cell_type": "code",
   "execution_count": 17,
   "id": "88221471-85dd-4a53-98d0-256d1e11d1b7",
   "metadata": {},
   "outputs": [
    {
     "name": "stdout",
     "output_type": "stream",
     "text": [
      "Reapeat tuple 3 time : (23, 34, 45, 56, 67, 23, 34, 45, 56, 67, 23, 34, 45, 56, 67) \n"
     ]
    }
   ],
   "source": [
    "print(\"Reapeat tuple 3 time : {} \".format(Reapeat_tuple))"
   ]
  },
  {
   "cell_type": "markdown",
   "id": "26a1827b-7fb4-424f-a81c-96d53bf887a3",
   "metadata": {},
   "source": [
    "`14. Check if a tuple is empty.`"
   ]
  },
  {
   "cell_type": "code",
   "execution_count": 18,
   "id": "4e55386a-c7f2-4866-b239-6ca11b6c5361",
   "metadata": {},
   "outputs": [
    {
     "name": "stdout",
     "output_type": "stream",
     "text": [
      "tuple is empty\n"
     ]
    }
   ],
   "source": [
    "tuple_6 =()\n",
    "if len(tuple_6) == 0:\n",
    "    print(\"tuple is empty\")\n",
    "else:\n",
    "    print(\"Tuple not empty\")"
   ]
  },
  {
   "cell_type": "markdown",
   "id": "8dfa3c69-6fe7-4ad7-8de1-92116d3b3602",
   "metadata": {},
   "source": [
    "`15. Create a nested tuple.`"
   ]
  },
  {
   "cell_type": "code",
   "execution_count": 19,
   "id": "65c5f04c-9c87-46b6-aa20-101aad0f6487",
   "metadata": {},
   "outputs": [],
   "source": [
    "tuple_7 =(1,2,3,(87,45,34),\"Bhush\",\"patil\")"
   ]
  },
  {
   "cell_type": "markdown",
   "id": "4b0b236e-1235-41a0-8884-613efe2a19b5",
   "metadata": {},
   "source": [
    "`16. Access the first element of a nested tuple.`"
   ]
  },
  {
   "cell_type": "code",
   "execution_count": 20,
   "id": "7c1dc466-60a8-462b-8874-03ee09201cff",
   "metadata": {},
   "outputs": [
    {
     "data": {
      "text/plain": [
       "87"
      ]
     },
     "execution_count": 20,
     "metadata": {},
     "output_type": "execute_result"
    }
   ],
   "source": [
    "tuple_7[3][0]"
   ]
  },
  {
   "cell_type": "markdown",
   "id": "e898edaa-6170-4b5c-8fbe-3728ebbbe3e0",
   "metadata": {},
   "source": [
    "`17. Create a tuple with a single element.`"
   ]
  },
  {
   "cell_type": "code",
   "execution_count": 21,
   "id": "3b79a279-a9f3-4b43-b3a2-b76f8b19c0d7",
   "metadata": {},
   "outputs": [],
   "source": [
    "tuple_8 =(\"bhushan\")"
   ]
  },
  {
   "cell_type": "markdown",
   "id": "07d565ca-b9ff-4bb6-8861-0c3337cd112a",
   "metadata": {},
   "source": [
    "`18. Compare two tuples.`"
   ]
  },
  {
   "cell_type": "code",
   "execution_count": 22,
   "id": "59842d45-7e10-4d49-b25e-7ec43a178ebb",
   "metadata": {},
   "outputs": [
    {
     "name": "stdout",
     "output_type": "stream",
     "text": [
      "Comparison between two tuple is : {1, 2, 'Bhushan'}\n"
     ]
    }
   ],
   "source": [
    "tuple_9 =(\"Bhushan\",23,45,1,2)\n",
    "tuple_10 =(1,2,\"Bhushan\")\n",
    "comare_tuple = set(tuple_9).intersection(set(tuple_10))\n",
    "print(\"Comparison between two tuple is : {}\".format(comare_tuple))"
   ]
  },
  {
   "cell_type": "markdown",
   "id": "d568d23a-1e13-4a76-a127-74409d6606ba",
   "metadata": {},
   "source": [
    "`19. Delete a tuple.`"
   ]
  },
  {
   "cell_type": "code",
   "execution_count": 23,
   "id": "a3e96e06-4b2f-41c3-9c6b-7c95b9142233",
   "metadata": {},
   "outputs": [],
   "source": [
    "tuple_11 =(\"Bhushan\",23,45,1,2)\n",
    "del tuple_11"
   ]
  },
  {
   "cell_type": "markdown",
   "id": "d2cd040f-019c-4779-880c-7bef0472780c",
   "metadata": {},
   "source": [
    "`20. Slice a tuple.`"
   ]
  },
  {
   "cell_type": "code",
   "execution_count": 24,
   "id": "031ee1e6-2462-4716-8d80-dc1b95109e84",
   "metadata": {},
   "outputs": [
    {
     "data": {
      "text/plain": [
       "(154, 500, 266)"
      ]
     },
     "execution_count": 24,
     "metadata": {},
     "output_type": "execute_result"
    }
   ],
   "source": [
    "tuple_12 =(100,122,300,154,500,266,\"a\",\"b\",\"c\",\"d\")\n",
    "tuple_12[3:6]"
   ]
  },
  {
   "cell_type": "markdown",
   "id": "a7c3cd01-1be4-4e39-bbfc-043ebbe8a9e1",
   "metadata": {},
   "source": [
    "`21. Find the maximum value in a tuple.`"
   ]
  },
  {
   "cell_type": "code",
   "execution_count": 25,
   "id": "b695a603-9353-451b-ad35-3b1c8f27e897",
   "metadata": {},
   "outputs": [
    {
     "data": {
      "text/plain": [
       "998"
      ]
     },
     "execution_count": 25,
     "metadata": {},
     "output_type": "execute_result"
    }
   ],
   "source": [
    "tuple_13 =(23,100,122,300,154,500,266,455,776,233,998)\n",
    "max(tuple_13)"
   ]
  },
  {
   "cell_type": "markdown",
   "id": "f9975ca5-8956-4bbc-9063-be18608a8cd6",
   "metadata": {},
   "source": [
    "`22. Find the minimum value in a tuple.`"
   ]
  },
  {
   "cell_type": "code",
   "execution_count": 26,
   "id": "d571d137-fffd-422f-9180-209b201cfcdc",
   "metadata": {},
   "outputs": [
    {
     "data": {
      "text/plain": [
       "23"
      ]
     },
     "execution_count": 26,
     "metadata": {},
     "output_type": "execute_result"
    }
   ],
   "source": [
    "min(tuple_13)"
   ]
  },
  {
   "cell_type": "markdown",
   "id": "ba06a7d1-d1fe-4372-8f91-4568c61ac383",
   "metadata": {},
   "source": [
    "`23. Convert a string to a tuple of characters.`"
   ]
  },
  {
   "cell_type": "code",
   "execution_count": 27,
   "id": "2a9165c3-01d4-4c51-8c81-b6c125cb1bfd",
   "metadata": {},
   "outputs": [
    {
     "data": {
      "text/plain": [
       "('b',\n",
       " 'h',\n",
       " 'u',\n",
       " 's',\n",
       " 'h',\n",
       " 'a',\n",
       " 'n',\n",
       " ' ',\n",
       " 'f',\n",
       " 'r',\n",
       " 'o',\n",
       " 'm',\n",
       " ' ',\n",
       " 'p',\n",
       " 'u',\n",
       " 'n',\n",
       " 'e')"
      ]
     },
     "execution_count": 27,
     "metadata": {},
     "output_type": "execute_result"
    }
   ],
   "source": [
    "string_conv ='bhushan from pune'\n",
    "tuple(string_conv)"
   ]
  },
  {
   "cell_type": "markdown",
   "id": "933d00fd-f8be-4524-ad33-aef4952dc488",
   "metadata": {},
   "source": [
    "`24. Convert a tuple of characters to a string.`"
   ]
  },
  {
   "cell_type": "code",
   "execution_count": 28,
   "id": "eab64db4-edc3-4180-a522-44fd26ee1a13",
   "metadata": {},
   "outputs": [],
   "source": [
    "Tuple_char =('b','h','u','s','h','a','n')\n",
    "convstring=\"\".join(Tuple_char)"
   ]
  },
  {
   "cell_type": "code",
   "execution_count": 29,
   "id": "dd322b0f-8011-4a58-8cbd-05685e85200e",
   "metadata": {},
   "outputs": [
    {
     "data": {
      "text/plain": [
       "'bhushan'"
      ]
     },
     "execution_count": 29,
     "metadata": {},
     "output_type": "execute_result"
    }
   ],
   "source": [
    "convstring"
   ]
  },
  {
   "cell_type": "markdown",
   "id": "c189a500-4f1a-499e-bd75-86b9211fd1b9",
   "metadata": {},
   "source": [
    "`25. Create a tuple from multiple data types.`"
   ]
  },
  {
   "cell_type": "code",
   "execution_count": 30,
   "id": "c6ed4fab-23a6-4314-823a-486673b28c92",
   "metadata": {},
   "outputs": [
    {
     "data": {
      "text/plain": [
       "('Bhushan', 23, 24, True, False, 45.56, 56.89, (2+3j))"
      ]
     },
     "execution_count": 30,
     "metadata": {},
     "output_type": "execute_result"
    }
   ],
   "source": [
    "tuple_14 =(\"Bhushan\",23,24,True,False,45.56,56.89,2+3j)\n",
    "tuple_14"
   ]
  },
  {
   "cell_type": "markdown",
   "id": "c3dcea72-6963-4800-919d-cbc2cef42bdb",
   "metadata": {},
   "source": [
    "`26. Check if two tuples are identical.`"
   ]
  },
  {
   "cell_type": "code",
   "execution_count": 31,
   "id": "68677bc0-3f2d-46f4-811a-6b0ea232722a",
   "metadata": {},
   "outputs": [
    {
     "name": "stdout",
     "output_type": "stream",
     "text": [
      "Tuples are identical\n"
     ]
    }
   ],
   "source": [
    "tuple_15 =(1,2,3,4)\n",
    "tuple_16 =(1,2,3,4)\n",
    "if tuple_15 == tuple_16:\n",
    "    print(\"Tuples are identical\")\n",
    "else:\n",
    "    print(\"Tuples are not identical\")"
   ]
  },
  {
   "cell_type": "markdown",
   "id": "d8b7bfc5-8c0c-4ba0-8a0a-a3dfdbdbd229",
   "metadata": {},
   "source": [
    "`27. Sort the elements of a tuple.`"
   ]
  },
  {
   "cell_type": "code",
   "execution_count": 63,
   "id": "ee6a3647-0c85-432b-83fd-7f3192e1e756",
   "metadata": {},
   "outputs": [
    {
     "name": "stdout",
     "output_type": "stream",
     "text": [
      "(1, 12, 13, 23, 34, 45, 56)\n"
     ]
    }
   ],
   "source": [
    "tuple_17 =(12,1,23,13,34,45,56)\n",
    "sorted(tuple_17,reverse= False)\n",
    "print(tuple(sort_tuple))"
   ]
  },
  {
   "cell_type": "markdown",
   "id": "8fae254a-67c7-4ee2-9cee-c44386f6ee2e",
   "metadata": {},
   "source": [
    "`28. Convert a tuple of integers to a tuple of strings.`"
   ]
  },
  {
   "cell_type": "code",
   "execution_count": 33,
   "id": "4cea3b72-6679-45f6-8e1b-481b54c8ca1b",
   "metadata": {},
   "outputs": [
    {
     "data": {
      "text/plain": [
       "'(1, 12, 13, 23, 34, 45, 56)'"
      ]
     },
     "execution_count": 33,
     "metadata": {},
     "output_type": "execute_result"
    }
   ],
   "source": [
    "tuple_18=(1, 12, 13, 23, 34, 45, 56)\n",
    "str(tuple_18)"
   ]
  },
  {
   "cell_type": "markdown",
   "id": "55becc06-4667-4588-9b93-ce919eb59c3e",
   "metadata": {},
   "source": [
    "`29. Convert a tuple of strings to a tuple of integers.`"
   ]
  },
  {
   "cell_type": "code",
   "execution_count": 34,
   "id": "9760e201-ee95-4e76-9b4c-a712a8242963",
   "metadata": {},
   "outputs": [],
   "source": [
    "tuple_19 ='(1, 12, 13, 23, 34, 45, 56)'\n",
    "integer_tuple =eval(tuple_19) # Eval is used to convert string into tuple"
   ]
  },
  {
   "cell_type": "code",
   "execution_count": 35,
   "id": "c526f8f6-ca13-4a77-8742-1a6c73b22a07",
   "metadata": {},
   "outputs": [
    {
     "data": {
      "text/plain": [
       "(1, 12, 13, 23, 34, 45, 56)"
      ]
     },
     "execution_count": 35,
     "metadata": {},
     "output_type": "execute_result"
    }
   ],
   "source": [
    "integer_tuple"
   ]
  },
  {
   "cell_type": "markdown",
   "id": "37e3b5e8-e882-40d8-83fc-2a77aeb9d754",
   "metadata": {},
   "source": [
    "`30. Merge two tuples.`"
   ]
  },
  {
   "cell_type": "code",
   "execution_count": 36,
   "id": "e288b495-65c0-444c-a320-6b1b9e64e26b",
   "metadata": {},
   "outputs": [
    {
     "data": {
      "text/plain": [
       "(1, 2, 3, 4, 4, 3, 2, 1)"
      ]
     },
     "execution_count": 36,
     "metadata": {},
     "output_type": "execute_result"
    }
   ],
   "source": [
    "tuple_20 =(1,2,3,4)\n",
    "tuple_21 =(4,3,2,1)\n",
    "tuple_20 + tuple_21"
   ]
  },
  {
   "cell_type": "markdown",
   "id": "0f8891c5-89c4-4e28-8a7e-8d688330b7df",
   "metadata": {},
   "source": [
    "`31. Flatten a nested tuple.`"
   ]
  },
  {
   "cell_type": "code",
   "execution_count": 37,
   "id": "0ae7acb5-f7e1-4449-aaaf-421667d5f4fc",
   "metadata": {},
   "outputs": [],
   "source": [
    "test_tuple = ([5, 6], [6, 7, 8, 9], [3])\n",
    "result =tuple(sum(test_tuple,[]))"
   ]
  },
  {
   "cell_type": "code",
   "execution_count": 38,
   "id": "fd60fc21-5116-457d-9c19-910704d4109a",
   "metadata": {},
   "outputs": [
    {
     "name": "stdout",
     "output_type": "stream",
     "text": [
      "Flatten tuple is :(5, 6, 6, 7, 8, 9, 3)\n"
     ]
    }
   ],
   "source": [
    "print(\"Flatten tuple is :{}\".format(result))"
   ]
  },
  {
   "cell_type": "markdown",
   "id": "746de6f2-a4fb-405d-a6a5-8db0b7cd29e9",
   "metadata": {},
   "source": [
    "`32. Create a tuple of the first 5 prime numbers.`"
   ]
  },
  {
   "cell_type": "code",
   "execution_count": 39,
   "id": "0f066adb-e46e-479d-9536-80151e4c71b5",
   "metadata": {},
   "outputs": [],
   "source": [
    "#Print first 5 prime numbers =====>>>\n",
    "tuple_22 =[]\n",
    "for number in range (12):  \n",
    "    if number > 1:  \n",
    "        for i in range (2, number):  \n",
    "            if (number % i) == 0:  \n",
    "                break  \n",
    "        else:  \n",
    "            tuple_22.append(number)"
   ]
  },
  {
   "cell_type": "code",
   "execution_count": 40,
   "id": "0083d016-edab-4155-a2dc-5cfaaf15738e",
   "metadata": {},
   "outputs": [
    {
     "name": "stdout",
     "output_type": "stream",
     "text": [
      "(2, 3, 5, 7, 11)\n"
     ]
    }
   ],
   "source": [
    "print(tuple(tuple_22))"
   ]
  },
  {
   "cell_type": "markdown",
   "id": "c9d95de3-e76e-46e4-859f-6057e6929e84",
   "metadata": {},
   "source": [
    "`33. Check if a tuple is a palindrome.`"
   ]
  },
  {
   "cell_type": "code",
   "execution_count": 1,
   "id": "eb6226da-260a-4a57-919b-3ea03de358a7",
   "metadata": {},
   "outputs": [
    {
     "name": "stdout",
     "output_type": "stream",
     "text": [
      "palindrome_tuple is a palindrome: True\n",
      "non_palindrome_tuple is a palindrome: False\n"
     ]
    }
   ],
   "source": [
    "# Function to check if a tuple is a palindrome\n",
    "def is_palindrome(tup):\n",
    "    return tup == tup[::-1]\n",
    "\n",
    "# Create tuples for testing\n",
    "palindrome_tuple = (1, 2, 3, 2, 1)\n",
    "non_palindrome_tuple = (1, 2, 3, 4, 5)\n",
    "\n",
    "# Check if the tuples are palindromes\n",
    "is_palindrome1 = is_palindrome(palindrome_tuple)\n",
    "is_palindrome2 = is_palindrome(non_palindrome_tuple)\n",
    "\n",
    "# Print the results\n",
    "print(\"palindrome_tuple is a palindrome:\", is_palindrome1)\n",
    "print(\"non_palindrome_tuple is a palindrome:\", is_palindrome2)"
   ]
  },
  {
   "cell_type": "markdown",
   "id": "5035e132-c744-48e5-a52f-1bc7fd97551c",
   "metadata": {},
   "source": [
    "`34. Create a tuple of squares of numbers from 1 to 5.`"
   ]
  },
  {
   "cell_type": "code",
   "execution_count": 41,
   "id": "76b8b28b-c6e2-49ee-bbb4-c08629fa7d01",
   "metadata": {},
   "outputs": [],
   "source": [
    "tuple_square=[]\n",
    "for i in range(1,5+1):\n",
    "    tuple_square.append(i**2)"
   ]
  },
  {
   "cell_type": "code",
   "execution_count": 42,
   "id": "0fe9e727-d56c-420c-8e51-0997206e0bae",
   "metadata": {},
   "outputs": [
    {
     "name": "stdout",
     "output_type": "stream",
     "text": [
      "(1, 4, 9, 16, 25)\n"
     ]
    }
   ],
   "source": [
    "print(tuple(tuple_square))"
   ]
  },
  {
   "cell_type": "markdown",
   "id": "32d946ed-65c5-43fd-90f9-533396972505",
   "metadata": {},
   "source": [
    "`35. Filter out all even numbers from a tuple.`"
   ]
  },
  {
   "cell_type": "code",
   "execution_count": 43,
   "id": "a10ab68d-a016-4a9b-9593-53096d52d556",
   "metadata": {},
   "outputs": [
    {
     "name": "stdout",
     "output_type": "stream",
     "text": [
      "for loop execution completed..\n",
      "==============================================================\n",
      "Filer Even numbers are : (2, 4, 6, 8, 10, 12, 14, 16, 18, 20)\n",
      "==============================================================\n",
      "Filer odd numbers are : (1, 3, 5, 7, 9, 11, 13, 15, 17, 19)\n"
     ]
    }
   ],
   "source": [
    "tuple_23=(1,2,3,4,5,6,7,8,9,10,11,12,13,14,15,16,17,18,19,20)\n",
    "filter_even_numbers =[]\n",
    "filter_odd_numbers =[]\n",
    "for i in tuple_23:\n",
    "    if i %2 ==0:\n",
    "        filter_even_numbers.append(i)\n",
    "    else:\n",
    "        filter_odd_numbers.append(i)\n",
    "else:\n",
    "    print(\"for loop execution completed..\")\n",
    "    print(\"==============================================================\")\n",
    "    print(\"Filer Even numbers are : {}\".format(tuple(filter_even_numbers)))\n",
    "    print(\"==============================================================\")\n",
    "    print(\"Filer odd numbers are : {}\".format(tuple(filter_odd_numbers)))"
   ]
  },
  {
   "cell_type": "markdown",
   "id": "99769fc4-ba2f-47de-b17c-f9f4fdb9ab9a",
   "metadata": {},
   "source": [
    "`36. Multiply all elements in a tuple by 2.`"
   ]
  },
  {
   "cell_type": "code",
   "execution_count": 44,
   "id": "285711ac-8f68-438a-bf87-5f29c7edf0ee",
   "metadata": {},
   "outputs": [
    {
     "name": "stdout",
     "output_type": "stream",
     "text": [
      "2 4 6 8 10 12 14 16 18 20 "
     ]
    }
   ],
   "source": [
    "tuple_24=(1,2,3,4,5,6,7,8,9,10)\n",
    "\n",
    "for i in tuple_24:\n",
    "    print(i*2,end=' ')"
   ]
  },
  {
   "cell_type": "markdown",
   "id": "ec3cc081-9224-4aac-bbb5-e7fd517c17bb",
   "metadata": {},
   "source": [
    "`37. Create a tuple of random numbers.`"
   ]
  },
  {
   "cell_type": "code",
   "execution_count": 45,
   "id": "6ad8ba39-1896-4822-bc1c-eb6568b553b0",
   "metadata": {},
   "outputs": [
    {
     "name": "stdout",
     "output_type": "stream",
     "text": [
      "(23, 12, 24, 10, 11, 14, 15, 18, 16)\n"
     ]
    }
   ],
   "source": [
    "tuple_25 =(23,12,24,10,11,14,15,18,16)\n",
    "print(tuple_25)"
   ]
  },
  {
   "cell_type": "markdown",
   "id": "aeb26beb-7f05-4ccc-a1e5-eca6464dd3bb",
   "metadata": {},
   "source": [
    "`38. Check if a tuple is sorted.`"
   ]
  },
  {
   "cell_type": "code",
   "execution_count": 46,
   "id": "599db46a-32e2-446c-a72d-b1ff25e3c716",
   "metadata": {},
   "outputs": [
    {
     "name": "stdout",
     "output_type": "stream",
     "text": [
      "Tuple is not sorted...\n"
     ]
    }
   ],
   "source": [
    "if tuple_25 != sorted(tuple_25):\n",
    "    print(\"Tuple is not sorted...\")\n",
    "else:\n",
    "    print(\"Tuple is sorted\")"
   ]
  },
  {
   "cell_type": "markdown",
   "id": "3e5d0687-0b1f-4b2f-bb7f-1b8d777fdd78",
   "metadata": {},
   "source": [
    "`39. Rotate a tuple to the left by `n` positions.`"
   ]
  },
  {
   "cell_type": "code",
   "execution_count": 47,
   "id": "dcbb015e-970a-4b38-95fc-2f55a7fd600c",
   "metadata": {},
   "outputs": [],
   "source": [
    "tuple_26 =(1,3,5,7,9,11)\n",
    "Rotate_left =tuple_26[4:] + tuple_26[:4]"
   ]
  },
  {
   "cell_type": "code",
   "execution_count": 48,
   "id": "e80731cf-177d-4e6e-9441-27f1142037ac",
   "metadata": {},
   "outputs": [
    {
     "data": {
      "text/plain": [
       "(9, 11, 1, 3, 5, 7)"
      ]
     },
     "execution_count": 48,
     "metadata": {},
     "output_type": "execute_result"
    }
   ],
   "source": [
    "Rotate_left"
   ]
  },
  {
   "cell_type": "markdown",
   "id": "7e66da82-0397-4cbd-9bd9-8249ea973c2e",
   "metadata": {},
   "source": [
    "`40. Rotate a tuple to the right by `n` positions.`"
   ]
  },
  {
   "cell_type": "code",
   "execution_count": 49,
   "id": "aa9c1461-c877-40ad-a713-8a0d6394b921",
   "metadata": {},
   "outputs": [],
   "source": [
    "tuple_27 =(1,3,5,7,9,11)\n",
    "Rotate_right =tuple_26[-4:] + tuple_26[:-4]"
   ]
  },
  {
   "cell_type": "code",
   "execution_count": 50,
   "id": "a886be16-8057-4bbc-908d-c8bb1ba2d3b1",
   "metadata": {},
   "outputs": [
    {
     "data": {
      "text/plain": [
       "(5, 7, 9, 11, 1, 3)"
      ]
     },
     "execution_count": 50,
     "metadata": {},
     "output_type": "execute_result"
    }
   ],
   "source": [
    "Rotate_right"
   ]
  },
  {
   "cell_type": "markdown",
   "id": "5c7863cf-3ff9-43ce-8170-f2c82a6fca19",
   "metadata": {},
   "source": [
    "`41. Create a tuple of the first 5 Fibonacci numbers.`"
   ]
  },
  {
   "cell_type": "code",
   "execution_count": 3,
   "id": "b9cf0654-8490-4266-8aa3-628333b76376",
   "metadata": {},
   "outputs": [
    {
     "name": "stdout",
     "output_type": "stream",
     "text": [
      "(0, 1, 1, 2, 3)\n"
     ]
    }
   ],
   "source": [
    "# Define a function to generate the first n Fibonacci numbers\n",
    "def generate_fibonacci(n):\n",
    "    fibonacci = [0, 1]  # Initialize the list with the first two Fibonacci numbers\n",
    "    while len(fibonacci) < n:  # Continue generating Fibonacci numbers until the list has n elements\n",
    "        next_number = fibonacci[-1] + fibonacci[-2]  # Calculate the next Fibonacci number\n",
    "        fibonacci.append(next_number)  # Add the next Fibonacci number to the list\n",
    "    return tuple(fibonacci)  # Convert the list to a tuple and return it\n",
    "\n",
    "# Call the generate_fibonacci function to create a tuple of the first 5 Fibonacci numbers\n",
    "fibonacci_tuple = generate_fibonacci(5)\n",
    "\n",
    "# Print the resulting tuple\n",
    "print(fibonacci_tuple)"
   ]
  },
  {
   "cell_type": "markdown",
   "id": "e4771cdc-fadd-4f2a-b4ad-e72311c4d723",
   "metadata": {},
   "source": [
    "`42. Create a tuple from user input.`"
   ]
  },
  {
   "cell_type": "code",
   "execution_count": 55,
   "id": "f76095c7-db7b-49a9-bd01-d0f290d62b1c",
   "metadata": {},
   "outputs": [
    {
     "name": "stdin",
     "output_type": "stream",
     "text": [
      "Enter numbers===> 1\n",
      "Enter numbers===> bhush\n",
      "Enter numbers===> chopade\n",
      "Enter numbers===> 23\n",
      "Enter numbers===> 45\n",
      "Enter numbers===> 45\n",
      "Enter numbers===> 45\n",
      "Enter numbers===> 45\n",
      "Enter numbers===> 45\n",
      "Enter numbers===> 45\n"
     ]
    },
    {
     "name": "stdout",
     "output_type": "stream",
     "text": [
      "for loop execute sucessfull\n"
     ]
    }
   ],
   "source": [
    "tuple_user =[]\n",
    "for i in range(10):\n",
    "    user_input =input(\"Enter numbers===>\")\n",
    "    tuple_user.append(user_input)\n",
    "else:\n",
    "    print(\"for loop execute sucessfull\")"
   ]
  },
  {
   "cell_type": "code",
   "execution_count": 58,
   "id": "b0d4f643-7e6d-47f7-85cb-e436495cacb0",
   "metadata": {},
   "outputs": [
    {
     "name": "stdout",
     "output_type": "stream",
     "text": [
      "('1', 'bhush', 'chopade', '23', '45', '45', '45', '45', '45', '45')\n"
     ]
    }
   ],
   "source": [
    "print(tuple(tuple_user))"
   ]
  },
  {
   "cell_type": "markdown",
   "id": "a0a2c2ba-fa96-4980-a6bd-7e3b594c1c7a",
   "metadata": {},
   "source": [
    "`43. Swap two elements in a tuple.`"
   ]
  },
  {
   "cell_type": "code",
   "execution_count": 5,
   "id": "56ba3931-66c9-48f5-b07e-741c21f60251",
   "metadata": {},
   "outputs": [
    {
     "data": {
      "text/plain": [
       "[1, 3, 5, 7, 9, 11]"
      ]
     },
     "execution_count": 5,
     "metadata": {},
     "output_type": "execute_result"
    }
   ],
   "source": [
    "tuple_28 =(1,3,5,7,9,11)\n",
    "convert_tuple_28 =list(tuple_28)\n",
    "convert_tuple_28"
   ]
  },
  {
   "cell_type": "code",
   "execution_count": 6,
   "id": "4763dbfa-5d91-4c7e-922a-05402ee74eeb",
   "metadata": {},
   "outputs": [],
   "source": [
    "convert_tuple_28[0],convert_tuple_28[1] =convert_tuple_28[1],convert_tuple_28[0]"
   ]
  },
  {
   "cell_type": "code",
   "execution_count": 7,
   "id": "09170d47-083b-48af-bbaa-fa21d7c4cfaf",
   "metadata": {},
   "outputs": [
    {
     "name": "stdout",
     "output_type": "stream",
     "text": [
      "Swaping of elements in tuple (3, 1, 5, 7, 9, 11)\n"
     ]
    }
   ],
   "source": [
    "new_tuple =tuple(convert_tuple_28)\n",
    "print(\"Swaping of elements in tuple\",new_tuple)"
   ]
  },
  {
   "cell_type": "markdown",
   "id": "20f43566-bdb0-47e4-a6c9-8dcc0137b085",
   "metadata": {},
   "source": [
    "`44. Reverse the elements of a tuple.`"
   ]
  },
  {
   "cell_type": "code",
   "execution_count": 8,
   "id": "fd6ad4bb-e85b-47f7-877d-c4a0e25f03d1",
   "metadata": {},
   "outputs": [
    {
     "data": {
      "text/plain": [
       "(11, 9, 7, 5, 3, 1)"
      ]
     },
     "execution_count": 8,
     "metadata": {},
     "output_type": "execute_result"
    }
   ],
   "source": [
    "tuple_29 =(1,3,5,7,9,11)\n",
    "tuple_29[::-1]"
   ]
  },
  {
   "cell_type": "markdown",
   "id": "1f7199ce-14b2-4b17-951b-a721ed0b531c",
   "metadata": {},
   "source": [
    "`45. Create a tuple of the first `n` powers of 2.`"
   ]
  },
  {
   "cell_type": "code",
   "execution_count": 74,
   "id": "13399970-5e3b-4424-a718-2381e1309519",
   "metadata": {},
   "outputs": [],
   "source": [
    "power_2 =[]\n",
    "\n",
    "for i in range(1,10):\n",
    "    power_2.append(i**2)"
   ]
  },
  {
   "cell_type": "code",
   "execution_count": 75,
   "id": "a674989c-06d4-4ef1-b22e-6cb386ffdd26",
   "metadata": {},
   "outputs": [
    {
     "data": {
      "text/plain": [
       "(1, 4, 9, 16, 25, 36, 49, 64, 81)"
      ]
     },
     "execution_count": 75,
     "metadata": {},
     "output_type": "execute_result"
    }
   ],
   "source": [
    "tuple(power_2)"
   ]
  },
  {
   "cell_type": "markdown",
   "id": "fcbcd6a4-06d4-45c0-bfec-c83cfeb72ff2",
   "metadata": {},
   "source": [
    "`46. Find the longest string in a tuple of strings.`"
   ]
  },
  {
   "cell_type": "code",
   "execution_count": 77,
   "id": "a5e38fea-a366-4df4-ac38-9e099ec9937c",
   "metadata": {},
   "outputs": [],
   "source": [
    "tuple_30 =('Bhushan','chopade','college','pwskills')\n",
    "Longest_tuple_string =max(tuple_30, key=len)"
   ]
  },
  {
   "cell_type": "code",
   "execution_count": 78,
   "id": "3c71cb88-1051-438e-a5ea-a5d11b1cad79",
   "metadata": {},
   "outputs": [
    {
     "name": "stdout",
     "output_type": "stream",
     "text": [
      "Longest string in tuple is: pwskills\n"
     ]
    }
   ],
   "source": [
    "print(\"Longest string in tuple is:\",Longest_tuple_string)"
   ]
  },
  {
   "cell_type": "markdown",
   "id": "edfd02c1-363e-491b-a1df-fb43ed7885e1",
   "metadata": {},
   "source": [
    "`47. Find the shortest string in a tuple of strings.`"
   ]
  },
  {
   "cell_type": "code",
   "execution_count": 84,
   "id": "df9974dc-3542-4e10-bd8b-96723a8fa91f",
   "metadata": {},
   "outputs": [],
   "source": [
    "tuple_31 =('Bhushan123','chopad12','college','pwskills')\n",
    "shortest_tuple_string =min(tuple_31, key=len)"
   ]
  },
  {
   "cell_type": "code",
   "execution_count": 85,
   "id": "6ec4dc23-ffb5-4a59-8883-6a4dd8fd236b",
   "metadata": {},
   "outputs": [
    {
     "name": "stdout",
     "output_type": "stream",
     "text": [
      "shortest string in tuple is: college\n"
     ]
    }
   ],
   "source": [
    "print(\"shortest string in tuple is:\",shortest_tuple_string)"
   ]
  },
  {
   "cell_type": "markdown",
   "id": "9bb615fb-1d17-403e-94a3-36cbacd1873f",
   "metadata": {},
   "source": [
    "`48. Create a tuple of the first `n` triangular numbers.`"
   ]
  },
  {
   "cell_type": "code",
   "execution_count": 9,
   "id": "f434573d-a145-4bd6-9fd5-0df64b7ebe77",
   "metadata": {},
   "outputs": [
    {
     "name": "stdout",
     "output_type": "stream",
     "text": [
      "Tuple of the first 5 triangular numbers: (1, 3, 6, 10, 15)\n"
     ]
    }
   ],
   "source": [
    "# Define the value of n\n",
    "n = 5\n",
    "\n",
    "# Create a tuple of the first n triangular numbers using a list comprehension\n",
    "triangular_numbers_tuple = tuple((i * (i + 1)) // 2 for i in range(1, n + 1))\n",
    "\n",
    "# Print the tuple of triangular numbers\n",
    "print(\"Tuple of the first\", n, \"triangular numbers:\", triangular_numbers_tuple)"
   ]
  },
  {
   "cell_type": "markdown",
   "id": "35534383-9688-46f2-9b3a-ccd9f8755b0b",
   "metadata": {},
   "source": [
    "`49. Check if a tuple contains another tuple as a subsequence.`"
   ]
  },
  {
   "cell_type": "code",
   "execution_count": 10,
   "id": "a7bca8b5-ca68-4f98-bf37-fe11e34fa7c0",
   "metadata": {},
   "outputs": [
    {
     "data": {
      "text/plain": [
       "set()"
      ]
     },
     "execution_count": 10,
     "metadata": {},
     "output_type": "execute_result"
    }
   ],
   "source": [
    "one = (1, 2, 3, 4, 5)\n",
    "two = (10, 11)\n",
    "subset =set(two).intersection(one)\n",
    "subset"
   ]
  },
  {
   "cell_type": "code",
   "execution_count": 11,
   "id": "8b425bfb-6476-4075-8472-d59e3901049f",
   "metadata": {},
   "outputs": [
    {
     "name": "stdout",
     "output_type": "stream",
     "text": [
      "It is not subset of tuple\n"
     ]
    }
   ],
   "source": [
    "if (set(one).intersection(two)):\n",
    "    print(\"It is subset of another tuple\")\n",
    "else:\n",
    "    print(\"It is not subset of tuple\")"
   ]
  },
  {
   "cell_type": "markdown",
   "id": "9bfb607a-c7bf-4b14-bc7e-dfc100f80427",
   "metadata": {},
   "source": [
    "`50. Create a tuple of alternating 1s and 0s of length `n`.`"
   ]
  },
  {
   "cell_type": "code",
   "execution_count": 92,
   "id": "620542c2-5b18-44d6-838e-bf9f15222a38",
   "metadata": {},
   "outputs": [
    {
     "name": "stdin",
     "output_type": "stream",
     "text": [
      "Enter the input from user ===> 10\n"
     ]
    },
    {
     "name": "stdout",
     "output_type": "stream",
     "text": [
      "For loop execute sucessfully...\n",
      "Alternating 1s & 0s : [0, 1, 0, 1, 0, 1, 0, 1, 0]\n"
     ]
    }
   ],
   "source": [
    "tuple_32 =[]\n",
    "User_length =int(input('Enter the input from user ===>'))\n",
    "\n",
    "for i in range(1,User_length):\n",
    "    if i %2 ==0:\n",
    "        #Appending 1 on Even index 1s\n",
    "        tuple_32.append(1)\n",
    "    else:\n",
    "        # Appending 0 on odd index 0s\n",
    "        tuple_32.append(0)\n",
    "else:\n",
    "    print(\"For loop execute sucessfully...\")\n",
    "    print(\"Alternating 1s & 0s :\",tuple_32)"
   ]
  },
  {
   "cell_type": "code",
   "execution_count": null,
   "id": "07264c6f-61a7-40bc-8c7b-95f6e9d0a309",
   "metadata": {},
   "outputs": [],
   "source": []
  },
  {
   "cell_type": "code",
   "execution_count": null,
   "id": "8b2d6105-8116-43fa-851f-f0007a492e4a",
   "metadata": {},
   "outputs": [],
   "source": []
  }
 ],
 "metadata": {
  "kernelspec": {
   "display_name": "Python 3 (ipykernel)",
   "language": "python",
   "name": "python3"
  },
  "language_info": {
   "codemirror_mode": {
    "name": "ipython",
    "version": 3
   },
   "file_extension": ".py",
   "mimetype": "text/x-python",
   "name": "python",
   "nbconvert_exporter": "python",
   "pygments_lexer": "ipython3",
   "version": "3.10.8"
  }
 },
 "nbformat": 4,
 "nbformat_minor": 5
}
