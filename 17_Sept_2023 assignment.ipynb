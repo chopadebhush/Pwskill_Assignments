{
 "cells": [
  {
   "cell_type": "markdown",
   "id": "9ce81307-c18b-4b1d-b7b8-41bae6271ca3",
   "metadata": {},
   "source": [
    "## `For Loop :-`"
   ]
  },
  {
   "cell_type": "markdown",
   "id": "f27d0c58-e6b2-4b0f-bc79-5911d72ee737",
   "metadata": {},
   "source": [
    "`1. Write a Python program to print numbers from 1 to 10 using a for loop.`"
   ]
  },
  {
   "cell_type": "code",
   "execution_count": 2,
   "id": "3de65efe-714f-4099-a41a-65eecf447bdb",
   "metadata": {},
   "outputs": [
    {
     "name": "stdout",
     "output_type": "stream",
     "text": [
      "1 2 3 4 5 6 7 8 9 10 "
     ]
    }
   ],
   "source": [
    "for i in range(1,10+1):\n",
    "    print(i,end= ' ')"
   ]
  },
  {
   "cell_type": "markdown",
   "id": "3118d26c-e212-41ff-91b8-6ee43256444f",
   "metadata": {},
   "source": [
    "OR"
   ]
  },
  {
   "cell_type": "code",
   "execution_count": 6,
   "id": "d743e1ac-c0ee-4dad-ac24-7354b64f3b7e",
   "metadata": {},
   "outputs": [
    {
     "name": "stdout",
     "output_type": "stream",
     "text": [
      "1\n",
      "2\n",
      "3\n",
      "4\n",
      "5\n",
      "6\n",
      "7\n",
      "8\n",
      "9\n",
      "10\n"
     ]
    }
   ],
   "source": [
    "i =1\n",
    "while i!=11:\n",
    "    print(i)\n",
    "    i=i+1"
   ]
  },
  {
   "cell_type": "markdown",
   "id": "c1524b33-240c-4781-bc7b-63c47c662c7e",
   "metadata": {},
   "source": [
    "`2. Explain the difference between a for loop and a while loop in Python.`"
   ]
  },
  {
   "cell_type": "markdown",
   "id": "10524633-1819-4d3a-a3cc-3f21ebf3699b",
   "metadata": {},
   "source": [
    "for loop: -\n",
    "\n",
    "for loop is used to iterating over the sequence .for loop is used when the number of iteration \n",
    "is known.\n",
    "\n",
    "syntax :-       \n",
    "                      for i in range(10):\n",
    "\n",
    "        print(i)"
   ]
  },
  {
   "cell_type": "markdown",
   "id": "c3e4ae26-5500-4cc9-90ee-5ea3e20b7b6c",
   "metadata": {},
   "source": [
    "While Loop :-\n",
    "\n",
    "while loop is used iterating over the sequence when condition true. while loop is used when the \n",
    "number of iteration is already unknown.\n",
    "\n",
    "syntax :\n",
    "\n",
    "i =0 \n",
    "\n",
    "while i != 10:\n",
    "\n",
    "print(i)\n",
    "\n",
    "i +=1"
   ]
  },
  {
   "cell_type": "markdown",
   "id": "606172d6-a33b-42a2-ad81-74ec5c4390cd",
   "metadata": {},
   "source": [
    "`3. Write a Python program to calculate the sum of all numbers from 1 to 100 using a for loop.`"
   ]
  },
  {
   "cell_type": "code",
   "execution_count": 1,
   "id": "d55cd0ac-e7e2-44d7-9ce6-c12eba378fa3",
   "metadata": {},
   "outputs": [
    {
     "name": "stdout",
     "output_type": "stream",
     "text": [
      "Done\n",
      "Sum of all number is : 5050\n"
     ]
    }
   ],
   "source": [
    "sum_all =0\n",
    "\n",
    "for i in range(1,100+1):\n",
    "    sum_all =sum_all +i\n",
    "else:\n",
    "    print(\"Done\")\n",
    "    print(\"Sum of all number is :\",sum_all)"
   ]
  },
  {
   "cell_type": "code",
   "execution_count": 2,
   "id": "a0423997-3252-42e4-a4cf-75cf87aa6e8f",
   "metadata": {},
   "outputs": [],
   "source": [
    "def sum_func(n):\n",
    "    sum_of_all =0\n",
    "    \n",
    "    for i in range(1,n+1):\n",
    "        sum_of_all =sum_of_all +i\n",
    "    return sum_of_all"
   ]
  },
  {
   "cell_type": "code",
   "execution_count": 3,
   "id": "db19ff4f-300e-49d0-a5ba-6b43865d2132",
   "metadata": {},
   "outputs": [
    {
     "data": {
      "text/plain": [
       "5050"
      ]
     },
     "execution_count": 3,
     "metadata": {},
     "output_type": "execute_result"
    }
   ],
   "source": [
    "sum_func(100)"
   ]
  },
  {
   "cell_type": "markdown",
   "id": "c5e48391-4efb-455f-acd3-79a2839a5c40",
   "metadata": {},
   "source": [
    "`4. How do you iterate through a list using a for loop in Python?`"
   ]
  },
  {
   "cell_type": "markdown",
   "id": "884174f7-51d5-4956-9bdb-e4152fa7079d",
   "metadata": {},
   "source": [
    "We can iterate list like that :-"
   ]
  },
  {
   "cell_type": "code",
   "execution_count": 7,
   "id": "19b9776d-6d1b-40bf-940d-ae8d024f28ba",
   "metadata": {},
   "outputs": [
    {
     "name": "stdout",
     "output_type": "stream",
     "text": [
      "1 2 3 4 5 6 7 8 9 bhushan sudh 37 54 "
     ]
    }
   ],
   "source": [
    "lst =[1,2,3,4,5,6,7,8,9,'bhushan','sudh',37,54]\n",
    "\n",
    "for i in lst:\n",
    "    print(i,end= ' ')"
   ]
  },
  {
   "cell_type": "markdown",
   "id": "40cff1ad-7ffb-4c82-9594-c6fdfe4e3654",
   "metadata": {},
   "source": [
    "`5. Write a Python program to find the product of all elements in a list using a for loop.`"
   ]
  },
  {
   "cell_type": "code",
   "execution_count": 10,
   "id": "c4eb0ff7-3aa6-4768-ac32-761818ed44f4",
   "metadata": {},
   "outputs": [
    {
     "name": "stdout",
     "output_type": "stream",
     "text": [
      "Done\n",
      "Product of all list is : 403200\n"
     ]
    }
   ],
   "source": [
    "lst1 =[1,10,2,3,4,5,6,7,8]\n",
    "product =1\n",
    "for i in lst1:\n",
    "    product =product*i\n",
    "else:\n",
    "    print(\"Done\")\n",
    "    print(\"Product of all list is :\",product)"
   ]
  },
  {
   "cell_type": "markdown",
   "id": "154eddf9-82e4-4c3a-a664-a954b17e588c",
   "metadata": {},
   "source": [
    "`6. Create a Python program that prints all even numbers from 1 to 20 using a for loop.`"
   ]
  },
  {
   "cell_type": "code",
   "execution_count": 11,
   "id": "7024c077-66fc-4b9a-8e37-762bb66ed1b0",
   "metadata": {},
   "outputs": [
    {
     "name": "stdout",
     "output_type": "stream",
     "text": [
      "Done\n",
      "All Even number : [2, 4, 6, 8, 10, 12, 14, 16, 18, 20]\n"
     ]
    }
   ],
   "source": [
    "lst2 =[]\n",
    "\n",
    "for i in range(1,20+1):\n",
    "    if i %2 ==0:\n",
    "        lst2.append(i)\n",
    "else:\n",
    "    print(\"Done\")\n",
    "    print(\"All Even number :\",lst2)"
   ]
  },
  {
   "cell_type": "markdown",
   "id": "dbf88222-5831-40d4-82cd-52f14e14e387",
   "metadata": {},
   "source": [
    "`7. Write a Python program that calculates the factorial of a number using a for loop.`"
   ]
  },
  {
   "cell_type": "code",
   "execution_count": 22,
   "id": "88ee1736-4185-48b8-a77a-3c5b238c7e90",
   "metadata": {},
   "outputs": [
    {
     "name": "stdin",
     "output_type": "stream",
     "text": [
      "Enter the number : 5\n"
     ]
    },
    {
     "name": "stdout",
     "output_type": "stream",
     "text": [
      "Done\n",
      "Factorial of num : 120\n"
     ]
    }
   ],
   "source": [
    "user =int(input(\"Enter the number :\"))\n",
    "fact = 1\n",
    "for i in range(1,user+1):\n",
    "    fact =fact *i\n",
    "else:\n",
    "    print(\"Done\")\n",
    "    print(\"Factorial of num :\",fact)"
   ]
  },
  {
   "cell_type": "markdown",
   "id": "98174771-c856-4112-9a35-07016ca28fd4",
   "metadata": {},
   "source": [
    "OR"
   ]
  },
  {
   "cell_type": "code",
   "execution_count": 27,
   "id": "04797b53-a027-4599-b288-be49bf8fa5a8",
   "metadata": {},
   "outputs": [
    {
     "name": "stdin",
     "output_type": "stream",
     "text": [
      "Enter the number : 5\n"
     ]
    },
    {
     "name": "stdout",
     "output_type": "stream",
     "text": [
      "Done\n",
      "Factorial of num : 120\n"
     ]
    }
   ],
   "source": [
    "import math\n",
    "user =int(input(\"Enter the number :\"))\n",
    "fact = 1\n",
    "for i in range(1,user+1):\n",
    "    fact =math.factorial(i)\n",
    "else:\n",
    "    print(\"Done\")\n",
    "    print(\"Factorial of num :\",fact)"
   ]
  },
  {
   "cell_type": "markdown",
   "id": "8847c442-f9b0-49f0-907c-5654da3b70f4",
   "metadata": {},
   "source": [
    "`8. How can you iterate through the characters of a string using a for loop in Python?`"
   ]
  },
  {
   "cell_type": "code",
   "execution_count": 28,
   "id": "a73c7823-74ab-4602-96f0-49cf266f3df5",
   "metadata": {},
   "outputs": [
    {
     "name": "stdout",
     "output_type": "stream",
     "text": [
      "p w s k i l l s "
     ]
    }
   ],
   "source": [
    "string ='pwskills'\n",
    "\n",
    "for i in string :\n",
    "    print(i,end=' ')"
   ]
  },
  {
   "cell_type": "markdown",
   "id": "4f32a6d0-6913-43e2-a178-12f4e678969c",
   "metadata": {},
   "source": [
    "`9. Write a Python program to find the largest number in a list using a for loop.`"
   ]
  },
  {
   "cell_type": "code",
   "execution_count": 37,
   "id": "7b450ff7-fc8d-416a-9682-beb6032f955e",
   "metadata": {},
   "outputs": [
    {
     "name": "stdout",
     "output_type": "stream",
     "text": [
      "Done\n",
      "maximum number from list : 100\n"
     ]
    }
   ],
   "source": [
    "lst2 =[32,24,100,45,56,67,78,89,35,56,72] \n",
    "max_num =0\n",
    "for i in range(len(lst2)):\n",
    "    max_num =max(lst2)\n",
    "else:\n",
    "    print(\"Done\")\n",
    "    print('maximum number from list :',max_num)\n"
   ]
  },
  {
   "cell_type": "markdown",
   "id": "bc99b49d-c87e-40f0-acec-3f914257bee3",
   "metadata": {},
   "source": [
    "OR"
   ]
  },
  {
   "cell_type": "code",
   "execution_count": 41,
   "id": "00e6ca01-ab8e-42c1-97a2-d9228fa3942f",
   "metadata": {},
   "outputs": [
    {
     "name": "stdout",
     "output_type": "stream",
     "text": [
      "The largest number : 100\n"
     ]
    }
   ],
   "source": [
    "lst2 =[32,24,100,45,56,67,78,89,35,56,72] \n",
    "N = 0\n",
    "for num in range(len(lst2)) :\n",
    "    if lst2[num] > N :\n",
    "        N = lst2[num]\n",
    "print(\"The largest number :\",N)"
   ]
  },
  {
   "cell_type": "markdown",
   "id": "1efa1553-aae3-4c58-ab05-79241ae89e02",
   "metadata": {},
   "source": [
    "`10. Create a Python program that prints the Fibonacci sequence up to a specified limit using a for\n",
    "loop.`"
   ]
  },
  {
   "cell_type": "code",
   "execution_count": 45,
   "id": "ce5c14ec-e30a-4037-893e-17920de57c76",
   "metadata": {},
   "outputs": [
    {
     "name": "stdin",
     "output_type": "stream",
     "text": [
      "Enter the number : 10\n"
     ]
    },
    {
     "name": "stdout",
     "output_type": "stream",
     "text": [
      "0\n",
      "1\n",
      "1\n",
      "2\n",
      "3\n",
      "5\n",
      "8\n",
      "13\n",
      "21\n",
      "34\n",
      "55\n",
      "89\n"
     ]
    }
   ],
   "source": [
    "user1 =int(input(\"Enter the number :\"))\n",
    "first = 0\n",
    "second =1\n",
    "print(first)\n",
    "print(second)\n",
    "\n",
    "for i in range(1,user1+1):\n",
    "    third =first +second\n",
    "    print(third)\n",
    "    first =second\n",
    "    second =third"
   ]
  },
  {
   "cell_type": "markdown",
   "id": "8334fee6-edf8-49e8-95e2-6425d612cfb9",
   "metadata": {},
   "source": [
    "`11. Write a Python program to count the number of vowels in a given string using a for loop.`"
   ]
  },
  {
   "cell_type": "code",
   "execution_count": 46,
   "id": "57c79641-88a4-44e7-aab0-503f7b96e62a",
   "metadata": {},
   "outputs": [
    {
     "name": "stdout",
     "output_type": "stream",
     "text": [
      "Done\n",
      "Vowels count is : 9\n"
     ]
    }
   ],
   "source": [
    "string1 =\"hello i am a bhushan from pwskills\"\n",
    "count_vowels = 0\n",
    "vowels =\"AaEeIiOoUu\"\n",
    "for i in string1:\n",
    "    if i in vowels:\n",
    "        count_vowels =count_vowels +1\n",
    "else:\n",
    "    print(\"Done\")\n",
    "    print(\"Vowels count is :\",count_vowels)"
   ]
  },
  {
   "cell_type": "markdown",
   "id": "520c90f2-f59b-48b7-82dd-90c4045317f4",
   "metadata": {},
   "source": [
    "`12. Create a Python program that generates a multiplication table for a given number using a for\n",
    "loop.`"
   ]
  },
  {
   "cell_type": "code",
   "execution_count": 50,
   "id": "0c49de98-7021-45da-8eff-ef5d4fe67c54",
   "metadata": {},
   "outputs": [
    {
     "name": "stdin",
     "output_type": "stream",
     "text": [
      "Enter the num : 3\n"
     ]
    },
    {
     "name": "stdout",
     "output_type": "stream",
     "text": [
      "3 6 9 12 15 18 21 24 27 30 "
     ]
    }
   ],
   "source": [
    "user2 =int(input(\"Enter the num :\"))\n",
    "for i in range(1,11):\n",
    "    print(i*user2,end=' ')"
   ]
  },
  {
   "cell_type": "markdown",
   "id": "ae8fe41c-ebb4-4f96-8006-9b599f5e75d4",
   "metadata": {},
   "source": [
    "`13. Write a Python program to reverse a list using a for loop.`"
   ]
  },
  {
   "cell_type": "code",
   "execution_count": 53,
   "id": "9f89be6d-8565-4e88-9e19-6bd12748599c",
   "metadata": {},
   "outputs": [
    {
     "name": "stdout",
     "output_type": "stream",
     "text": [
      "10 9 8 7 6 5 4 3 2 1 "
     ]
    }
   ],
   "source": [
    "lst3 =[1,2,3,4,5,6,7,8,9,10]\n",
    "\n",
    "for i in lst3[::-1]:\n",
    "    print(i,end=' ')"
   ]
  },
  {
   "cell_type": "code",
   "execution_count": 54,
   "id": "90008506-cdaf-4642-899b-e391e7671887",
   "metadata": {},
   "outputs": [
    {
     "name": "stdout",
     "output_type": "stream",
     "text": [
      "10 9 8 7 6 5 4 3 2 1 "
     ]
    }
   ],
   "source": [
    "lst3 =[1,2,3,4,5,6,7,8,9,10]\n",
    "\n",
    "for i in reversed(lst3):\n",
    "    print(i,end=' ')"
   ]
  },
  {
   "cell_type": "markdown",
   "id": "458013b9-fb0c-4769-9d41-f8ba0f8982aa",
   "metadata": {},
   "source": [
    "`14. Write a Python program to find the common elements between two lists using a for loop.`"
   ]
  },
  {
   "cell_type": "code",
   "execution_count": 56,
   "id": "45f156be-431c-4a30-86d9-16da1d7cd9be",
   "metadata": {},
   "outputs": [],
   "source": [
    "lst4 =[1,2,3,34,23,45,56]\n",
    "lst5 =[1,2,3,88,89,90,91]"
   ]
  },
  {
   "cell_type": "code",
   "execution_count": 58,
   "id": "441b3953-c028-461c-a2e9-4fa23c802eb1",
   "metadata": {},
   "outputs": [
    {
     "data": {
      "text/plain": [
       "{1, 2, 3}"
      ]
     },
     "execution_count": 58,
     "metadata": {},
     "output_type": "execute_result"
    }
   ],
   "source": [
    "a =set(lst4)\n",
    "b =set(lst5)\n",
    "a.intersection(b)"
   ]
  },
  {
   "cell_type": "markdown",
   "id": "deb1e543-e33f-427e-b158-680c6a7eeb21",
   "metadata": {},
   "source": [
    "OR"
   ]
  },
  {
   "cell_type": "code",
   "execution_count": 72,
   "id": "f6609abe-e4be-43ea-a738-1e1d38f78fca",
   "metadata": {},
   "outputs": [
    {
     "name": "stdout",
     "output_type": "stream",
     "text": [
      "common element : [1, 2, 3]\n"
     ]
    }
   ],
   "source": [
    "lst6 =[]\n",
    "for i in lst4:\n",
    "    if i in lst5:\n",
    "        lst6.append(i)\n",
    "print(\"common element :\",lst6)"
   ]
  },
  {
   "cell_type": "markdown",
   "id": "1fa3cc13-17ce-4e08-ab34-89a990c8b322",
   "metadata": {},
   "source": [
    "OR"
   ]
  },
  {
   "cell_type": "code",
   "execution_count": 73,
   "id": "061343bc-aa93-4257-bd5e-5fafe1c33f34",
   "metadata": {},
   "outputs": [
    {
     "name": "stdout",
     "output_type": "stream",
     "text": [
      "1\n",
      "2\n",
      "3\n"
     ]
    }
   ],
   "source": [
    "for i in lst4:\n",
    "    for j in lst5:\n",
    "        if i ==j:\n",
    "            print(i)"
   ]
  },
  {
   "cell_type": "markdown",
   "id": "0e056590-fdc7-4c4e-8504-a200d5004b13",
   "metadata": {},
   "source": [
    "`15. Explain how to use a for loop to iterate through the keys and values of a dictionary in Python.`"
   ]
  },
  {
   "cell_type": "code",
   "execution_count": 74,
   "id": "9ae30f25-c324-406e-bcd0-ce108acf0561",
   "metadata": {},
   "outputs": [],
   "source": [
    "dict1 ={1 :\"Bhushan\",2:\"chopade\",3:\"Pwskills\"}"
   ]
  },
  {
   "cell_type": "code",
   "execution_count": 80,
   "id": "beaa00c8-5a8f-4fd5-ab5d-702bc877b396",
   "metadata": {},
   "outputs": [
    {
     "name": "stdout",
     "output_type": "stream",
     "text": [
      "1\n",
      "2\n",
      "3\n"
     ]
    }
   ],
   "source": [
    "for i in dict1.keys():\n",
    "    print(i)"
   ]
  },
  {
   "cell_type": "code",
   "execution_count": 81,
   "id": "042a0836-6179-43f2-905b-af3a76449bfe",
   "metadata": {},
   "outputs": [
    {
     "name": "stdout",
     "output_type": "stream",
     "text": [
      "Bhushan\n",
      "chopade\n",
      "Pwskills\n"
     ]
    }
   ],
   "source": [
    "for i in dict1.values():\n",
    "    print(i)"
   ]
  },
  {
   "cell_type": "markdown",
   "id": "de40335b-14a7-42e0-aca5-da74676e620d",
   "metadata": {},
   "source": [
    "`16. Write a Python program to find the GCD (Greatest Common Divisor) of two numbers using a for\n",
    "loop.`"
   ]
  },
  {
   "cell_type": "code",
   "execution_count": 131,
   "id": "071ba9ee-7dcd-4176-86ee-26e9971a8bb6",
   "metadata": {},
   "outputs": [
    {
     "name": "stdin",
     "output_type": "stream",
     "text": [
      "Enter the num : 36\n",
      "Enter the num : 60\n"
     ]
    },
    {
     "name": "stdout",
     "output_type": "stream",
     "text": [
      "GCD of 36 and 60 is 12\n"
     ]
    }
   ],
   "source": [
    "num1 = int(input(\"Enter the num :\"))\n",
    "num2 = int(input(\"Enter the num :\"))\n",
    "gcd = 1\n",
    "\n",
    "for i in range(1, min(num1, num2)):\n",
    "    if num1 % i == 0 and num2 % i == 0:\n",
    "        gcd = i\n",
    "print(\"GCD of\", num1, \"and\", num2, \"is\", gcd)"
   ]
  },
  {
   "cell_type": "markdown",
   "id": "78bb1a17-1b48-4e44-943c-d07ca527c9c7",
   "metadata": {},
   "source": [
    "`17. Create a Python program that checks if a string is a palindrome using a for loop.`"
   ]
  },
  {
   "cell_type": "code",
   "execution_count": 7,
   "id": "77501fa4-30a9-4da7-8785-79e1a9622ec5",
   "metadata": {},
   "outputs": [
    {
     "name": "stdin",
     "output_type": "stream",
     "text": [
      "Enter a word:  nayan\n"
     ]
    },
    {
     "name": "stdout",
     "output_type": "stream",
     "text": [
      "nayan is a palindrome.\n",
      "nayan is a palindrome.\n",
      "nayan is a palindrome.\n",
      "nayan is a palindrome.\n",
      "nayan is a palindrome.\n"
     ]
    }
   ],
   "source": [
    "# input word Need to Solve in differant way\n",
    "word = input(\"Enter a word: \")\n",
    "\n",
    "# make it case-INsensitive\n",
    "word = word.lower()\n",
    "\n",
    "# we also need the length of word to iterate over its range\n",
    "length_word = int(len(word))\n",
    "\n",
    "### use a for-loop\n",
    "for letter in range(len(word)):\n",
    "    if word[-length_word] == word[-1]:\n",
    "        print(word, \"is a palindrome.\")     \n",
    "        \n",
    "# if it doesn't match, its not a palindrome, print message\n",
    "    else:\n",
    "        print(word, \"is not a palindrome.\")"
   ]
  },
  {
   "cell_type": "markdown",
   "id": "54901da0-051f-4334-8dab-f6f98a4229ec",
   "metadata": {},
   "source": [
    "`18. Write a Python program to remove duplicates from a list using a for loop`"
   ]
  },
  {
   "cell_type": "code",
   "execution_count": 12,
   "id": "d0208776-f431-41ce-882c-b570e413447a",
   "metadata": {},
   "outputs": [],
   "source": [
    "lst4 =[1,2,2,3,3,4,5,6,7,7,8,8]"
   ]
  },
  {
   "cell_type": "code",
   "execution_count": 13,
   "id": "309846d5-5d59-4765-b6f9-ceb721e361db",
   "metadata": {},
   "outputs": [
    {
     "name": "stdout",
     "output_type": "stream",
     "text": [
      "Done\n",
      "[1, 2, 3, 4, 5, 6, 7, 8]\n"
     ]
    }
   ],
   "source": [
    "lst5 =[]\n",
    "\n",
    "for i in lst4:\n",
    "    if i not in lst5:\n",
    "        lst5.append(i)\n",
    "else:\n",
    "    print(\"Done\")\n",
    "    print(lst5)"
   ]
  },
  {
   "cell_type": "markdown",
   "id": "4b9cf4c4-870c-4fb3-9f33-051a33412dc9",
   "metadata": {},
   "source": [
    "`19. Create a Python program that counts the number of words in a sentence using a for loop.`"
   ]
  },
  {
   "cell_type": "code",
   "execution_count": 14,
   "id": "a3ba9a4e-0428-45aa-80a5-b40c20347952",
   "metadata": {},
   "outputs": [
    {
     "name": "stdout",
     "output_type": "stream",
     "text": [
      "Done\n",
      "Number of word : 32\n"
     ]
    }
   ],
   "source": [
    "word =\"hello i am bhushan from pwskills\"\n",
    "count_no_word =0\n",
    "for i in word:\n",
    "    count_no_word =count_no_word+1\n",
    "else:\n",
    "    print(\"Done\")\n",
    "    print(\"Number of word :\",count_no_word)"
   ]
  },
  {
   "cell_type": "code",
   "execution_count": 21,
   "id": "72a89fd5-ac0a-47c5-a76a-aea5143c6b2f",
   "metadata": {},
   "outputs": [
    {
     "name": "stdout",
     "output_type": "stream",
     "text": [
      "Done\n",
      "Number of word : 32\n"
     ]
    }
   ],
   "source": [
    "word =\"hello i am bhushan from pwskills\"\n",
    "count_no_word =0\n",
    "for i in word:\n",
    "    count_no_word =len(word)\n",
    "else:\n",
    "    print(\"Done\")\n",
    "    print(\"Number of word :\",count_no_word)"
   ]
  },
  {
   "cell_type": "markdown",
   "id": "5239d1ee-37b7-4a16-b7d8-f29e1b322a81",
   "metadata": {},
   "source": [
    "`20. Write a Python program to find the sum of all odd numbers from 1 to 50 using a for loop.`"
   ]
  },
  {
   "cell_type": "code",
   "execution_count": 22,
   "id": "bdd7928f-2609-43ae-b9d4-9fa834078a4f",
   "metadata": {},
   "outputs": [
    {
     "name": "stdout",
     "output_type": "stream",
     "text": [
      "Done\n",
      "Sum of odd num : 625\n"
     ]
    }
   ],
   "source": [
    "sum_odd = 0\n",
    "for i in range(1,50+1):\n",
    "    if i%2 !=0:\n",
    "        sum_odd =sum_odd+i\n",
    "else:\n",
    "    print(\"Done\")\n",
    "    print(\"Sum of odd num :\",sum_odd)"
   ]
  },
  {
   "cell_type": "markdown",
   "id": "e88a99b9-8f9f-4965-aaf4-5739230e8ecb",
   "metadata": {},
   "source": [
    "`21. Write a Python program that checks if a given year is a leap year using a for loop.`"
   ]
  },
  {
   "cell_type": "code",
   "execution_count": 26,
   "id": "4210de7e-10b8-42ff-8b3e-87378546199f",
   "metadata": {},
   "outputs": [
    {
     "name": "stdin",
     "output_type": "stream",
     "text": [
      "Enter the year : 2012\n",
      "Enter the num of year : 2\n"
     ]
    },
    {
     "name": "stdout",
     "output_type": "stream",
     "text": [
      "2012 is a leap year\n",
      "2013\n",
      "2014\n"
     ]
    }
   ],
   "source": [
    "start_year =int(input(\"Enter the year :\"))\n",
    "num_of_years =int(input(\"Enter the num of year :\"))\n",
    "\n",
    "end_year =start_year +num_of_years\n",
    "for year in range(start_year-1 ,end_year):\n",
    "    year =year +1\n",
    "    if year%4 ==0 and (year%100 !=0 or year%400 ==0):\n",
    "        print(f\"{year} is a leap year\")\n",
    "    else:\n",
    "        print(year)"
   ]
  },
  {
   "cell_type": "markdown",
   "id": "e240abb1-7a5b-4e7c-808b-04bfdb056d3c",
   "metadata": {},
   "source": [
    "`22. Create a Python program that calculates the square root of a number using a for loop.`"
   ]
  },
  {
   "cell_type": "code",
   "execution_count": 33,
   "id": "907d198b-287f-4b25-9c25-905893372140",
   "metadata": {},
   "outputs": [
    {
     "name": "stdin",
     "output_type": "stream",
     "text": [
      "Enter the number : 20\n"
     ]
    },
    {
     "name": "stdout",
     "output_type": "stream",
     "text": [
      "Done\n",
      "Square root of num is : 4.358898943540674\n"
     ]
    }
   ],
   "source": [
    "import math\n",
    "user4 =int(input(\"Enter the number :\"))\n",
    "for i in range(1,user4):\n",
    "    square_root =math.sqrt(i)\n",
    "    \n",
    "else:\n",
    "    print(\"Done\")\n",
    "    print(\"Square root of num is :\",square_root)"
   ]
  },
  {
   "cell_type": "markdown",
   "id": "ef1eaa89-2c87-4759-a618-12b4aadc72e6",
   "metadata": {},
   "source": [
    "`23. Write a Python program to find the LCM (Least Common Multiple) of two numbers using a for\n",
    "loop.`"
   ]
  },
  {
   "cell_type": "code",
   "execution_count": 34,
   "id": "892b3d85-3756-4c86-8a70-6ef25f098929",
   "metadata": {},
   "outputs": [
    {
     "name": "stdout",
     "output_type": "stream",
     "text": [
      "LCM of 12 and 14 is 84\n"
     ]
    }
   ],
   "source": [
    "num1 = 12\n",
    "num2 = 14\n",
    "for i in range(max(num1, num2), 1 + (num1 * num2)):\n",
    "    if i % num1 == i % num2 == 0:\n",
    "        lcm = i\n",
    "        break\n",
    "print(\"LCM of\", num1, \"and\", num2, \"is\", lcm)"
   ]
  },
  {
   "cell_type": "markdown",
   "id": "3ccefcae-744c-47fa-943d-fe591cabe89f",
   "metadata": {},
   "source": [
    "## `If else :`"
   ]
  },
  {
   "cell_type": "markdown",
   "id": "df895ccf-e59f-4df9-9b65-4c296e13f098",
   "metadata": {},
   "source": [
    "`1. Write a Python program to check if a number is positive, negative, or zero using an if-else\n",
    "statement`"
   ]
  },
  {
   "cell_type": "code",
   "execution_count": 39,
   "id": "a81137e4-1e87-4938-bd1e-894de3d85e08",
   "metadata": {},
   "outputs": [
    {
     "name": "stdin",
     "output_type": "stream",
     "text": [
      "Enter the number : 23\n"
     ]
    },
    {
     "name": "stdout",
     "output_type": "stream",
     "text": [
      "Positive number\n"
     ]
    }
   ],
   "source": [
    "user5 =int(input(\"Enter the number :\"))\n",
    "if user5 ==0 :\n",
    "    print(\"zero\")\n",
    "elif user5 >0 :\n",
    "    print(\"Positive number\")\n",
    "elif user5 <0 :\n",
    "    print(\"Negative number\")\n",
    "else:\n",
    "    print(\"Invalid Entry\")"
   ]
  },
  {
   "cell_type": "markdown",
   "id": "418212c8-4053-45e6-8962-fba639629831",
   "metadata": {},
   "source": [
    "`2. Create a Python program that checks if a given number is even or odd using an if-else statement`"
   ]
  },
  {
   "cell_type": "code",
   "execution_count": 41,
   "id": "bfa683a9-161b-4689-9038-01fcdbab6f2e",
   "metadata": {},
   "outputs": [
    {
     "name": "stdin",
     "output_type": "stream",
     "text": [
      "Enter the num : 3\n"
     ]
    },
    {
     "name": "stdout",
     "output_type": "stream",
     "text": [
      "Given number is odd num \n"
     ]
    }
   ],
   "source": [
    "user6 =int(input(\"Enter the num :\"))\n",
    "if user6%2 ==0:\n",
    "    print(\"Given number is even num \")\n",
    "elif user6%2 !=0:\n",
    "    print(\"Given number is odd num \")"
   ]
  },
  {
   "cell_type": "markdown",
   "id": "93b383bb-5519-48fe-adc8-910cef9b0ecd",
   "metadata": {},
   "source": [
    "`3. How can you use nested if-else statements in Python, and provide an example?`"
   ]
  },
  {
   "cell_type": "markdown",
   "id": "a620b42d-0f52-437f-b1ed-460f56e8a909",
   "metadata": {},
   "source": [
    "Ans :-The nested if statements in Python are the nesting of an if statement inside another if \n",
    "statement with or without an else statement."
   ]
  },
  {
   "cell_type": "code",
   "execution_count": 42,
   "id": "81d9d7c2-fbdb-4eb0-801a-f31443d542d7",
   "metadata": {},
   "outputs": [
    {
     "name": "stdout",
     "output_type": "stream",
     "text": [
      "Bigger than 5\n",
      "Between 5 and 15\n"
     ]
    }
   ],
   "source": [
    "# Example\n",
    "num = 10\n",
    " \n",
    "if num > 5:\n",
    "    print(\"Bigger than 5\")\n",
    "    if num <= 15:\n",
    "        print(\"Between 5 and 15\")"
   ]
  },
  {
   "cell_type": "markdown",
   "id": "9123dfed-3a20-471a-828a-5e0a9ffb44ca",
   "metadata": {},
   "source": [
    "`4. Write a Python program to determine the largest of three numbers using if-else.`"
   ]
  },
  {
   "cell_type": "code",
   "execution_count": 10,
   "id": "6bfa5bd6-2caa-4ae4-9965-7726fe6d9402",
   "metadata": {},
   "outputs": [
    {
     "name": "stdin",
     "output_type": "stream",
     "text": [
      "Enter num : 16\n",
      "Enter num : 14\n",
      "Enter num : 15\n"
     ]
    },
    {
     "name": "stdout",
     "output_type": "stream",
     "text": [
      "user7  is greater number\n"
     ]
    }
   ],
   "source": [
    "user7 =int(input(\"Enter num :\"))\n",
    "user8 =int(input(\"Enter num :\"))\n",
    "user9 =int(input(\"Enter num :\"))\n",
    "\n",
    "if (user7 > user8) and (user7 > user9) :\n",
    "    print(\"user7  is greater number\")\n",
    "elif (user8 > user7) and (user8 > user9) :\n",
    "    print(\"user8  is greater number\")\n",
    "elif (user9 > user7) and (user9 > user8) : \n",
    "    print(\"user9  is greater number\")"
   ]
  },
  {
   "cell_type": "markdown",
   "id": "854918a6-78e1-4fcb-8c71-e32f5b167533",
   "metadata": {},
   "source": [
    "`5. Write a Python program that calculates the absolute value of a number using if-else.`"
   ]
  },
  {
   "cell_type": "code",
   "execution_count": 15,
   "id": "ca76c5c3-5817-4c5c-8648-cc40bded26bb",
   "metadata": {},
   "outputs": [
    {
     "name": "stdin",
     "output_type": "stream",
     "text": [
      "Enter the number : 45\n"
     ]
    },
    {
     "name": "stdout",
     "output_type": "stream",
     "text": [
      "45 :it is absolute value\n"
     ]
    }
   ],
   "source": [
    "user10 =int(input(\"Enter the number :\"))\n",
    "if user10 == abs(user10):\n",
    "    print(f\"{user10} :it is absolute value\")\n",
    "else:\n",
    "    print(\"It is not absolute value\")"
   ]
  },
  {
   "cell_type": "markdown",
   "id": "763d4622-893b-4c03-9c77-675daf67c7cc",
   "metadata": {},
   "source": [
    "`6. Create a Python program that checks if a given character is a vowel or consonant using if-else.`"
   ]
  },
  {
   "cell_type": "code",
   "execution_count": 26,
   "id": "62bf539d-7606-4ec8-a730-731909a16bf2",
   "metadata": {},
   "outputs": [
    {
     "name": "stdin",
     "output_type": "stream",
     "text": [
      "Enter the input : a\n"
     ]
    },
    {
     "name": "stdout",
     "output_type": "stream",
     "text": [
      "Given character is vowel\n"
     ]
    }
   ],
   "source": [
    "user11 =input(\"Enter the input :\")\n",
    "\n",
    "if(user11 == \"A\" or user11==\"a\" or user11==\"E\" or user11==\"e\" or user11==\"I\" or user11==\"i\" or user11==\"O\" or user11==\"o\" or user11==\"U\"or user11==\"u\"):\n",
    "    print(\"Given character is vowel\")\n",
    "else:\n",
    "    print(\"Given character is Consanant\")"
   ]
  },
  {
   "cell_type": "markdown",
   "id": "8cdce6b1-8b01-4f9a-9278-8682ab5ce5c4",
   "metadata": {},
   "source": [
    "`7. Write a Python program to determine if a user is eligible to vote based on their age using if-else.`"
   ]
  },
  {
   "cell_type": "code",
   "execution_count": 28,
   "id": "3294a70d-f326-4131-974b-0e58b65572f5",
   "metadata": {},
   "outputs": [
    {
     "name": "stdin",
     "output_type": "stream",
     "text": [
      "Enter the age : 20\n"
     ]
    },
    {
     "name": "stdout",
     "output_type": "stream",
     "text": [
      "Person is eligible for vote\n"
     ]
    }
   ],
   "source": [
    "Age =int(input(\"Enter the age :\"))\n",
    "\n",
    "if Age >=18:\n",
    "    print(\"Person is eligible for vote\")\n",
    "else:\n",
    "    print(\"Person is not eligible for vote\")"
   ]
  },
  {
   "cell_type": "markdown",
   "id": "dcc403cb-f559-411d-85fd-2901986f08b0",
   "metadata": {},
   "source": [
    "`8. Create a Python program that calculates the discount amount based on the purchase amount\n",
    "using if-else.`"
   ]
  },
  {
   "cell_type": "code",
   "execution_count": 29,
   "id": "cf210111-ab44-4e56-b8e2-978673da1bb3",
   "metadata": {},
   "outputs": [
    {
     "name": "stdin",
     "output_type": "stream",
     "text": [
      "Enter purchase amount : 6000\n"
     ]
    },
    {
     "name": "stdout",
     "output_type": "stream",
     "text": [
      "Discount Amount = 100.00\n",
      "Net Bill Amount = 5900.00\n"
     ]
    }
   ],
   "source": [
    "p=int(input('Enter purchase amount :'))\n",
    "\n",
    "if p<=5000:\n",
    "    dis=0\n",
    "elif p>5000 and p<=10000:\n",
    "    dis=(p-5000)*(10/100.0)\n",
    "elif p>10000 and p<=20000:\n",
    "    dis=(p-10000)*(20/100.0)\n",
    "elif p>20000 and p<=30000:\n",
    "    dis=(p-20000)*(30/100.0)\n",
    "else:\n",
    "    dis=(p-30000)*(40/100.0)\n",
    "\n",
    "print('Discount Amount = {:.2f}'.format(dis))\n",
    "print('Net Bill Amount = {:.2f}'.format(p-dis))"
   ]
  },
  {
   "cell_type": "markdown",
   "id": "643ae331-cbad-4117-9fd1-006fead0d571",
   "metadata": {},
   "source": [
    "`9. Write a Python program to check if a number is within a specified range using if-else.`"
   ]
  },
  {
   "cell_type": "code",
   "execution_count": 35,
   "id": "c9ecf09f-3260-4f91-929b-74479b595e3c",
   "metadata": {},
   "outputs": [
    {
     "name": "stdin",
     "output_type": "stream",
     "text": [
      "Enter the number : 101\n"
     ]
    },
    {
     "name": "stdout",
     "output_type": "stream",
     "text": [
      "Given number is ouside the range\n"
     ]
    }
   ],
   "source": [
    "n1 =100\n",
    "n2 =50\n",
    "user12 = int(input(\"Enter the number :\"))\n",
    "\n",
    "if user12<= n1  and user12 >= n2:\n",
    "    print(\"The given number is within range\")\n",
    "else:\n",
    "    print(\"Given number is ouside the range\")"
   ]
  },
  {
   "cell_type": "markdown",
   "id": "8291e4da-f337-4215-8917-0d4519b528fc",
   "metadata": {},
   "source": [
    "`10. Create a Python program that determines the grade of a student based on their score using\n",
    "if-else.`"
   ]
  },
  {
   "cell_type": "code",
   "execution_count": 36,
   "id": "4132459a-c817-4ebe-a34f-6459594d7426",
   "metadata": {},
   "outputs": [
    {
     "name": "stdin",
     "output_type": "stream",
     "text": [
      "Enter the marks >>> 90\n"
     ]
    },
    {
     "name": "stdout",
     "output_type": "stream",
     "text": [
      "Student will get 5* \n"
     ]
    }
   ],
   "source": [
    "marks =int(input(\"Enter the marks >>>\"))\n",
    "if marks > 89:\n",
    "    print(\"Student will get 5* \")\n",
    "elif marks >74 and marks < 90:\n",
    "    print(\"Student will get 4* \")\n",
    "elif marks >59 and marks <75:\n",
    "    print(\"Student will get 3* \")\n",
    "elif marks >39 and marks < 60:\n",
    "    print(\"Student will get 2* \")\n",
    "else:\n",
    "    print(\"Student will fail in exam\")  "
   ]
  },
  {
   "cell_type": "markdown",
   "id": "17b692f0-28db-4437-aebc-721296a615de",
   "metadata": {},
   "source": [
    "`11. Write a Python program to check if a string is empty or not using if-else`"
   ]
  },
  {
   "cell_type": "code",
   "execution_count": 44,
   "id": "6f8d097c-f043-404c-bc0c-8f7733f003ba",
   "metadata": {},
   "outputs": [
    {
     "name": "stdin",
     "output_type": "stream",
     "text": [
      "Enter the string : bhushan\n"
     ]
    },
    {
     "name": "stdout",
     "output_type": "stream",
     "text": [
      "String is not empty\n"
     ]
    }
   ],
   "source": [
    "user13 =input(\"Enter the string :\")\n",
    "string3 =\"\"\n",
    "if user13 ==string3:\n",
    "    print(\"Given string empty \")\n",
    "else:\n",
    "    print(\"String is not empty\")"
   ]
  },
  {
   "cell_type": "code",
   "execution_count": 45,
   "id": "10447f62-801f-41b8-b1ac-9c0a455e3cda",
   "metadata": {},
   "outputs": [],
   "source": [
    "def string_empty(u):\n",
    "    if u ==\"\":\n",
    "        return \"String is empty\"\n",
    "    else:\n",
    "        return \"String is not empty\""
   ]
  },
  {
   "cell_type": "code",
   "execution_count": 50,
   "id": "506a59c3-714b-46f6-a32e-715fa297a164",
   "metadata": {},
   "outputs": [
    {
     "data": {
      "text/plain": [
       "'String is empty'"
      ]
     },
     "execution_count": 50,
     "metadata": {},
     "output_type": "execute_result"
    }
   ],
   "source": [
    "string_empty(\"\")"
   ]
  },
  {
   "cell_type": "markdown",
   "id": "0e3b0093-5bc6-44f3-bfd5-db609d96de93",
   "metadata": {},
   "source": [
    "`12. Create a Python program that identifies the type of a triangle (e.g., equilateral, isosceles, or scalene) based on input values using if-else.`"
   ]
  },
  {
   "cell_type": "code",
   "execution_count": 51,
   "id": "0ddd029e-df4d-496a-8b1e-d39794cf22e8",
   "metadata": {},
   "outputs": [
    {
     "name": "stdin",
     "output_type": "stream",
     "text": [
      "Enter the value : 12\n",
      "Enter the value : 12\n",
      "Enter the value : 13\n"
     ]
    },
    {
     "name": "stdout",
     "output_type": "stream",
     "text": [
      "Triangle is Isosceles\n"
     ]
    }
   ],
   "source": [
    "# Take 3 input from user \n",
    "X= int(input('Enter the value :'))\n",
    "Y= int(input('Enter the value :'))\n",
    "Z= int(input('Enter the value :'))\n",
    "# Check Condition\n",
    "if X ==Y==Z:\n",
    "    print('Triangle is equilateral')\n",
    "elif X==Y or Y==Z or Z==X:\n",
    "    print('Triangle is Isosceles')\n",
    "else:\n",
    "    print('Triangle is scalene')"
   ]
  },
  {
   "cell_type": "markdown",
   "id": "4eb2970f-de87-44f4-802f-5ba030b918ab",
   "metadata": {},
   "source": [
    "`13. Write a Python program to determine the day of the week based on a user-provided number\n",
    "using if-else.`"
   ]
  },
  {
   "cell_type": "code",
   "execution_count": 58,
   "id": "03cc393d-fe1e-4a7b-8cf1-118171062fd4",
   "metadata": {},
   "outputs": [
    {
     "name": "stdin",
     "output_type": "stream",
     "text": [
      "Enter the day (1-7) : 7\n"
     ]
    },
    {
     "name": "stdout",
     "output_type": "stream",
     "text": [
      "Sunday\n"
     ]
    }
   ],
   "source": [
    "day_entry =int(input(\"Enter the day (1-7) :\"))\n",
    "# 1.Monday\n",
    "# 2.tuesday\n",
    "# 3.wednesday\n",
    "# 4.thursday\n",
    "# 5.friday\n",
    "# 6.satuarday\n",
    "# 7.sunday\n",
    "if day_entry <=7:\n",
    "    if day_entry <=6:\n",
    "        if day_entry <=5:\n",
    "            if day_entry <=4:\n",
    "                if day_entry <=3:\n",
    "                    if day_entry <=2:\n",
    "                        if day_entry ==1:\n",
    "                            print(\"Monday\")\n",
    "                        else:\n",
    "                            print(\"Tuesday\")\n",
    "                    else:\n",
    "                        print(\"Wednesday\")\n",
    "                else:\n",
    "                    print(\"Thursday\")\n",
    "            else:\n",
    "                print(\"Friday\")\n",
    "        else:\n",
    "            print(\"Satuarday\")\n",
    "    else:\n",
    "        print(\"Sunday\")\n",
    "else:\n",
    "    print(\"Invalid Entry\")  "
   ]
  },
  {
   "cell_type": "markdown",
   "id": "c01420d3-889e-4bbf-86e2-2012fc21130e",
   "metadata": {},
   "source": [
    "`14. Create a Python program that checks if a given year is a leap year using both if-else and a\n",
    "function`"
   ]
  },
  {
   "cell_type": "code",
   "execution_count": 60,
   "id": "d2a3fb44-a47f-41d7-850f-7048063f1831",
   "metadata": {},
   "outputs": [
    {
     "name": "stdin",
     "output_type": "stream",
     "text": [
      "Enter a year:  2012\n"
     ]
    },
    {
     "name": "stdout",
     "output_type": "stream",
     "text": [
      "2012 is a leap year and evenly divisible by 400.\n"
     ]
    }
   ],
   "source": [
    "year = int(input(\"Enter a year: \"))\n",
    "\n",
    "if (year % 4 == 0 and year % 100 != 0) or (year % 400 == 0):\n",
    "    print(f\"{year} is a leap year and evenly divisible by 400.\")\n",
    "else:\n",
    "    print(f\"{year} is not a leap year or not evenly divisible by 400\")"
   ]
  },
  {
   "cell_type": "markdown",
   "id": "c6ffdbd7-9da1-445f-a67c-0b7072a81c6a",
   "metadata": {},
   "source": [
    "`15. How do you use the \"assert\" statement in Python to add debugging checks within if-else blocks?`"
   ]
  },
  {
   "cell_type": "markdown",
   "id": "53a17596-360d-4260-82dd-09ea20bb8405",
   "metadata": {},
   "source": [
    "Ans :-This statement takes as input a boolean condition, which when returns true doesn’t do \n",
    "anything and continues the normal flow of execution, but if it is computed to be false, then it \n",
    "raises an AssertionError along with the optional message provided. "
   ]
  },
  {
   "cell_type": "code",
   "execution_count": 62,
   "id": "1d590a2f-8b67-40b5-a0f5-aea319de87d5",
   "metadata": {},
   "outputs": [
    {
     "name": "stdout",
     "output_type": "stream",
     "text": [
      "The value of a / b is : \n"
     ]
    },
    {
     "ename": "AssertionError",
     "evalue": "",
     "output_type": "error",
     "traceback": [
      "\u001b[0;31m---------------------------------------------------------------------------\u001b[0m",
      "\u001b[0;31mAssertionError\u001b[0m                            Traceback (most recent call last)",
      "Cell \u001b[0;32mIn[62], line 6\u001b[0m\n\u001b[1;32m      4\u001b[0m \u001b[38;5;66;03m# using assert to check for 0\u001b[39;00m\n\u001b[1;32m      5\u001b[0m \u001b[38;5;28mprint\u001b[39m(\u001b[38;5;124m\"\u001b[39m\u001b[38;5;124mThe value of a / b is : \u001b[39m\u001b[38;5;124m\"\u001b[39m)\n\u001b[0;32m----> 6\u001b[0m \u001b[38;5;28;01massert\u001b[39;00m b \u001b[38;5;241m!=\u001b[39m \u001b[38;5;241m0\u001b[39m\n\u001b[1;32m      7\u001b[0m \u001b[38;5;28mprint\u001b[39m(a \u001b[38;5;241m/\u001b[39m b)\n",
      "\u001b[0;31mAssertionError\u001b[0m: "
     ]
    }
   ],
   "source": [
    "a = 4\n",
    "b = 0\n",
    " \n",
    "# using assert to check for 0\n",
    "print(\"The value of a / b is : \")\n",
    "assert b != 0\n",
    "print(a / b)"
   ]
  },
  {
   "cell_type": "markdown",
   "id": "18fb6459-b8b1-4177-9ca5-d6711a33a890",
   "metadata": {},
   "source": [
    "`16. Create a Python program that determines the eligibility of a person for a senior citizen discount based on age using if-else.`"
   ]
  },
  {
   "cell_type": "code",
   "execution_count": 65,
   "id": "75abcc79-6a4e-4718-9152-217547f59946",
   "metadata": {},
   "outputs": [
    {
     "name": "stdin",
     "output_type": "stream",
     "text": [
      "Enter the age : 60\n"
     ]
    },
    {
     "name": "stdout",
     "output_type": "stream",
     "text": [
      "The person senoir citizen he is eligible for discount\n"
     ]
    }
   ],
   "source": [
    "Age =int(input(\"Enter the age :\"))\n",
    "\n",
    "if Age >= 60:\n",
    "    print(\"The person senoir citizen he is eligible for discount\")\n",
    "else:\n",
    "    print(\"The person is not senoir citizen he is not eligible for discount\")"
   ]
  },
  {
   "cell_type": "markdown",
   "id": "191821d0-4f41-4438-9a6b-11d924b3dcdf",
   "metadata": {},
   "source": [
    "`17. Write a Python program to categorize a given character as uppercase, lowercase, or neither\n",
    "using if-else.`"
   ]
  },
  {
   "cell_type": "code",
   "execution_count": 72,
   "id": "30a9f620-6f0d-4ebf-9907-a4b5789120a4",
   "metadata": {},
   "outputs": [
    {
     "name": "stdin",
     "output_type": "stream",
     "text": [
      "Enter the char : a\n"
     ]
    },
    {
     "name": "stdout",
     "output_type": "stream",
     "text": [
      "these is Lower case character\n"
     ]
    }
   ],
   "source": [
    "char= input(\"Enter the char :\")\n",
    "\n",
    "if char.isupper():\n",
    "    print(\"these is upper case character\")\n",
    "elif char.islower():\n",
    "    print(\"these is Lower case character\")\n",
    "else:\n",
    "    print(\"Invalid char\")"
   ]
  },
  {
   "cell_type": "markdown",
   "id": "12e91bd5-3282-439b-9a3f-b55cbf68dd09",
   "metadata": {},
   "source": [
    "`18. Write a Python program to determine the roots of a quadratic equation using if-else.`"
   ]
  },
  {
   "cell_type": "code",
   "execution_count": 73,
   "id": "077c18c6-e5a7-4f0c-8135-6f8c42f45616",
   "metadata": {},
   "outputs": [
    {
     "name": "stdin",
     "output_type": "stream",
     "text": [
      "Enter the value of a:  2\n",
      "Enter the value of b:  4\n",
      "Enter the value of c:  4\n"
     ]
    },
    {
     "name": "stdout",
     "output_type": "stream",
     "text": [
      "The roots are imaginary. \n"
     ]
    }
   ],
   "source": [
    "# Quadratic Equation\n",
    "a = float(input('Enter the value of a: '))  \n",
    "b = float(input('Enter the value of b: '))  \n",
    "c = float(input('Enter the value of c: '))  \n",
    "  \n",
    "# calculate the discriminant  \n",
    "d = (b**2) - (4*a*c)  \n",
    "d1=d**0.5\n",
    "if(d<0):\n",
    "    print(\"The roots are imaginary. \")\n",
    "else:\n",
    "    r1=(-b+d1)/2*a\n",
    "    r2=(-b-d1)/2*a\n",
    "    print(\"The first root: \",round(r1,2))\n",
    "    print(\"The second root: \",round(r2,2))"
   ]
  },
  {
   "cell_type": "markdown",
   "id": "f8dd3f73-cd83-49a8-84c3-fe1a853ecc3c",
   "metadata": {},
   "source": [
    "`19. Create a Python program that checks if a given year is a century year or not using if-else.`"
   ]
  },
  {
   "cell_type": "code",
   "execution_count": 78,
   "id": "d8a8a88d-0fdd-4fb1-8fe1-8052f60e6abb",
   "metadata": {},
   "outputs": [
    {
     "name": "stdin",
     "output_type": "stream",
     "text": [
      "Enter a year:  2000\n"
     ]
    },
    {
     "name": "stdout",
     "output_type": "stream",
     "text": [
      "2000 is a century year.\n"
     ]
    }
   ],
   "source": [
    "# Input year from the user\n",
    "year = int(input(\"Enter a year: \"))\n",
    "\n",
    "if year % 100 == 0:\n",
    "        print(f\"{year} is a century year.\")\n",
    "else:\n",
    "    print(f\"{year} is not a century year.\")"
   ]
  },
  {
   "cell_type": "markdown",
   "id": "f7f9b626-434a-43f0-9ed2-0c8e9f863c91",
   "metadata": {},
   "source": [
    "`20. Write a Python program to determine if a given number is a perfect square using if-else.`"
   ]
  },
  {
   "cell_type": "code",
   "execution_count": 82,
   "id": "eeb7d8a5-575f-4d40-92ec-9ba034733c45",
   "metadata": {},
   "outputs": [
    {
     "name": "stdin",
     "output_type": "stream",
     "text": [
      "enter the num : 144\n"
     ]
    },
    {
     "name": "stdout",
     "output_type": "stream",
     "text": [
      "Given number is perfect square\n"
     ]
    }
   ],
   "source": [
    "import math \n",
    "num =int(input('enter the num :'))\n",
    "sqrt_num =math.sqrt(num)\n",
    "\n",
    "if sqrt_num.is_integer():\n",
    "    print(\"Given number is perfect square\")\n",
    "else:\n",
    "    print(\"Given number is not perfect square\")"
   ]
  },
  {
   "cell_type": "markdown",
   "id": "1399fdab-098f-4fea-b0f8-cddc64326d52",
   "metadata": {},
   "source": [
    "`21. Explain the purpose of the \"continue\" and \"break\" statements within if-else loops.`"
   ]
  },
  {
   "cell_type": "markdown",
   "id": "3c607942-395c-4b95-95a9-1289474aa15e",
   "metadata": {},
   "source": [
    "* Continue =\n",
    "\n",
    "continue statement is used to skip the current operation when given condition is true.\n"
   ]
  },
  {
   "cell_type": "markdown",
   "id": "886ef69e-976f-4c7c-929b-2c394eb33269",
   "metadata": {},
   "source": [
    "* Break = \n",
    "\n",
    "break statement is used to break the loop when given condition is true."
   ]
  },
  {
   "cell_type": "markdown",
   "id": "9786f6f1-950d-4837-8e54-bb1bec74e9a1",
   "metadata": {},
   "source": [
    "`22. Create a Python program that calculates the BMI (Body Mass Index) of a person based on their\n",
    "weight and height using if-else.`"
   ]
  },
  {
   "cell_type": "code",
   "execution_count": 85,
   "id": "ce381f6c-6bba-4c87-9c00-08f8bea48d0a",
   "metadata": {},
   "outputs": [
    {
     "name": "stdin",
     "output_type": "stream",
     "text": [
      "Enter person Weight in (kg) : 56\n",
      "Enter person Height in (cm) : 167\n"
     ]
    },
    {
     "name": "stdout",
     "output_type": "stream",
     "text": [
      "Normal\n"
     ]
    }
   ],
   "source": [
    "# formula of BMI [weight (kg) / height (cm) / height (cm)] x 10,000\n",
    "Person_weight =float(input(\"Enter person Weight in (kg) :\"))\n",
    "Person_Height =float(input(\"Enter person Height in (cm) :\"))\n",
    "BMI = (Person_weight /Person_Height /Person_Height)*10000\n",
    "# print(round(BMI,2))\n",
    "\n",
    "if BMI <= 18.4 :\n",
    "    print(\"Underweight\")\n",
    "elif BMI >18.5 and BMI <25.0 :\n",
    "    print(\"Normal\")\n",
    "elif BMI >24.9 and BMI <40.0 :\n",
    "    print(\"Overwieight\")\n",
    "elif BMI >=40:\n",
    "    print(\"Obese\")\n",
    "else:\n",
    "    print(\"Invalid Entry\")"
   ]
  },
  {
   "cell_type": "markdown",
   "id": "0f10cec9-60b7-4c47-b551-9c6061a40194",
   "metadata": {},
   "source": [
    "`23. How can you use the \"filter()\" function with if-else statements to filter elements from a list?`"
   ]
  },
  {
   "cell_type": "code",
   "execution_count": 3,
   "id": "65ee2890-2249-4d34-8c05-0f41ee8dde92",
   "metadata": {},
   "outputs": [
    {
     "name": "stdout",
     "output_type": "stream",
     "text": [
      "[2, 4, 6, 8]\n"
     ]
    }
   ],
   "source": [
    "def is_even(x):\n",
    "    return x % 2 == 0\n",
    "\n",
    "my_list = [1, 2, 3, 4, 5, 6, 7, 8, 9]\n",
    "result = filter(is_even, my_list)\n",
    "new_list = list(result)\n",
    "print(new_list)"
   ]
  },
  {
   "cell_type": "markdown",
   "id": "44f6d5ce-bc0d-4245-842c-10db2dbab7e9",
   "metadata": {},
   "source": [
    "`24. Write a Python program to determine if a given number is prime or not using if-else.`"
   ]
  },
  {
   "cell_type": "code",
   "execution_count": 7,
   "id": "ace19d24-13e2-412c-8462-cf59198bd7fa",
   "metadata": {},
   "outputs": [
    {
     "name": "stdin",
     "output_type": "stream",
     "text": [
      "Enter the number : 12\n"
     ]
    },
    {
     "name": "stdout",
     "output_type": "stream",
     "text": [
      "12 is not a prime number\n"
     ]
    }
   ],
   "source": [
    "num =int(input(\"Enter the number :\"))\n",
    "# If given number is greater than 1\n",
    "if num > 1:\n",
    "    # Iterate from 2 to n / 2\n",
    "    for i in range(2, int(num/2)+1):\n",
    "        # If num is divisible by any number between\n",
    "        # 2 and n / 2, it is not prime\n",
    "        if (num % i) == 0:\n",
    "            print(num, \"is not a prime number\")\n",
    "            break\n",
    "    else:\n",
    "        print(num, \"is a prime number\")\n",
    "else:\n",
    "    print(num, \"is not a prime number\")"
   ]
  },
  {
   "cell_type": "markdown",
   "id": "945a60df-fa8d-4cf7-92a8-0cfded67ef37",
   "metadata": {},
   "source": [
    "## `Map :-`"
   ]
  },
  {
   "cell_type": "markdown",
   "id": "183cc809-00b2-4605-b459-a42c7d053168",
   "metadata": {},
   "source": [
    "`1. Explain the purpose of the `map()` function in Python and provide an example of how it can be\n",
    "used to apply a function to each element of an iterable.`"
   ]
  },
  {
   "cell_type": "markdown",
   "id": "edb2b8db-4711-4e58-bf7b-8fef08fb7971",
   "metadata": {},
   "source": [
    "Ans: -Map in Python is a function that works as an iterator to return a result after \n",
    "applying a function to every item of an iterable (tuple, lists, etc.). \n",
    "It is used when you want to apply a single transformation function to all the iterable elements. \n",
    "The iterable and function are passed as arguments to the map in Python."
   ]
  },
  {
   "cell_type": "code",
   "execution_count": 1,
   "id": "3fea2028-c844-4e6a-83de-2890b6963e13",
   "metadata": {},
   "outputs": [
    {
     "name": "stdout",
     "output_type": "stream",
     "text": [
      "[2, 4, 6, 8]\n"
     ]
    }
   ],
   "source": [
    "# Example\n",
    "\n",
    "def addition(n):\n",
    "    return n + n\n",
    "\n",
    "numbers = (1, 2, 3, 4)\n",
    "result = map(addition, numbers)\n",
    "print(list(result))"
   ]
  },
  {
   "cell_type": "markdown",
   "id": "136bb51e-6f82-42ba-9685-d35bd3893c1d",
   "metadata": {},
   "source": [
    "`2. Write a Python program that uses the `map()` function to square each element of a list of\n",
    "numbers`"
   ]
  },
  {
   "cell_type": "code",
   "execution_count": 4,
   "id": "045fb563-d4e7-45f4-9816-53a7e198f903",
   "metadata": {},
   "outputs": [
    {
     "name": "stdout",
     "output_type": "stream",
     "text": [
      "[1, 4, 9, 16, 25, 36, 49, 64]\n"
     ]
    }
   ],
   "source": [
    "def square(n):\n",
    "    return pow(n,2)\n",
    "\n",
    "l0 =[1,2,3,4,5,6,7,8]\n",
    "res =map(square,l0)\n",
    "print(list(res))"
   ]
  },
  {
   "cell_type": "markdown",
   "id": "20b4b8f5-b85f-48d3-9af0-408fc27f4f3d",
   "metadata": {},
   "source": [
    "`3. How does the `map()` function differ from a list comprehension in Python, and when would you\n",
    "choose one over the other?`"
   ]
  },
  {
   "cell_type": "markdown",
   "id": "b9234387-cf75-45cf-9162-702c5ad6f073",
   "metadata": {},
   "source": [
    "Map:\n",
    "\n",
    "    This is where map() function plays its role ! map() function returns a map object(which is an iterator) of the results after applying the given function to each item of a given iterable (list, tuple etc.)\n",
    "    "
   ]
  },
  {
   "cell_type": "markdown",
   "id": "fb85d353-10e4-49dd-8819-8075a21ffc3f",
   "metadata": {},
   "source": [
    "list comprension:\n",
    "    \n",
    "    List Comprehension is a substitute for the lambda function, map(), filter() and reduce(). It follows the form of the mathematical set-builder notation. It provide a concise way to create lists."
   ]
  },
  {
   "cell_type": "markdown",
   "id": "742673e4-b97d-4257-bee3-b75fb72b2a19",
   "metadata": {},
   "source": [
    "`4. Create a Python program that uses the `map()` function to convert a list of names to uppercase.`"
   ]
  },
  {
   "cell_type": "code",
   "execution_count": 15,
   "id": "b33889c1-5dee-4048-b182-df553b884e62",
   "metadata": {},
   "outputs": [],
   "source": [
    "def uppper_case(n):\n",
    "    return n.upper()\n",
    "\n",
    "\n",
    "l1 =[\"bhushan\",'chopade','pwskills']\n",
    "upper_caseletter =map(uppper_case,l1)"
   ]
  },
  {
   "cell_type": "code",
   "execution_count": 16,
   "id": "dbf37a39-8524-4ce0-b05e-7f943311af6a",
   "metadata": {},
   "outputs": [
    {
     "name": "stdout",
     "output_type": "stream",
     "text": [
      "['BHUSHAN', 'CHOPADE', 'PWSKILLS']\n"
     ]
    }
   ],
   "source": [
    "print(list(upper_caseletter))"
   ]
  },
  {
   "cell_type": "markdown",
   "id": "f42b0697-fbeb-4689-94ba-efe9e5d4d9b5",
   "metadata": {},
   "source": [
    "`5. Write a Python program that uses the `map()` function to calculate the length of each word in a\n",
    "list of strings.`"
   ]
  },
  {
   "cell_type": "code",
   "execution_count": 19,
   "id": "7a0f0eab-73c7-4407-802b-727098708aaf",
   "metadata": {},
   "outputs": [
    {
     "name": "stdout",
     "output_type": "stream",
     "text": [
      "[7, 7, 8]\n"
     ]
    }
   ],
   "source": [
    "def length_word(n):\n",
    "    return len(n)\n",
    "\n",
    "l1 =[\"bhushan\",'chopade','pwskills']\n",
    "leng =map(length_word,l1)\n",
    "print(list(leng))"
   ]
  },
  {
   "cell_type": "markdown",
   "id": "647a5f00-0d36-463f-897c-6b373a0dcd3a",
   "metadata": {},
   "source": [
    "`6. How can you use the `map()` function to apply a custom function to elements of multiple lists\n",
    "simultaneously in Python?`"
   ]
  },
  {
   "cell_type": "code",
   "execution_count": 21,
   "id": "98000e20-ebc9-491f-8477-66f110f80a1c",
   "metadata": {},
   "outputs": [
    {
     "name": "stdout",
     "output_type": "stream",
     "text": [
      "[4, 1, 0]\n"
     ]
    }
   ],
   "source": [
    "l = [-2, -1, 0]\n",
    "print(list(map(lambda x: x**2, l)))"
   ]
  },
  {
   "cell_type": "markdown",
   "id": "3401c4bb-ce60-4927-8ec9-a03b6efaa7a2",
   "metadata": {},
   "source": [
    "`7. Create a Python program that uses `map()` to convert a list of temperatures from Celsius to\n",
    "Fahrenheit.`"
   ]
  },
  {
   "cell_type": "code",
   "execution_count": 23,
   "id": "f6de7080-0a48-4411-bdd2-3eda232e6ef2",
   "metadata": {},
   "outputs": [
    {
     "data": {
      "text/plain": [
       "[86.0, 73.4, 93.2, 113.0, 96.8, 102.92]"
      ]
     },
     "execution_count": 23,
     "metadata": {},
     "output_type": "execute_result"
    }
   ],
   "source": [
    "def temp(n):\n",
    "    return (9/5)*n+32\n",
    "\n",
    "\n",
    "l2= [30,23,34,45,36,39.40]\n",
    "c_f =map(temp,l2)\n",
    "list(c_f)"
   ]
  },
  {
   "cell_type": "markdown",
   "id": "05b52efb-48e1-4b51-a7f5-197f0e9a6072",
   "metadata": {},
   "source": [
    "`8. Write a Python program that uses the `map()` function to round each element of a list of\n",
    "floating-point numbers to the nearest integer.`"
   ]
  },
  {
   "cell_type": "code",
   "execution_count": 26,
   "id": "4830991b-b953-4d6b-b7c4-407a2e08a525",
   "metadata": {},
   "outputs": [
    {
     "data": {
      "text/plain": [
       "[30, 23, 34, 45, 37, 39]"
      ]
     },
     "execution_count": 26,
     "metadata": {},
     "output_type": "execute_result"
    }
   ],
   "source": [
    "def round_off(n):\n",
    "    return round(n)\n",
    "\n",
    "l2= [30.12,23.34,34.43,45.232,36.67,39.40]\n",
    "round_f =map(round_off,l2)\n",
    "list(round_f)"
   ]
  },
  {
   "cell_type": "markdown",
   "id": "2b15044f-0824-438e-87c6-e9829c45909b",
   "metadata": {},
   "source": [
    "## `Reduce :-`"
   ]
  },
  {
   "cell_type": "markdown",
   "id": "5bd649ea-cd05-4153-8eeb-303aef779140",
   "metadata": {},
   "source": [
    "`1. What is the `reduce()` function in Python, and what module should you import to use it? Provide\n",
    "an example of its basic usage.`"
   ]
  },
  {
   "cell_type": "markdown",
   "id": "729e8d67-48b3-4eca-8491-c5364fc6aaec",
   "metadata": {},
   "source": [
    "Ans :\n",
    "    \n",
    "    The reduce(fun,seq) function is used to apply a particular function passed in \n",
    "    its argument to all of the list elements mentioned in the sequence passed along.\n",
    "    This function is defined in “functools” module."
   ]
  },
  {
   "cell_type": "markdown",
   "id": "d377e85f-04e8-4990-ae24-5ae5c18e0538",
   "metadata": {},
   "source": [
    "module:\n",
    "\n",
    "   from functools import reduce these module we install for reduce func."
   ]
  },
  {
   "cell_type": "code",
   "execution_count": 29,
   "id": "182ec186-f7ed-41b1-858a-bbf04a97d789",
   "metadata": {},
   "outputs": [
    {
     "name": "stdout",
     "output_type": "stream",
     "text": [
      "10\n"
     ]
    }
   ],
   "source": [
    "from functools import reduce \n",
    "\n",
    "nums = [1, 2, 3, 4]\n",
    "ans = reduce(lambda x, y: x + y, nums)\n",
    "print(ans) "
   ]
  },
  {
   "cell_type": "markdown",
   "id": "fb86011c-e787-4b95-8bf0-5b62c0d254f0",
   "metadata": {},
   "source": [
    "`Q2 :\n",
    "        Write a Python program that uses the `reduce()` function to find the product of all elements in a list.`"
   ]
  },
  {
   "cell_type": "code",
   "execution_count": 30,
   "id": "6487c6fc-835b-4c6e-8dc6-2465f1d814fd",
   "metadata": {},
   "outputs": [
    {
     "name": "stdout",
     "output_type": "stream",
     "text": [
      "45\n"
     ]
    }
   ],
   "source": [
    "from functools import reduce\n",
    "lst4 =[1,2,3,4,5,6,7,8,9]\n",
    "\n",
    "product =reduce(lambda x ,y :x+y, lst4)\n",
    "print(product)"
   ]
  },
  {
   "cell_type": "markdown",
   "id": "ea734583-a560-4543-b732-e52641271ab7",
   "metadata": {},
   "source": [
    "`3. Create a Python program that uses `reduce()` to find the maximum element in a list of numbers`"
   ]
  },
  {
   "cell_type": "code",
   "execution_count": 50,
   "id": "e09de8a0-f420-4c6b-bb88-a8bc0b2be98b",
   "metadata": {},
   "outputs": [],
   "source": [
    "def max_ele(n,m):\n",
    "    return n if n>m else m"
   ]
  },
  {
   "cell_type": "code",
   "execution_count": 46,
   "id": "f6e32986-f4ff-478c-bb61-10f61b5f038f",
   "metadata": {},
   "outputs": [],
   "source": [
    "lst5 =[12,34,56,67,79,13,34]"
   ]
  },
  {
   "cell_type": "code",
   "execution_count": 48,
   "id": "4f134622-c864-42da-bf35-1bd1c139aec0",
   "metadata": {},
   "outputs": [],
   "source": [
    "max_element =reduce(lambda x,y :x if x>y else y,lst5)"
   ]
  },
  {
   "cell_type": "code",
   "execution_count": 49,
   "id": "7ac86052-c4bb-4558-a866-789e25d67c03",
   "metadata": {},
   "outputs": [
    {
     "data": {
      "text/plain": [
       "79"
      ]
     },
     "execution_count": 49,
     "metadata": {},
     "output_type": "execute_result"
    }
   ],
   "source": [
    "max_element"
   ]
  },
  {
   "cell_type": "code",
   "execution_count": 51,
   "id": "92944ab5-f31d-446a-b5b3-c6b084823250",
   "metadata": {},
   "outputs": [
    {
     "data": {
      "text/plain": [
       "79"
      ]
     },
     "execution_count": 51,
     "metadata": {},
     "output_type": "execute_result"
    }
   ],
   "source": [
    "reduce(max_ele ,lst5)"
   ]
  },
  {
   "cell_type": "markdown",
   "id": "621281a9-7103-4b83-b26d-b844db9fd9ef",
   "metadata": {},
   "source": [
    "`4. How can you use the `reduce()` function to concatenate a list of strings into a single string?`"
   ]
  },
  {
   "cell_type": "code",
   "execution_count": 54,
   "id": "db01fa2b-ae67-4e4b-97c9-532bafbef3d3",
   "metadata": {},
   "outputs": [],
   "source": [
    "def conc(n,m):\n",
    "    return n+m"
   ]
  },
  {
   "cell_type": "code",
   "execution_count": 55,
   "id": "ff259eb3-be55-4d5d-aac9-24b1484fe701",
   "metadata": {},
   "outputs": [
    {
     "data": {
      "text/plain": [
       "'bhushandilipchopade'"
      ]
     },
     "execution_count": 55,
     "metadata": {},
     "output_type": "execute_result"
    }
   ],
   "source": [
    "lst6 =['bhushan','dilip','chopade']\n",
    "reduce(conc, lst6)"
   ]
  },
  {
   "cell_type": "code",
   "execution_count": 56,
   "id": "5310e6c4-05a8-4739-9014-59602642dae4",
   "metadata": {},
   "outputs": [
    {
     "data": {
      "text/plain": [
       "'bhushandilipchopade'"
      ]
     },
     "execution_count": 56,
     "metadata": {},
     "output_type": "execute_result"
    }
   ],
   "source": [
    "concat =reduce(lambda x,y :x+y,lst6)\n",
    "concat"
   ]
  },
  {
   "cell_type": "markdown",
   "id": "acc6b821-562b-43fa-a95c-c1ff443393aa",
   "metadata": {},
   "source": [
    "`5. Write a Python program that calculates the factorial of a number using the `reduce()` function`"
   ]
  },
  {
   "cell_type": "code",
   "execution_count": 70,
   "id": "3c134059-d13f-4abf-8459-6d6ff7ecb49b",
   "metadata": {},
   "outputs": [
    {
     "name": "stdin",
     "output_type": "stream",
     "text": [
      "Enter number:  5\n"
     ]
    }
   ],
   "source": [
    "number = int(input('Enter number: '))\n",
    "factorial = reduce(lambda x, y: x * y, range(1, number+1))"
   ]
  },
  {
   "cell_type": "code",
   "execution_count": 71,
   "id": "2c4da30f-2fc8-42da-b980-ef0fd98ea6f4",
   "metadata": {},
   "outputs": [
    {
     "data": {
      "text/plain": [
       "120"
      ]
     },
     "execution_count": 71,
     "metadata": {},
     "output_type": "execute_result"
    }
   ],
   "source": [
    "factorial"
   ]
  },
  {
   "cell_type": "markdown",
   "id": "f0b20b0b-3380-4267-b5c0-39a52149f4c6",
   "metadata": {},
   "source": [
    "`6. Create a Python program that uses `reduce()` to find the GCD (Greatest Common Divisor) of a list of numbers.`"
   ]
  },
  {
   "cell_type": "code",
   "execution_count": 75,
   "id": "e599ae86-b820-490c-8014-8e1345706c23",
   "metadata": {},
   "outputs": [],
   "source": [
    "def compute_hcf(x, y):\n",
    "    if x > y:\n",
    "        smaller = y\n",
    "    else:\n",
    "        smaller = x\n",
    "    for i in range(1, smaller+1):\n",
    "        if((x % i == 0) and (y % i == 0)):\n",
    "            hcf = i \n",
    "    return hcf"
   ]
  },
  {
   "cell_type": "code",
   "execution_count": 77,
   "id": "6e1c6cc7-a224-43bc-b393-3865ea7391f3",
   "metadata": {},
   "outputs": [
    {
     "data": {
      "text/plain": [
       "6"
      ]
     },
     "execution_count": 77,
     "metadata": {},
     "output_type": "execute_result"
    }
   ],
   "source": [
    "reduce(compute_hcf ,[54,24])"
   ]
  },
  {
   "cell_type": "markdown",
   "id": "42cc2af0-1a07-4f99-a092-abacb2c86de6",
   "metadata": {},
   "source": [
    "`7. Write a Python program that uses the `reduce()` function to find the sum of the digits of a given number.`"
   ]
  },
  {
   "cell_type": "code",
   "execution_count": 87,
   "id": "98076f0f-31a3-4f85-8992-e7c33ced98e4",
   "metadata": {},
   "outputs": [],
   "source": [
    "def get_sum(n):\n",
    "    sum_of =0\n",
    "    for digit in str(n):\n",
    "        sum_of =sum_of +int(digit)\n",
    "    return sum_of"
   ]
  },
  {
   "cell_type": "code",
   "execution_count": null,
   "id": "428863ce-008d-4db6-9b5e-869b6452c8d2",
   "metadata": {},
   "outputs": [
    {
     "data": {
      "text/plain": [
       "15"
      ]
     },
     "execution_count": 88,
     "metadata": {},
     "output_type": "execute_result"
    }
   ],
   "source": [
    "get_sum(12345)"
   ]
  },
  {
   "cell_type": "markdown",
   "id": "71ca6d52-b957-4687-a715-72964c34eb12",
   "metadata": {},
   "source": [
    "OR"
   ]
  },
  {
   "cell_type": "code",
   "execution_count": 117,
   "id": "0a576fe2-ecf2-477e-b334-dfd1e46a172a",
   "metadata": {},
   "outputs": [
    {
     "name": "stdin",
     "output_type": "stream",
     "text": [
      "Enter the number : 12345\n"
     ]
    },
    {
     "name": "stdout",
     "output_type": "stream",
     "text": [
      "15\n"
     ]
    }
   ],
   "source": [
    "g =input(\"Enter the number :\")\n",
    "h = list(map(int,g))\n",
    "\n",
    "sum_of_digit =reduce(lambda x,y : x+y, h)\n",
    "print(sum_of_digit)"
   ]
  },
  {
   "cell_type": "markdown",
   "id": "4b598604-a93a-4342-a722-5dca9a76573e",
   "metadata": {},
   "source": [
    "## `Filter :-`"
   ]
  },
  {
   "cell_type": "markdown",
   "id": "402cf49d-16a4-4c49-ab79-1a5304cdcd19",
   "metadata": {},
   "source": [
    "`1. Explain the purpose of the `filter()` function in Python and provide an example of how it can be\n",
    "used to filter elements from an iterable.`"
   ]
  },
  {
   "cell_type": "markdown",
   "id": "3a2c3a50-9a58-4a92-bb53-33a3d0df016a",
   "metadata": {},
   "source": [
    "Ans :\n",
    "    \n",
    "    Filter() is a built-in function in Python. The filter function can be applied to an iterable such as a list or a dictionary and create a new iterator. This new iterator can filter out certain specific elements based on the condition that you provide very efficiently"
   ]
  },
  {
   "cell_type": "code",
   "execution_count": 123,
   "id": "008f21ba-ba29-400c-b966-8cb356239ce2",
   "metadata": {},
   "outputs": [
    {
     "data": {
      "text/plain": [
       "[1, 3, 5, 13]"
      ]
     },
     "execution_count": 123,
     "metadata": {},
     "output_type": "execute_result"
    }
   ],
   "source": [
    "seq = [0, 1, 2, 3, 5, 8, 13]\n",
    "\n",
    "odd_filter =filter(lambda x : x%2!=0,seq)\n",
    "list(odd_filter)"
   ]
  },
  {
   "cell_type": "markdown",
   "id": "cdf2f047-3966-43de-9a3b-c57df45e4c42",
   "metadata": {},
   "source": [
    "`2. Write a Python program that uses the `filter()` function to select even numbers from a list of\n",
    "integers`"
   ]
  },
  {
   "cell_type": "code",
   "execution_count": 127,
   "id": "ec66988e-0c32-4190-ab4c-0238dccaad33",
   "metadata": {},
   "outputs": [
    {
     "name": "stdout",
     "output_type": "stream",
     "text": [
      "[2, 4, 6, 8, 10, 12, 14, 16, 18, 20]\n"
     ]
    }
   ],
   "source": [
    "lst7 =[1,2,3,4,5,6,7,8,9,10,11,12,13,14,15,16,17,18,19,20]\n",
    "even_num =list(filter(lambda x : x%2 ==0 ,lst7))\n",
    "\n",
    "print(even_num)"
   ]
  },
  {
   "cell_type": "markdown",
   "id": "5a71d042-5747-4ff8-9e55-c522bd696eb2",
   "metadata": {},
   "source": [
    "`3. Create a Python program that uses the `filter()` function to select names that start with a specific letter from a list of strings`"
   ]
  },
  {
   "cell_type": "code",
   "execution_count": 131,
   "id": "657f2d6a-74bd-4e65-8f42-f420592ca1a9",
   "metadata": {},
   "outputs": [
    {
     "name": "stdout",
     "output_type": "stream",
     "text": [
      "bhushan\n",
      "bca\n",
      "bpython\n"
     ]
    }
   ],
   "source": [
    "lst8 =[\"bhushan\",\"bca\",'bpython',\"pwskill\",\"sudh\",\"krish\"]\n",
    "\n",
    "for i in range(len(lst8)):\n",
    "    if lst8[i][0] ==\"b\":\n",
    "        print(lst8[i])"
   ]
  },
  {
   "cell_type": "code",
   "execution_count": 139,
   "id": "f14002c3-fc20-4d56-ac70-e609766cde5e",
   "metadata": {},
   "outputs": [],
   "source": [
    "def specific(l):\n",
    "    l1 =[]\n",
    "    for i in range(len(l)):\n",
    "        if l[i][0]==\"b\":\n",
    "            l1.append(lst8[i])\n",
    "    return l1"
   ]
  },
  {
   "cell_type": "code",
   "execution_count": 140,
   "id": "fa9efb13-c8d3-4ca5-b60d-54d2c52995e4",
   "metadata": {},
   "outputs": [
    {
     "data": {
      "text/plain": [
       "['bhushan', 'bca', 'bpython']"
      ]
     },
     "execution_count": 140,
     "metadata": {},
     "output_type": "execute_result"
    }
   ],
   "source": [
    "specific(lst8)"
   ]
  },
  {
   "cell_type": "code",
   "execution_count": 141,
   "id": "073ad50b-5009-42c1-852a-744617ae4984",
   "metadata": {},
   "outputs": [
    {
     "name": "stdout",
     "output_type": "stream",
     "text": [
      "bhushan\n",
      "bca\n",
      "bpython\n"
     ]
    }
   ],
   "source": [
    "spcific_word =filter(specific ,lst8)\n",
    "for i in spcific_word:\n",
    "    print(i)"
   ]
  },
  {
   "cell_type": "markdown",
   "id": "04bcba2c-d98c-4354-9564-4f0e83e88110",
   "metadata": {},
   "source": [
    "`4. Write a Python program that uses the `filter()` function to select prime numbers from a list of\n",
    "integers.`"
   ]
  },
  {
   "cell_type": "code",
   "execution_count": 3,
   "id": "9a2b6ed2-275a-41f7-b38d-5bd57a9eae59",
   "metadata": {},
   "outputs": [],
   "source": [
    "list7 =[1,2,3,4,5,6,7,8,9,10,11,12,13,14,15,16,17,18,19,20]"
   ]
  },
  {
   "cell_type": "code",
   "execution_count": 7,
   "id": "63b0eb33-5503-4fe4-8d51-25b55fda0b8f",
   "metadata": {},
   "outputs": [],
   "source": [
    "def prime(list7):\n",
    "    l1=[]\n",
    "    for i in list7:\n",
    "        for j in range(2,i):\n",
    "            if i % j ==0:\n",
    "                break\n",
    "        else:\n",
    "            l1.append(i)\n",
    "    return l1"
   ]
  },
  {
   "cell_type": "code",
   "execution_count": 8,
   "id": "77947874-63ec-4c1e-86ef-6762b7991d2c",
   "metadata": {},
   "outputs": [
    {
     "data": {
      "text/plain": [
       "[1, 2, 3, 5, 7, 11, 13, 17, 19]"
      ]
     },
     "execution_count": 8,
     "metadata": {},
     "output_type": "execute_result"
    }
   ],
   "source": [
    "prime(list7)"
   ]
  },
  {
   "cell_type": "code",
   "execution_count": 18,
   "id": "684794b8-560d-4c3c-ba48-21c9ac337f79",
   "metadata": {},
   "outputs": [],
   "source": [
    "myfunc=filter(prime ,list7)\n",
    "\n"
   ]
  },
  {
   "cell_type": "markdown",
   "id": "dd1e9025-4673-4053-aa70-abab97b06b01",
   "metadata": {},
   "source": [
    "`5. How can you use the `filter()` function to remove None values from a list in Python?`"
   ]
  },
  {
   "cell_type": "code",
   "execution_count": 17,
   "id": "9fdd847b-9a62-4ef7-a03f-ebdfad023ddc",
   "metadata": {},
   "outputs": [
    {
     "name": "stdout",
     "output_type": "stream",
     "text": [
      "[1, 3, 8]\n"
     ]
    }
   ],
   "source": [
    "my_list = [1, None, 3, None, 8, None]\n",
    "new_list =list(filter(lambda x :x is not None,my_list))\n",
    "print(new_list)"
   ]
  },
  {
   "cell_type": "markdown",
   "id": "aa52aaff-5542-4aea-81e3-74b29db755c2",
   "metadata": {},
   "source": [
    "`6. Create a Python program that uses `filter()` to select words longer than a certain length from a list of strings.`"
   ]
  },
  {
   "cell_type": "code",
   "execution_count": 25,
   "id": "4a3ecc04-0be9-46b1-b6de-7f49bbff88c0",
   "metadata": {},
   "outputs": [],
   "source": [
    "list8= ['bhushan','sudh','krish','chopade','pwskill','Bhus']\n",
    "\n",
    "longer_word =list(filter(lambda x :len(x)>4,list8))"
   ]
  },
  {
   "cell_type": "code",
   "execution_count": 26,
   "id": "5ae755e1-9e16-44e3-b909-7ed229e4f2ff",
   "metadata": {},
   "outputs": [
    {
     "data": {
      "text/plain": [
       "['bhushan', 'krish', 'chopade', 'pwskill']"
      ]
     },
     "execution_count": 26,
     "metadata": {},
     "output_type": "execute_result"
    }
   ],
   "source": [
    "longer_word"
   ]
  },
  {
   "cell_type": "markdown",
   "id": "a342ee92-2787-43b5-b3db-a9a73f01adad",
   "metadata": {},
   "source": [
    "`7. Write a Python program that uses the `filter()` function to select elements greater than a\n",
    "specified threshold from a list of values`"
   ]
  },
  {
   "cell_type": "code",
   "execution_count": 28,
   "id": "b89495d5-442c-41d1-8a2b-cc15f65abe4e",
   "metadata": {},
   "outputs": [
    {
     "data": {
      "text/plain": [
       "['bhushan', 'krish', 'chopade', 'pwskill']"
      ]
     },
     "execution_count": 28,
     "metadata": {},
     "output_type": "execute_result"
    }
   ],
   "source": [
    "list8= ['bhushan','sudh','krish','chopade','pwskill','Bhus']\n",
    "\n",
    "longer_word =list(filter(lambda x :len(x)>4,list8))\n",
    "longer_word"
   ]
  },
  {
   "cell_type": "markdown",
   "id": "e8a22e4c-6224-48f4-b0b7-b8aab7b9f44e",
   "metadata": {},
   "source": [
    "## `Recursion:-`"
   ]
  },
  {
   "cell_type": "markdown",
   "id": "05edacb1-095c-42b4-a5fa-591b8e0afdc8",
   "metadata": {},
   "source": [
    "`1. Explain the concept of recursion in Python. How does it differ from iteration?`"
   ]
  },
  {
   "cell_type": "markdown",
   "id": "dbe14756-cab8-4336-94f5-dd1939253b52",
   "metadata": {},
   "source": [
    "Ans :\n",
    "    \n",
    "    Recursion is when a function calls itself within its code, thus repeatedly executing the instructions present inside it. Iteration is when a loop repeatedly executes the set of instructions like \"for\" loops and \"while\" loops."
   ]
  },
  {
   "cell_type": "markdown",
   "id": "3cf047f4-adfd-4c7c-bad4-ba0faf427131",
   "metadata": {},
   "source": [
    "it differ from itreation:\n",
    "    \n",
    "    The basic difference between recursion and iteration is that recursion is a process always applied to a function and iteration is applied to the set of instructions which we want to be executed repeatedly\n",
    "    "
   ]
  },
  {
   "cell_type": "markdown",
   "id": "64bdab52-811f-48e7-b122-df0a0e895684",
   "metadata": {},
   "source": [
    "`2. Write a Python program to calculate the factorial of a number using recursion.`"
   ]
  },
  {
   "cell_type": "code",
   "execution_count": 39,
   "id": "d5c8775e-2455-4ef7-97f8-e2fd86f2c711",
   "metadata": {},
   "outputs": [],
   "source": [
    "def facts(n):\n",
    "    if n == 1:\n",
    "        return 1\n",
    "    else:\n",
    "        return n*facts(n-1)"
   ]
  },
  {
   "cell_type": "code",
   "execution_count": 40,
   "id": "b94dcfdf-6ac6-4f14-8c63-72da0473cb47",
   "metadata": {},
   "outputs": [
    {
     "data": {
      "text/plain": [
       "120"
      ]
     },
     "execution_count": 40,
     "metadata": {},
     "output_type": "execute_result"
    }
   ],
   "source": [
    "facts(5)"
   ]
  },
  {
   "cell_type": "markdown",
   "id": "30b896ac-02bb-4b1c-98dc-ecc4875c2644",
   "metadata": {},
   "source": [
    "`3. Create a recursive Python function to find the nth Fibonacci number`"
   ]
  },
  {
   "cell_type": "code",
   "execution_count": 44,
   "id": "a64ccf4d-a83b-47d7-8339-10fae9155f83",
   "metadata": {},
   "outputs": [],
   "source": [
    "def fibonacci(n):\n",
    "    if n<=0:\n",
    "        return 'Incorrect input'\n",
    "    elif n ==1 :\n",
    "        return 0\n",
    "    elif n ==2 :\n",
    "        return 1\n",
    "    else:\n",
    "        return fibonacci(n-1)+fibonacci(n-2)"
   ]
  },
  {
   "cell_type": "code",
   "execution_count": 45,
   "id": "bcafe7ee-bb3b-4480-ba3f-c0e961da6e64",
   "metadata": {},
   "outputs": [
    {
     "data": {
      "text/plain": [
       "34"
      ]
     },
     "execution_count": 45,
     "metadata": {},
     "output_type": "execute_result"
    }
   ],
   "source": [
    "fibonacci(10)"
   ]
  },
  {
   "cell_type": "markdown",
   "id": "a3ee18e6-59b6-4c03-b1aa-0fd78469de49",
   "metadata": {},
   "source": [
    "`4. Write a recursive Python function to calculate the sum of all elements in a list.`"
   ]
  },
  {
   "cell_type": "code",
   "execution_count": 54,
   "id": "8e9a326f-4b81-43d8-a09a-84c74686b53d",
   "metadata": {},
   "outputs": [],
   "source": [
    "myList=[23,4,2,6,7]"
   ]
  },
  {
   "cell_type": "code",
   "execution_count": 63,
   "id": "8e13d054-e581-4731-ad12-dcbbf045316c",
   "metadata": {},
   "outputs": [],
   "source": [
    "def sumoflist(myList,nsum):\n",
    "    if len(myList):\n",
    "        return sumoflist(myList[1:] ,nsum +myList[0])\n",
    "    else:\n",
    "        return nsum"
   ]
  },
  {
   "cell_type": "code",
   "execution_count": 64,
   "id": "43710bcd-991f-4e0c-9196-9df1727b492c",
   "metadata": {},
   "outputs": [
    {
     "name": "stdout",
     "output_type": "stream",
     "text": [
      "42\n"
     ]
    }
   ],
   "source": [
    "print(sumoflist(myList , 0))"
   ]
  },
  {
   "cell_type": "markdown",
   "id": "997584f2-593c-4776-9864-43b12e796deb",
   "metadata": {},
   "source": [
    "`5. How can you prevent a recursive function from running indefinitely, causing a stack overflow\n",
    "error?`"
   ]
  },
  {
   "cell_type": "markdown",
   "id": "ce05c24a-31eb-4547-8a15-79710ccd6e97",
   "metadata": {},
   "source": [
    "Ans :\n",
    "    \n",
    "    if you runtime system has a stack smaller than defined , the overflow will occur. So, to prevent stackover flow in recursive functions, you should define a depth of recursion to fit your runtime max stack depth. It will vary between different systems.\n",
    "    "
   ]
  },
  {
   "cell_type": "markdown",
   "id": "62d46d50-e769-4234-8e81-11d37688f5f3",
   "metadata": {},
   "source": [
    "`6. Create a recursive Python function to find the greatest common divisor (GCD) of two numbers\n",
    "using the Euclidean algorithm.`"
   ]
  },
  {
   "cell_type": "code",
   "execution_count": 65,
   "id": "94110084-f15d-47cc-b813-f814aeeb8dce",
   "metadata": {},
   "outputs": [],
   "source": [
    "def gcd(a,b):\n",
    "    if a==b:\n",
    "        return a\n",
    "    elif a<b:\n",
    "        return gcd(b,a)\n",
    "    else:\n",
    "        return gcd(b,a -b)"
   ]
  },
  {
   "cell_type": "code",
   "execution_count": 66,
   "id": "69e2ca89-f8b9-4835-94ac-1a86813f5af4",
   "metadata": {},
   "outputs": [
    {
     "data": {
      "text/plain": [
       "5"
      ]
     },
     "execution_count": 66,
     "metadata": {},
     "output_type": "execute_result"
    }
   ],
   "source": [
    "gcd(25,45)"
   ]
  },
  {
   "cell_type": "markdown",
   "id": "9a9bf700-d9b8-4bc9-9c21-92eb705bb671",
   "metadata": {},
   "source": [
    "`7. Write a recursive Python function to reverse a string.`"
   ]
  },
  {
   "cell_type": "code",
   "execution_count": 69,
   "id": "750cd222-5a51-4d38-aa50-0952d0f047db",
   "metadata": {},
   "outputs": [],
   "source": [
    "def reverse(s):\n",
    "    if len(s) == 0:\n",
    "        return s\n",
    "    else:\n",
    "        return reverse(s[1:]) + s[0]"
   ]
  },
  {
   "cell_type": "code",
   "execution_count": 74,
   "id": "0e82b813-4e5d-4079-916d-76b8a7ff573c",
   "metadata": {},
   "outputs": [
    {
     "data": {
      "text/plain": [
       "'nahsuhB'"
      ]
     },
     "execution_count": 74,
     "metadata": {},
     "output_type": "execute_result"
    }
   ],
   "source": [
    "reverse(\"Bhushan\")"
   ]
  },
  {
   "cell_type": "markdown",
   "id": "d799b4c0-361a-4aa1-86c2-7ddb375450ae",
   "metadata": {},
   "source": [
    "`8. Create a recursive Python function to calculate the power of a number (x^n).`"
   ]
  },
  {
   "cell_type": "code",
   "execution_count": 89,
   "id": "174ab85b-9a55-429b-915e-4f9fc5662858",
   "metadata": {},
   "outputs": [],
   "source": [
    "def power(n,p):\n",
    "    if p ==0:\n",
    "        return 1\n",
    "    else:\n",
    "        return n*power(n,p-1)"
   ]
  },
  {
   "cell_type": "code",
   "execution_count": 91,
   "id": "745958ec-2eb2-46cb-a5db-ceb9875d28f1",
   "metadata": {},
   "outputs": [
    {
     "data": {
      "text/plain": [
       "256"
      ]
     },
     "execution_count": 91,
     "metadata": {},
     "output_type": "execute_result"
    }
   ],
   "source": [
    "power(2,8)"
   ]
  },
  {
   "cell_type": "markdown",
   "id": "e0eecc53-2a7f-4d4f-8bbb-8363a1690812",
   "metadata": {},
   "source": [
    "`9. Write a recursive Python function to find all permutations of a given string.`"
   ]
  },
  {
   "cell_type": "code",
   "execution_count": 92,
   "id": "bc5cb784-4ae5-4eed-8b37-a7af6d22320c",
   "metadata": {},
   "outputs": [],
   "source": [
    "def find_permutations(s):\n",
    "    if len(s) == 1:\n",
    "        return [s]\n",
    "    else:\n",
    "        perms = []\n",
    "        for i, c in enumerate(s):\n",
    "            for perm in find_permutations(s[:i] + s[i+1:]):\n",
    "                perms.append(c + perm)\n",
    "        return perms"
   ]
  },
  {
   "cell_type": "code",
   "execution_count": 95,
   "id": "fde3c961-32a2-424f-9a41-1cb56a3b2004",
   "metadata": {},
   "outputs": [
    {
     "data": {
      "text/plain": [
       "['Bhu', 'Buh', 'hBu', 'huB', 'uBh', 'uhB']"
      ]
     },
     "execution_count": 95,
     "metadata": {},
     "output_type": "execute_result"
    }
   ],
   "source": [
    "find_permutations(\"Bhu\")"
   ]
  },
  {
   "cell_type": "markdown",
   "id": "58a6272e-54e8-4fd2-976b-c76e9c08f404",
   "metadata": {},
   "source": [
    "`10. Write a recursive Python function to check if a string is a palindrome.`"
   ]
  },
  {
   "cell_type": "code",
   "execution_count": 96,
   "id": "383104f8-482b-4d90-a42c-82a81d5230e6",
   "metadata": {},
   "outputs": [
    {
     "name": "stdin",
     "output_type": "stream",
     "text": [
      "Enter your string:  refer\n"
     ]
    },
    {
     "name": "stdout",
     "output_type": "stream",
     "text": [
      "refer is palindrome\n"
     ]
    }
   ],
   "source": [
    "def is_palindrome(l,r,S):\n",
    "    if l>=r:\n",
    "        return True\n",
    "    if S[l] != S[r]:\n",
    "        return False\n",
    "    return is_palindrome(l+1,r-1,S)\n",
    "\n",
    "my_string = input('Enter your string: ')\n",
    "l = 0\n",
    "r = len(my_string)-1\n",
    "\n",
    "check = is_palindrome(l,r,my_string)\n",
    "\n",
    "if check:\n",
    "    print(f\"{my_string} is palindrome\")\n",
    "else:\n",
    "    print(f\"{my_string} is not palindrome\")"
   ]
  },
  {
   "cell_type": "markdown",
   "id": "6410cc2a-2edc-4766-921b-b4148b8f0d12",
   "metadata": {},
   "source": [
    "`11. Create a recursive Python function to generate all possible combinations of a list of elements.`"
   ]
  },
  {
   "cell_type": "code",
   "execution_count": 103,
   "id": "ad97f9dd-45ed-40b3-b2bb-fa8ec1e51a6f",
   "metadata": {},
   "outputs": [],
   "source": [
    "def combinations(l):\n",
    "    if l:\n",
    "        result = combinations(l[:-1])\n",
    "        return result + [c + [l[-1]] for c in result]\n",
    "    else:\n",
    "        return [[]]"
   ]
  },
  {
   "cell_type": "code",
   "execution_count": 105,
   "id": "dc0bf767-cc56-4bc7-ba30-e086f08bbc39",
   "metadata": {},
   "outputs": [
    {
     "name": "stdout",
     "output_type": "stream",
     "text": [
      "[[], [1], [2], [1, 2], [3], [1, 3], [2, 3], [1, 2, 3]]\n"
     ]
    }
   ],
   "source": [
    "print(combinations([1, 2, 3]))"
   ]
  },
  {
   "cell_type": "markdown",
   "id": "1986f4a5-0cc7-4baa-a875-98e881fc4eb8",
   "metadata": {},
   "source": [
    "## `Basics of Functions:`"
   ]
  },
  {
   "cell_type": "markdown",
   "id": "dd94462f-5f87-4156-ab54-e7875da965eb",
   "metadata": {},
   "source": [
    "`1. What is a function in Python, and why is it used?`"
   ]
  },
  {
   "cell_type": "markdown",
   "id": "7a5f5040-eef7-434f-a755-69570d637219",
   "metadata": {},
   "source": [
    "Ans :\n",
    "    \n",
    "    function is block of code which only run when it is called. we can pass data known as parameter A function can return data as result."
   ]
  },
  {
   "cell_type": "markdown",
   "id": "b335ba09-8bd6-401f-80ad-856ed06b32b4",
   "metadata": {},
   "source": [
    "Why function is used ?:\n",
    "    \n",
    "    beacuse it provide the reusablility of code. it is better for memory management in python."
   ]
  },
  {
   "cell_type": "markdown",
   "id": "798a4a20-53ba-4589-a0a1-032cc9361e3a",
   "metadata": {},
   "source": [
    "`2. How do you define a function in Python? Provide an example.`"
   ]
  },
  {
   "cell_type": "markdown",
   "id": "18cee93a-dd77-4bf4-80fd-c99321c5dcad",
   "metadata": {},
   "source": [
    "Ans :\n",
    "    \n",
    "    def func():\n",
    "        function Body "
   ]
  },
  {
   "cell_type": "code",
   "execution_count": 106,
   "id": "599f60d7-0160-41c4-9c34-9cfcfa4d9c38",
   "metadata": {},
   "outputs": [],
   "source": [
    "def func():\n",
    "    print(\"Hello Pwskills\")"
   ]
  },
  {
   "cell_type": "code",
   "execution_count": 107,
   "id": "5920f7d7-0893-4d14-993f-407dd5dff4f7",
   "metadata": {},
   "outputs": [
    {
     "name": "stdout",
     "output_type": "stream",
     "text": [
      "Hello Pwskills\n"
     ]
    }
   ],
   "source": [
    "func()"
   ]
  },
  {
   "cell_type": "markdown",
   "id": "17bc9517-e6c2-49b5-a329-f514bd4976ce",
   "metadata": {},
   "source": [
    "`3. Explain the difference between a function definition and a function call.`"
   ]
  },
  {
   "cell_type": "markdown",
   "id": "2dd4be77-d9d9-4dd1-84d1-8fcb81f08d1f",
   "metadata": {},
   "source": [
    "Ans Function defination :\n",
    "    \n",
    "    A function is block of code that perform the specific task."
   ]
  },
  {
   "cell_type": "markdown",
   "id": "ef7d3387-6e05-4ff2-b691-22b12fa647bf",
   "metadata": {},
   "source": [
    "Function call :\n",
    "    \n",
    "    A fuction call is expresssion that invoke function and execute the code in the fuction."
   ]
  },
  {
   "cell_type": "markdown",
   "id": "46b495f1-8691-4f1f-bdd6-cf2f094583cc",
   "metadata": {},
   "source": [
    "`4. Write a Python program that defines a function to calculate the sum of two numbers and then\n",
    "calls the function`"
   ]
  },
  {
   "cell_type": "code",
   "execution_count": 108,
   "id": "d47c3423-4cb9-4367-b77b-ecb04971fcd4",
   "metadata": {},
   "outputs": [],
   "source": [
    "def sum_of_two(n,m):\n",
    "    sum_two = n+m\n",
    "    return sum_two"
   ]
  },
  {
   "cell_type": "code",
   "execution_count": 109,
   "id": "70fb6b5a-cc14-476b-817b-e3853683804d",
   "metadata": {},
   "outputs": [
    {
     "data": {
      "text/plain": [
       "35"
      ]
     },
     "execution_count": 109,
     "metadata": {},
     "output_type": "execute_result"
    }
   ],
   "source": [
    "sum_of_two(12,23)"
   ]
  },
  {
   "cell_type": "markdown",
   "id": "6a0896b6-5651-4abf-9c22-eb5017af7508",
   "metadata": {},
   "source": [
    "`5. What is a function signature, and what information does it typically include?`"
   ]
  },
  {
   "cell_type": "markdown",
   "id": "aeae8a44-2ae8-44ec-9efa-00ca5a3b9674",
   "metadata": {},
   "source": [
    "Ans :\n",
    "    \n",
    "    In Python, a function signature provides crucial information about the types of parameters that a function can accept and the type of data it returns. The signature() function from the inspect module is used to determine the function signature, helping developers to ensure they are passing the correct types of arguments to their functions. This function can be particularly useful in large programs where a small mistake can lead to significant issues."
   ]
  },
  {
   "cell_type": "markdown",
   "id": "cc6aa6df-ca0c-4327-afef-4b3e9d829143",
   "metadata": {},
   "source": [
    "`6. Create a Python function that takes two arguments and returns their product.`"
   ]
  },
  {
   "cell_type": "code",
   "execution_count": 110,
   "id": "053b30f5-2713-4a71-a2a1-d988e3cfc5c1",
   "metadata": {},
   "outputs": [],
   "source": [
    "def products(a,b):\n",
    "    return a*b"
   ]
  },
  {
   "cell_type": "code",
   "execution_count": 111,
   "id": "2c9f7ea4-d33e-4961-9614-49267605a5cc",
   "metadata": {},
   "outputs": [
    {
     "data": {
      "text/plain": [
       "8"
      ]
     },
     "execution_count": 111,
     "metadata": {},
     "output_type": "execute_result"
    }
   ],
   "source": [
    "products(2,4)"
   ]
  },
  {
   "cell_type": "markdown",
   "id": "ed99e453-bbf0-443a-afd0-c79b287af3f6",
   "metadata": {},
   "source": [
    "## `Function Parameters and Arguments:`"
   ]
  },
  {
   "cell_type": "markdown",
   "id": "8b05ffa9-7aeb-491b-87c0-439b19cf9635",
   "metadata": {},
   "source": [
    "`1. Explain the concepts of formal parameters and actual arguments in Python functions`"
   ]
  },
  {
   "cell_type": "markdown",
   "id": "b9e49b2e-7f3d-4442-a7f1-4aa07273a9c0",
   "metadata": {},
   "source": [
    "Ans :\n",
    "    \n",
    "    Actual Parameters vary from Formal Parameters in that Actual Parameters are values supplied to the function when it is invoked, whereas Formal Parameters are variables declared by the function that get values when the function is called."
   ]
  },
  {
   "cell_type": "markdown",
   "id": "f414ebe8-79cd-49e8-9291-49b6306f0472",
   "metadata": {},
   "source": [
    "`2. Write a Python program that defines a function with default argument values.`"
   ]
  },
  {
   "cell_type": "code",
   "execution_count": 1,
   "id": "3927738f-6753-48e7-aff0-27ff6bfc386a",
   "metadata": {},
   "outputs": [],
   "source": [
    "def function(a =12,b=10):\n",
    "    print(f\"a is :{a} and b is :{b}\")"
   ]
  },
  {
   "cell_type": "code",
   "execution_count": 2,
   "id": "bc75d5f3-1c20-42a9-9e74-850c3cd30abd",
   "metadata": {},
   "outputs": [
    {
     "name": "stdout",
     "output_type": "stream",
     "text": [
      "a is :12 and b is :10\n"
     ]
    }
   ],
   "source": [
    "function()"
   ]
  },
  {
   "cell_type": "markdown",
   "id": "d8e65493-6b84-469c-b3d0-b545ab856493",
   "metadata": {},
   "source": [
    "`3. How do you use keyword arguments in Python function calls? Provide an example`"
   ]
  },
  {
   "cell_type": "markdown",
   "id": "9de044d8-47a4-4198-82b9-b92545fdf1e8",
   "metadata": {},
   "source": [
    "Ans : \n",
    "    \n",
    "    Keyword arguments (or named arguments) are values that, when passed into a function, are identifiable by specific parameter names. A keyword argument is preceded by a parameter and the assignment operator, ="
   ]
  },
  {
   "cell_type": "code",
   "execution_count": 4,
   "id": "8261efd0-a6cd-4160-89f8-ff00c5f991b6",
   "metadata": {},
   "outputs": [],
   "source": [
    "def team(name, project):\n",
    "    print(name, \"is working on an\", project)"
   ]
  },
  {
   "cell_type": "code",
   "execution_count": 5,
   "id": "83345bcc-f2dd-48ca-89cf-15c817c3324a",
   "metadata": {},
   "outputs": [
    {
     "name": "stdout",
     "output_type": "stream",
     "text": [
      "FemCode is working on an Edpresso\n"
     ]
    }
   ],
   "source": [
    "team(project = \"Edpresso\", name = 'FemCode')"
   ]
  },
  {
   "cell_type": "markdown",
   "id": "9c53e7b8-ea3f-4fc5-9126-7728ff7fedde",
   "metadata": {},
   "source": [
    "`4. Create a Python function that accepts a variable number of arguments and calculates their sum.`"
   ]
  },
  {
   "cell_type": "code",
   "execution_count": 6,
   "id": "3fd161d4-862e-4436-9819-321685ed07db",
   "metadata": {},
   "outputs": [],
   "source": [
    "def func(*args):\n",
    "    return sum(args)"
   ]
  },
  {
   "cell_type": "code",
   "execution_count": 7,
   "id": "4eeff920-08a3-4d0f-b91e-4c55c4c76f9f",
   "metadata": {},
   "outputs": [
    {
     "data": {
      "text/plain": [
       "120"
      ]
     },
     "execution_count": 7,
     "metadata": {},
     "output_type": "execute_result"
    }
   ],
   "source": [
    "func(1,2,3,4,5,6,7,8,9,10,11,12,13,14,15)"
   ]
  },
  {
   "cell_type": "markdown",
   "id": "d0fd06b7-2cb5-4c3e-a367-261e066a7f01",
   "metadata": {},
   "source": [
    "`5. What is the purpose of the `*args` and `**kwargs` syntax in function parameter lists?`"
   ]
  },
  {
   "cell_type": "markdown",
   "id": "ae24778c-4e4f-453b-b19d-98ca523429f5",
   "metadata": {},
   "source": [
    "*args :\n",
    "    \n",
    "    Python has *args which allow us to pass the variable number of non keyword arguments to function.In the function, we should use an asterisk * before the parameter name to pass variable length arguments.The arguments are passed as a tuple and these passed arguments make tuple inside the function with same name as the parameter excluding asterisk"
   ]
  },
  {
   "cell_type": "code",
   "execution_count": 8,
   "id": "2d0ff1ff-bf4c-4a0d-8f4d-34ade0c89c9f",
   "metadata": {},
   "outputs": [],
   "source": [
    "# Example\n",
    "def adder(*num):\n",
    "    sum_num =0\n",
    "    for i in num:\n",
    "        sum_num =sum_num +i\n",
    "    return sum_num"
   ]
  },
  {
   "cell_type": "code",
   "execution_count": 9,
   "id": "efe52d09-005f-40d4-97c2-ebed826cc0a4",
   "metadata": {},
   "outputs": [
    {
     "data": {
      "text/plain": [
       "254"
      ]
     },
     "execution_count": 9,
     "metadata": {},
     "output_type": "execute_result"
    }
   ],
   "source": [
    "adder(54,65,6,86,43)"
   ]
  },
  {
   "cell_type": "markdown",
   "id": "068d7dae-a8e9-4adf-9ce4-c7b649651bdf",
   "metadata": {},
   "source": [
    "**kwargs :\n",
    "\n",
    "    Python passes variable length non keyword argument to function using *args but we cannot use this to pass keyword argument. For this problem Python has got a solution called **kwargs, it allows us to pass the variable length of keyword arguments to the function.\n",
    "    "
   ]
  },
  {
   "cell_type": "code",
   "execution_count": 10,
   "id": "a5994ec9-702a-49b8-8155-eec42d770f15",
   "metadata": {},
   "outputs": [],
   "source": [
    "# Example :\n",
    "def intro(**data):\n",
    "    print(\"\\nData type of argument:\",type(data))\n",
    "\n",
    "    for key, value in data.items():\n",
    "        print(\"{} is {}\".format(key,value))"
   ]
  },
  {
   "cell_type": "code",
   "execution_count": 11,
   "id": "ab2c6c86-0688-4553-b252-2d3870810a6b",
   "metadata": {},
   "outputs": [
    {
     "name": "stdout",
     "output_type": "stream",
     "text": [
      "\n",
      "Data type of argument: <class 'dict'>\n",
      "Firstname is Sita\n",
      "Lastname is Sharma\n",
      "Age is 22\n",
      "Phone is 1234567890\n",
      "\n",
      "Data type of argument: <class 'dict'>\n",
      "Firstname is John\n",
      "Lastname is Wood\n",
      "Email is johnwood@nomail.com\n",
      "Country is Wakanda\n",
      "Age is 25\n",
      "Phone is 9876543210\n"
     ]
    }
   ],
   "source": [
    "intro(Firstname=\"Sita\", Lastname=\"Sharma\", Age=22, Phone=1234567890)\n",
    "intro(Firstname=\"John\", Lastname=\"Wood\", Email=\"johnwood@nomail.com\", Country=\"Wakanda\", Age=25, Phone=9876543210)"
   ]
  },
  {
   "cell_type": "markdown",
   "id": "1d7b4e9d-c665-45e9-8904-8c63b342bfac",
   "metadata": {},
   "source": [
    "## `Return Values and Scoping:`"
   ]
  },
  {
   "cell_type": "markdown",
   "id": "553538bf-ffec-4890-ae62-d76172fa1cee",
   "metadata": {},
   "source": [
    "`1. Describe the role of the `return` statement in Python functions and provide examples.`"
   ]
  },
  {
   "cell_type": "markdown",
   "id": "97648765-31b5-4600-bdc2-d46347a159f0",
   "metadata": {},
   "source": [
    "Ans :\n",
    "    \n",
    "    A return statement is used to end the execution of the function call and “returns” the result (value of the expression following the return keyword) to the caller. The statements after the return statements are not executed. If the return statement is without any expression, then the special value None is returned. A return statement is overall used to invoke a function so that the passed statements can be executed."
   ]
  },
  {
   "cell_type": "code",
   "execution_count": 15,
   "id": "9e1abc67-e100-4b3b-b78a-7d973bc90123",
   "metadata": {},
   "outputs": [],
   "source": [
    "# Example\n",
    "\n",
    "def cube(x):\n",
    "    r =x**3\n",
    "    return r"
   ]
  },
  {
   "cell_type": "code",
   "execution_count": 16,
   "id": "f20e8538-34d2-4945-9f63-94958a7bd59d",
   "metadata": {},
   "outputs": [
    {
     "data": {
      "text/plain": [
       "27"
      ]
     },
     "execution_count": 16,
     "metadata": {},
     "output_type": "execute_result"
    }
   ],
   "source": [
    "cube(3)"
   ]
  },
  {
   "cell_type": "markdown",
   "id": "0979aad2-cd1c-44ad-addb-743d0218d6a4",
   "metadata": {},
   "source": [
    "`2. Explain the concept of variable scope in Python, including local and global variables`"
   ]
  },
  {
   "cell_type": "markdown",
   "id": "81f866cd-ead8-434e-baee-2f7d3bd0c419",
   "metadata": {},
   "source": [
    "Global Variable :\n",
    "    \n",
    "    Global variable are those which are not define outside the function which has global scope ."
   ]
  },
  {
   "cell_type": "markdown",
   "id": "872b5a97-9d61-4be3-9c93-432fa71ce88b",
   "metadata": {},
   "source": [
    "local Variable :\n",
    "\n",
    "    loacal variable are those which are define inside the function which has local scope.\n",
    "    "
   ]
  },
  {
   "cell_type": "markdown",
   "id": "8a7657dc-e7ec-4d2a-aa68-a6387d1232c4",
   "metadata": {},
   "source": [
    "`3. Write a Python program that demonstrates the use of global variables within functions.`"
   ]
  },
  {
   "cell_type": "markdown",
   "id": "59c292ee-fae6-40f4-a939-3b308232889d",
   "metadata": {},
   "source": [
    "Ans :\n",
    "    \n",
    "    Variables that are created outside of a function (as in all of the examples above) are known as global variables"
   ]
  },
  {
   "cell_type": "code",
   "execution_count": 19,
   "id": "f5cc4a8d-27cb-49e6-9892-cf07b8802352",
   "metadata": {},
   "outputs": [],
   "source": [
    "x = \"awesome\"\n",
    "\n",
    "def myfunc():\n",
    "    x = \"fantastic\"\n",
    "    print(\"Python is \" + x)\n"
   ]
  },
  {
   "cell_type": "code",
   "execution_count": 20,
   "id": "be8e0633-15c9-4eab-a7f0-3c777bd6138e",
   "metadata": {},
   "outputs": [
    {
     "name": "stdout",
     "output_type": "stream",
     "text": [
      "Python is fantastic\n"
     ]
    }
   ],
   "source": [
    "myfunc() # local variable work only inside the function"
   ]
  },
  {
   "cell_type": "code",
   "execution_count": 23,
   "id": "1361ac30-67ac-469d-abaf-ccf490079b22",
   "metadata": {},
   "outputs": [
    {
     "name": "stdout",
     "output_type": "stream",
     "text": [
      "Python is awesome\n"
     ]
    }
   ],
   "source": [
    "print(\"Python is \" + x) # global variable work outside the function"
   ]
  },
  {
   "cell_type": "markdown",
   "id": "1cf3f4b8-a542-45f3-ad10-bb2c5fbfcddb",
   "metadata": {},
   "source": [
    "`4. Create a Python function that calculates the factorial of a number and returns it.`"
   ]
  },
  {
   "cell_type": "code",
   "execution_count": 9,
   "id": "0a176237-11ea-4a81-8659-a8169de5b265",
   "metadata": {},
   "outputs": [],
   "source": [
    "def factorial(n):\n",
    "    facts =1\n",
    "    for i in range(1,n+1):\n",
    "        facts =facts *i\n",
    "    return facts"
   ]
  },
  {
   "cell_type": "code",
   "execution_count": 10,
   "id": "e99c83d0-dfbb-41fa-a541-64a7a2fe6cb5",
   "metadata": {},
   "outputs": [
    {
     "data": {
      "text/plain": [
       "120"
      ]
     },
     "execution_count": 10,
     "metadata": {},
     "output_type": "execute_result"
    }
   ],
   "source": [
    "factorial(5)"
   ]
  },
  {
   "cell_type": "markdown",
   "id": "7b1346a6-1fc1-4bb5-8254-f414dc0efac4",
   "metadata": {},
   "source": [
    "`5. How can you access variables defined outside a function from within the function?`"
   ]
  },
  {
   "cell_type": "code",
   "execution_count": 1,
   "id": "60d1dfdc-8253-467c-82da-70d2a3855295",
   "metadata": {},
   "outputs": [],
   "source": [
    "x ='pwskills'\n",
    "def funct():\n",
    "    print(f\"I learn from {x}\")"
   ]
  },
  {
   "cell_type": "code",
   "execution_count": 2,
   "id": "807e7b4a-b6bb-485d-a607-2af45d5b6319",
   "metadata": {},
   "outputs": [
    {
     "name": "stdout",
     "output_type": "stream",
     "text": [
      "I learn from pwskills\n"
     ]
    }
   ],
   "source": [
    "funct()"
   ]
  },
  {
   "cell_type": "markdown",
   "id": "0a10fa96-ea41-4a7c-808b-bc2f5d4302b4",
   "metadata": {},
   "source": [
    "Note :\n",
    "    \n",
    "    like that we can access the variable outside function within func."
   ]
  },
  {
   "cell_type": "markdown",
   "id": "c847c5a7-298d-4c67-9046-058ad6664bd2",
   "metadata": {},
   "source": [
    "## `Lambda Functions and Higher-Order Functions:`"
   ]
  },
  {
   "cell_type": "markdown",
   "id": "50948cac-20fa-4f5b-b0ab-275cd8b078f0",
   "metadata": {},
   "source": [
    "`1. What are lambda functions in Python, and when are they typically used?`"
   ]
  },
  {
   "cell_type": "markdown",
   "id": "c5733edc-31bc-40f1-9143-164176b436a3",
   "metadata": {},
   "source": [
    "Ans :\n",
    "    \n",
    "    Lambda function is anomyous function which can take number of arguments but only in single expression."
   ]
  },
  {
   "cell_type": "markdown",
   "id": "344896db-5e77-4e02-909b-249892315703",
   "metadata": {},
   "source": [
    "syntax :\n",
    "    \n",
    "    lambda x : expression\n",
    "    \n",
    "    You should use the lambda function to create simple expressions. For example, expressions that do not include complex structures such as if-else, for-loops, and so on. So, for example, if you want to create a function with a for-loop, you should use a user-defined function."
   ]
  },
  {
   "cell_type": "markdown",
   "id": "beeebecf-fd29-4171-ad66-ed9ea25a1afb",
   "metadata": {},
   "source": [
    "`2. Write a Python program that uses lambda functions to sort a list of tuples based on the second\n",
    "element.`"
   ]
  },
  {
   "cell_type": "code",
   "execution_count": 5,
   "id": "8ee76d25-c0a4-48e7-a5be-accf12ae23c6",
   "metadata": {},
   "outputs": [],
   "source": [
    "list9 =[20,35,63,67,34,23,12,56,76,99]"
   ]
  },
  {
   "cell_type": "code",
   "execution_count": 16,
   "id": "44bfb11c-4f49-44c9-8650-767cb307b1e8",
   "metadata": {},
   "outputs": [],
   "source": [
    "sort_base =sorted(list9,key= lambda x:x %10)"
   ]
  },
  {
   "cell_type": "code",
   "execution_count": 17,
   "id": "6be71453-0c7b-4424-8d31-fc497511eceb",
   "metadata": {},
   "outputs": [
    {
     "data": {
      "text/plain": [
       "[20, 12, 23, 63, 34, 35, 56, 76, 67, 99]"
      ]
     },
     "execution_count": 17,
     "metadata": {},
     "output_type": "execute_result"
    }
   ],
   "source": [
    "sort_base"
   ]
  },
  {
   "cell_type": "markdown",
   "id": "24d93157-d3ed-4ba8-b6c8-39405b0838a2",
   "metadata": {},
   "source": [
    "`3. Explain the concept of higher-order functions in Python, and provide an example`"
   ]
  },
  {
   "cell_type": "markdown",
   "id": "791e20ef-6275-4aad-b163-cef40043cfff",
   "metadata": {},
   "source": [
    "Ans :\n",
    "    \n",
    "    Higher-order functions are functions that take a function as a parameter and/or return a function as an output.A few useful higher-order functions are map() , filter() , and reduce() . map() and filter() are built-in functions, whereas reduce() is contained in functools() module "
   ]
  },
  {
   "cell_type": "code",
   "execution_count": 22,
   "id": "6c011b97-51b2-4981-85ec-62d61726b0b5",
   "metadata": {},
   "outputs": [],
   "source": [
    "def myfun():\n",
    "    print(\"Hi, I am myfun\")\n",
    "\n",
    "# accepting function as argument\n",
    "def fun(f):\n",
    "    # calling the passes function\n",
    "    f()\n",
    "\n",
    "# # driver code\n",
    "# ref = myfun # creating reference\n",
    "# # passing function as argument\n",
    "# fun(ref)\n",
    "# # OR\n",
    "# fun(myfun)  # Direct passing"
   ]
  },
  {
   "cell_type": "code",
   "execution_count": 30,
   "id": "91f7ac33-6b82-47ce-a894-4dda708d0406",
   "metadata": {},
   "outputs": [
    {
     "name": "stdout",
     "output_type": "stream",
     "text": [
      "Hi, I am myfun\n"
     ]
    }
   ],
   "source": [
    "ref=myfun()"
   ]
  },
  {
   "cell_type": "code",
   "execution_count": 27,
   "id": "ebce4756-9bf3-45a2-abe7-fa659a0add88",
   "metadata": {},
   "outputs": [
    {
     "name": "stdout",
     "output_type": "stream",
     "text": [
      "Hi, I am myfun\n"
     ]
    }
   ],
   "source": [
    "fun(myfun)"
   ]
  },
  {
   "cell_type": "markdown",
   "id": "2da7bd10-d612-44a2-8168-0b64b6acaad1",
   "metadata": {},
   "source": [
    "`4. Create a Python function that takes a list of numbers and a function as arguments, applying the\n",
    "function to each element in the list.`"
   ]
  },
  {
   "cell_type": "code",
   "execution_count": 32,
   "id": "56d20516-e449-41d2-bdd0-385d08bb5fdc",
   "metadata": {},
   "outputs": [],
   "source": [
    "list10 =[1,2,3,4,5,6,7,8,9]\n",
    "each_elements  =list(map(lambda x: pow(x,2),list10))"
   ]
  },
  {
   "cell_type": "code",
   "execution_count": 33,
   "id": "6bc7b3fa-e1a7-470f-b05a-1e19aeeb7e32",
   "metadata": {},
   "outputs": [
    {
     "data": {
      "text/plain": [
       "[1, 4, 9, 16, 25, 36, 49, 64, 81]"
      ]
     },
     "execution_count": 33,
     "metadata": {},
     "output_type": "execute_result"
    }
   ],
   "source": [
    "each_elements"
   ]
  },
  {
   "cell_type": "code",
   "execution_count": 45,
   "id": "6958aa3e-c8d0-4653-b0c9-7ccf57379210",
   "metadata": {},
   "outputs": [],
   "source": [
    "def square(args):\n",
    "    return args**2"
   ]
  },
  {
   "cell_type": "code",
   "execution_count": 46,
   "id": "ef3e9411-47eb-4285-99aa-ef53265e5a1b",
   "metadata": {},
   "outputs": [],
   "source": [
    "each_ele =list(map(square, list10))"
   ]
  },
  {
   "cell_type": "code",
   "execution_count": 47,
   "id": "7751a660-61fb-4353-be1f-f2feefa43241",
   "metadata": {},
   "outputs": [
    {
     "data": {
      "text/plain": [
       "[1, 4, 9, 16, 25, 36, 49, 64, 81]"
      ]
     },
     "execution_count": 47,
     "metadata": {},
     "output_type": "execute_result"
    }
   ],
   "source": [
    "each_ele"
   ]
  },
  {
   "cell_type": "markdown",
   "id": "72d611b7-f3f8-4966-b474-94dccbb24105",
   "metadata": {},
   "source": [
    "## `Built-in Functions:`"
   ]
  },
  {
   "cell_type": "markdown",
   "id": "b72be28a-54b3-4168-93fe-e9dbe3968662",
   "metadata": {},
   "source": [
    "`1. Describe the role of built-in functions like `len()`, `max()`, and `min()` in Python.`"
   ]
  },
  {
   "cell_type": "markdown",
   "id": "d591afb1-15eb-423d-88e2-b3451e0f3743",
   "metadata": {},
   "source": [
    "Ans :\n",
    "    \n",
    "    Len():\n",
    "        \n",
    "        len() function is use to return the number of item in container.\n",
    "        \n",
    "        "
   ]
  },
  {
   "cell_type": "markdown",
   "id": "acad437f-0570-4d12-9b8b-15b848592511",
   "metadata": {},
   "source": [
    "Max() :\n",
    "    \n",
    "    max() function is used to return the max element from container ."
   ]
  },
  {
   "cell_type": "markdown",
   "id": "4c432fe0-1a33-4a17-83f8-30c8f764b295",
   "metadata": {},
   "source": [
    "Min() :\n",
    "    \n",
    "    min() function is used to return the min element from container ."
   ]
  },
  {
   "cell_type": "markdown",
   "id": "93f7ba67-f535-4825-8bd8-fc8f5755f887",
   "metadata": {},
   "source": [
    "`2. Write a Python program that uses the `map()` function to apply a function to each element of a\n",
    "list.`"
   ]
  },
  {
   "cell_type": "code",
   "execution_count": 1,
   "id": "1549ec35-9c5a-4881-a60f-54f0b8a26b05",
   "metadata": {},
   "outputs": [
    {
     "data": {
      "text/plain": [
       "[11, 12, 13, 14, 15, 16, 17, 18, 19, 20]"
      ]
     },
     "execution_count": 1,
     "metadata": {},
     "output_type": "execute_result"
    }
   ],
   "source": [
    "list11=[1,2,3,4,5,6,7,8,9,10]\n",
    "\n",
    "add = list(map(lambda x : x+10, list11))\n",
    "add"
   ]
  },
  {
   "cell_type": "markdown",
   "id": "d79afdf8-2033-4536-8694-44209cba9cc8",
   "metadata": {},
   "source": [
    "`3. How does the `filter()` function work in Python, and when would you use it?`"
   ]
  },
  {
   "cell_type": "markdown",
   "id": "60b38ba0-197b-4582-915f-49410acfcaa7",
   "metadata": {},
   "source": [
    "Ans :\n",
    "    \n",
    "    Filter() is a built-in function in Python. The filter function can be applied to an iterable such as a list or a dictionary and create a new iterator. This new iterator can filter out certain specific elements based on the condition that you provide very efficiently."
   ]
  },
  {
   "cell_type": "markdown",
   "id": "f82903ae-688a-48dc-84ff-93fa5debf889",
   "metadata": {},
   "source": [
    "`4. Create a Python program that uses the `reduce()` function to find the product of all elements in\n",
    "a list.`"
   ]
  },
  {
   "cell_type": "code",
   "execution_count": 3,
   "id": "97474a61-d81c-49bf-bfc8-8613f3bf7105",
   "metadata": {},
   "outputs": [
    {
     "name": "stdout",
     "output_type": "stream",
     "text": [
      "109027350432000\n"
     ]
    }
   ],
   "source": [
    "from functools import reduce\n",
    "list12 =[21,22,23,24,25,26,27,28,29,30]\n",
    "\n",
    "reduced =reduce(lambda x,y : x*y ,list12)\n",
    "print(reduced)"
   ]
  },
  {
   "cell_type": "markdown",
   "id": "b83cdcd3-dcea-4555-a49a-6b7484b0bcd0",
   "metadata": {},
   "source": [
    "## `Function Documentation and Best Practices:`"
   ]
  },
  {
   "cell_type": "markdown",
   "id": "43625bce-da51-4a08-9f12-2829817b9e35",
   "metadata": {},
   "source": [
    "`1. Explain the purpose of docstrings in Python functions and how to write them.`"
   ]
  },
  {
   "cell_type": "markdown",
   "id": "6580fc7e-6961-4c66-8f74-3f68fee7bb4f",
   "metadata": {},
   "source": [
    "docstrings :\n",
    "    \n",
    "    docstring is also called as multiline string.docstring is used to document a specific segment of code"
   ]
  },
  {
   "cell_type": "code",
   "execution_count": 5,
   "id": "06ec5f8c-74eb-47cf-912b-71aa12605193",
   "metadata": {},
   "outputs": [],
   "source": [
    "def func(a,b):\n",
    "    \"\"\"In these function we take two parameter.which help to\n",
    "    giving input to the function. the function return the addition \n",
    "    operation\"\"\"\n",
    "    \n",
    "    return a+b"
   ]
  },
  {
   "cell_type": "code",
   "execution_count": 6,
   "id": "7fa9d2e9-67a2-41ba-b7a5-61fa4fd41261",
   "metadata": {},
   "outputs": [
    {
     "data": {
      "text/plain": [
       "46"
      ]
     },
     "execution_count": 6,
     "metadata": {},
     "output_type": "execute_result"
    }
   ],
   "source": [
    "func(23,23)"
   ]
  },
  {
   "cell_type": "markdown",
   "id": "63028ea5-aa6b-492b-a6e3-cc573ad6c263",
   "metadata": {
    "tags": []
   },
   "source": [
    "`2. Describe some best practices for naming functions and variables in Python, including naming\n",
    "conventions and guidelines.`"
   ]
  },
  {
   "cell_type": "markdown",
   "id": "44e54550-b9f1-40a3-a31e-114bc8863edc",
   "metadata": {},
   "source": [
    "Here are our best practices for naming variables in Python: \n",
    "    \n",
    "    1. use discriptive and meaningful name.\n",
    "    2. follow the consistent naming and convention.\n",
    "    3. Avoid reserved keyword .\n",
    "    4. Dont use abbrivation .\n",
    "    5. be mindful of variable scope."
   ]
  },
  {
   "cell_type": "code",
   "execution_count": null,
   "id": "fbb26c69-47d8-4b2a-8751-d889a39fd565",
   "metadata": {},
   "outputs": [],
   "source": []
  },
  {
   "cell_type": "code",
   "execution_count": null,
   "id": "39718ceb-fad7-4b99-bda9-3386e7679d4b",
   "metadata": {},
   "outputs": [],
   "source": []
  },
  {
   "cell_type": "code",
   "execution_count": null,
   "id": "638f6cbb-baa1-4a92-abb7-f5a3fed25792",
   "metadata": {},
   "outputs": [],
   "source": []
  },
  {
   "cell_type": "code",
   "execution_count": null,
   "id": "9bb9b6d3-54f2-45d0-9742-448705082bc5",
   "metadata": {},
   "outputs": [],
   "source": []
  }
 ],
 "metadata": {
  "kernelspec": {
   "display_name": "Python 3 (ipykernel)",
   "language": "python",
   "name": "python3"
  },
  "language_info": {
   "codemirror_mode": {
    "name": "ipython",
    "version": 3
   },
   "file_extension": ".py",
   "mimetype": "text/x-python",
   "name": "python",
   "nbconvert_exporter": "python",
   "pygments_lexer": "ipython3",
   "version": "3.10.8"
  }
 },
 "nbformat": 4,
 "nbformat_minor": 5
}
