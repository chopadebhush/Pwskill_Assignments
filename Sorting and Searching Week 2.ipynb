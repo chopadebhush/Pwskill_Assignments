{
 "cells": [
  {
   "cell_type": "markdown",
   "id": "789bfb19-37cc-487a-824e-91f344e59cd5",
   "metadata": {},
   "source": [
    "`Problem 1 :\n",
    "Intersection of Two Sorted Arrays\n",
    "Write a Python program to find the intersection of two sorted arrays.`\n",
    "\n",
    "Input:\n",
    "\n",
    "A = [1, 3, 5, 7, 9]\n",
    "\n",
    "B = [2, 4, 5, 8]\n",
    "\n",
    "Output:\n",
    "\n",
    "Intersection: [5]"
   ]
  },
  {
   "cell_type": "code",
   "execution_count": 27,
   "id": "d278e86a-8c1e-4422-9511-17d2107b6892",
   "metadata": {},
   "outputs": [],
   "source": [
    "# Approach used for these example is two pointer approach :-\n",
    "def IntersectionArray(arr1 ,arr2):\n",
    "    i = 0\n",
    "    j = 0\n",
    "    lst =[]\n",
    "    while(i<len(arr1) and j<len(arr2)):\n",
    "        if(arr1[i] == arr2[j]):\n",
    "            lst.append(arr1[i])\n",
    "        i +=1\n",
    "        j +=1\n",
    "    return lst"
   ]
  },
  {
   "cell_type": "code",
   "execution_count": 28,
   "id": "bf52f1fa-0c78-438f-b67c-907dc8587a58",
   "metadata": {},
   "outputs": [
    {
     "name": "stdout",
     "output_type": "stream",
     "text": [
      "[5]\n"
     ]
    }
   ],
   "source": [
    "# Driver Code\n",
    "arr1 =[1,3,5,7,9]\n",
    "arr2 =[2,4,5,8]\n",
    "print(IntersectionArray(arr1 ,arr2))"
   ]
  },
  {
   "cell_type": "markdown",
   "id": "15597e27-f661-4a8b-abee-db642d177c48",
   "metadata": {},
   "source": [
    "`Problem 2 :\n",
    "Find the Kth Smallest Element\n",
    "Write a Python function to find the kth smallest element in an unsorted list.`\n",
    "\n",
    "Input:\n",
    "\n",
    "[12, 3, 1, 7, 8, 20], k = 3\n",
    "\n",
    "Output:\n",
    "\n",
    "The 3rd smallest element is 7"
   ]
  },
  {
   "cell_type": "code",
   "execution_count": 70,
   "id": "dd15841e-0f76-46f7-9e78-fae68d28a4ea",
   "metadata": {},
   "outputs": [],
   "source": [
    "# Approach first sort array and then search the element in the array\n",
    "def BubbleSort(arr):\n",
    "    for i in range(len(arr)-1,0 ,-1):\n",
    "        for j in range(i):\n",
    "            if(arr[j] > arr[j+1]):\n",
    "                arr[j],arr[j+1] =arr[j+1],arr[j]\n",
    "                \n",
    "def KthSmalest(arr ,k):\n",
    "    BubbleSort(arr)\n",
    "    if k == 0 or k >len(arr):\n",
    "        print(\"Kth Position placed invalid\")\n",
    "        return\n",
    "    else:\n",
    "        kth = arr[-k]\n",
    "    return kth"
   ]
  },
  {
   "cell_type": "code",
   "execution_count": 71,
   "id": "3bac4742-48fe-42eb-9730-280e8d03b115",
   "metadata": {},
   "outputs": [
    {
     "name": "stdout",
     "output_type": "stream",
     "text": [
      "[1, 3, 7, 8, 12, 20]\n",
      "\n",
      "Kth Position placed invalid\n",
      "None\n"
     ]
    }
   ],
   "source": [
    "# Driver code\n",
    "arr =[12,3,1,7,8,20]\n",
    "BubbleSort(arr)\n",
    "print(arr)\n",
    "print()\n",
    "print(KthSmalest(arr ,7))"
   ]
  },
  {
   "cell_type": "markdown",
   "id": "2fa5604d-30e2-4112-bae0-435017e345aa",
   "metadata": {},
   "source": [
    "`Problem 3 :\n",
    "Binary Search in a Rotated Sorted Array\n",
    "Implement a Python program to perform a binary search on a rotated sorted array.`\n",
    "\n",
    "Input:\n",
    "\n",
    "[4, 5, 6, 7, 8, 9, 1, 2, 3], 6\n",
    "\n",
    "Output:\n",
    "\n",
    "Element 6 found at index 2"
   ]
  },
  {
   "cell_type": "code",
   "execution_count": 2,
   "id": "1d25d168-03c9-4ab6-b59b-15e0041ec01b",
   "metadata": {},
   "outputs": [],
   "source": [
    "# Rotated Binary Search Implementation [4, 5, 6, 7, 8, 9, 1, 2, 3]\n",
    "def binarySearch(arr,target):\n",
    "    left = 0 # Define Left pointer\n",
    "    right= len(arr)-1 # define right pointer\n",
    "    # Corner case Condition\n",
    "    if len(arr) == 0: # Corner case for Empty array\n",
    "        print(\"Given array is empty\")\n",
    "        return \n",
    "    if target == arr[0]: # Corner case for single element or result in array\n",
    "        return 0\n",
    "    #while condtion for searching element   \n",
    "    while(left <= right):\n",
    "        # Find the middle element from array\n",
    "        mid =int(left +(right-left)/2)\n",
    "        # Check the target element \n",
    "        if(arr[mid] == target):\n",
    "            return mid\n",
    "        # Check the target elemnt from rotated array\n",
    "        if(target >= arr[left] and target < arr[mid]):\n",
    "                right = right -1\n",
    "        else :\n",
    "            left = left +1                     "
   ]
  },
  {
   "cell_type": "code",
   "execution_count": 12,
   "id": "bb79d1ba-473e-4469-ac65-1de6c2ee0931",
   "metadata": {},
   "outputs": [
    {
     "data": {
      "text/plain": [
       "2"
      ]
     },
     "execution_count": 12,
     "metadata": {},
     "output_type": "execute_result"
    }
   ],
   "source": [
    "arr =[4, 5, 6, 7, 8, 9, 1, 2, 3]\n",
    "# arr =[1,2,3,4,5,6,7,8]\n",
    "binarySearch(arr,6)"
   ]
  },
  {
   "cell_type": "markdown",
   "id": "50dbd05e-d940-41f1-b0b5-31113df7ef93",
   "metadata": {},
   "source": [
    "`Problem 4 :\n",
    "Searching in a Matrix\n",
    "Write a Python program that searches for a given element in a 2D matrix and returns its position.`\n",
    "\n",
    "Input:\n",
    "Matrix = \n",
    "\n",
    "[[1, 3, 5],\n",
    "[7, 9, 11],\n",
    "[13, 15, 17]]\n",
    "\n",
    "\n",
    "Element = 11\n",
    "\n",
    "Output:\n",
    "\n",
    "Element 11 found at position (1, 2)\n"
   ]
  },
  {
   "cell_type": "code",
   "execution_count": 17,
   "id": "aabf5ca1-b41a-44c5-89bd-c1d96007a589",
   "metadata": {},
   "outputs": [],
   "source": [
    "# Approach Traverse the entire matrix and search the element \n",
    "# def function whin argument mat,len(n),target element\n",
    "# Matrix len(n) should be same for the function\n",
    "def Serach2DMatrix(mat,n,target):\n",
    "    # Traverse the entire matrix\n",
    "    for i in range(n):\n",
    "        for j in range(n):\n",
    "            # check the row and columns where element is present\n",
    "            if(mat[i][j] == target):\n",
    "                # if element found return the indexes\n",
    "                return \"index of row is :-\",i ,\"index of columns is:-\",j\n",
    "            \n",
    "    \n",
    "    print(\"Element not found\")          \n",
    "    return -1"
   ]
  },
  {
   "cell_type": "code",
   "execution_count": 18,
   "id": "3987d6d6-03b6-4444-9e98-4a3efe1f5e8c",
   "metadata": {},
   "outputs": [
    {
     "data": {
      "text/plain": [
       "('index of row is :-', 1, 'index of columns is:-', 2)"
      ]
     },
     "execution_count": 18,
     "metadata": {},
     "output_type": "execute_result"
    }
   ],
   "source": [
    "# Driver code\n",
    "matrix =[[1, 3, 5],\n",
    "        [7, 9, 11],\n",
    "        [13, 15, 17]]\n",
    "n = 3\n",
    "target = 11\n",
    "Serach2DMatrix(matrix ,n,target)"
   ]
  },
  {
   "cell_type": "markdown",
   "id": "135fd9b3-797e-4b2c-98f1-cab0443a72aa",
   "metadata": {},
   "source": [
    "`Problem 5 :\n",
    "Sorting Strings by Length\n",
    "Write a Python program that takes a list of strings and sorts them based on their length.`\n",
    "\n",
    "\n",
    "Input:\n",
    "\n",
    "['apple', 'banana', 'kiwi', 'orange', 'grape']\n",
    "\n",
    "Output:\n",
    "\n",
    "['kiwi', 'grape', 'apple', 'banana', 'orange']"
   ]
  },
  {
   "cell_type": "code",
   "execution_count": 20,
   "id": "2166db6d-e151-44ab-882a-1025e143fde0",
   "metadata": {},
   "outputs": [
    {
     "name": "stdout",
     "output_type": "stream",
     "text": [
      "['kiwi', 'apple', 'grape', 'banana', 'orange']\n"
     ]
    }
   ],
   "source": [
    "# Approach to for sorting we can used bubble sort as well as selection sort algorithm\n",
    "# create function and pass the argument as list.\n",
    "# Traverse entire list.\n",
    "# check the length of every element and swap it by its length.\n",
    "def BubbleSort_string(lst):\n",
    "    # Traverse the list by it lengths len to zero\n",
    "    for i in range(len(lst)-1,0,-1):\n",
    "        # Inner for loop is used to the entire element present in list\n",
    "        for j in range(i):\n",
    "            # if condition is use to check length of elements \n",
    "            # if element len is gerater than swap it.\n",
    "            if((len(lst[j]) > len(lst[j+1]))):\n",
    "                lst[j],lst[j+1] = lst[j+1],lst[j]\n",
    "\n",
    "                \n",
    "#Driver Code                 \n",
    "lst =['apple', 'banana', 'kiwi', 'orange', 'grape']\n",
    "BubbleSort_string(lst)\n",
    "print(lst)"
   ]
  },
  {
   "cell_type": "markdown",
   "id": "4b5bdcdb-0f70-4c70-906d-4948f8cf23c5",
   "metadata": {},
   "source": [
    "`Problem 6 :\n",
    "Implementing the merge sort ( Will be discussed in the class )`"
   ]
  },
  {
   "cell_type": "code",
   "execution_count": 9,
   "id": "25dedcd1-8f3d-4600-9081-d6ec5ade42f8",
   "metadata": {},
   "outputs": [],
   "source": [
    "def mergeSort(arr):  # this fn sorts the arr passed as argument\n",
    "    if (len(arr)<=1):\n",
    "        return\n",
    "  # Divide into two parts\n",
    "    mid = len(arr)//2\n",
    "\n",
    "  #Left half of the arr\n",
    "    left = arr[:mid]\n",
    "\n",
    "  #Rught half of the arr\n",
    "    right = arr[mid:]\n",
    "\n",
    "  #sort the left part\n",
    "    mergeSort(left)\n",
    "\n",
    "  #sort the right part\n",
    "    mergeSort(right)\n",
    "\n",
    "  #logic to merge both individually sorted left and right\n",
    "    merge(left, right, arr )\n",
    "\n",
    "\n",
    "def merge(left, right, arr):\n",
    "    i=0 #index of left array\n",
    "    j=0 #index of right array\n",
    "    k=0 # index of the result arr\n",
    "\n",
    "    while i<len(left) and j<len(right):\n",
    "        if(left[i]<= right[j]):\n",
    "            arr[k] = left[i]\n",
    "            i +=1\n",
    "        else :\n",
    "            arr[k] = right[j]\n",
    "            j+=1\n",
    "        k +=1\n",
    "\n",
    "  #Check if any element is left in left array\n",
    "    while i < len(left):\n",
    "        arr[k] = left[i]\n",
    "        i +=1\n",
    "        k +=1\n",
    "  #Check if any element is left in right array\n",
    "    while j < len(right):\n",
    "        arr[k] = right[j]\n",
    "        j +=1\n",
    "        k +=1"
   ]
  },
  {
   "cell_type": "code",
   "execution_count": 10,
   "id": "fb9d63aa-9530-4cc4-a3ce-81173d6ca2d9",
   "metadata": {},
   "outputs": [
    {
     "name": "stdout",
     "output_type": "stream",
     "text": [
      "[5, 6, 7, 11, 12, 13]\n"
     ]
    }
   ],
   "source": [
    "# Driver code\n",
    "l1 = [12,11,13,5,6,7]\n",
    "mergeSort(l1)\n",
    "print(l1)"
   ]
  },
  {
   "cell_type": "markdown",
   "id": "cf13b239-901a-4659-af12-e26249116670",
   "metadata": {},
   "source": [
    "`Problem 7 :\n",
    "Implementing the quick sort ( will be discussed in the class )`"
   ]
  },
  {
   "cell_type": "code",
   "execution_count": 12,
   "id": "16339142-1903-4766-8c2e-4484fc4c9cd2",
   "metadata": {},
   "outputs": [],
   "source": [
    "#Code for the quick sort\n",
    "\n",
    "# We to find the pivot element and re-arrange the entire array around pivot\n",
    "\n",
    "# Once recursively done for the entire array - sorted array with us\n",
    "\n",
    "def quickSort(arr, low, high):\n",
    "  # Base condition\n",
    "    if low >=high :\n",
    "        return\n",
    "\n",
    "  #find the pivot point and re-arrange the array around it\n",
    "    pi = partition(arr, low, high)\n",
    "\n",
    "  # pi index, left all small, right all big\n",
    "  #left of pi will be all small\n",
    "  # right of pi will be all big\n",
    "\n",
    "  #sort the left part\n",
    "    quickSort(arr, low, pi-1)\n",
    "\n",
    "  #sort the right part\n",
    "    quickSort(arr,pi+1, high)\n",
    "\n",
    "\n",
    "def partition(arr, low , high):\n",
    "    \n",
    "  #We choose right most element as the pivot element\n",
    "    pivot = arr[high]\n",
    "\n",
    "  # Traverse through the entire array\n",
    "  # Compare the elements with the pivot element\n",
    "    i = low-1 # i indicate the available index for the smaller elements than pivot\n",
    "    for j in range(low,high):\n",
    "        if(arr[j]<= pivot):\n",
    "            \n",
    "      #We need to set it in the left part of the array\n",
    "            i = i+1 # position where arr[j] should be\n",
    "\n",
    "      #swap arr[j] and i index elements\n",
    "            arr[i],arr[j] = arr[j],arr[i]\n",
    "\n",
    "  #Swap the pivot element with the next greater element of i\n",
    "    arr[i+1],arr[high] = arr[high],arr[i+1]\n",
    "\n",
    "    return i+1"
   ]
  },
  {
   "cell_type": "code",
   "execution_count": 13,
   "id": "3b7f7639-a7b6-403b-bfd9-ce1f93d7d3ef",
   "metadata": {},
   "outputs": [
    {
     "name": "stdout",
     "output_type": "stream",
     "text": [
      "[5, 6, 7, 11, 12, 13]\n"
     ]
    }
   ],
   "source": [
    "# Driver Code\n",
    "l1 = [12,11,13,5,6,7]\n",
    "quickSort(l1,0,len(l1)-1)\n",
    "print(l1)"
   ]
  },
  {
   "cell_type": "markdown",
   "id": "b83b245d-9eea-48bb-82d1-677740198c91",
   "metadata": {},
   "source": [
    "`Problem 8 :\n",
    "Implementing the count sort ( will be discussed in the class )`"
   ]
  },
  {
   "cell_type": "code",
   "execution_count": 15,
   "id": "92aff38e-f8b7-4879-8aeb-bc154cfdb508",
   "metadata": {},
   "outputs": [
    {
     "name": "stdout",
     "output_type": "stream",
     "text": [
      "1 3 3 4 5 5 9 12 "
     ]
    }
   ],
   "source": [
    "def count_sort(input_array):\n",
    "\t# Finding the maximum element of input_array.\n",
    "\tM = max(input_array)\n",
    "\n",
    "\t# Initializing count_array with 0\n",
    "\tcount_array = [0] * (M + 1)\n",
    "\n",
    "\t# Mapping each element of input_array as an index of count_array\n",
    "\tfor num in input_array:\n",
    "\t\tcount_array[num] += 1\n",
    "\n",
    "\t# Calculating prefix sum at every index of count_array\n",
    "\tfor i in range(1, M + 1):\n",
    "\t\tcount_array[i] += count_array[i - 1]\n",
    "\n",
    "\t# Creating output_array from count_array\n",
    "\toutput_array = [0] * len(input_array)\n",
    "\n",
    "\tfor i in range(len(input_array) - 1, -1, -1):\n",
    "\t\toutput_array[count_array[input_array[i]] - 1] = input_array[i]\n",
    "\t\tcount_array[input_array[i]] -= 1\n",
    "\n",
    "\treturn output_array\n",
    "\n",
    "# Driver code\n",
    "# Input array\n",
    "input_array = [4, 3, 12, 1, 5, 5, 3, 9]\n",
    "# Output array\n",
    "output_array = count_sort(input_array)\n",
    "for num in output_array:\n",
    "    print(num, end=\" \")"
   ]
  },
  {
   "cell_type": "code",
   "execution_count": null,
   "id": "78e7637e-c7af-473d-adb4-a872ddf10ed9",
   "metadata": {},
   "outputs": [],
   "source": []
  },
  {
   "cell_type": "code",
   "execution_count": null,
   "id": "df22286b-f74b-4bc1-826b-27212ad0d2ef",
   "metadata": {},
   "outputs": [],
   "source": []
  },
  {
   "cell_type": "code",
   "execution_count": null,
   "id": "18b3b455-ea70-4672-afb6-c687b5c0ef04",
   "metadata": {},
   "outputs": [],
   "source": []
  },
  {
   "cell_type": "code",
   "execution_count": null,
   "id": "cd4ab20a-7f69-47c5-a1ba-47fc9c54669f",
   "metadata": {},
   "outputs": [],
   "source": []
  },
  {
   "cell_type": "code",
   "execution_count": null,
   "id": "dda654ae-e38d-4a3d-95a0-11a0c2e6d0b8",
   "metadata": {},
   "outputs": [],
   "source": []
  },
  {
   "cell_type": "markdown",
   "id": "c0d24590-5bc1-460c-be30-2f4d451520ee",
   "metadata": {},
   "source": [
    "`Problem 9 :\n",
    "Implement a Python function to find a peak element in an array. A peak element is an element that is greater\n",
    "than or equal to its neighbors.`\n",
    "\n",
    "Input:\n",
    "\n",
    "[1, 3, 20, 4, 1, 0]\n",
    "\n",
    "Output:\n",
    "\n",
    "Peak element is 20"
   ]
  },
  {
   "cell_type": "code",
   "execution_count": 3,
   "id": "d9376010-2123-4111-b927-e711913bc9cc",
   "metadata": {},
   "outputs": [
    {
     "data": {
      "text/plain": [
       "20"
      ]
     },
     "execution_count": 3,
     "metadata": {},
     "output_type": "execute_result"
    }
   ],
   "source": [
    "# Approach traverse entire array till length of array\n",
    "# check condition i-1 and i+1 met return the array element\n",
    "# def function with arguemnt of array\n",
    "def PeakElement(arr):\n",
    "    # Corner Case condition \n",
    "    if len(arr) <= 1 :\n",
    "        return 0\n",
    "    # Corner Case Condition\n",
    "    if(arr[len(arr) - 1] >= arr[len(arr) - 2]) :\n",
    "        return arr[len(arr)-1]\n",
    "    \n",
    "    # Traverse Entire array through for loop start from 1st element\n",
    "    var = 0\n",
    "    for i in range(1,len(arr)):\n",
    "        # Check element is > previous element and check > next element\n",
    "        # If condition met return the element\n",
    "        if(arr[i] >=arr[i-1] and arr[i]> arr[i+1]):\n",
    "            var = arr[i]\n",
    "    return var\n",
    "\n",
    "\n",
    "# Driver Code \n",
    "arr =[1, 3, 20, 4, 1, 0]\n",
    "PeakElement(arr)"
   ]
  },
  {
   "cell_type": "markdown",
   "id": "daca1f4e-0f19-4b81-86a4-eb051c5751bc",
   "metadata": {},
   "source": [
    "`Problem 10 :\n",
    "Search in a Nearly Sorted Array\n",
    "Implement a Python program to perform a binary search in a nearly sorted array. In a nearly sorted array, each\n",
    "element is at most k positions away from its sorted position.`\n",
    "\n",
    "Input:\n",
    "\n",
    "[2, 1, 3, 4, 6, 5, 7], k = 1\n",
    "\n",
    "Output:\n",
    "\n",
    "Element 5 found at index 4"
   ]
  },
  {
   "cell_type": "code",
   "execution_count": 7,
   "id": "d0a09b12-8278-4790-8329-901bb2f96d85",
   "metadata": {},
   "outputs": [
    {
     "name": "stdout",
     "output_type": "stream",
     "text": [
      "Element 5 found at index 4\n"
     ]
    }
   ],
   "source": [
    "def binary_search_nearly_sorted(arr ,x ,k):\n",
    "    \"\"\" * Performs binary search in a nearly sorted array.\n",
    "    argument :\n",
    "        1 : nearly sorted array\n",
    "        2 : target element for search\n",
    "        3 : The maximum distance each element can be from its sorted position.\n",
    "    \"\"\"\n",
    "    left ,right = 0 ,len(arr)-1\n",
    "    # Traverse elements \n",
    "    while(left <= right):\n",
    "        # find the mid point of array\n",
    "        mid  =int(left +(right -left)/2)\n",
    "        for i in range(max(mid-k,0),min(mid+k+1,len(arr))):\n",
    "            if(arr[i] == x):\n",
    "                return i-1\n",
    "            \n",
    "        if(arr[mid] > x):\n",
    "            right =mid -1\n",
    "            \n",
    "        else:\n",
    "            left = mid +1\n",
    "            \n",
    "    return -1 \n",
    "\n",
    "# Driver Code             \n",
    "arr =[2, 1, 3, 4, 6, 5, 7] \n",
    "x = 5\n",
    "k = 1 \n",
    "result =binary_search_nearly_sorted(arr ,x ,k)\n",
    "\n",
    "if result != -1:\n",
    "    print(\"Element\", x, \"found at index\", result)   \n",
    "else:\n",
    "    print(\"element not found\")"
   ]
  },
  {
   "cell_type": "code",
   "execution_count": null,
   "id": "947ab97f-c96a-4a17-93a9-0ba8ef4b0555",
   "metadata": {},
   "outputs": [],
   "source": []
  }
 ],
 "metadata": {
  "kernelspec": {
   "display_name": "Python 3 (ipykernel)",
   "language": "python",
   "name": "python3"
  },
  "language_info": {
   "codemirror_mode": {
    "name": "ipython",
    "version": 3
   },
   "file_extension": ".py",
   "mimetype": "text/x-python",
   "name": "python",
   "nbconvert_exporter": "python",
   "pygments_lexer": "ipython3",
   "version": "3.10.8"
  }
 },
 "nbformat": 4,
 "nbformat_minor": 5
}
