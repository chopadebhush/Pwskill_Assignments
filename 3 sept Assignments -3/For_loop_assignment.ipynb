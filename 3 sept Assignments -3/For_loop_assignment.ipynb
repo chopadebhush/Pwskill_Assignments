{
 "cells": [
  {
   "cell_type": "markdown",
   "id": "29b7bccd-1bb8-423b-8306-e59f904e90fd",
   "metadata": {},
   "source": [
    "## `Basic Level:`"
   ]
  },
  {
   "cell_type": "markdown",
   "id": "0628ef56-1377-4675-8eba-2e174cec39fd",
   "metadata": {},
   "source": [
    "1. Write a Python program to print the numbers from 1 to 10 using a `for` loop."
   ]
  },
  {
   "cell_type": "code",
   "execution_count": 6,
   "id": "a5157a52-4573-4599-80dc-eb5136f382c0",
   "metadata": {},
   "outputs": [
    {
     "name": "stdout",
     "output_type": "stream",
     "text": [
      "1 2 3 4 5 6 7 8 9 10 "
     ]
    }
   ],
   "source": [
    "for i in range(1,10+1):\n",
    "    print(i,end =' ')"
   ]
  },
  {
   "cell_type": "markdown",
   "id": "ccf755fe-40e2-4c79-90ef-47ccf79c5c56",
   "metadata": {},
   "source": [
    "2. Create a program that calculates the sum of all numbers in a list using a `for` loop."
   ]
  },
  {
   "cell_type": "code",
   "execution_count": 7,
   "id": "d66a957b-d870-417e-b45b-170f95607c35",
   "metadata": {},
   "outputs": [
    {
     "name": "stdout",
     "output_type": "stream",
     "text": [
      "for loop is executed..\n",
      "=========================\n",
      "sum of all numbers is : 55\n"
     ]
    }
   ],
   "source": [
    "lst_1 =[1,2,3,4,5,6,7,8,9,10]\n",
    "sum_of_all = 0\n",
    "for i in lst_1:\n",
    "    sum_of_all =sum_of_all+i\n",
    "else:\n",
    "    print('for loop is executed..')\n",
    "    print('=========================')\n",
    "    print('sum of all numbers is :',sum_of_all)"
   ]
  },
  {
   "cell_type": "markdown",
   "id": "3ac94318-8def-4820-b07b-54f32b49abbf",
   "metadata": {},
   "source": [
    "3. Write a program to print the characters of a string in reverse order using a `for` loop."
   ]
  },
  {
   "cell_type": "code",
   "execution_count": 22,
   "id": "be5d2a27-5d7d-4e01-bf1e-6b721fe72f81",
   "metadata": {},
   "outputs": [
    {
     "name": "stdout",
     "output_type": "stream",
     "text": [
      "l\n",
      "l\n",
      "i\n",
      "k\n",
      "s\n",
      "w\n",
      "p\n",
      "for loop is executed\n"
     ]
    }
   ],
   "source": [
    "string =\"pwskill\"\n",
    "for i in string[::-1]:\n",
    "    print(i)\n",
    "else:\n",
    "    print('for loop is executed')"
   ]
  },
  {
   "cell_type": "markdown",
   "id": "1d87c309-69fe-42c6-a9b7-158e33c71915",
   "metadata": {},
   "source": [
    "4. Develop a program that finds the factorial of a given number using a `for` loop."
   ]
  },
  {
   "cell_type": "code",
   "execution_count": 23,
   "id": "5d74079a-fdda-4f28-aeae-af9048005fe6",
   "metadata": {},
   "outputs": [
    {
     "name": "stdin",
     "output_type": "stream",
     "text": [
      "Enter the numbers : 5\n"
     ]
    },
    {
     "name": "stdout",
     "output_type": "stream",
     "text": [
      "for loop execution completed\n",
      "Factorial of number is : 120\n"
     ]
    }
   ],
   "source": [
    "fact =int(input('Enter the numbers :'))\n",
    "facts = 1\n",
    "if fact >=1:\n",
    "    for i in range(1,fact+1):\n",
    "        facts =facts *i\n",
    "    else:\n",
    "        print(\"for loop execution completed\")\n",
    "print(\"Factorial of number is :\",facts)        "
   ]
  },
  {
   "cell_type": "markdown",
   "id": "3d4a95e6-82ff-4881-82b0-30af6da436e4",
   "metadata": {},
   "source": [
    "5. Create a program to print the multiplication table of a given number using a `for` loop."
   ]
  },
  {
   "cell_type": "code",
   "execution_count": 25,
   "id": "85f34d28-fa4b-4d10-b66f-2940c7614bd9",
   "metadata": {},
   "outputs": [
    {
     "name": "stdin",
     "output_type": "stream",
     "text": [
      "Enter the number : 5\n"
     ]
    },
    {
     "name": "stdout",
     "output_type": "stream",
     "text": [
      "5 10 15 20 25 30 35 40 45 50 \n",
      "for loop execution completed\n"
     ]
    }
   ],
   "source": [
    "table_input =int(input('Enter the number :'))\n",
    "\n",
    "if table_input >=1:\n",
    "    for i in range(1,11):\n",
    "        print(i*table_input,end= ' ')\n",
    "    else:\n",
    "        print(\"\\nfor loop execution completed\")"
   ]
  },
  {
   "cell_type": "markdown",
   "id": "58d27cdb-8bf6-43e0-8b7c-4b86ea379285",
   "metadata": {},
   "source": [
    "6. Write a program that counts the number of even and odd numbers in a list using a `for` loop."
   ]
  },
  {
   "cell_type": "code",
   "execution_count": 27,
   "id": "18a3ecd6-00ec-4ddb-b933-46b6ee3527d9",
   "metadata": {},
   "outputs": [
    {
     "name": "stdout",
     "output_type": "stream",
     "text": [
      "for loop execution completed\n",
      "[1, 2, 3, 4, 5, 6, 7, 8, 9, 10, 11, 12, 13, 14, 15, 16, 17, 18, 19, 20, 21, 22, 23, 24, 25, 26, 27, 28, 29, 30, 31, 32, 33, 34, 35, 36, 37, 38, 39, 40, 41, 42, 43, 44, 45, 46, 47, 48, 49, 50]\n"
     ]
    }
   ],
   "source": [
    "lst_2 =[]\n",
    "for i in range(1,50+1):\n",
    "    lst_2.append(i)\n",
    "else:\n",
    "    print(\"for loop execution completed\")\n",
    "    print(lst_2)"
   ]
  },
  {
   "cell_type": "code",
   "execution_count": 29,
   "id": "62dd96df-cd65-4056-9ea8-15436241b555",
   "metadata": {},
   "outputs": [
    {
     "name": "stdout",
     "output_type": "stream",
     "text": [
      "for loop execution completed\n",
      "=====================================\n",
      "Even numbers is : [2, 4, 6, 8, 10, 12, 14, 16, 18, 20, 22, 24, 26, 28, 30, 32, 34, 36, 38, 40, 42, 44, 46, 48, 50]\n",
      "=====================================\n",
      "odd numbers is : [1, 3, 5, 7, 9, 11, 13, 15, 17, 19, 21, 23, 25, 27, 29, 31, 33, 35, 37, 39, 41, 43, 45, 47, 49]\n"
     ]
    }
   ],
   "source": [
    "even_number =[]\n",
    "odd_number =[]\n",
    "for i in lst_2:\n",
    "    if i %2 ==0:\n",
    "        even_number.append(i)\n",
    "    else:\n",
    "        odd_number.append(i)\n",
    "else:\n",
    "    print(\"for loop execution completed\")\n",
    "    print('=====================================')\n",
    "    print('Even numbers is :',even_number)\n",
    "    print('=====================================')\n",
    "    print('odd numbers is :',odd_number)"
   ]
  },
  {
   "cell_type": "markdown",
   "id": "0c95900a-a830-42d5-90a0-d18372fcc137",
   "metadata": {},
   "source": [
    "7. Develop a program that prints the squares of numbers from 1 to 5 using a `for` loop."
   ]
  },
  {
   "cell_type": "code",
   "execution_count": 31,
   "id": "2205aa4e-2dac-44ad-a9f7-332ad9cbd639",
   "metadata": {},
   "outputs": [
    {
     "name": "stdout",
     "output_type": "stream",
     "text": [
      "1 4 9 16 25 "
     ]
    }
   ],
   "source": [
    "for i in range(1,5+1):\n",
    "    print(i**2,end =\" \")"
   ]
  },
  {
   "cell_type": "markdown",
   "id": "31ba3956-764f-4396-9a73-db44a05ae324",
   "metadata": {},
   "source": [
    "8. Create a program to find the length of a string without using the `len()` function"
   ]
  },
  {
   "cell_type": "code",
   "execution_count": 32,
   "id": "ede04ae1-4ab2-4153-999c-62673e663138",
   "metadata": {},
   "outputs": [
    {
     "name": "stdout",
     "output_type": "stream",
     "text": [
      "for loop execution completed\n",
      "String count without len : 15\n"
     ]
    }
   ],
   "source": [
    "string1 =\"bhushan chopade\"\n",
    "string_count =0\n",
    "\n",
    "for i in string1:\n",
    "    string_count =string_count+1\n",
    "else:\n",
    "    print(\"for loop execution completed\")\n",
    "    print(\"String count without len :\",string_count)"
   ]
  },
  {
   "cell_type": "code",
   "execution_count": 33,
   "id": "01ebf406-0a17-4da0-83f2-4d66d659b78c",
   "metadata": {},
   "outputs": [
    {
     "data": {
      "text/plain": [
       "15"
      ]
     },
     "execution_count": 33,
     "metadata": {},
     "output_type": "execute_result"
    }
   ],
   "source": [
    "# Verify \n",
    "len(string1)"
   ]
  },
  {
   "cell_type": "markdown",
   "id": "e077cbfc-1a28-41a7-8ccd-95b3aa021989",
   "metadata": {},
   "source": [
    "9. Write a program that calculates the average of a list of numbers using a `for` loop."
   ]
  },
  {
   "cell_type": "code",
   "execution_count": 37,
   "id": "6812c88f-17ad-4171-837b-2f5f511d492f",
   "metadata": {},
   "outputs": [
    {
     "name": "stdin",
     "output_type": "stream",
     "text": [
      "Enter the range : 5\n",
      "Enter the numbers : 2\n",
      "Enter the numbers : 3\n",
      "Enter the numbers : 4\n",
      "Enter the numbers : 5\n",
      "Enter the numbers : 6\n"
     ]
    },
    {
     "name": "stdout",
     "output_type": "stream",
     "text": [
      "for loop execution completed\n",
      "Avarage of list of numbers : 4.0\n"
     ]
    }
   ],
   "source": [
    "Store_range =int(input(\"Enter the range :\"))\n",
    "a_list = []\n",
    "\n",
    "for i in range(1,Store_range+1):\n",
    "    user =int(input(\"Enter the numbers :\"))\n",
    "    a_list.append(user)\n",
    "else:\n",
    "    print(\"for loop execution completed\")\n",
    "    print('Avarage of list of numbers :',sum(a_list)/Store_range)"
   ]
  },
  {
   "cell_type": "markdown",
   "id": "6511e531-2e1f-48ad-9810-fb6df6aad0c4",
   "metadata": {},
   "source": [
    "10. Develop a program that prints the first `n` Fibonacci numbers using a `for` loop."
   ]
  },
  {
   "cell_type": "code",
   "execution_count": 6,
   "id": "714117a3-3988-4512-8839-0f746155b107",
   "metadata": {},
   "outputs": [
    {
     "name": "stdin",
     "output_type": "stream",
     "text": [
      "Enter the numbers : 10\n"
     ]
    },
    {
     "name": "stdout",
     "output_type": "stream",
     "text": [
      "0\n",
      "1\n",
      "1\n",
      "2\n",
      "3\n",
      "5\n",
      "8\n",
      "13\n",
      "21\n",
      "34\n",
      "55\n",
      "89\n",
      "for loop execution completed\n"
     ]
    }
   ],
   "source": [
    "E_range =int(input(\"Enter the numbers :\"))\n",
    "first =0\n",
    "second =1\n",
    "print(first)\n",
    "print(second)\n",
    "for i in range(E_range):\n",
    "    third = first + second\n",
    "    print(third)\n",
    "    first,second =second ,third\n",
    "else:\n",
    "    print(\"for loop execution completed\")"
   ]
  },
  {
   "cell_type": "markdown",
   "id": "6b55e917-4877-4bd2-9ae4-ef634420dd58",
   "metadata": {},
   "source": [
    "## `Intermediate Level:`"
   ]
  },
  {
   "cell_type": "markdown",
   "id": "1b2c05d6-b8a3-49ab-9c49-803c4513f48d",
   "metadata": {},
   "source": [
    "11. Write a program to check if a given list contains any duplicates using a `for` loop."
   ]
  },
  {
   "cell_type": "code",
   "execution_count": 3,
   "id": "821d51dd-8a47-4dbc-82df-8ed52ce99eb7",
   "metadata": {},
   "outputs": [],
   "source": [
    "lst_3 =[1,1,2,2,3,4,4,5,6,6]"
   ]
  },
  {
   "cell_type": "code",
   "execution_count": 7,
   "id": "07babb41-8475-4892-b8b7-a1e20014958a",
   "metadata": {},
   "outputs": [
    {
     "name": "stdout",
     "output_type": "stream",
     "text": [
      "1 2 3 4 5 6 for loop execution completed\n"
     ]
    }
   ],
   "source": [
    "for i in set(lst_3):\n",
    "    print(i,end=' ')\n",
    "else:\n",
    "    print(\"for loop execution completed\")"
   ]
  },
  {
   "cell_type": "code",
   "execution_count": 23,
   "id": "7c37e81f-3573-4f21-9e49-0697d709af02",
   "metadata": {},
   "outputs": [
    {
     "name": "stdout",
     "output_type": "stream",
     "text": [
      "for loop execution completed\n",
      "Duplicate elements from list is : [1, 1, 2, 2, 4, 4, 6, 6]\n",
      "Duplicate elements from list is : [3, 5]\n"
     ]
    }
   ],
   "source": [
    "duplicate_list= []\n",
    "normal_list =[]\n",
    "for i in lst_3:\n",
    "    if lst_3.count(i)> 1:\n",
    "        duplicate_list.append(i)\n",
    "    else:\n",
    "        normal_list.append(i)\n",
    "else:\n",
    "    print(\"for loop execution completed\")\n",
    "    print(\"Duplicate elements from list is :\",duplicate_list)\n",
    "    print(\"Duplicate elements from list is :\",normal_list)"
   ]
  },
  {
   "cell_type": "markdown",
   "id": "851818e4-c07c-4573-a3e4-82612ddbc1e5",
   "metadata": {},
   "source": [
    "12. Create a program that prints the prime numbers in a given range using a `for` loop."
   ]
  },
  {
   "cell_type": "code",
   "execution_count": 31,
   "id": "4dae323d-8de2-42d8-aea4-11b43a0d48bb",
   "metadata": {},
   "outputs": [
    {
     "name": "stdout",
     "output_type": "stream",
     "text": [
      "for loop execution completed\n",
      "Prime numbers are : [3, 5, 7, 11, 13, 17, 19, 23, 29, 31, 37, 41, 43, 47]\n"
     ]
    }
   ],
   "source": [
    "is_prime =[]\n",
    "non_prime =[]\n",
    "for i in range(1,50):\n",
    "    if i>2:\n",
    "        for w in range(2,i):\n",
    "            if (i% w)==0:\n",
    "                break\n",
    "        else:\n",
    "            is_prime.append(i)\n",
    "else:\n",
    "    print(\"for loop execution completed\")\n",
    "    print(\"Prime numbers are :\",is_prime)"
   ]
  },
  {
   "cell_type": "markdown",
   "id": "cc967f32-2f02-440d-9e00-754433abf51f",
   "metadata": {},
   "source": [
    "13. Develop a program that counts the number of vowels in a string using a `for` loop."
   ]
  },
  {
   "cell_type": "code",
   "execution_count": 32,
   "id": "0580ee58-7df9-4d3d-96c9-bfc8c6af5eed",
   "metadata": {},
   "outputs": [],
   "source": [
    "vowels_String =\"Hello i am bhushan from pune\""
   ]
  },
  {
   "cell_type": "code",
   "execution_count": 35,
   "id": "26681727-ec9e-48df-954f-630bc16de4c6",
   "metadata": {},
   "outputs": [
    {
     "name": "stdout",
     "output_type": "stream",
     "text": [
      "For loop execution Completed\n",
      "Count of vowels:  9\n"
     ]
    }
   ],
   "source": [
    "vowels_cont = 0\n",
    "for i in vowels_String:\n",
    "    if (i =='a' or i=='e' or i=='i'or i=='o' or i=='u' or i=='A' or i=='E'or i=='I'or i=='O'or i=='U'):\n",
    "        vowels_cont =vowels_cont+1\n",
    "else:\n",
    "    print(\"For loop execution Completed\")\n",
    "    print(\"Count of vowels: \",vowels_cont)"
   ]
  },
  {
   "cell_type": "markdown",
   "id": "7160a46c-bddc-44d8-8d64-1b3b8f064e99",
   "metadata": {},
   "source": [
    "OR"
   ]
  },
  {
   "cell_type": "code",
   "execution_count": 39,
   "id": "2759a29a-a36c-403a-a458-23c4667f94e7",
   "metadata": {},
   "outputs": [
    {
     "name": "stdout",
     "output_type": "stream",
     "text": [
      "For loop execution Completed\n",
      "Count of vowels:  9\n"
     ]
    }
   ],
   "source": [
    "Vowels =\"AaEeIiOoUu\"\n",
    "vowels_cont = 0\n",
    "for i in vowels_String:\n",
    "    if i in Vowels:\n",
    "        vowels_cont +=1\n",
    "else:\n",
    "    print(\"For loop execution Completed\")\n",
    "    print(\"Count of vowels: \",vowels_cont)"
   ]
  },
  {
   "cell_type": "markdown",
   "id": "c64a5795-b313-4fac-a6a3-b657963c6b57",
   "metadata": {},
   "source": [
    "14. Write a program to find the maximum element in a 2D list using a nested `for` loop."
   ]
  },
  {
   "cell_type": "code",
   "execution_count": 68,
   "id": "0c7da690-539d-4476-99cb-1a5629c3ce32",
   "metadata": {},
   "outputs": [
    {
     "name": "stdout",
     "output_type": "stream",
     "text": [
      "For loop execution Completed\n"
     ]
    }
   ],
   "source": [
    "a = [[1, 2, 3, 4], [5, 6], [7, 8, 9]]\n",
    "maximum =1\n",
    "for i in a:\n",
    "    maximum = max(maximum,max(i))\n",
    "else:\n",
    "    print(\"For loop execution Completed\")"
   ]
  },
  {
   "cell_type": "code",
   "execution_count": 67,
   "id": "0eb23327-ef3b-4b90-8859-27117bb475dc",
   "metadata": {},
   "outputs": [
    {
     "name": "stdout",
     "output_type": "stream",
     "text": [
      ":  9\n"
     ]
    }
   ],
   "source": [
    "print (\": \",maximum)"
   ]
  },
  {
   "cell_type": "markdown",
   "id": "abd86375-3b38-4402-b1cf-8e661757f848",
   "metadata": {},
   "source": [
    "15. Create a program that removes all occurrences of a specific element from a list using a `for` loop.                  "
   ]
  },
  {
   "cell_type": "code",
   "execution_count": 73,
   "id": "113dbcdf-34ac-4b2d-b031-ee2b289effc0",
   "metadata": {},
   "outputs": [
    {
     "name": "stdout",
     "output_type": "stream",
     "text": [
      "For loop execution Completed\n",
      "iteams available in list : [5, 8, 52, 87]\n"
     ]
    }
   ],
   "source": [
    "mylist = [21, 5, 8, 52, 21, 87]\n",
    "r_item = 21\n",
    "\n",
    "for i in mylist:\n",
    "    if i ==r_item:\n",
    "        mylist.remove(i)\n",
    "else:\n",
    "    print('For loop execution Completed')\n",
    "    print('iteams available in list :',mylist)"
   ]
  },
  {
   "cell_type": "markdown",
   "id": "078ff408-47a3-40d4-aa6e-bdf1fab53ee1",
   "metadata": {},
   "source": [
    "Develop a program that generates a multiplication table for numbers from 1 to 5 using a nested `for` loop."
   ]
  },
  {
   "cell_type": "code",
   "execution_count": 82,
   "id": "affefd2e-fb42-4047-9820-ae4e60d04e6c",
   "metadata": {},
   "outputs": [
    {
     "name": "stdout",
     "output_type": "stream",
     "text": [
      "1 2 3 4 5 \n",
      "2 4 6 8 10 \n",
      "3 6 9 12 15 \n",
      "4 8 12 16 20 \n",
      "5 10 15 20 25 \n"
     ]
    }
   ],
   "source": [
    "for i in range(1,6):\n",
    "    for j in range(1,6):\n",
    "        print(i*j,end= ' ')\n",
    "    print()"
   ]
  },
  {
   "cell_type": "markdown",
   "id": "8846cce4-d990-4516-9ebd-eef30e478fa7",
   "metadata": {},
   "source": [
    "17. Write a program that converts a list of Fahrenheit temperatures to Celsius using a `for` loop."
   ]
  },
  {
   "cell_type": "code",
   "execution_count": 87,
   "id": "cb02fa93-c8bf-47f2-ad01-7fbb2cc29312",
   "metadata": {},
   "outputs": [
    {
     "name": "stdout",
     "output_type": "stream",
     "text": [
      "32 34 45 67 36 for loop execution completed\n",
      "celsius temperature is:  [89.6, 93.2, 113.0, 152.60000000000002, 96.8]\n"
     ]
    }
   ],
   "source": [
    "# (9/5)*temp +32\n",
    "farh_temp= [32,34,45,67,36]\n",
    "celsius_temp =[]\n",
    "for i in farh_temp:\n",
    "    print(i,end=' ')\n",
    "    temp_celsius =(9/5)*i +32\n",
    "    celsius_temp.append(temp_celsius)\n",
    "else:\n",
    "    print(\"for loop execution completed\")\n",
    "    print('celsius temperature is: ',celsius_temp)"
   ]
  },
  {
   "cell_type": "markdown",
   "id": "b85809d6-f944-4950-afdc-0afa515b18e1",
   "metadata": {},
   "source": [
    "18.Create a program to print the common elements from two lists using a `for` loop."
   ]
  },
  {
   "cell_type": "code",
   "execution_count": 127,
   "id": "9e2a4804-707d-4289-b532-0543589dda99",
   "metadata": {},
   "outputs": [
    {
     "name": "stdout",
     "output_type": "stream",
     "text": [
      "1 2 4 5 "
     ]
    }
   ],
   "source": [
    "lst_4 =[1,2,3,4,5]\n",
    "lst_5 =[4,5,2,1,8]\n",
    "for i in lst_4:\n",
    "    for j in lst_5:\n",
    "        if i == j:\n",
    "            print(i,end=' ')"
   ]
  },
  {
   "cell_type": "markdown",
   "id": "daeafb60-070e-4f8a-8001-af8f57bde1ad",
   "metadata": {},
   "source": [
    "OR"
   ]
  },
  {
   "cell_type": "code",
   "execution_count": 128,
   "id": "61c5c45d-31ab-4bc5-976c-49bc1de97365",
   "metadata": {},
   "outputs": [
    {
     "name": "stdout",
     "output_type": "stream",
     "text": [
      "1 2 3 4 5 for loop execution completed\n"
     ]
    }
   ],
   "source": [
    "lst_4 =[1,2,3,4,5,19]\n",
    "lst_5 =[4,5,1,2,3,90]\n",
    "for i in lst_4:\n",
    "    if i in lst_5:\n",
    "        print(i,end= ' ')\n",
    "else:\n",
    "    print(\"for loop execution completed\")"
   ]
  },
  {
   "cell_type": "markdown",
   "id": "38ec19ac-59c4-4006-808a-6549873f2ad5",
   "metadata": {},
   "source": [
    "19. Develop a program that prints the pattern of right-angled triangles using a `for` loop. Use ‘*’ to draw the pattern\n"
   ]
  },
  {
   "cell_type": "code",
   "execution_count": 116,
   "id": "78eb0ebd-3fcf-4b46-8bf7-1de992bf6e9b",
   "metadata": {},
   "outputs": [
    {
     "name": "stdout",
     "output_type": "stream",
     "text": [
      "* \n",
      "* * \n",
      "* * * \n",
      "* * * * \n",
      "* * * * * \n",
      "* * * * * * \n"
     ]
    }
   ],
   "source": [
    "for i in range(0,5+1):\n",
    "    for j in range(0,i+1):\n",
    "        print(\"*\",end =' ')\n",
    "    print()"
   ]
  },
  {
   "cell_type": "markdown",
   "id": "d5e0ec49-e4ab-45cf-b284-a1091d05e896",
   "metadata": {},
   "source": [
    "OR"
   ]
  },
  {
   "cell_type": "code",
   "execution_count": 126,
   "id": "349b9727-d6d8-4590-a706-7d3738d080b8",
   "metadata": {},
   "outputs": [
    {
     "name": "stdout",
     "output_type": "stream",
     "text": [
      "* * * * * \n",
      "* * * * \n",
      "* * * \n",
      "* * \n",
      "* \n",
      "\n"
     ]
    }
   ],
   "source": [
    "for i in range(6,0,-1):\n",
    "    for j in range(0,i-1):\n",
    "        print(\"*\",end=' ')\n",
    "    print()\n"
   ]
  },
  {
   "cell_type": "markdown",
   "id": "dbe1a784-ea4e-4319-8d7f-a8ec3f2a7add",
   "metadata": {},
   "source": [
    "20. Write a program to find the greatest common divisor (GCD) of two numbers using a `for` loop."
   ]
  },
  {
   "cell_type": "code",
   "execution_count": 135,
   "id": "547c090e-daa0-4ab7-904f-42d39ad75850",
   "metadata": {},
   "outputs": [
    {
     "name": "stdout",
     "output_type": "stream",
     "text": [
      "GCD of 36 and 60 is 12\n"
     ]
    }
   ],
   "source": [
    "num1 = 36\n",
    "num2 = 60\n",
    "gcd = 1\n",
    "\n",
    "for i in range(1, min(num1, num2)):\n",
    "    if num1 % i == 0 and num2 % i == 0:\n",
    "        gcd = i\n",
    "print(\"GCD of\", num1, \"and\", num2, \"is\", gcd)"
   ]
  },
  {
   "cell_type": "markdown",
   "id": "482130fc-c76d-41e4-a8de-1509aa983c18",
   "metadata": {},
   "source": [
    "## `Advanced Level:`"
   ]
  },
  {
   "cell_type": "markdown",
   "id": "ae897d22-32c7-40b8-bcff-48348621a053",
   "metadata": {},
   "source": [
    "21. Create a program that calculates the sum of the digits of numbers in a list using a list comprehension"
   ]
  },
  {
   "cell_type": "code",
   "execution_count": 136,
   "id": "05687ba7-e1ef-4cc0-bc75-0651b47ee18f",
   "metadata": {},
   "outputs": [],
   "source": [
    "lst_6 =[1, 2, 3, 4, 5, 6, 7, 8, 9, 10]"
   ]
  },
  {
   "cell_type": "code",
   "execution_count": 146,
   "id": "8c95d8b4-c8aa-4300-8389-e790d4346739",
   "metadata": {},
   "outputs": [],
   "source": [
    "sum_of_list =sum([i for i in lst_6])"
   ]
  },
  {
   "cell_type": "code",
   "execution_count": 147,
   "id": "06e2e2b3-53a8-4308-be8d-9225d6d7d8db",
   "metadata": {},
   "outputs": [
    {
     "data": {
      "text/plain": [
       "55"
      ]
     },
     "execution_count": 147,
     "metadata": {},
     "output_type": "execute_result"
    }
   ],
   "source": [
    "sum_of_list"
   ]
  },
  {
   "cell_type": "markdown",
   "id": "2dee9c95-3537-4c80-ac8a-498798a635c6",
   "metadata": {},
   "source": [
    "22. Write a program to find the prime factors of a given number using a `for` loop and list comprehension."
   ]
  },
  {
   "cell_type": "code",
   "execution_count": 151,
   "id": "a423c0a9-92e8-4bf9-b879-272f180dac7b",
   "metadata": {},
   "outputs": [
    {
     "name": "stdin",
     "output_type": "stream",
     "text": [
      "Enter a number:  34\n"
     ]
    },
    {
     "name": "stdout",
     "output_type": "stream",
     "text": [
      "The prime factors of 34 are: [2, 17]\n"
     ]
    }
   ],
   "source": [
    "def find_prime_factors(n):\n",
    "    factors = [x for x in range(2, n + 1) if n % x == 0]\n",
    "    prime_factors = []\n",
    "    \n",
    "    for factor in factors:\n",
    "        is_prime = True\n",
    "        for i in range(2, int(factor**0.5) + 1):\n",
    "            if factor % i == 0:\n",
    "                is_prime = False\n",
    "                break\n",
    "        if is_prime:\n",
    "            prime_factors.append(factor)\n",
    "    \n",
    "    return prime_factors\n",
    "\n",
    "# Input the number for which you want to find prime factors\n",
    "num = int(input(\"Enter a number: \"))\n",
    "\n",
    "if num <= 1:\n",
    "    print(\"Prime factors cannot be found for numbers less than or equal to 1.\")\n",
    "else:\n",
    "    prime_factors = find_prime_factors(num)\n",
    "    \n",
    "    if len(prime_factors) == 0:\n",
    "        print(f\"{num} is a prime number and has no prime factors.\")\n",
    "    else:\n",
    "        print(f\"The prime factors of {num} are: {prime_factors}\")"
   ]
  },
  {
   "cell_type": "markdown",
   "id": "f473fdb0-4d02-468a-ba09-e678fe52bcd7",
   "metadata": {},
   "source": [
    "23. Develop a program that extracts unique elements from a list and stores them in a new list using a list comprehension."
   ]
  },
  {
   "cell_type": "code",
   "execution_count": 157,
   "id": "109fa12c-eb56-4ccf-a95c-b777ddd5ae50",
   "metadata": {},
   "outputs": [],
   "source": [
    "lst_6 =[1,1,3,4,5,6,7,8,9,10,2,2,3,4,4]\n",
    "unique_list =[]"
   ]
  },
  {
   "cell_type": "code",
   "execution_count": 165,
   "id": "be5c9a94-d70b-4264-911a-ef3362021abb",
   "metadata": {},
   "outputs": [],
   "source": [
    "unique_number =[ x for x in set(lst_6)]"
   ]
  },
  {
   "cell_type": "code",
   "execution_count": 166,
   "id": "0bf9c1f9-81aa-4c2b-98fc-36d2795879c4",
   "metadata": {},
   "outputs": [
    {
     "data": {
      "text/plain": [
       "[1, 2, 3, 4, 5, 6, 7, 8, 9, 10]"
      ]
     },
     "execution_count": 166,
     "metadata": {},
     "output_type": "execute_result"
    }
   ],
   "source": [
    "unique_number"
   ]
  },
  {
   "cell_type": "markdown",
   "id": "6f375838-9a0c-4a56-abae-b37cd180375f",
   "metadata": {},
   "source": [
    "24. Create a program that generates a list of all palindromic numbers up to a specified limit using a list comprehension.\n"
   ]
  },
  {
   "cell_type": "code",
   "execution_count": 173,
   "id": "a18012a8-28b5-40f5-803e-1d16a21509d3",
   "metadata": {},
   "outputs": [
    {
     "data": {
      "text/plain": [
       "[101, 121, 133, 155, 141, 252]"
      ]
     },
     "execution_count": 173,
     "metadata": {},
     "output_type": "execute_result"
    }
   ],
   "source": [
    "list_a = [101, 121, 133, 155, 141, 252]\n",
    "list_a"
   ]
  },
  {
   "cell_type": "code",
   "execution_count": 174,
   "id": "d9ef2d50-c5ab-4d5d-a40d-8babe102215a",
   "metadata": {},
   "outputs": [],
   "source": [
    "palindromic =[i for i in list_a if str(i)==str(i)[::-1]]"
   ]
  },
  {
   "cell_type": "code",
   "execution_count": 175,
   "id": "384ffd44-e96b-4f7c-a957-0b0ff89b683a",
   "metadata": {},
   "outputs": [
    {
     "data": {
      "text/plain": [
       "[101, 121, 141, 252]"
      ]
     },
     "execution_count": 175,
     "metadata": {},
     "output_type": "execute_result"
    }
   ],
   "source": [
    "palindromic"
   ]
  },
  {
   "cell_type": "markdown",
   "id": "78783dc8-78aa-407f-bdd7-9e5acc8318a9",
   "metadata": {},
   "source": [
    "25.Write a program to flatten a nested list using list comprehension."
   ]
  },
  {
   "cell_type": "code",
   "execution_count": 1,
   "id": "bfebb520-7f14-4796-9af3-c87347803f96",
   "metadata": {},
   "outputs": [],
   "source": [
    "l1 =[1,2,3]\n",
    "l2 =[4,5,6]\n",
    "l3 =[7,8,9]"
   ]
  },
  {
   "cell_type": "code",
   "execution_count": 3,
   "id": "d5d26331-eed9-4ea6-9b30-e43f7ff923e0",
   "metadata": {},
   "outputs": [
    {
     "name": "stdout",
     "output_type": "stream",
     "text": [
      "[[1, 2, 3], [4, 5, 6], [7, 8, 9]]\n"
     ]
    }
   ],
   "source": [
    "nested_l4 =[l1,l2,l3]\n",
    "print(nested_l4)"
   ]
  },
  {
   "cell_type": "code",
   "execution_count": 9,
   "id": "bbd02964-f49c-49d5-8c9d-8baef75cb1b0",
   "metadata": {},
   "outputs": [
    {
     "name": "stdout",
     "output_type": "stream",
     "text": [
      "[1, 2, 3, 4, 5, 6, 7, 8, 9]\n"
     ]
    }
   ],
   "source": [
    "flatten_list =[j for i in nested_l4 for j in i]\n",
    "print(flatten_list)"
   ]
  },
  {
   "cell_type": "markdown",
   "id": "52f1ef9f-2903-4bd8-a25b-4100d917ffb1",
   "metadata": {},
   "source": [
    "26. Develop a program that computes the sum of even and odd numbers in a list separately using list comprehension"
   ]
  },
  {
   "cell_type": "code",
   "execution_count": 16,
   "id": "7698ec3f-08b7-4c5c-82e3-dedcdc165582",
   "metadata": {},
   "outputs": [],
   "source": [
    "list1 = [10, 21, 4, 45, 66, 93, 1,24,35,47,65,87]"
   ]
  },
  {
   "cell_type": "code",
   "execution_count": 17,
   "id": "5b4e225e-ad15-44ad-be42-5acafefdee48",
   "metadata": {},
   "outputs": [
    {
     "data": {
      "text/plain": [
       "104"
      ]
     },
     "execution_count": 17,
     "metadata": {},
     "output_type": "execute_result"
    }
   ],
   "source": [
    "sum_even_number =sum([i for i in list1 if i%2 ==0])\n",
    "sum_even_number"
   ]
  },
  {
   "cell_type": "code",
   "execution_count": 18,
   "id": "f3daf712-a381-4b61-a2bd-ae0bc45e58f0",
   "metadata": {},
   "outputs": [
    {
     "data": {
      "text/plain": [
       "394"
      ]
     },
     "execution_count": 18,
     "metadata": {},
     "output_type": "execute_result"
    }
   ],
   "source": [
    "sum_odd_number =sum([i for i in list1 if i%2 !=0])\n",
    "sum_odd_number"
   ]
  },
  {
   "cell_type": "markdown",
   "id": "24b1775e-03ed-401b-88f3-5fc2da52b9ce",
   "metadata": {},
   "source": [
    "27. Create a program that generates a list of squares of odd numbers between 1 and 10 using list"
   ]
  },
  {
   "cell_type": "code",
   "execution_count": 19,
   "id": "ebbfe5d4-8b7c-4eb1-861e-85b16f65a9db",
   "metadata": {},
   "outputs": [],
   "source": [
    "Square_of1_10 =[i**2 for i in range(1,11)]"
   ]
  },
  {
   "cell_type": "code",
   "execution_count": 20,
   "id": "bf74526d-04e0-4013-9e5d-184dbd0cc013",
   "metadata": {},
   "outputs": [
    {
     "data": {
      "text/plain": [
       "[1, 4, 9, 16, 25, 36, 49, 64, 81, 100]"
      ]
     },
     "execution_count": 20,
     "metadata": {},
     "output_type": "execute_result"
    }
   ],
   "source": [
    "Square_of1_10"
   ]
  },
  {
   "cell_type": "markdown",
   "id": "e0c7dd2b-871e-4928-8a73-10a8943334e8",
   "metadata": {},
   "source": [
    "28. Write a program that combines two lists into a dictionary using list comprehension."
   ]
  },
  {
   "cell_type": "code",
   "execution_count": 33,
   "id": "e03729bb-91ee-4f74-a74e-3c8ebdee3252",
   "metadata": {},
   "outputs": [
    {
     "name": "stdout",
     "output_type": "stream",
     "text": [
      "{'name': 'John', 'age': 25, 'city': 'New York'}\n"
     ]
    }
   ],
   "source": [
    "keys = ['name', 'age', 'city']\n",
    "values = ['John', 25, 'New York']\n",
    "\n",
    "my_dict = {keys[i]: values[i] for i in range(len(keys))}\n",
    "print(my_dict)"
   ]
  },
  {
   "cell_type": "code",
   "execution_count": 34,
   "id": "3f098634-ea0b-4e61-a0dc-a4fbfddb0edf",
   "metadata": {},
   "outputs": [
    {
     "name": "stdout",
     "output_type": "stream",
     "text": [
      "{'apple': 1, 'banana': 2, 'cherry': 3, 'date': 4}\n"
     ]
    }
   ],
   "source": [
    "list3 = ['apple', 'banana', 'cherry', 'date']\n",
    "list4 = [1,2,3,4]\n",
    "my_dict = {list3[i]: list4[i] for i in range(len(list3))}\n",
    "print(my_dict) "
   ]
  },
  {
   "cell_type": "markdown",
   "id": "8fd24eb2-3d76-4010-8fbd-a5d3e5bf1071",
   "metadata": {},
   "source": [
    "29. Develop a program that extracts the vowels from a string and stores them in a list using list comprehension"
   ]
  },
  {
   "cell_type": "code",
   "execution_count": 51,
   "id": "071370bb-05e8-419c-b6c1-bc05bcbf7ca3",
   "metadata": {},
   "outputs": [],
   "source": [
    "string3 =\"hello python how are you\"\n",
    "vowels=\"AaEeIiOoUu\"\n",
    "\n",
    "extract=[word for word in string3 if word[0] in vowels ]"
   ]
  },
  {
   "cell_type": "code",
   "execution_count": 52,
   "id": "9863ee43-b17f-4afb-8be1-28150e5e2ac2",
   "metadata": {},
   "outputs": [
    {
     "data": {
      "text/plain": [
       "['e', 'o', 'o', 'o', 'a', 'e', 'o', 'u']"
      ]
     },
     "execution_count": 52,
     "metadata": {},
     "output_type": "execute_result"
    }
   ],
   "source": [
    "extract"
   ]
  },
  {
   "cell_type": "markdown",
   "id": "d1f37d78-f530-4b13-92ab-f68bab17dca6",
   "metadata": {},
   "source": [
    "30. Create a program that removes all non-numeric characters from a list of strings using list comprehension"
   ]
  },
  {
   "cell_type": "code",
   "execution_count": 82,
   "id": "3280dd80-c03e-43fa-8062-783ed3bfd069",
   "metadata": {},
   "outputs": [],
   "source": [
    "list5 = [5, 2, 1, True, 'abcdefg', 3, False, \"bhush\",\"sudh\",\"krish\",.4]\n",
    "Remove_char =  [x for x in list5 if type(x) == int]"
   ]
  },
  {
   "cell_type": "code",
   "execution_count": 83,
   "id": "f58ae635-54b4-4cf5-8f2b-6bac933724e7",
   "metadata": {},
   "outputs": [
    {
     "data": {
      "text/plain": [
       "[5, 2, 1, 3]"
      ]
     },
     "execution_count": 83,
     "metadata": {},
     "output_type": "execute_result"
    }
   ],
   "source": [
    "Remove_char"
   ]
  },
  {
   "cell_type": "markdown",
   "id": "8f5bb16e-1591-4f9b-86b8-14ebcd404b2c",
   "metadata": {},
   "source": [
    "## `Challenge Level:`"
   ]
  },
  {
   "cell_type": "markdown",
   "id": "3b589915-838d-4bd9-81e7-5c850561ee80",
   "metadata": {},
   "source": [
    "31. Write a program to generate a list of prime numbers using the Sieve of Eratosthenes algorithm and list"
   ]
  },
  {
   "cell_type": "code",
   "execution_count": 2,
   "id": "db5da939-1f07-4625-806d-700d83124927",
   "metadata": {},
   "outputs": [
    {
     "name": "stdin",
     "output_type": "stream",
     "text": [
      "Enter a limit to generate prime numbers up to:  100\n"
     ]
    },
    {
     "name": "stdout",
     "output_type": "stream",
     "text": [
      "Prime numbers up to 100 are:\n",
      "[2, 3, 5, 7, 11, 13, 17, 19, 23, 29, 31, 37, 41, 43, 47, 53, 59, 61, 67, 71, 73, 79, 83, 89, 97]\n"
     ]
    }
   ],
   "source": [
    "def sieve_eratosthenes(limit):\n",
    "    # Create a boolean list \"is_prime\" and initialize all entries as True\n",
    "    is_prime = [True] * (limit + 1)\n",
    "    is_prime[0] = is_prime[1] = False  # 0 and 1 are not prime numbers\n",
    "\n",
    "    # Mark multiples of each prime number as False\n",
    "    for p in range(2, int(limit**0.5) + 1):\n",
    "        if is_prime[p]:\n",
    "            for multiple in range(p * p, limit + 1, p):\n",
    "                is_prime[multiple] = False\n",
    "\n",
    "    # Use list comprehension to generate the list of prime numbers\n",
    "    primes = [num for num in range(2, limit + 1) if is_prime[num]]\n",
    "\n",
    "    return primes\n",
    "\n",
    "# Input the limit for prime number generation\n",
    "limit = int(input(\"Enter a limit to generate prime numbers up to: \"))\n",
    "prime_numbers = sieve_eratosthenes(limit)\n",
    "\n",
    "print(\"Prime numbers up to\", limit, \"are:\")\n",
    "print(prime_numbers)"
   ]
  },
  {
   "cell_type": "markdown",
   "id": "69d77d5e-03db-4c66-8aa2-52d8d6b56537",
   "metadata": {},
   "source": [
    "32. Create a program that generates a list of all Pythagorean triplets up to a specified limit using list comprehensions"
   ]
  },
  {
   "cell_type": "code",
   "execution_count": 91,
   "id": "60ecc8b2-774d-4fff-a1cd-a716a4fa293e",
   "metadata": {},
   "outputs": [
    {
     "name": "stdin",
     "output_type": "stream",
     "text": [
      "Enter the limit for Pythagorean triplets:  10\n"
     ]
    },
    {
     "name": "stdout",
     "output_type": "stream",
     "text": [
      "Pythagorean Triplets up to 10 are:\n",
      "(3, 4, 5)\n",
      "(6, 8, 10)\n"
     ]
    }
   ],
   "source": [
    "def generate_pythagorean_triplets(limit):\n",
    "    triplets = [(a, b, c) for a in range(1, limit + 1) for b in range(a, limit + 1) for c in range(b, limit + 1) if a**2 + b**2 == c**2]\n",
    "    return triplets\n",
    "\n",
    "# Input the limit\n",
    "limit = int(input(\"Enter the limit for Pythagorean triplets: \"))\n",
    "\n",
    "# Generate and print the Pythagorean triplets\n",
    "pythagorean_triplets = generate_pythagorean_triplets(limit)\n",
    "print(\"Pythagorean Triplets up to\", limit, \"are:\")\n",
    "for triplet in pythagorean_triplets:\n",
    "    print(triplet)"
   ]
  },
  {
   "cell_type": "markdown",
   "id": "f0d1b72a-7138-44a6-b6e8-5f8ae3b05686",
   "metadata": {},
   "source": [
    "33. Develop a program that generates a list of all possible combinations of two lists using list comprehension."
   ]
  },
  {
   "cell_type": "code",
   "execution_count": 99,
   "id": "fb0630cb-0e1a-45dc-9776-108f8f412fbb",
   "metadata": {},
   "outputs": [
    {
     "name": "stdout",
     "output_type": "stream",
     "text": [
      "[1, 3, 4][6, 7, 9][8, 10, 5]\n",
      "=========================================================\n",
      "=========================================================\n",
      "[[1, 6, 8], [1, 6, 10], [1, 6, 5], [1, 7, 8], [1, 7, 10], [1, 7, 5], [1, 9, 8], [1, 9, 10], [1, 9, 5], [3, 6, 8], [3, 6, 10], [3, 6, 5], [3, 7, 8], [3, 7, 10], [3, 7, 5], [3, 9, 8], [3, 9, 10], [3, 9, 5], [4, 6, 8], [4, 6, 10], [4, 6, 5], [4, 7, 8], [4, 7, 10], [4, 7, 5], [4, 9, 8], [4, 9, 10], [4, 9, 5]]\n"
     ]
    }
   ],
   "source": [
    "list1 = [1, 3, 4]\n",
    "list2 = [6, 7, 9]\n",
    "list3 = [8, 10, 5]\n",
    "\n",
    "print(str(list1) + str(list2) + str(list3))\n",
    "\n",
    "res = [[i, j, k] for i in list1 for j in list2 for k in list3]\n",
    "print(\"=========================================================\")\n",
    "print(\"=========================================================\")\n",
    "print(str(res))"
   ]
  },
  {
   "cell_type": "markdown",
   "id": "f3f839de-fc76-4c14-a9f5-253efce21767",
   "metadata": {},
   "source": [
    "34. Write a program that calculates the mean, median, and mode of a list of numbers using list\n",
    "comprehension."
   ]
  },
  {
   "cell_type": "code",
   "execution_count": 108,
   "id": "9b1db970-53c7-4f15-85bd-d1061da1985e",
   "metadata": {},
   "outputs": [
    {
     "name": "stdout",
     "output_type": "stream",
     "text": [
      "45\n",
      "5.0\n"
     ]
    }
   ],
   "source": [
    "# Finding the mean \n",
    "list6 =[1,2,3,4,5,6,7,8,9]\n",
    "Mean_sum =sum([i for i in list6])\n",
    "print(Mean_sum)\n",
    "Mean = Mean_sum/len(list6)\n",
    "print(Mean)"
   ]
  },
  {
   "cell_type": "code",
   "execution_count": 106,
   "id": "0b70560b-c817-491d-8afc-f5a7e1969d88",
   "metadata": {},
   "outputs": [],
   "source": [
    "Mean_sum =(sum([i for i in list6])/len(list6))"
   ]
  },
  {
   "cell_type": "code",
   "execution_count": 107,
   "id": "7078365a-dce2-461e-bc55-51769751566a",
   "metadata": {},
   "outputs": [
    {
     "data": {
      "text/plain": [
       "5.0"
      ]
     },
     "execution_count": 107,
     "metadata": {},
     "output_type": "execute_result"
    }
   ],
   "source": [
    "Mean_sum"
   ]
  },
  {
   "cell_type": "code",
   "execution_count": 117,
   "id": "12b8f867-1b9e-496a-88e1-889ad5d73895",
   "metadata": {},
   "outputs": [
    {
     "name": "stdout",
     "output_type": "stream",
     "text": [
      "4\n"
     ]
    }
   ],
   "source": [
    "#median\n",
    "median_half =([i for i in list6])\n",
    "mid =len(median_half)//2\n",
    "print(mid)"
   ]
  },
  {
   "cell_type": "code",
   "execution_count": 119,
   "id": "7c137e10-0f45-4dcb-9062-a54f98c67027",
   "metadata": {},
   "outputs": [
    {
     "name": "stdout",
     "output_type": "stream",
     "text": [
      "5.0\n"
     ]
    }
   ],
   "source": [
    "median =(list6[mid] + list6[~mid])/2\n",
    "print(median)"
   ]
  },
  {
   "cell_type": "code",
   "execution_count": 132,
   "id": "5ba533ae-af43-4060-af18-ff7e7536b6da",
   "metadata": {},
   "outputs": [
    {
     "name": "stdout",
     "output_type": "stream",
     "text": [
      "The mode of a number is / are: 2, 3\n"
     ]
    }
   ],
   "source": [
    "# Mode finding \n",
    "from collections import Counter\n",
    "numb = [2, 3, 4, 5, 3,7, 2]\n",
    "no = len(numb)\n",
    "val = Counter(numb)\n",
    "findMode = dict(val)\n",
    "mode = [i for i, v in findMode.items() if v == max(list(val.values()))]  \n",
    "if len(mode) == no:\n",
    "    findMode = \"The group of number do not have any mode\"\n",
    "else:\n",
    "    findMode = \"The mode of a number is / are: \" + ', '.join(map(str, mode))\n",
    "print(findMode)"
   ]
  },
  {
   "cell_type": "markdown",
   "id": "a1f59124-3452-430c-873d-f2db5dc0ce2e",
   "metadata": {},
   "source": [
    "35. Create a program that generates Pascal's triangle up to a specified number of rows using list comprehension."
   ]
  },
  {
   "cell_type": "code",
   "execution_count": 2,
   "id": "667a297c-592b-432d-a204-5bfb2f1326c1",
   "metadata": {},
   "outputs": [
    {
     "name": "stdin",
     "output_type": "stream",
     "text": [
      "Enter number of rows:  5\n"
     ]
    },
    {
     "name": "stdout",
     "output_type": "stream",
     "text": [
      "        * \n",
      "      * * * \n",
      "    * * * * * \n",
      "  * * * * * * * \n",
      "* * * * * * * * * \n"
     ]
    }
   ],
   "source": [
    "rows = int(input(\"Enter number of rows: \"))\n",
    "\n",
    "k = 0\n",
    "\n",
    "for i in range(1, rows+1):\n",
    "    for space in range(1, (rows-i)+1):\n",
    "        print(end=\"  \")\n",
    "   \n",
    "    while k!=(2*i-1):\n",
    "        print(\"* \", end=\"\")\n",
    "        k += 1\n",
    "   \n",
    "    k = 0\n",
    "    print()"
   ]
  },
  {
   "cell_type": "markdown",
   "id": "8f415235-6acf-4ff1-89ce-d97b45a39dd3",
   "metadata": {},
   "source": [
    "36. Develop a program that calculates the sum of the digits of a factorial of numbers from 1 to 5 using list comprehension.\n"
   ]
  },
  {
   "cell_type": "code",
   "execution_count": 33,
   "id": "51d0f9c2-2b65-4db2-858b-c2d89b51320e",
   "metadata": {},
   "outputs": [
    {
     "name": "stdout",
     "output_type": "stream",
     "text": [
      "The sum of digits of 1! is 1\n",
      "The sum of digits of 2! is 2\n",
      "The sum of digits of 3! is 6\n",
      "The sum of digits of 4! is 6\n",
      "The sum of digits of 5! is 3\n"
     ]
    }
   ],
   "source": [
    "# Function to calculate the factorial of a number\n",
    "def factorial(n):\n",
    "    if n == 0:\n",
    "        return 1\n",
    "    else:\n",
    "        return n * factorial(n - 1)\n",
    "\n",
    "# Calculate the sum of digits of factorial for numbers from 1 to 5 using list comprehension\n",
    "results = [sum(int(digit) for digit in str(factorial(n))) for n in range(1, 6)]\n",
    "\n",
    "# Print the results\n",
    "for n, result in enumerate(results, 1):\n",
    "    print(f\"The sum of digits of {n}! is {result}\")"
   ]
  },
  {
   "cell_type": "markdown",
   "id": "7793cf73-f471-4065-aa35-9e2f38a47e7b",
   "metadata": {},
   "source": [
    "37. Write a program that finds the longest word in a sentence using list comprehension."
   ]
  },
  {
   "cell_type": "code",
   "execution_count": 39,
   "id": "dc265f44-0c5f-4fe1-af4d-7cd53236798c",
   "metadata": {},
   "outputs": [
    {
     "name": "stdin",
     "output_type": "stream",
     "text": [
      "Enter the word >>> hello i am bhushan from pune\n"
     ]
    },
    {
     "name": "stdout",
     "output_type": "stream",
     "text": [
      "The longest word from string is : bhushan\n"
     ]
    }
   ],
   "source": [
    "senetence =input(\"Enter the word >>>\")\n",
    "\n",
    "words =senetence.split()\n",
    "\n",
    "longest_word =max(words ,key=lambda x :len(x))\n",
    "\n",
    "print(f\"The longest word from string is : {longest_word}\")"
   ]
  },
  {
   "cell_type": "markdown",
   "id": "ffa9ee79-38fa-47af-9c6f-f2dabf304d56",
   "metadata": {},
   "source": [
    "OR"
   ]
  },
  {
   "cell_type": "code",
   "execution_count": 67,
   "id": "2851ddb8-b3c6-44a9-af84-cadce7962194",
   "metadata": {},
   "outputs": [
    {
     "name": "stdin",
     "output_type": "stream",
     "text": [
      "Enter the word >>> hello i am bhushan from Pwskills\n"
     ]
    }
   ],
   "source": [
    "senetence =input(\"Enter the word >>>\")\n",
    "\n",
    "max_length =senetence.split()\n",
    "logest_word =len(max(max_length,key=len))"
   ]
  },
  {
   "cell_type": "code",
   "execution_count": 68,
   "id": "b2a26ca6-2547-4303-a41f-447fba75a18f",
   "metadata": {},
   "outputs": [
    {
     "data": {
      "text/plain": [
       "['Pwskills']"
      ]
     },
     "execution_count": 68,
     "metadata": {},
     "output_type": "execute_result"
    }
   ],
   "source": [
    "longest =[i for i  in max_length if len(i) == logest_word]\n",
    "longest"
   ]
  },
  {
   "cell_type": "markdown",
   "id": "0369cac9-74bf-4866-82e6-1108e103dfd9",
   "metadata": {},
   "source": [
    "38. Create a program that filters a list of strings to include only those with more than three vowels using list comprehension.\n"
   ]
  },
  {
   "cell_type": "code",
   "execution_count": 97,
   "id": "a7ecb59f-ca98-4447-a9ee-e54382a9c1df",
   "metadata": {},
   "outputs": [],
   "source": [
    "def filter_veowel(string):\n",
    "    return [s for s in string if len(set(s) & {'a','e','i','o','u'})>2]"
   ]
  },
  {
   "cell_type": "code",
   "execution_count": 88,
   "id": "35701884-00c8-406d-80a3-39b944847542",
   "metadata": {},
   "outputs": [],
   "source": [
    "fruits = [\"mango\", \"kiwi\", \"strawberry\", \"guava\", \"pineapple\", \"mandarin orange\"]"
   ]
  },
  {
   "cell_type": "code",
   "execution_count": 98,
   "id": "ca54f4a3-d26e-4b29-80ef-e5c66a154699",
   "metadata": {},
   "outputs": [
    {
     "data": {
      "text/plain": [
       "['pineapple', 'mandarin orange']"
      ]
     },
     "execution_count": 98,
     "metadata": {},
     "output_type": "execute_result"
    }
   ],
   "source": [
    "filtered_string =filter_veowel(fruits)\n",
    "filtered_string"
   ]
  },
  {
   "cell_type": "markdown",
   "id": "2d479a6e-139e-4ab4-877c-940f7672ff68",
   "metadata": {},
   "source": [
    "39. Develop a program that calculates the sum of the digits of numbers from 1 to 1000 using list comprehension.\n"
   ]
  },
  {
   "cell_type": "code",
   "execution_count": 86,
   "id": "c297e24e-e9aa-4f3b-9fb8-74c5cc955105",
   "metadata": {},
   "outputs": [],
   "source": [
    "sum_of_digit=sum([i for i in range(1,1000)])"
   ]
  },
  {
   "cell_type": "code",
   "execution_count": 87,
   "id": "b5af25f2-ea93-4653-bcd8-17c96ec90b06",
   "metadata": {},
   "outputs": [
    {
     "data": {
      "text/plain": [
       "499500"
      ]
     },
     "execution_count": 87,
     "metadata": {},
     "output_type": "execute_result"
    }
   ],
   "source": [
    "sum_of_digit"
   ]
  },
  {
   "cell_type": "markdown",
   "id": "e3e2ac82-6303-4d0d-9a3d-1e363653f87f",
   "metadata": {},
   "source": [
    "40. Write a program that generates a list of prime palindromic numbers using list comprehension."
   ]
  },
  {
   "cell_type": "code",
   "execution_count": 5,
   "id": "e984fd84-f374-4900-867b-4edf0da74be2",
   "metadata": {},
   "outputs": [
    {
     "name": "stdin",
     "output_type": "stream",
     "text": [
      "Enter a limit to generate prime palindromic numbers up to:  10\n"
     ]
    },
    {
     "name": "stdout",
     "output_type": "stream",
     "text": [
      "Prime palindromic numbers up to 10 are:\n",
      "[2, 3, 5, 7]\n"
     ]
    }
   ],
   "source": [
    "def is_prime(num):\n",
    "    if num < 2:\n",
    "        return False\n",
    "    for i in range(2, int(num**0.5) + 1):\n",
    "        if num % i == 0:\n",
    "            return False\n",
    "    return True\n",
    "\n",
    "def is_palindrome(num):\n",
    "    return str(num) == str(num)[::-1]\n",
    "\n",
    "# Input the limit for prime palindromic number generation\n",
    "limit = int(input(\"Enter a limit to generate prime palindromic numbers up to: \"))\n",
    "\n",
    "# Use list comprehension to generate the list of prime palindromic numbers\n",
    "prime_palindromes = [num for num in range(2, limit + 1) if is_prime(num) and is_palindrome(num)]\n",
    "\n",
    "print(\"Prime palindromic numbers up to\", limit, \"are:\")\n",
    "print(prime_palindromes)"
   ]
  },
  {
   "cell_type": "code",
   "execution_count": null,
   "id": "92a8cf77-8690-4497-9155-691e0aec2d87",
   "metadata": {},
   "outputs": [],
   "source": []
  }
 ],
 "metadata": {
  "kernelspec": {
   "display_name": "Python 3 (ipykernel)",
   "language": "python",
   "name": "python3"
  },
  "language_info": {
   "codemirror_mode": {
    "name": "ipython",
    "version": 3
   },
   "file_extension": ".py",
   "mimetype": "text/x-python",
   "name": "python",
   "nbconvert_exporter": "python",
   "pygments_lexer": "ipython3",
   "version": "3.10.8"
  }
 },
 "nbformat": 4,
 "nbformat_minor": 5
}
