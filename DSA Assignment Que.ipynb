{
 "cells": [
  {
   "cell_type": "markdown",
   "id": "ad4dc9bf-3d1b-49da-82ab-12e8e74b26b1",
   "metadata": {},
   "source": [
    "#### Problem 1: Reverse a singly linked list.\n",
    "     \n",
    "     Input: 1 -> 2 -> 3 -> 4 -> 5\n",
    "     Output: 5 -> 4 -> 3 -> 2 -> 1"
   ]
  },
  {
   "cell_type": "code",
   "execution_count": 1,
   "id": "27ca0c94-880e-4b15-88e7-aa59e0449a88",
   "metadata": {},
   "outputs": [],
   "source": [
    "# Define a node for linked List\n",
    "class Node :\n",
    "    # Define Constructor\n",
    "    def __init__(self ,Data=None ,Next=None):\n",
    "        self.Data =Data\n",
    "        self.Next =Next\n",
    "        \n",
    "    # Set data in link list   \n",
    "    def setData(self,Data):\n",
    "        self.Data =Data\n",
    "        \n",
    "    # Get data from Link list    \n",
    "    def getData(self):\n",
    "        return self.Data\n",
    "    \n",
    "    # Set Next Linkage\n",
    "    def setNext(self ,Next):\n",
    "        self.Next =Next\n",
    "    \n",
    "    # Get next element\n",
    "    def getNext(self):\n",
    "        return self.Next"
   ]
  },
  {
   "cell_type": "code",
   "execution_count": 2,
   "id": "e045ba78-daa0-43f7-82df-09a1c1279762",
   "metadata": {},
   "outputs": [],
   "source": [
    "#creat linked list\n",
    "head =Node(1)\n",
    "Node2=Node(2)\n",
    "Node3=Node(3)\n",
    "Node4=Node(4)\n",
    "Node5=Node(5)\n",
    "\n",
    "# create a linkage of linked list\n",
    "head.setNext(Node2)\n",
    "Node2.setNext(Node3)\n",
    "Node3.setNext(Node4)\n",
    "Node4.setNext(Node5)"
   ]
  },
  {
   "cell_type": "markdown",
   "id": "c8a39c2f-348c-4192-af0e-20eab3ccea50",
   "metadata": {},
   "source": [
    "`Traverse Entire linked list`"
   ]
  },
  {
   "cell_type": "code",
   "execution_count": 3,
   "id": "0f16f94d-1fe4-4e10-9cc1-24b4cfdd0ed6",
   "metadata": {},
   "outputs": [
    {
     "name": "stdout",
     "output_type": "stream",
     "text": [
      "1-->2-->3-->4-->5-->None\n"
     ]
    }
   ],
   "source": [
    "def traverse(head):\n",
    "    temp =head\n",
    "    while(temp):\n",
    "        print(temp.getData() ,end=\"-->\")\n",
    "        temp =temp.getNext()\n",
    "        \n",
    "print(traverse(head))"
   ]
  },
  {
   "cell_type": "markdown",
   "id": "9e506aea-0678-402f-9db2-aa7c89d9dc02",
   "metadata": {},
   "source": [
    "`Find the length of linked list`"
   ]
  },
  {
   "cell_type": "code",
   "execution_count": 4,
   "id": "e322f47c-5c7c-4b80-bba7-bd3b86b6e3c9",
   "metadata": {},
   "outputs": [
    {
     "data": {
      "text/plain": [
       "5"
      ]
     },
     "execution_count": 4,
     "metadata": {},
     "output_type": "execute_result"
    }
   ],
   "source": [
    "def length(head):\n",
    "    temp =head\n",
    "    leng = 0\n",
    "    while(temp):\n",
    "        leng +=1\n",
    "        temp =temp.getNext()\n",
    "    return leng\n",
    "length(head)"
   ]
  },
  {
   "cell_type": "markdown",
   "id": "6fc40989-9d1c-45e8-93cc-968fcb61c3a0",
   "metadata": {},
   "source": [
    "`Reverse a singly linked list.`"
   ]
  },
  {
   "cell_type": "code",
   "execution_count": 5,
   "id": "e1044d10-759b-431d-9de2-ebce721080a4",
   "metadata": {},
   "outputs": [
    {
     "name": "stdout",
     "output_type": "stream",
     "text": [
      "5-->4-->3-->2-->1-->"
     ]
    }
   ],
   "source": [
    "def reverseList(head):\n",
    "    prev =None\n",
    "    curr =head\n",
    "    while(curr):\n",
    "        nxt_node =curr.getNext()\n",
    "        curr.setNext(prev)\n",
    "        prev =curr\n",
    "        curr =nxt_node\n",
    "    return prev\n",
    "\n",
    "head =Node(1)\n",
    "node2=Node(2)\n",
    "node3=Node(3)\n",
    "node4=Node(4)\n",
    "node5=Node(5)\n",
    "\n",
    "# create a linkage of linked list\n",
    "head.setNext(node2)\n",
    "node2.setNext(node3)\n",
    "node3.setNext(node4)\n",
    "node4.setNext(node5)    \n",
    "\n",
    "# Reverse the list\n",
    "reversed_head = reverseList(head)\n",
    "\n",
    "# Print the reversed list\n",
    "while reversed_head:\n",
    "    print(reversed_head.getData(),end=\"-->\")\n",
    "    reversed_head = reversed_head.getNext()"
   ]
  },
  {
   "cell_type": "markdown",
   "id": "1de16d4b-0b8c-46f7-a7eb-475264fbd4a5",
   "metadata": {},
   "source": [
    "#### `Problem 2: Merge two sorted linked lists into one sorted linked list`\n",
    "      \n",
    "      Input: List 1: 1 -> 3 -> 5, List 2: 2 -> 4 -> 6\n",
    "      Output: 1 -> 2 -> 3 -> 4 -> 5 -> 6"
   ]
  },
  {
   "cell_type": "markdown",
   "id": "b531fa02-1460-4d97-84be-fd1016314d9e",
   "metadata": {},
   "source": [
    "1 st approach"
   ]
  },
  {
   "cell_type": "code",
   "execution_count": 6,
   "id": "5b5df53d-cd93-4c6a-82c1-9f33acca2741",
   "metadata": {},
   "outputs": [
    {
     "name": "stdout",
     "output_type": "stream",
     "text": [
      "1-->2-->3-->4-->5-->6-->8-->"
     ]
    }
   ],
   "source": [
    "def merge_list(head1 ,head2):\n",
    "    dummy_head =Node()\n",
    "    tail =dummy_head\n",
    "    \n",
    "    while head1 and head2 :\n",
    "        if head1.getData() <= head2.getData() :\n",
    "            tail.setNext(head1)\n",
    "            head1 =head1.getNext()\n",
    "            \n",
    "        else:\n",
    "            tail.setNext(head2)\n",
    "            head2 =head2.getNext()\n",
    "        tail = tail.getNext()\n",
    "        \n",
    "    tail.setNext(head1 or head2)\n",
    "    return dummy_head.getNext()\n",
    " \n",
    "\n",
    "# Linked List -1\n",
    "head1 =Node(1)\n",
    "node3 =Node(3)\n",
    "node5 =Node(5)\n",
    "#create a linkage \n",
    "head1.setNext(node3)\n",
    "node3.setNext(node5)\n",
    "\n",
    "# Linked list -2\n",
    "head2 = Node(2)\n",
    "node4 = Node(4)\n",
    "node6 = Node(6)\n",
    "node8 = Node(8)\n",
    "#Create Linkage\n",
    "head2.setNext(node4)\n",
    "node4.setNext(node6)\n",
    "node6.setNext(node8)\n",
    "merg =merge_list(head1 ,head2)\n",
    "while merg :\n",
    "    print(merg.getData(),end=\"-->\")\n",
    "    merg =merg.getNext()"
   ]
  },
  {
   "cell_type": "markdown",
   "id": "faa58449-17c5-488a-91d1-074ac2cff92c",
   "metadata": {},
   "source": [
    "2nd approach"
   ]
  },
  {
   "cell_type": "code",
   "execution_count": 7,
   "id": "9ee7e8d0-bacc-421d-bc17-6d4bf1a8d125",
   "metadata": {},
   "outputs": [],
   "source": [
    "def merge_list(head1 ,head2):\n",
    "    curr =dummy =Node()\n",
    "    while head1 and head2 :\n",
    "        if(head1.getData()> head2.getData()):\n",
    "            curr.setNext(head2)\n",
    "            head2 =head2.getNext()\n",
    "            \n",
    "        else:\n",
    "            curr.setNext(head1)\n",
    "            head1 =head1.getNext()\n",
    "        curr =curr.getNext()\n",
    "        \n",
    "    if not head1:\n",
    "        curr.setNext(head2)\n",
    "        \n",
    "    else:\n",
    "        curr.setNext(head1)\n",
    "    return dummy.getNext()"
   ]
  },
  {
   "cell_type": "code",
   "execution_count": 8,
   "id": "7cae82eb-bd4e-4727-92c2-295694556258",
   "metadata": {},
   "outputs": [
    {
     "name": "stdout",
     "output_type": "stream",
     "text": [
      "1-->2-->3-->4-->5-->6-->"
     ]
    }
   ],
   "source": [
    "# Linked List -1\n",
    "head1 =Node(1)\n",
    "node3 =Node(3)\n",
    "node5 =Node(5)\n",
    "#create a linkage \n",
    "head1.setNext(node3)\n",
    "node3.setNext(node5)\n",
    "\n",
    "# Linked list -2\n",
    "head2 = Node(2)\n",
    "node4 = Node(4)\n",
    "node6 = Node(6)\n",
    "#Create Linkage\n",
    "head2.setNext(node4)\n",
    "node4.setNext(node6)\n",
    "\n",
    "merged =merge_list(head1 ,head2)\n",
    "while merged :\n",
    "    print(merged.getData(),end=\"-->\")\n",
    "    merged =merged.getNext()"
   ]
  },
  {
   "cell_type": "markdown",
   "id": "c6f58505-4eda-404b-a49a-983568ba5fca",
   "metadata": {},
   "source": [
    "#### `Problem 3: Remove the nth node from the end of a linked list`\n",
    "\n",
    "    Input: 1 -> 2 -> 3 -> 4 -> 5, n = 2\n",
    "    Output: 1 -> 2 -> 3 -> 5"
   ]
  },
  {
   "cell_type": "code",
   "execution_count": 9,
   "id": "d2fef873-9b4e-4b7d-ac30-7ec66702d537",
   "metadata": {},
   "outputs": [
    {
     "name": "stdout",
     "output_type": "stream",
     "text": [
      "1-->2-->3-->5-->"
     ]
    }
   ],
   "source": [
    "head =Node(1)\n",
    "node2 =Node(2)\n",
    "node3 =Node(3)\n",
    "node4 =Node(4)\n",
    "node5 =Node(5)\n",
    "# Create Linkage\n",
    "head.setNext(node2)\n",
    "node2.setNext(node3)\n",
    "node3.setNext(node4)\n",
    "node4.setNext(node5)\n",
    "\n",
    "# traverse(head)\n",
    "# print()\n",
    "# length(head)\n",
    "\n",
    "def remove_nth_node(head ,n):\n",
    "    \n",
    "    if(n >=length(head) or n <=0):\n",
    "        print(\"argument pass is invalid\")\n",
    "        return head\n",
    "    \n",
    "    i = 0\n",
    "    prev = None \n",
    "    temp = head\n",
    "    while(i < length(head)-n):\n",
    "        nxt_node =temp.getNext()\n",
    "        prev =temp\n",
    "        temp =nxt_node\n",
    "        i+=1\n",
    "        \n",
    "    prev.setNext(temp.getNext())\n",
    "    return head\n",
    "    \n",
    "\n",
    "removeNode =remove_nth_node(head ,2)\n",
    "while removeNode :\n",
    "    print(removeNode.getData(),end=\"-->\")\n",
    "    removeNode =removeNode.getNext()"
   ]
  },
  {
   "cell_type": "markdown",
   "id": "8223ba83-b28c-4f44-a08c-c69b13065b9d",
   "metadata": {},
   "source": [
    "#### `Problem 4: Find the intersection point of two linked lists`\n",
    "\n",
    "      Input: List 1: 1 -> 2 -> 3 -> 4, List 2: 9 -> 8 -> 3 -> 4\n",
    "      Output: Node with value 3"
   ]
  },
  {
   "cell_type": "code",
   "execution_count": 10,
   "id": "316241a3-45b8-46e0-80a4-43105e3bd21c",
   "metadata": {},
   "outputs": [
    {
     "name": "stdout",
     "output_type": "stream",
     "text": [
      "Output value is : 3\n"
     ]
    }
   ],
   "source": [
    "# List-1 is define here\n",
    "head11 =Node(1)\n",
    "node2 =Node(2)\n",
    "node3 =Node(3)\n",
    "node4 =Node(4)\n",
    "# Create Linkage of node\n",
    "head11.setNext(node2)\n",
    "node2.setNext(node3)\n",
    "node3.setNext(node4)\n",
    "\n",
    "# list-2 is define \n",
    "head21 =Node(9)\n",
    "node8 =Node(8)\n",
    "node3 =Node(3)\n",
    "node4 =Node(4)\n",
    "# create linkage of nodes\n",
    "head21.setNext(node8)\n",
    "node8.setNext(node3)\n",
    "node3.setNext(node4)\n",
    "\n",
    "# traverse(head11)\n",
    "# print()\n",
    "# traverse(head21)\n",
    "\n",
    "def IntersectPoint(head11 ,head21):\n",
    "    temp1 =head11\n",
    "    temp2 =head21\n",
    "    \n",
    "    while(temp1 and temp2):\n",
    "        if(temp1.getData() == temp2.getData()):\n",
    "            return temp1.getData()\n",
    "        temp1 =temp1.getNext()\n",
    "        temp2 =temp2.getNext()\n",
    "\n",
    "        \n",
    "print(\"Output value is :\",IntersectPoint(head11 ,head21))"
   ]
  },
  {
   "cell_type": "markdown",
   "id": "94b21059-674c-4af4-95e7-56979e1ef289",
   "metadata": {},
   "source": [
    "#### `Problem 5: Remove duplicates from a sorted linked list`\n",
    "        Input: 1 -> 1 -> 2 -> 3 -> 3\n",
    "        Output: 1 -> 2 -> 3"
   ]
  },
  {
   "cell_type": "code",
   "execution_count": 11,
   "id": "04cd1049-7c64-49e4-b7ba-dc066ae348c6",
   "metadata": {},
   "outputs": [
    {
     "name": "stdout",
     "output_type": "stream",
     "text": [
      "1-->1-->2-->3-->3-->"
     ]
    }
   ],
   "source": [
    "# Remove duplicate from these link-list\n",
    "head =Node(1)\n",
    "node1 =Node(1)\n",
    "node2 =Node(2)\n",
    "node3 =Node(3)\n",
    "node4 =Node(3)\n",
    "# Create linkage\n",
    "head.setNext(node1)\n",
    "node1.setNext(node2)\n",
    "node2.setNext(node3)\n",
    "node3.setNext(node4)\n",
    "traverse(head)\n"
   ]
  },
  {
   "cell_type": "code",
   "execution_count": 12,
   "id": "0081a643-c7e4-415f-9833-c8c7b93dbc2f",
   "metadata": {},
   "outputs": [
    {
     "name": "stdout",
     "output_type": "stream",
     "text": [
      "1-->2-->3-->"
     ]
    }
   ],
   "source": [
    "def remove_dups(head):\n",
    "    # Current = head here we define\n",
    "    curent =head\n",
    "    # check curent value and curentof next value\n",
    "    while(curent != None and curent.getNext() != None):\n",
    "        # check the condition \n",
    "        if(curent.getData() == curent.getNext().getData()):\n",
    "            curent.setNext(curent.getNext().getNext())\n",
    "            \n",
    "        else:\n",
    "            curent= curent.getNext()\n",
    "            \n",
    "    return head\n",
    "\n",
    "removed =remove_dups(head)\n",
    "while removed :\n",
    "    print(removed.getData(),end=\"-->\")\n",
    "    removed =removed.getNext()"
   ]
  },
  {
   "cell_type": "markdown",
   "id": "b90a49ae-8b85-4dfe-8fc7-a54844e55fc0",
   "metadata": {},
   "source": [
    "#### `Problem 6: Add two numbers represented by linked lists (where each node contains a single digit).`\n",
    "\n",
    "        Input: List 1: 2 -> 4 -> 3, List 2: 5 -> 6 -> 4 (represents 342 + 465)\n",
    "        Output: 7 -> 0 -> 8 (represents 807"
   ]
  },
  {
   "cell_type": "code",
   "execution_count": 13,
   "id": "a80ad1e1-90a1-4a3b-bca8-3c930e0a0a02",
   "metadata": {},
   "outputs": [
    {
     "name": "stdout",
     "output_type": "stream",
     "text": [
      "7-->0-->8-->"
     ]
    }
   ],
   "source": [
    "head1 =Node(2)\n",
    "node4 =Node(4)\n",
    "node3 =Node(3)\n",
    "head1.setNext(node4)\n",
    "node4.setNext(node3)\n",
    "\n",
    "head2 =Node(5)\n",
    "node6= Node(6)\n",
    "node4 =Node(4)\n",
    "head2.setNext(node6)\n",
    "node6.setNext(node4)\n",
    "\n",
    "# traverse(head1)\n",
    "# print()\n",
    "# traverse(head2)\n",
    "def add_linked_list_numbers(head1, head2):\n",
    "    l1 = head1\n",
    "    l2 =head2\n",
    "    if not l1:\n",
    "        return l2\n",
    "    if not l2:\n",
    "        return l1\n",
    "\n",
    "    # Create a dummy head node for the result list\n",
    "    dummy_head = Node(0)\n",
    "    curr = dummy_head\n",
    "    carry = 0\n",
    "\n",
    "    while l1 or l2 or carry:\n",
    "        val1 = l1.getData() \n",
    "        val2 = l2.getData() \n",
    "        sum_val = val1 + val2 + carry\n",
    "        data = sum_val % 10\n",
    "\n",
    "        # Create a new node for the digit and update carry\n",
    "        curr.setNext(Node(data))\n",
    "        carry = sum_val // 10\n",
    "\n",
    "        # Move to the next nodes in the lists\n",
    "        curr = curr.getNext()\n",
    "        l1 = l1.getNext() \n",
    "        l2 = l2.getNext() \n",
    "\n",
    "    return dummy_head.getNext()\n",
    "\n",
    "# Traversal Code\n",
    "get_data =add_linked_list_numbers(head1,head2)\n",
    "while get_data :\n",
    "    print(get_data.getData(),end=\"-->\")\n",
    "    get_data =get_data.getNext()"
   ]
  },
  {
   "cell_type": "markdown",
   "id": "b2c9f34d-ab1c-4670-9e26-40e60191c78a",
   "metadata": {},
   "source": [
    "#### `Problem 7: Swap nodes in pairs in a linked list`\n",
    "\n",
    "     Input: 1 -> 2 -> 3 -> 4\n",
    "     Output: 2 -> 1 -> 4 -> 3"
   ]
  },
  {
   "cell_type": "code",
   "execution_count": 14,
   "id": "c8a1846d-336a-4963-8a29-94de1ce3eeef",
   "metadata": {},
   "outputs": [
    {
     "name": "stdout",
     "output_type": "stream",
     "text": [
      "1-->2-->3-->4-->"
     ]
    }
   ],
   "source": [
    "head  =Node(1)\n",
    "node2 =Node(2)\n",
    "node3 =Node(3)\n",
    "node4 =Node(4)\n",
    "# Create Linkage\n",
    "head.setNext(node2)\n",
    "node2.setNext(node3)\n",
    "node3.setNext(node4)\n",
    "traverse(head)"
   ]
  },
  {
   "cell_type": "code",
   "execution_count": 15,
   "id": "566ef625-9796-4776-bf2d-febd6c3923b9",
   "metadata": {},
   "outputs": [
    {
     "name": "stdout",
     "output_type": "stream",
     "text": [
      "2-->1-->4-->3-->"
     ]
    }
   ],
   "source": [
    "def swapNodes(head):\n",
    "    prev =dummyNode =Node(None)\n",
    "   \n",
    "    \n",
    "    while(head and head.getNext()):\n",
    "        firstNode =head\n",
    "        secondNode=head.getNext()\n",
    "        \n",
    "        #swap the node\n",
    "        prev.setNext(secondNode)\n",
    "        firstNode.setNext(secondNode.getNext())\n",
    "        secondNode.setNext(firstNode)\n",
    "        \n",
    "        #Move the pointer\n",
    "        prev =firstNode\n",
    "        head =firstNode.getNext()\n",
    "    return dummyNode.getNext()\n",
    "\n",
    "swap =swapNodes(head)\n",
    "while swap :\n",
    "    print(swap.getData(),end =\"-->\")\n",
    "    swap =swap.getNext()"
   ]
  },
  {
   "cell_type": "markdown",
   "id": "1e6354e1-e76d-4110-a91b-bb61d61b3ca1",
   "metadata": {},
   "source": [
    "#### Problem 8: Reverse nodes in a linked list in groups of k\n",
    "\n",
    "    Input: 1 -> 2 -> 3 -> 4 -> 5, k = 3\n",
    "    Output: 3 -> 2 -> 1 -> 4 -> 5"
   ]
  },
  {
   "cell_type": "code",
   "execution_count": 16,
   "id": "3588e8c5-7b3b-48c0-a3d8-b8d659db0470",
   "metadata": {},
   "outputs": [
    {
     "name": "stdout",
     "output_type": "stream",
     "text": [
      "3-->2-->1-->4-->5-->"
     ]
    }
   ],
   "source": [
    "#creat linked list\n",
    "head =Node(1)\n",
    "Node2=Node(2)\n",
    "Node3=Node(3)\n",
    "Node4=Node(4)\n",
    "Node5=Node(5)\n",
    "\n",
    "# create a linkage of linked list\n",
    "head.setNext(Node2)\n",
    "Node2.setNext(Node3)\n",
    "Node3.setNext(Node4)\n",
    "Node4.setNext(Node5)\n",
    "\n",
    "\n",
    "def reverseGroupK(head ,K):\n",
    "    prev =None\n",
    "    current =head\n",
    "    temp = head\n",
    "    \n",
    "    if(K==1 or K > 5 or head == None):\n",
    "        return head\n",
    "    \n",
    "    while(current):\n",
    "        if(current.getData() >= K+1):\n",
    "            temp.setNext(nxtNode)\n",
    "            break\n",
    "            \n",
    "        nxtNode =current.getNext()\n",
    "        current.setNext(prev)\n",
    "        prev =current\n",
    "        current =nxtNode\n",
    "        \n",
    "            \n",
    "    return prev\n",
    "\n",
    "Kreverse_Node = reverseGroupK(head,3)\n",
    "while Kreverse_Node :\n",
    "    print(Kreverse_Node.getData(),end=\"-->\")\n",
    "    Kreverse_Node =Kreverse_Node.getNext()"
   ]
  },
  {
   "cell_type": "markdown",
   "id": "e1a5ba2e-8d23-4115-a27d-a53dbb530bc1",
   "metadata": {
    "tags": []
   },
   "source": [
    "#### `Problem 9: Determine if a linked list is a palindrome.`\n",
    "\n",
    "    Input: 1 -> 2 -> 2 -> 1\n",
    "    Output: True"
   ]
  },
  {
   "cell_type": "code",
   "execution_count": 17,
   "id": "cf7d313b-816d-4fb6-9166-9f545dcfe235",
   "metadata": {},
   "outputs": [
    {
     "name": "stdout",
     "output_type": "stream",
     "text": [
      "1-->2-->3-->1-->1-->"
     ]
    }
   ],
   "source": [
    "head =Node(1)\n",
    "node2 =Node(2)\n",
    "node3 =Node(3)\n",
    "node4 =Node(1)\n",
    "node5 =Node(1)\n",
    "# create Linkage\n",
    "head.setNext(node2)\n",
    "node2.setNext(node3)\n",
    "node3.setNext(node4)\n",
    "node4.setNext(node5)\n",
    "traverse(head)"
   ]
  },
  {
   "cell_type": "code",
   "execution_count": 18,
   "id": "561ef880-39d8-41af-9629-967950b786ad",
   "metadata": {},
   "outputs": [
    {
     "name": "stdout",
     "output_type": "stream",
     "text": [
      "Given LL is Palindrome Or Not ==> False\n"
     ]
    }
   ],
   "source": [
    "# Find the middle elements of LL\n",
    "def FindMid(head):\n",
    "    slow =head\n",
    "    fast =head\n",
    "    while(fast and fast.getNext()):\n",
    "        slow =slow.getNext()\n",
    "        fast =fast.getNext().getNext()\n",
    "    return slow\n",
    "\n",
    "# Reverse LL from its mid\n",
    "def reverseList(head):\n",
    "    prev =None\n",
    "    curr =head\n",
    "    while(curr):\n",
    "        nxt_node =curr.getNext()\n",
    "        curr.setNext(prev)\n",
    "        prev =curr\n",
    "        curr =nxt_node\n",
    "    return prev\n",
    "\n",
    "# Check Palindrome of LL\n",
    "def checkPalindrome(head):\n",
    "    temp = head\n",
    "    if(temp == None):\n",
    "        return head\n",
    "    \n",
    "    mid =FindMid(head)\n",
    "    last =reverseList(mid.getNext())\n",
    "    \n",
    "    while(last != None):\n",
    "        if(last.getData() != temp.getData()):\n",
    "            return False\n",
    "        last =last.getNext()\n",
    "        temp =temp.getNext()\n",
    "    return True\n",
    "# driver Code\n",
    "print(\"Given LL is Palindrome Or Not ==>\",checkPalindrome(head))"
   ]
  },
  {
   "cell_type": "markdown",
   "id": "5f035e5f-485a-4bbe-b30f-c45eb8a861f2",
   "metadata": {},
   "source": [
    "#### Problem 10: Rotate a linked list to the right by k places.\n",
    "\n",
    "    Input: 1 -> 2 -> 3 -> 4 -> 5, k = 2\n",
    "    Output: 4 -> 5 -> 1 -> 2 -> 3"
   ]
  },
  {
   "cell_type": "code",
   "execution_count": 19,
   "id": "c65c63ef-33f7-40db-865b-8993e5a05ad7",
   "metadata": {},
   "outputs": [
    {
     "name": "stdout",
     "output_type": "stream",
     "text": [
      "4 --> 5 --> 1 --> 2 --> 3 --> "
     ]
    }
   ],
   "source": [
    "head =Node(1)\n",
    "node2 =Node(2)\n",
    "node3 =Node(3)\n",
    "node4 =Node(4)\n",
    "node5 =Node(5)\n",
    "# Create Linkage LL\n",
    "head.setNext(node2)\n",
    "node2.setNext(node3)\n",
    "node3.setNext(node4)\n",
    "node4.setNext(node5)\n",
    "# traverse(head)\n",
    "# Find the length of head\n",
    "def length(head):\n",
    "    temp =head\n",
    "    leng =0\n",
    "    while(temp):\n",
    "        leng +=1\n",
    "        temp =temp.getNext()\n",
    "    return leng\n",
    "\n",
    "# Rotate function\n",
    "def rotateLL(head ,k):\n",
    "    cur =head\n",
    "    tail =head\n",
    "    k = k % length(head)\n",
    "    if k == 0 :\n",
    "        return head\n",
    "    \n",
    "    for i in range(length(head)-k -1):\n",
    "        cur =cur.getNext()\n",
    "    newhead =cur.getNext()\n",
    "    cur.setNext(None)\n",
    "    \n",
    "    temp = newhead\n",
    "    while(temp.getNext() != None):\n",
    "        temp =temp.getNext()\n",
    "    temp.setNext(head)\n",
    "    return newhead\n",
    "        \n",
    "rot= rotateLL(head,2)\n",
    "while rot:\n",
    "    print(rot.getData(),end=\" --> \")\n",
    "    rot =rot.getNext()"
   ]
  },
  {
   "cell_type": "markdown",
   "id": "d293c3d8-69d6-4cef-aaad-79d5f93c5786",
   "metadata": {
    "tags": []
   },
   "source": [
    "#### Problem 11: Flatten a multilevel doubly linked list\n",
    "\n",
    "    Input: 1 <-> 2 <-> 3 <-> 7 <-> 8 <-> 11 -> 12, 4 <-> 5 -> 9 -> 10, 6 -> 13\n",
    "    Output: 1 <-> 2 <-> 3 <-> 4 <-> 5 <-> 6 <-> 7 <-> 8 <-> 9 <-> 10 <-> 11 <-> 12 <-> 13"
   ]
  },
  {
   "cell_type": "code",
   "execution_count": 20,
   "id": "1201a0fd-6dc3-44dc-bd38-f110648b7083",
   "metadata": {},
   "outputs": [
    {
     "name": "stdout",
     "output_type": "stream",
     "text": [
      "4 <-> 5 <-> 9 <-> 10 <-> NULL\n"
     ]
    }
   ],
   "source": [
    "class Node:\n",
    "    def __init__(self, data):\n",
    "        self.data = data\n",
    "        self.next = None\n",
    "        self.prev = None\n",
    "\n",
    "def flatten(head):\n",
    "    if not head:\n",
    "        return None\n",
    "\n",
    "    current = head\n",
    "    result = None\n",
    "    prev = None\n",
    "    while current:\n",
    "        next_node = current.next\n",
    "        if not result:\n",
    "            result = current\n",
    "            prev = current\n",
    "        else:\n",
    "            prev.next = current\n",
    "            current.prev = prev\n",
    "            prev = current\n",
    "        current = next_node\n",
    "    return result\n",
    "\n",
    "def merge(head1, head2):\n",
    "    if not head1:\n",
    "        return head2\n",
    "    if not head2:\n",
    "        return head1\n",
    "\n",
    "    current1 = head1\n",
    "    current2 = head2\n",
    "    prev = None\n",
    "    while current1 and current2:\n",
    "        if current1.data <= current2.data:\n",
    "            if not prev:\n",
    "                result = current1\n",
    "            else:\n",
    "                prev.next = current1\n",
    "            prev = current1\n",
    "            current1 = current1.next\n",
    "        else:\n",
    "            if not prev:\n",
    "                result = current2\n",
    "            else:\n",
    "                prev.next = current2\n",
    "            prev = current2\n",
    "            current2 = current2.next\n",
    "\n",
    "    if current1:\n",
    "        prev.next = current1\n",
    "    if current2:\n",
    "        prev.next = current2\n",
    "    return result\n",
    "\n",
    "def sort_list(head):\n",
    "    if not head or not head.next:\n",
    "        return head\n",
    "\n",
    "    slow = head\n",
    "    fast = head.next\n",
    "    while fast and fast.next:\n",
    "        slow = slow.next\n",
    "        fast = fast.next.next\n",
    "\n",
    "    second_half = slow.next\n",
    "    slow.next = None\n",
    "\n",
    "    first_half = sort_list(head)\n",
    "    second_half = sort_list(second_half)\n",
    "\n",
    "    return merge(first_half, second_half)\n",
    "\n",
    "def print_list(head):\n",
    "    while head:\n",
    "        print(head.data, end=\" <-> \")\n",
    "        head = head.next\n",
    "    print(\"NULL\")\n",
    "\n",
    "# Example usage\n",
    "head1 = Node(1)\n",
    "head1.next = Node(2)\n",
    "head1.next.next = Node(3)\n",
    "head1.next.next.next = Node(7)\n",
    "head1.next.next.next.next = Node(8)\n",
    "head1.next.next.next.next.next = Node(11)\n",
    "head1.next.next.next.next.next.next = Node(12)\n",
    "\n",
    "head2 = Node(4)\n",
    "head2.next = Node(5)\n",
    "head2.next.next = Node(9)\n",
    "head2.next.next.next = Node(10)\n",
    "\n",
    "head3 = Node(6)\n",
    "head3.next = Node(13)\n",
    "\n",
    "head = flatten(head1)\n",
    "head = flatten(head3)\n",
    "head = flatten(head2)\n",
    "\n",
    "head = sort_list(head)\n",
    "\n",
    "print_list(head)"
   ]
  },
  {
   "cell_type": "code",
   "execution_count": 25,
   "id": "a476f5cd-bf56-4f21-bb00-226492a85cde",
   "metadata": {},
   "outputs": [],
   "source": [
    "class Node:\n",
    "    def __init__(self, data):\n",
    "        self.data = data\n",
    "        self.next = None\n",
    "        self.prev = None\n",
    "        self.child = None\n",
    "\n",
    "def flatten_doubly_linked_list(head):\n",
    "    if not head:\n",
    "        return None\n",
    "\n",
    "    current = head\n",
    "    while current:\n",
    "        if current.child:\n",
    "            next_node = current.next\n",
    "            child_tail = current.child\n",
    "            while child_tail.next:\n",
    "                child_tail = child_tail.next\n",
    "\n",
    "            current.next = current.child\n",
    "            current.child.prev = current\n",
    "            child_tail.next = next_node\n",
    "\n",
    "            if next_node:\n",
    "                next_node.prev = child_tail\n",
    "\n",
    "            current.child = None\n",
    "\n",
    "        current = current.next\n",
    "\n",
    "    return head"
   ]
  },
  {
   "cell_type": "code",
   "execution_count": 26,
   "id": "da4512c1-718b-4da2-a236-4b4da8c4b59d",
   "metadata": {},
   "outputs": [
    {
     "name": "stdout",
     "output_type": "stream",
     "text": [
      "1 <-> 2 <-> 3 <-> 4 <-> 5 <-> 9 <-> 10 <-> 7 <-> 8 <-> 6 <-> 13 <-> 11 <-> 12 <-> "
     ]
    }
   ],
   "source": [
    "head = Node(1)\n",
    "head.next = Node(2)\n",
    "head.next.prev = head\n",
    "head.next.next = Node(3)\n",
    "head.next.next.prev = head.next\n",
    "head.next.next.next = Node(7)\n",
    "head.next.next.next.prev = head.next.next\n",
    "head.next.next.next.next = Node(8)\n",
    "head.next.next.next.next.prev = head.next.next.next\n",
    "head.next.next.next.next.next = Node(11)\n",
    "head.next.next.next.next.next.prev = head.next.next.next.next\n",
    "head.next.next.next.next.next.next = Node(12)\n",
    "head.next.next.next.next.next.next.prev = head.next.next.next.next.next\n",
    "\n",
    "head.next.next.child = Node(4)\n",
    "head.next.next.child.next = Node(5)\n",
    "head.next.next.child.next.prev = head.next.next.child\n",
    "head.next.next.child.next.next = Node(9)\n",
    "head.next.next.child.next.next.prev = head.next.next.child.next\n",
    "head.next.next.child.next.next.next = Node(10)\n",
    "head.next.next.child.next.next.next.prev = head.next.next.child.next.next\n",
    "\n",
    "head.next.next.next.next.child = Node(6)\n",
    "head.next.next.next.next.child.next = Node(13)\n",
    "head.next.next.next.next.child.next.prev = head.next.next.next.next.child\n",
    "\n",
    "# Flatten the multilevel doubly linked list\n",
    "flattened_head = flatten_doubly_linked_list(head)\n",
    "\n",
    "# Print the flattened doubly linked list\n",
    "current = flattened_head\n",
    "while current:\n",
    "    print(current.data, end=\" <-> \")\n",
    "    current = current.next"
   ]
  },
  {
   "cell_type": "markdown",
   "id": "c044972a-54b7-4b07-8567-824a47cb4e30",
   "metadata": {},
   "source": [
    "#### Problem 12: Rearrange a linked list such that all even positioned nodes are placed at the end.\n",
    "\n",
    "    Input: 1 -> 2 -> 3 -> 4 -> 5\n",
    "\n",
    "    Output: 1 -> 3 -> 5 -> 2 -> 4"
   ]
  },
  {
   "cell_type": "code",
   "execution_count": 19,
   "id": "660c5a7a-873d-48bd-82c1-d2c1cc778866",
   "metadata": {
    "tags": []
   },
   "outputs": [
    {
     "name": "stdout",
     "output_type": "stream",
     "text": [
      "1 --> 3 --> 5 --> 2 --> 4 --> "
     ]
    }
   ],
   "source": [
    "head =Node(1)\n",
    "node2 =Node(2)\n",
    "node3 =Node(3)\n",
    "node4 =Node(4)\n",
    "node5 =Node(5)\n",
    "# Create Linkage LL\n",
    "head.setNext(node2)\n",
    "node2.setNext(node3)\n",
    "node3.setNext(node4)\n",
    "node4.setNext(node5)\n",
    "# traverse(head)\n",
    "\n",
    "def RearrangeLL(head):\n",
    "    if(head == None and head.getNext() == None):\n",
    "        return head\n",
    "    \n",
    "    odd =head\n",
    "    even =head.getNext()\n",
    "    evenHead =even\n",
    "    \n",
    "    while(odd and odd.getNext()):\n",
    "        odd.setNext(odd.getNext().getNext())\n",
    "        even.setNext(even.getNext().getNext())\n",
    "        odd =odd.getNext()\n",
    "        even =even.getNext()\n",
    "        \n",
    "    odd.setNext(evenHead)\n",
    "    return head \n",
    "\n",
    "\n",
    "rearrange=RearrangeLL(head)\n",
    "while rearrange :\n",
    "    print(rearrange.getData(),end=\" --> \")\n",
    "    rearrange =rearrange.getNext()"
   ]
  },
  {
   "cell_type": "markdown",
   "id": "e231791b-3f75-41c8-b574-2c4d5a212062",
   "metadata": {},
   "source": [
    "#### `Problem 13: Given a non-negative number represented as a linked list, add one to it`\n",
    "\n",
    "    Input: 1 -> 2 -> 3 (represents the number 123)\n",
    "    Output: 1 -> 2 -> 4 (represents the number 124)"
   ]
  },
  {
   "cell_type": "code",
   "execution_count": 20,
   "id": "8350edd0-fd84-4c9d-a3a2-795ad85949d4",
   "metadata": {},
   "outputs": [
    {
     "name": "stdout",
     "output_type": "stream",
     "text": [
      "1 --> 2 --> 4 --> "
     ]
    }
   ],
   "source": [
    "head =Node(1)\n",
    "node2 =Node(2)\n",
    "node3 =Node(3)\n",
    "# Create linkage \n",
    "head.setNext(node2)\n",
    "node2.setNext(node3)\n",
    "# traverse(head)\n",
    "\n",
    "def length(head):\n",
    "    temp = head\n",
    "    countLength= 0\n",
    "    while(temp):\n",
    "        countLength +=1\n",
    "        temp =temp.getNext()\n",
    "    return countLength \n",
    "\n",
    "def NonNegative(head):\n",
    "    if(head ==None and head.getNext() == None):\n",
    "        return \n",
    "    \n",
    "    temp = head\n",
    "    i =1\n",
    "    while(i < length(head)):\n",
    "        temp =temp.getNext()\n",
    "        i +=1\n",
    "    \n",
    "    curVal = temp.getData()\n",
    "    temp.setData(curVal+1)\n",
    "    return head\n",
    "\n",
    "num = NonNegative(head)\n",
    "while(num):\n",
    "    print(num.getData(),end=\" --> \")\n",
    "    num =num.getNext()"
   ]
  },
  {
   "cell_type": "markdown",
   "id": "d0ad6dcb-7ddf-4051-a639-1d3b63050994",
   "metadata": {},
   "source": [
    "#### `Problem 14: Given a sorted array and a target value, return the index if the target is found. If not, return the index where it would be inserted`\n",
    "\n",
    "    Input: nums = [1, 3, 5, 6], target = 5\n",
    "    Output: 2"
   ]
  },
  {
   "cell_type": "code",
   "execution_count": 21,
   "id": "61742774-a3cf-4fee-b72a-a7da26bc8c3a",
   "metadata": {},
   "outputs": [
    {
     "name": "stdout",
     "output_type": "stream",
     "text": [
      "The output is : 2\n"
     ]
    }
   ],
   "source": [
    "# Input is [1,3,5,6]\n",
    "# Output return index Value\n",
    "def SortedArray(arr ,target):\n",
    "    for i in range(len(arr)):\n",
    "        if(arr[i] == target):\n",
    "            return i\n",
    "        \n",
    "        elif(arr[i] > target):\n",
    "            return i\n",
    "    return -1\n",
    "\n",
    "\n",
    "# Driver code\n",
    "arr =[1,3,5,6]\n",
    "print(\"The output is :\",SortedArray(arr,5))"
   ]
  },
  {
   "cell_type": "markdown",
   "id": "85f7d8f3-9c8e-45a7-a4d2-084e3dfbd030",
   "metadata": {},
   "source": [
    "### `Problem 15: Find the minimum element in a rotated sorted array`\n",
    "\n",
    "    Input: [4, 5, 6, 7, 0, 1, 2]\n",
    "    Output: 0"
   ]
  },
  {
   "cell_type": "code",
   "execution_count": 22,
   "id": "113501ee-0e09-4af7-ab4e-6b3172bd4122",
   "metadata": {},
   "outputs": [
    {
     "data": {
      "text/plain": [
       "0"
      ]
     },
     "execution_count": 22,
     "metadata": {},
     "output_type": "execute_result"
    }
   ],
   "source": [
    "# Find Min element in sorted array\n",
    "# input = [4,5,6,7,0,1,2]\n",
    "\n",
    "# Time complexity is O(n)\n",
    "# space complexity is O(1)\n",
    "\n",
    "def FindMinElememt(arr):\n",
    "    mini =0\n",
    "    for i in range(len(arr)):\n",
    "       \n",
    "        if(arr[i] < arr[mini]):\n",
    "            mini = arr[i]\n",
    "        return mini\n",
    "\n",
    "arr =[4,5,6,7,0,1,2]\n",
    "FindMinElememt(arr)"
   ]
  },
  {
   "cell_type": "markdown",
   "id": "b0c0b1ba-2eb6-4d8b-b06d-b05e0ee029e2",
   "metadata": {},
   "source": [
    "#### `Problem 16: Search for a target value in a rotated sorted array`\n",
    "\n",
    "    Input: nums = [4, 5, 6, 7, 0, 1, 2], target = 0\n",
    "    Output: 4"
   ]
  },
  {
   "cell_type": "code",
   "execution_count": 23,
   "id": "8246f072-34ab-45cc-8a97-b43af41625f7",
   "metadata": {},
   "outputs": [
    {
     "name": "stdout",
     "output_type": "stream",
     "text": [
      "index of serch value is:  -1\n"
     ]
    }
   ],
   "source": [
    "# input =[4, 5, 6, 7, 0, 1, 2] target = 0\n",
    "def SerachTargetValue(arr ,target):\n",
    "    for i in range(len(arr)):\n",
    "        if(arr[i] == target):\n",
    "            return i\n",
    "    else:\n",
    "        return -1\n",
    "arr =[4, 5, 6, 7, 0, 1, 2]\n",
    "print(\"index of serch value is: \",SerachTargetValue(arr ,10))"
   ]
  },
  {
   "cell_type": "markdown",
   "id": "db08dad6-33f0-40f2-8c78-498c89cae8bf",
   "metadata": {},
   "source": [
    "#### `Problem 17: Find the peak element in an array. A peak element is greater than its neighbors.`\n",
    "\n",
    "    Input: nums = [1, 2, 3, 1]\n",
    "    Output: 2 (index of peak element)"
   ]
  },
  {
   "cell_type": "code",
   "execution_count": 24,
   "id": "422140ec-40ee-459b-abad-e733525d23ca",
   "metadata": {},
   "outputs": [
    {
     "data": {
      "text/plain": [
       "2"
      ]
     },
     "execution_count": 24,
     "metadata": {},
     "output_type": "execute_result"
    }
   ],
   "source": [
    "def PeakElement(arr):\n",
    "    maxVal = 0\n",
    "    index = 0\n",
    "    for i in range(len(arr)):\n",
    "        if(arr[i] > arr[maxVal]):\n",
    "            maxVal = i\n",
    "    return maxVal\n",
    "\n",
    "# driver Code\n",
    "arr =[1, 2, 3, 1]\n",
    "PeakElement(arr)"
   ]
  },
  {
   "cell_type": "markdown",
   "id": "6661cb55-7d95-4c14-931a-2499f0ae993b",
   "metadata": {},
   "source": [
    "#### `Problem 18: Given a m x n matrix where each row and column is sorted in ascending order, count the number \n",
    "of negative numbers`.\n",
    "\n",
    "    Input: grid = [[4, 3, 2, -1], [3, 2, 1, -1], [1, 1, -1, -2], [-1, -1, -2, -3]]\n",
    "    Output: 8"
   ]
  },
  {
   "cell_type": "code",
   "execution_count": 25,
   "id": "b9345aa3-3bc9-451e-8f85-7cb9e58e0b8b",
   "metadata": {},
   "outputs": [
    {
     "name": "stdout",
     "output_type": "stream",
     "text": [
      "Negative number counts are : 8\n"
     ]
    }
   ],
   "source": [
    "def count_Negative_Num(grid, m ,n):\n",
    "    count_Negative = 0\n",
    "    for i in range(m):\n",
    "        for j in range(n):\n",
    "            if(grid[i][j] < 0):\n",
    "                count_Negative +=1\n",
    "    return count_Negative\n",
    "\n",
    "grid =[[4, 3, 2, -1], \n",
    "        [3, 2, 1, -1], \n",
    "        [1, 1, -1, -2],\n",
    "        [-1, -1, -2, -3]]\n",
    "\n",
    "print(\"Negative number counts are :\",count_Negative_Num(grid ,4,4))"
   ]
  },
  {
   "cell_type": "markdown",
   "id": "6cf02434-f8c6-4517-84fe-467651294871",
   "metadata": {
    "tags": []
   },
   "source": [
    "#### `Problem 19: Given a 2D matrix sorted in ascending order in each row, and the first integer of each row is greater than the last integer of the previous row, determine if a target value is present in the matrix.`\n",
    "\n",
    "    Input: matrix = [[1, 3, 5, 7], [10, 11, 16, 20], [23, 30, 34, 60]], target = 3\n",
    "    Output: True"
   ]
  },
  {
   "cell_type": "code",
   "execution_count": 45,
   "id": "32e66045-4616-4dcc-9e4f-2af357cd4797",
   "metadata": {},
   "outputs": [
    {
     "name": "stdout",
     "output_type": "stream",
     "text": [
      "1 3 5 7 10 11 16 20 23 30 34 60 "
     ]
    }
   ],
   "source": [
    "matrix = [[1, 3, 5, 7],\n",
    "          [10, 11, 16, 20],\n",
    "          [23, 30, 34, 60]]\n",
    "\n",
    "for i in range(len(matrix)):\n",
    "    for j in range(len(matrix[i])):\n",
    "        print(matrix[i][j],end=\" \")\n",
    "    "
   ]
  },
  {
   "cell_type": "code",
   "execution_count": 52,
   "id": "e6d79198-72e1-447a-8171-573ee2a578d2",
   "metadata": {},
   "outputs": [
    {
     "data": {
      "text/plain": [
       "True"
      ]
     },
     "execution_count": 52,
     "metadata": {},
     "output_type": "execute_result"
    }
   ],
   "source": [
    "def FindValue(matrix ,target):\n",
    "    for i in range(len(matrix)):\n",
    "        for j in range(len(matrix[i])):\n",
    "            if(matrix[i][j] == target):\n",
    "                return True\n",
    "    return False\n",
    "\n",
    "#Driver Code\n",
    "matrix = [[1, 3, 5, 7],\n",
    "          [10, 11, 16, 20],\n",
    "          [23, 30, 34, 60]]\n",
    "\n",
    "FindValue(matrix ,3)"
   ]
  },
  {
   "cell_type": "markdown",
   "id": "08ca484c-7620-4cc3-8952-61a17a775da5",
   "metadata": {},
   "source": [
    "#### `Problem 20: Find Median in Two Sorted Arrays`\n",
    "#### `Problem: Given two sorted arrays, find the median of the combined sorted array.`\n",
    "\n",
    "    Input: nums1 = [1, 3], nums2 = [2]\n",
    "    Output: 2.0"
   ]
  },
  {
   "cell_type": "code",
   "execution_count": 9,
   "id": "0696d420-098f-4ed7-bacc-bfa9b1e71d8a",
   "metadata": {},
   "outputs": [
    {
     "name": "stdout",
     "output_type": "stream",
     "text": [
      "2.0\n"
     ]
    }
   ],
   "source": [
    "def FindMedian(num1,num2):\n",
    "    num1.extend(num2)\n",
    "    sort =sorted(num1)\n",
    "    \n",
    "    sumCount = 0\n",
    "    for i in range(len(sort)):\n",
    "        sumCount =sumCount + sort[i]\n",
    "     \n",
    "    Median =sumCount /len(sort)\n",
    "    return Median\n",
    "num1 =[1,3]\n",
    "num2 =[2]\n",
    "print(FindMedian(num1,num2))"
   ]
  },
  {
   "cell_type": "markdown",
   "id": "3eedf53a-56b8-478c-9196-0104ca11887a",
   "metadata": {},
   "source": [
    "#### `Problem 21: Given a sorted character array and a target letter, find the smallest letter in the array that is greater than the target.`\n",
    "\n",
    "    Input: letters = ['c', 'f', 'j'], target = a\n",
    "    Output: 'c'"
   ]
  },
  {
   "cell_type": "code",
   "execution_count": 22,
   "id": "a0d77833-fd0c-4390-85ee-c6505552156b",
   "metadata": {},
   "outputs": [
    {
     "name": "stdout",
     "output_type": "stream",
     "text": [
      "c\n"
     ]
    }
   ],
   "source": [
    "def GreaterTraget(letters ,tyarget):\n",
    "    left = 0\n",
    "    right = len(letters)-1\n",
    "    \n",
    "    while(left <= right):\n",
    "        mid =(left + right)//2\n",
    "        if letters[mid] <= target :\n",
    "            left +=1\n",
    "            \n",
    "        else:\n",
    "            right =mid -1\n",
    "            \n",
    "    if left < len(letters) :\n",
    "        return letters[left]\n",
    "    else:\n",
    "        return letters[0]\n",
    "\n",
    "\n",
    "letters = ['c', 'f', 'j']\n",
    "target = \"a\"\n",
    "\n",
    "print(GreaterTraget(letters ,target))"
   ]
  },
  {
   "cell_type": "markdown",
   "id": "7a0b25e5-0742-475c-84c6-22e5bb60081b",
   "metadata": {},
   "source": [
    "#### Problem 22: `Given an array with n objects colored red, white, or blue, sort them in-place so that objects of the same color are adjacent, with the colors in the order red, white, and blue`\n",
    "\n",
    "    Input: nums = [2, 0, 2, 1, 1, 0]\n",
    "    Output: [0, 0, 1, 1, 2, 2]"
   ]
  },
  {
   "cell_type": "code",
   "execution_count": 12,
   "id": "233847e4-696d-4c8c-a698-e16afde1b852",
   "metadata": {},
   "outputs": [
    {
     "name": "stdout",
     "output_type": "stream",
     "text": [
      "[0, 0, 1, 1, 2, 2]\n"
     ]
    }
   ],
   "source": [
    "# [2, 0, 2, 1, 1, 0]\n",
    "def AdjaceentColour(arr):\n",
    "    l = 0\n",
    "    n =len(arr)\n",
    "    r = n - 1\n",
    " \n",
    "    i = 0\n",
    "    while i < n and i <= r:\n",
    "        # current element is 0\n",
    "        if arr[i] == 0:\n",
    "            arr[l], arr[i] = arr[i], arr[l]\n",
    "            l += 1\n",
    "            i += 1\n",
    "        # current element is 2\n",
    "        elif arr[i] == 2:\n",
    "            arr[i], arr[r] = arr[r], arr[i]\n",
    "            r -= 1\n",
    "        # current element is 1\n",
    "        else:\n",
    "            i += 1\n",
    "    return arr    \n",
    "arr =[2, 0, 2, 1, 1, 0]\n",
    "print(AdjaceentColour(arr))"
   ]
  },
  {
   "cell_type": "markdown",
   "id": "2da24f4e-8a07-463a-88d2-a7ea50221ec6",
   "metadata": {},
   "source": [
    "#### Problem 23: `Find the kth largest element in an unsorted array`\n",
    "\n",
    "    Input: nums = [3, 2, 1, 5, 6, 4], k = 2\n",
    "    Output: 5"
   ]
  },
  {
   "cell_type": "code",
   "execution_count": 39,
   "id": "6f90b012-9a75-46b1-bb5c-857d0afaf6ac",
   "metadata": {},
   "outputs": [
    {
     "data": {
      "text/plain": [
       "5"
      ]
     },
     "execution_count": 39,
     "metadata": {},
     "output_type": "execute_result"
    }
   ],
   "source": [
    "#Using bubble sort \n",
    "def BubbleSort(arr):\n",
    "    for i in range(len(arr)-1,0,-1):\n",
    "        for j in range(i):\n",
    "            if(arr[j] > arr[j+1]):\n",
    "                arr[j],arr[j+1] = arr[j+1],arr[j]\n",
    "\n",
    "def kth_largestElement(arr,k):\n",
    "    BubbleSort(arr)\n",
    "    n =len(arr)\n",
    "    k = n-k\n",
    "    return arr[k]\n",
    "\n",
    "kth_largestElement([3, 2, 1, 5, 6, 4],2)"
   ]
  },
  {
   "cell_type": "markdown",
   "id": "bacea711-b6e6-44ba-9b96-2ea119da6439",
   "metadata": {
    "tags": []
   },
   "source": [
    "#### Problem 24: `Given an unsorted array, reorder it in-place such that nums[0] <= nums[1] >= nums[2] <= nums[3]..`\n",
    "\n",
    "    Input: nums = [3, 5, 2, 1, 6, 4]\n",
    "    Output: [3, 5, 1, 6, 2, 4]"
   ]
  },
  {
   "cell_type": "code",
   "execution_count": 6,
   "id": "11bf63d0-0c82-40e9-90be-54b011311d91",
   "metadata": {},
   "outputs": [
    {
     "name": "stdout",
     "output_type": "stream",
     "text": [
      "[3, 5, 1, 6, 2, 4]\n"
     ]
    }
   ],
   "source": [
    "# [3, 5, 2, 1, 6, 4]\n",
    "def Waves(arr):\n",
    "    for i in range(0,len(arr)-1 ,2):\n",
    "        if(i>0 and arr[i]>arr[i-1]):\n",
    "            arr[i],arr[i-1] =arr[i-1],arr[i]\n",
    "            \n",
    "        if(i< len(arr)-1 and arr[i] > arr[i+1]):\n",
    "            arr[i],arr[i+1] =arr[i+1],arr[i]\n",
    "    return arr\n",
    "            \n",
    "arr =[3, 5, 2, 1, 6, 4]\n",
    "print(Waves(arr))"
   ]
  },
  {
   "cell_type": "code",
   "execution_count": 9,
   "id": "a89755f5-0def-43f7-bf67-dd01c65ccd12",
   "metadata": {},
   "outputs": [
    {
     "data": {
      "text/plain": [
       "[3, 5, 1, 6, 2, 4]"
      ]
     },
     "execution_count": 9,
     "metadata": {},
     "output_type": "execute_result"
    }
   ],
   "source": [
    "# [3, 5, 2, 1, 6, 4]\n",
    "def SineWave(arr):\n",
    "    i = 0\n",
    "    while(i < len(arr)-1):\n",
    "        if(i>0 and arr[i] > arr[i-1]):\n",
    "            arr[i],arr[i-1] =arr[i-1],arr[i]\n",
    "        elif(i< len(arr)-1 and arr[i] > arr[i+1]):\n",
    "            arr[i],arr[i+1] =arr[i+1],arr[i]\n",
    "        i +=2\n",
    "    return arr\n",
    "arr =[3, 5, 2, 1, 6, 4]\n",
    "SineWave(arr)"
   ]
  },
  {
   "cell_type": "markdown",
   "id": "927697f6-ee4b-4c7d-831a-a45a689100c4",
   "metadata": {},
   "source": [
    "#### Problem 25: `Given an array of integers, calculate the sum of all its elements.`\n",
    "\n",
    "    Input: [1, 2, 3, 4, 5]\n",
    "    Output: 15"
   ]
  },
  {
   "cell_type": "code",
   "execution_count": 40,
   "id": "fabb0681-0973-48a1-9748-030878352e6e",
   "metadata": {},
   "outputs": [
    {
     "data": {
      "text/plain": [
       "15"
      ]
     },
     "execution_count": 40,
     "metadata": {},
     "output_type": "execute_result"
    }
   ],
   "source": [
    "def SumofArray(arr):\n",
    "    SumOfEle = 0\n",
    "    for i in range(len(arr)):\n",
    "        SumOfEle =SumOfEle +arr[i]\n",
    "    return SumOfEle\n",
    "arr =[1, 2, 3, 4, 5]\n",
    "SumofArray(arr)"
   ]
  },
  {
   "cell_type": "markdown",
   "id": "5f458cf7-77f4-4dd6-b5fa-0327fd69613c",
   "metadata": {},
   "source": [
    "#### Problem 26: `Find the maximum element in an array of integers`\n",
    "\n",
    "    Input: [3, 7, 2, 9, 4, 1]\n",
    "    Output: 9"
   ]
  },
  {
   "cell_type": "code",
   "execution_count": 43,
   "id": "9023a886-d58e-4591-b2f7-5188524480e3",
   "metadata": {},
   "outputs": [
    {
     "data": {
      "text/plain": [
       "9"
      ]
     },
     "execution_count": 43,
     "metadata": {},
     "output_type": "execute_result"
    }
   ],
   "source": [
    "# [3, 7, 2, 9, 4, 1]\n",
    "def Maximum(arr):\n",
    "    maxEle = arr[0]\n",
    "    for i in range(1,len(arr)):\n",
    "        if(arr[i] > maxEle):\n",
    "            maxEle =arr[i]\n",
    "    return maxEle\n",
    "        \n",
    "arr =[3, 7, 2, 9, 4, 1]\n",
    "Maximum(arr)"
   ]
  },
  {
   "cell_type": "markdown",
   "id": "fd3b3bde-68f1-4577-8702-7b34590974b5",
   "metadata": {},
   "source": [
    "#### Problem 27: `Implement linear search to find the index of a target element in an array.`\n",
    "\n",
    "    Input: [5, 3, 8, 2, 7, 4], target = 8\n",
    "    Output: 2"
   ]
  },
  {
   "cell_type": "code",
   "execution_count": 44,
   "id": "d2fd8ac8-42ce-493e-ac02-c3aafb993c23",
   "metadata": {},
   "outputs": [
    {
     "data": {
      "text/plain": [
       "2"
      ]
     },
     "execution_count": 44,
     "metadata": {},
     "output_type": "execute_result"
    }
   ],
   "source": [
    "def LinearSearch(arr,target):\n",
    "    for i in range(len(arr)):\n",
    "        if(arr[i] == target):\n",
    "            return i\n",
    "    return -1\n",
    "arr =[5, 3, 8, 2, 7, 4]\n",
    "LinearSearch(arr,8)"
   ]
  },
  {
   "cell_type": "markdown",
   "id": "42a52d8e-ed07-462c-accf-263daaf7d036",
   "metadata": {},
   "source": [
    "#### `Problem 28 Calculate the factorial of a given number`\n",
    "\n",
    "    Input: 5\n",
    "\n",
    "    Output: 120 (as 5! = 5 * 4 * 3 * 2 * 1 = 120\n"
   ]
  },
  {
   "cell_type": "code",
   "execution_count": 59,
   "id": "a4172f05-00b7-4f83-8af1-b1c5518faf86",
   "metadata": {},
   "outputs": [
    {
     "data": {
      "text/plain": [
       "2"
      ]
     },
     "execution_count": 59,
     "metadata": {},
     "output_type": "execute_result"
    }
   ],
   "source": [
    "def Facts(n):\n",
    "    #Base Case Condition\n",
    "    if(n <= 0):\n",
    "        return 1\n",
    "    return (n*Facts(n-1))\n",
    "    \n",
    "Facts(2)"
   ]
  },
  {
   "cell_type": "markdown",
   "id": "1cdd79b5-a285-4917-a389-fa19860c769f",
   "metadata": {},
   "source": [
    "#### Problem 29: `Check if a given number is a prime number`\n",
    "\n",
    "    Input: 7\n",
    "    Output: True\n"
   ]
  },
  {
   "cell_type": "code",
   "execution_count": 76,
   "id": "831fd56c-52f1-49ec-9b2e-5f9eae590379",
   "metadata": {},
   "outputs": [
    {
     "data": {
      "text/plain": [
       "True"
      ]
     },
     "execution_count": 76,
     "metadata": {},
     "output_type": "execute_result"
    }
   ],
   "source": [
    "def PrimeNum(num):\n",
    "    if(num == 1):\n",
    "        return \n",
    "    elif(num > 1):\n",
    "        flag= None\n",
    "        for i in range(2,num):\n",
    "            if(num % i == 0):\n",
    "                return True\n",
    "                break\n",
    "    return -1\n",
    "\n",
    "PrimeNum(30)"
   ]
  },
  {
   "cell_type": "markdown",
   "id": "5af8445a-9979-4653-b4bf-254d7fef0bac",
   "metadata": {},
   "source": [
    "#### Problem 30: `Generate the Fibonacci series up to a given number n.`\n",
    "\n",
    "    Input: 8\n",
    "    Output: [0, 1, 1, 2, 3, 5, 8, 13]"
   ]
  },
  {
   "cell_type": "code",
   "execution_count": 88,
   "id": "ca6ef1f9-fea4-4b55-a3d3-801492d5b0fc",
   "metadata": {},
   "outputs": [
    {
     "name": "stdout",
     "output_type": "stream",
     "text": [
      "0\n",
      "1\n",
      "1\n",
      "2\n",
      "3\n",
      "5\n",
      "8\n",
      "13\n"
     ]
    }
   ],
   "source": [
    "def fibonacci_series(n):\n",
    "    prev,Next = 0,1\n",
    "    print(prev)\n",
    "    print(Next)\n",
    "    \n",
    "    for i in range(0,n-2):\n",
    "        res = prev + Next\n",
    "        print(res)\n",
    "        prev = Next\n",
    "        Next =res      \n",
    "fibonacci_series(8)          "
   ]
  },
  {
   "cell_type": "markdown",
   "id": "3cec2a4f-6e15-4a9b-bedf-d2545c5c9cd1",
   "metadata": {},
   "source": [
    "`OR using Recursion`"
   ]
  },
  {
   "cell_type": "code",
   "execution_count": 106,
   "id": "a0e72848-ccb3-493e-9e9c-0dff3c480c7f",
   "metadata": {},
   "outputs": [
    {
     "name": "stdout",
     "output_type": "stream",
     "text": [
      "0\n",
      "1\n",
      "1\n",
      "2\n",
      "3\n",
      "5\n",
      "8\n",
      "13\n"
     ]
    }
   ],
   "source": [
    "def Fibonaci_series(n):\n",
    "    if(n <= 0):\n",
    "        return \n",
    "    elif(n==1 or n==2):\n",
    "        return\n",
    "    else:\n",
    "        return fibonacci_series(n-1) + fibonacci_series(n-1)\n",
    "    \n",
    "fibonacci_series(8)"
   ]
  },
  {
   "cell_type": "markdown",
   "id": "4fc4dbe6-3623-4b49-9b94-567df9be08c1",
   "metadata": {},
   "source": [
    "#### Problem 31: Calculate the power of a number using recursion.\n",
    "\n",
    "    Input: base = 3, exponent = 4\n",
    "    Output: 81 (as 3^4 = 3 * 3 * 3 * 3 = 81)"
   ]
  },
  {
   "cell_type": "code",
   "execution_count": 119,
   "id": "ccc72d11-8bdf-4e19-b781-25cd4a5be6cc",
   "metadata": {},
   "outputs": [
    {
     "data": {
      "text/plain": [
       "81"
      ]
     },
     "execution_count": 119,
     "metadata": {},
     "output_type": "execute_result"
    }
   ],
   "source": [
    "def PowerNum(base ,exp):\n",
    "    if(exp == 0):\n",
    "        return 1\n",
    "    elif(exp == 1):\n",
    "        return base\n",
    "    else :\n",
    "        return base *PowerNum(base,exp-1)\n",
    "    \n",
    "PowerNum(3,4)"
   ]
  },
  {
   "cell_type": "markdown",
   "id": "17434393-268c-4acc-90d5-b0e364dafef6",
   "metadata": {},
   "source": [
    "#### Problem 32: `Reverse a given string.`\n",
    "\n",
    "    Input: \"hello\"\n",
    "    Output: \"olleh\""
   ]
  },
  {
   "cell_type": "code",
   "execution_count": 121,
   "id": "a2d74f40-f3d1-4d6f-8c69-e621f5e57e2e",
   "metadata": {},
   "outputs": [
    {
     "name": "stdout",
     "output_type": "stream",
     "text": [
      "olleh"
     ]
    }
   ],
   "source": [
    "# Input = \"hello\"\n",
    "def Reverse(string):\n",
    "    for i in string[::-1]:\n",
    "        print(i ,end=\"\")\n",
    "        \n",
    "        \n",
    "Input = \"hello\"        \n",
    "Reverse(Input)"
   ]
  },
  {
   "cell_type": "code",
   "execution_count": null,
   "id": "efa88b75-3126-4294-b367-591f86eb1e0f",
   "metadata": {},
   "outputs": [],
   "source": []
  },
  {
   "cell_type": "code",
   "execution_count": null,
   "id": "cee66284-0cc4-4110-8222-40c330a8b5be",
   "metadata": {},
   "outputs": [],
   "source": []
  }
 ],
 "metadata": {
  "kernelspec": {
   "display_name": "Python 3 (ipykernel)",
   "language": "python",
   "name": "python3"
  },
  "language_info": {
   "codemirror_mode": {
    "name": "ipython",
    "version": 3
   },
   "file_extension": ".py",
   "mimetype": "text/x-python",
   "name": "python",
   "nbconvert_exporter": "python",
   "pygments_lexer": "ipython3",
   "version": "3.10.8"
  }
 },
 "nbformat": 4,
 "nbformat_minor": 5
}
