{
 "cells": [
  {
   "cell_type": "markdown",
   "id": "4f63dfc1-1a38-423d-8f3b-0f073d4d7593",
   "metadata": {},
   "source": [
    "## `Basic If-Else Statements:`"
   ]
  },
  {
   "cell_type": "markdown",
   "id": "208d1716-a73d-4811-8507-f13065a15762",
   "metadata": {},
   "source": [
    "1. Write a Python program to check if a given number is positive or negative."
   ]
  },
  {
   "cell_type": "code",
   "execution_count": 10,
   "id": "657430b9-be49-46e9-88c3-b9b8630f514e",
   "metadata": {},
   "outputs": [
    {
     "name": "stdin",
     "output_type": "stream",
     "text": [
      "Enter the number:  5\n"
     ]
    },
    {
     "name": "stdout",
     "output_type": "stream",
     "text": [
      "Number is positive..\n"
     ]
    }
   ],
   "source": [
    "num =int(input(\"Enter the number: \"))\n",
    "if (num > 0):\n",
    "    print(\"Number is positive..\")\n",
    "else:\n",
    "    print(\"Number is negative..\")"
   ]
  },
  {
   "cell_type": "markdown",
   "id": "4aa78273-fc65-40d2-b1ca-5768f6c5e30a",
   "metadata": {},
   "source": [
    "2. Create a program that determines if a person is eligible to vote based on their age."
   ]
  },
  {
   "cell_type": "code",
   "execution_count": 12,
   "id": "aa219511-c75c-42cc-be7a-7b73eb25052b",
   "metadata": {},
   "outputs": [
    {
     "name": "stdin",
     "output_type": "stream",
     "text": [
      "Enter the age : 18\n"
     ]
    },
    {
     "name": "stdout",
     "output_type": "stream",
     "text": [
      "Person is eligible to vote\n"
     ]
    }
   ],
   "source": [
    "Age =int(input(\"Enter the age :\"))\n",
    "if Age >=18:\n",
    "    print(\"Person is eligible to vote\")\n",
    "else:\n",
    "    print(\"person is not eligible to vote\")"
   ]
  },
  {
   "cell_type": "markdown",
   "id": "8eef72f3-0ea3-47de-b99c-22ce89c99691",
   "metadata": {},
   "source": [
    "3. Develop a program to find the maximum of two numbers using if-else statements."
   ]
  },
  {
   "cell_type": "code",
   "execution_count": 14,
   "id": "d48317bf-8f2e-40c8-b597-5ff52964a68b",
   "metadata": {},
   "outputs": [
    {
     "name": "stdin",
     "output_type": "stream",
     "text": [
      "Enter the first number : 20\n",
      "Enter the second number : 100\n"
     ]
    },
    {
     "name": "stdout",
     "output_type": "stream",
     "text": [
      "second number is greater than first number\n"
     ]
    }
   ],
   "source": [
    "first_num =int(input(\"Enter the first number :\"))\n",
    "second_num =int(input(\"Enter the second number :\"))\n",
    "if first_num > second_num:\n",
    "    print(\"First number is greater than second number\")\n",
    "else:\n",
    "    print(\"second number is greater than first number\")"
   ]
  },
  {
   "cell_type": "markdown",
   "id": "d90d7647-31d4-48f2-a3d7-73c8c98f89c0",
   "metadata": {},
   "source": [
    "4. Write a Python script to classify a given year as a leap year or not."
   ]
  },
  {
   "cell_type": "code",
   "execution_count": 5,
   "id": "ab39e6f0-2e88-4a34-bd0c-ce31bfa8e61c",
   "metadata": {},
   "outputs": [
    {
     "name": "stdin",
     "output_type": "stream",
     "text": [
      "Enter the year to be check >> 2017\n"
     ]
    },
    {
     "name": "stdout",
     "output_type": "stream",
     "text": [
      "these is not leap year\n"
     ]
    }
   ],
   "source": [
    "year =int(input(\"Enter the year to be check >>\"))\n",
    "\n",
    "if (year%4 ==0 and year%100 !=0 and year%400 ==0):\n",
    "    print(\"these is leap year \")\n",
    "else:\n",
    "    print(\"these is not leap year\")"
   ]
  },
  {
   "cell_type": "markdown",
   "id": "4624c263-8b39-4ee3-b180-99914917fdf8",
   "metadata": {},
   "source": [
    "5. Create a program that checks whether a character is a vowel or a consonant."
   ]
  },
  {
   "cell_type": "code",
   "execution_count": 14,
   "id": "7d988bb7-b00f-4a3b-921c-7ac6c11c9f1d",
   "metadata": {},
   "outputs": [
    {
     "name": "stdin",
     "output_type": "stream",
     "text": [
      "enter the character  u\n"
     ]
    },
    {
     "name": "stdout",
     "output_type": "stream",
     "text": [
      "Charcter is vowels\n"
     ]
    }
   ],
   "source": [
    "is_check =input(\"enter the character \")\n",
    "vowels =\"AaEeIiOoUu\"\n",
    "if is_check in vowels:\n",
    "    print(\"Charcter is vowels\")\n",
    "else:\n",
    "    print(\"Character is consanant\")"
   ]
  },
  {
   "cell_type": "markdown",
   "id": "679c0e7a-a637-4232-9751-3ae7754286ea",
   "metadata": {},
   "source": [
    "6. Implement a program to determine whether a given number is even or odd."
   ]
  },
  {
   "cell_type": "code",
   "execution_count": 19,
   "id": "cacd9dd3-26b4-4874-86b4-9537172688fe",
   "metadata": {},
   "outputs": [
    {
     "name": "stdin",
     "output_type": "stream",
     "text": [
      "Enter the number>>> 56\n"
     ]
    },
    {
     "name": "stdout",
     "output_type": "stream",
     "text": [
      "the number is even\n"
     ]
    }
   ],
   "source": [
    "num =int(input(\"Enter the number>>>\"))\n",
    "if num >0:\n",
    "    if num%2 ==0:\n",
    "        print(\"the number is even\")\n",
    "    else:\n",
    "        print('number is odd')"
   ]
  },
  {
   "cell_type": "markdown",
   "id": "658f075e-750e-4ff8-aecc-9b09800daa45",
   "metadata": {},
   "source": [
    "7. Write a Python function to calculate the absolute value of a number without using the `abs()` function."
   ]
  },
  {
   "cell_type": "code",
   "execution_count": 26,
   "id": "bc7470a8-e35b-4305-b698-9f88c838b57d",
   "metadata": {},
   "outputs": [
    {
     "name": "stdin",
     "output_type": "stream",
     "text": [
      "Enter the number -100\n"
     ]
    },
    {
     "name": "stdout",
     "output_type": "stream",
     "text": [
      "it is not absolute value\n"
     ]
    }
   ],
   "source": [
    "user =int(input(\"Enter the number\"))\n",
    "if user ==abs(user):\n",
    "    print('it is a absolute value')\n",
    "else:\n",
    "    print('it is not absolute value')"
   ]
  },
  {
   "cell_type": "markdown",
   "id": "5b0585cb-8a10-40b3-b728-8b19273265a9",
   "metadata": {},
   "source": [
    "8. Develop a program that determines the largest of three given numbers using if-else statements."
   ]
  },
  {
   "cell_type": "code",
   "execution_count": 37,
   "id": "b967f515-3f96-4837-ad80-d37350111571",
   "metadata": {},
   "outputs": [
    {
     "name": "stdin",
     "output_type": "stream",
     "text": [
      "Enter value -17787\n",
      "Enter value 355\n",
      "Enter value 55\n"
     ]
    },
    {
     "name": "stdout",
     "output_type": "stream",
     "text": [
      "for loop execution completed\n",
      "values from list : [-17787, 355, 55]\n",
      "Greater number is :355\n"
     ]
    }
   ],
   "source": [
    "# Create a list of 3 number taken entry from user\n",
    "user_range =3\n",
    "l0 =[]\n",
    "for i in range(user_range):\n",
    "    user_input =int(input(\"Enter value\"))\n",
    "    l0.append(user_input)\n",
    "else:\n",
    "    print('for loop execution completed')\n",
    "    print('values from list :',l0)\n",
    "    \n",
    "# check the gerater no from list   \n",
    "if l0[0] >l0[1] and l0[0] > l0[2]:\n",
    "    print(f\"Greater number is :{l0[0]}\")\n",
    "elif l0[1] >l0[0] and l0[1] > l0[2]:\n",
    "    print(f\"Greater number is :{l0[1]}\")\n",
    "elif l0[2] >l0[0] and l0[2] > l0[1]:\n",
    "    print(f\"Greater number is :{l0[2]}\")\n",
    "else:\n",
    "    print(\"Nothing is grater Or invalid entry\")   "
   ]
  },
  {
   "cell_type": "markdown",
   "id": "3a144270-b577-4f9f-90f3-b1f2b81c1509",
   "metadata": {},
   "source": [
    "9. Create a program that checks if a given string is a palindrome."
   ]
  },
  {
   "cell_type": "code",
   "execution_count": 12,
   "id": "d667f2cb-90f7-4507-850e-b1348b913e1a",
   "metadata": {},
   "outputs": [
    {
     "name": "stdin",
     "output_type": "stream",
     "text": [
      "Enter the input : malayalam\n"
     ]
    },
    {
     "name": "stdout",
     "output_type": "stream",
     "text": [
      "Palindrome string is : malayalam\n",
      "====================================\n",
      "User string is palindrome\n"
     ]
    }
   ],
   "source": [
    "take =input(\"Enter the input :\")\n",
    "is_palindrome =take[::-1]\n",
    "print(\"Palindrome string is :\",is_palindrome)\n",
    "print(\"====================================\")\n",
    "\n",
    "if take == is_palindrome:\n",
    "    print(\"User string is palindrome\")\n",
    "else:\n",
    "    print(\"User string is not palindrome\")"
   ]
  },
  {
   "cell_type": "markdown",
   "id": "8c3f7e38-579e-4dbe-a70a-f6d78fdcbd01",
   "metadata": {},
   "source": [
    "## `Nested If-Else Statements:`"
   ]
  },
  {
   "cell_type": "markdown",
   "id": "27d042c2-73af-416a-a4e7-5daafcbf9bb0",
   "metadata": {},
   "source": [
    "11. Write a program to find the largest among three numbers using nested if-else statements."
   ]
  },
  {
   "cell_type": "code",
   "execution_count": 16,
   "id": "fb64add8-b53a-41d1-9e89-b2f9aafe13ac",
   "metadata": {},
   "outputs": [
    {
     "name": "stdin",
     "output_type": "stream",
     "text": [
      "Enter the values : 54\n",
      "Enter the values : 65\n",
      "Enter the values : 989\n"
     ]
    },
    {
     "name": "stdout",
     "output_type": "stream",
     "text": [
      "for loop execution completed\n",
      "List of numbers are : [54, 65, 989]\n",
      "989 : is greater number\n"
     ]
    }
   ],
   "source": [
    "user_rng =3\n",
    "l1 =[]\n",
    "for i in range(user_rng):\n",
    "    user_IP =int(input(\"Enter the values :\"))\n",
    "    l1.append(user_IP)\n",
    "else:\n",
    "    print('for loop execution completed')\n",
    "    print('List of numbers are :',l1)\n",
    "    \n",
    "if l1[0] > l1[1]:\n",
    "    if l1[0] > l1[2]:\n",
    "        print(f\"{l1[0]} : is greater number\")\n",
    "    else:\n",
    "        print(f\"{l1[2]} : is greater number\")\n",
    "else:\n",
    "    if l1[1] > l1[2]:\n",
    "        print(f\"{l1[1]} : is greater number\")\n",
    "    else:\n",
    "        print(f\"{l1[2]} : is greater number\")"
   ]
  },
  {
   "cell_type": "markdown",
   "id": "16278c24-636a-45e3-8496-1dce6f924d79",
   "metadata": {},
   "source": [
    "12. Implement a program to determine if a triangle is equilateral, isosceles, or scalene."
   ]
  },
  {
   "cell_type": "code",
   "execution_count": 22,
   "id": "1a7fbb43-bf52-477a-afed-44d97f13c0e8",
   "metadata": {},
   "outputs": [
    {
     "name": "stdin",
     "output_type": "stream",
     "text": [
      "Enter the value : 5\n",
      "Enter the value : 5\n",
      "Enter the value : 5\n"
     ]
    },
    {
     "name": "stdout",
     "output_type": "stream",
     "text": [
      "Triangle is equilateral\n"
     ]
    }
   ],
   "source": [
    "# Take 3 input from user \n",
    "X= int(input('Enter the value :'))\n",
    "Y= int(input('Enter the value :'))\n",
    "Z= int(input('Enter the value :'))\n",
    "# Check Condition\n",
    "if X ==Y==Z:\n",
    "    print('Triangle is equilateral')\n",
    "elif X==Y or Y==Z or Z==X:\n",
    "    print('Triangle is Isosceles')\n",
    "else:\n",
    "    print('Triangle is scalene')"
   ]
  },
  {
   "cell_type": "markdown",
   "id": "a8709114-d796-46c2-be62-12f4194ccb25",
   "metadata": {},
   "source": [
    "13. Develop a program that checks if a year is a leap year and also if it is a century year."
   ]
  },
  {
   "cell_type": "code",
   "execution_count": 32,
   "id": "6ecbca8d-0df6-43ff-88a6-b8b3898b7826",
   "metadata": {},
   "outputs": [
    {
     "name": "stdin",
     "output_type": "stream",
     "text": [
      "Enter a year:  2023\n"
     ]
    },
    {
     "name": "stdout",
     "output_type": "stream",
     "text": [
      "2023 is not a leap year.\n",
      "2023 is not a century year.\n"
     ]
    }
   ],
   "source": [
    "# Input year from the user\n",
    "year = int(input(\"Enter a year: \"))\n",
    "\n",
    "if (year % 4 == 0 and year % 100 != 0) or (year % 400 == 0):\n",
    "    print(f\"{year} is a leap year.\")\n",
    "else:\n",
    "    print(f\"{year} is not a leap year.\")\n",
    "if year % 100 == 0:\n",
    "        print(f\"{year} is a century year.\")\n",
    "else:\n",
    "    print(f\"{year} is not a century year.\")"
   ]
  },
  {
   "cell_type": "markdown",
   "id": "2797b31a-0713-4763-9b39-062096803738",
   "metadata": {},
   "source": [
    "4. Write a Python script to determine if a number is positive, negative, or zero."
   ]
  },
  {
   "cell_type": "code",
   "execution_count": 62,
   "id": "49975f5c-2300-4881-acc7-0c2e4be3f788",
   "metadata": {},
   "outputs": [
    {
     "name": "stdin",
     "output_type": "stream",
     "text": [
      "Enter a number:  1\n"
     ]
    },
    {
     "name": "stdout",
     "output_type": "stream",
     "text": [
      "Positive number\n"
     ]
    }
   ],
   "source": [
    "num = float(input(\"Enter a number: \"))\n",
    "if num >= 0:\n",
    "    if num == 0:\n",
    "        print(\"Zero\")\n",
    "    else:\n",
    "        print(\"Positive number\")\n",
    "else:\n",
    "    print(\"Negative number\")"
   ]
  },
  {
   "cell_type": "markdown",
   "id": "cd890192-5c82-4bb5-b7b7-b6877c714bf7",
   "metadata": {},
   "source": [
    "OR"
   ]
  },
  {
   "cell_type": "code",
   "execution_count": 41,
   "id": "4cdce47b-7724-4dd2-8ef6-73caf9b578fe",
   "metadata": {},
   "outputs": [
    {
     "name": "stdin",
     "output_type": "stream",
     "text": [
      "Enter the number for checking : -10\n"
     ]
    },
    {
     "name": "stdout",
     "output_type": "stream",
     "text": [
      "it is negative number\n"
     ]
    }
   ],
   "source": [
    "number =int(input(\"Enter the number for checking :\"))\n",
    "\n",
    "if number > 0:\n",
    "    print(\"it is positive number\")\n",
    "elif number < 0:\n",
    "    print(\"it is negative number\")\n",
    "elif number == 0:\n",
    "    print(\"its is zero\")\n",
    "else:\n",
    "    print(\"Invalid string\")"
   ]
  },
  {
   "cell_type": "markdown",
   "id": "f0f35088-b9f3-44b3-957d-19fe425a5857",
   "metadata": {},
   "source": [
    "5. Create a program to check if a person is a teenager (between 13 and 19 years old)."
   ]
  },
  {
   "cell_type": "code",
   "execution_count": 93,
   "id": "8dd31522-83ea-4e3a-890f-69eafd808c9f",
   "metadata": {},
   "outputs": [
    {
     "name": "stdin",
     "output_type": "stream",
     "text": [
      "Enter the age input : 20\n"
     ]
    },
    {
     "name": "stdout",
     "output_type": "stream",
     "text": [
      "person is Adult\n"
     ]
    }
   ],
   "source": [
    "Age =int(input(\"Enter the age input :\"))\n",
    "if Age >= 13:\n",
    "    if Age <=19 and Age>=13:\n",
    "        print(\"Person is Teenager\")\n",
    "    else:\n",
    "        print(\"person is Adult\")\n",
    "else:\n",
    "    print(\"person is child\")"
   ]
  },
  {
   "cell_type": "markdown",
   "id": "5acd81d8-5ab0-416f-a2ee-cc05d9a33129",
   "metadata": {},
   "source": [
    "16. Develop a program that determines the type of angle based on its measure (acute, obtuse, or right)."
   ]
  },
  {
   "cell_type": "code",
   "execution_count": 97,
   "id": "fb7343b1-124a-4d2d-9894-aadf40aeae06",
   "metadata": {},
   "outputs": [
    {
     "name": "stdin",
     "output_type": "stream",
     "text": [
      "Enter the angle : 89\n"
     ]
    },
    {
     "name": "stdout",
     "output_type": "stream",
     "text": [
      "It is actute angle\n"
     ]
    }
   ],
   "source": [
    "angle =int(input(\"Enter the angle :\"))\n",
    "if angle >=90:\n",
    "    if angle >90 and angle <=180:\n",
    "        print(\"It is obtuse angle\")\n",
    "    else:\n",
    "        print(\"it is right angle\")\n",
    "else:\n",
    "    print('It is actute angle')"
   ]
  },
  {
   "cell_type": "markdown",
   "id": "e8de552e-16db-412e-ba86-4aa44651a064",
   "metadata": {},
   "source": [
    "17. Write a Python program to calculate the roots of a quadratic equation."
   ]
  },
  {
   "cell_type": "code",
   "execution_count": 103,
   "id": "c8643e31-d0e3-4cd6-9f94-bcc7bd75a13a",
   "metadata": {},
   "outputs": [
    {
     "name": "stdin",
     "output_type": "stream",
     "text": [
      "Enter the value of a:  8\n",
      "Enter the value of b:  5\n",
      "Enter the value of c:  2\n"
     ]
    },
    {
     "name": "stdout",
     "output_type": "stream",
     "text": [
      "The roots are imaginary. \n"
     ]
    }
   ],
   "source": [
    "# Quadratic Equation\n",
    "a = float(input('Enter the value of a: '))  \n",
    "b = float(input('Enter the value of b: '))  \n",
    "c = float(input('Enter the value of c: '))  \n",
    "  \n",
    "# calculate the discriminant  \n",
    "d = (b**2) - (4*a*c)  \n",
    "d1=d**0.5\n",
    "if(d<0):\n",
    "    print(\"The roots are imaginary. \")\n",
    "else:\n",
    "    r1=(-b+d1)/2*a\n",
    "    r2=(-b-d1)/2*a\n",
    "    print(\"The first root: \",round(r1,2))\n",
    "    print(\"The second root: \",round(r2,2))"
   ]
  },
  {
   "cell_type": "markdown",
   "id": "623cb14b-6209-416a-b034-4044bf0057db",
   "metadata": {},
   "source": [
    "18. Implement a program to determine the day of the week based on a user-provided number (1 for Monday, 2 for Tuesday, etc.).\n"
   ]
  },
  {
   "cell_type": "code",
   "execution_count": 88,
   "id": "5c1e3462-758d-43ac-b93e-411ee422ba81",
   "metadata": {},
   "outputs": [
    {
     "name": "stdin",
     "output_type": "stream",
     "text": [
      "Enter the day (1-7) : 1\n"
     ]
    },
    {
     "name": "stdout",
     "output_type": "stream",
     "text": [
      "Monday\n"
     ]
    }
   ],
   "source": [
    "day_entry =int(input(\"Enter the day (1-7) :\"))\n",
    "# 1.Monday\n",
    "# 2.tuesday\n",
    "# 3.wednesday\n",
    "# 4.thursday\n",
    "# 5.friday\n",
    "# 6.satuarday\n",
    "# 7.sunday\n",
    "if day_entry <=7:\n",
    "    if day_entry <=6:\n",
    "        if day_entry <=5:\n",
    "            if day_entry <=4:\n",
    "                if day_entry <=3:\n",
    "                    if day_entry <=2:\n",
    "                        if day_entry ==1:\n",
    "                            print(\"Monday\")\n",
    "                        else:\n",
    "                            print(\"Tuesday\")\n",
    "                    else:\n",
    "                        print(\"Wednesday\")\n",
    "                else:\n",
    "                    print(\"Thursday\")\n",
    "            else:\n",
    "                print(\"Friday\")\n",
    "        else:\n",
    "            print(\"Satuarday\")\n",
    "    else:\n",
    "        print(\"Sunday\")\n",
    "else:\n",
    "    print(\"Invalid Entry\")  "
   ]
  },
  {
   "cell_type": "markdown",
   "id": "4765526b-261e-4305-bdc3-dfd02667ca42",
   "metadata": {},
   "source": [
    "19. Create a program that determines if a year is a leap year and also if it is evenly divisible by 400."
   ]
  },
  {
   "cell_type": "code",
   "execution_count": 2,
   "id": "488d3899-21ce-4d27-946c-11b71b91d71e",
   "metadata": {},
   "outputs": [
    {
     "name": "stdin",
     "output_type": "stream",
     "text": [
      "Enter a year:  2013\n"
     ]
    },
    {
     "name": "stdout",
     "output_type": "stream",
     "text": [
      "2013 is not a leap year or not evenly divisible by 400.\n"
     ]
    }
   ],
   "source": [
    "year = int(input(\"Enter a year: \"))\n",
    "\n",
    "if (year % 4 == 0 and year % 100 != 0) or (year % 400 == 0):\n",
    "    print(f\"{year} is a leap year and evenly divisible by 400.\")\n",
    "else:\n",
    "    print(f\"{year} is not a leap year or not evenly divisible by 400.\")"
   ]
  },
  {
   "cell_type": "markdown",
   "id": "e35a451c-c135-4d1e-a675-bfa81e38804d",
   "metadata": {},
   "source": [
    "20. Develop a program that checks if a given number is prime or not using nested if-else statements."
   ]
  },
  {
   "cell_type": "code",
   "execution_count": 16,
   "id": "e40e7289-1e59-4d9a-b061-8d52e68c4dbd",
   "metadata": {},
   "outputs": [
    {
     "name": "stdin",
     "output_type": "stream",
     "text": [
      "Enter a number:  786\n"
     ]
    },
    {
     "name": "stdout",
     "output_type": "stream",
     "text": [
      "786 is not a prime number\n",
      "2 times 393 is 786\n"
     ]
    }
   ],
   "source": [
    "# num = 407\n",
    "\n",
    "# To take input from the user\n",
    "num = int(input(\"Enter a number: \"))\n",
    "\n",
    "if num == 1:\n",
    "    print(num, \"is not a prime number\")\n",
    "elif num > 1:\n",
    "    for i in range(2,num):\n",
    "        if (num % i) == 0:\n",
    "            print(num,\"is not a prime number\")\n",
    "            print(i,\"times\",num//i,\"is\",num)\n",
    "            break\n",
    "    else:\n",
    "        print(num,\"is a prime number\")\n",
    "       \n",
    "# if input number is less than\n",
    "# or equal to 1, it is not prime\n",
    "else:\n",
    "    print(num,\"is not a prime number\")"
   ]
  },
  {
   "cell_type": "markdown",
   "id": "2c94df4f-27cb-436d-8f1c-17892605443c",
   "metadata": {},
   "source": [
    "## `Elif Statements:`"
   ]
  },
  {
   "cell_type": "markdown",
   "id": "33f085e6-eebb-4f49-abb0-8ce4a3952a96",
   "metadata": {},
   "source": [
    "21. Write a Python program to assign grades based on different ranges of scores using elif statements."
   ]
  },
  {
   "cell_type": "code",
   "execution_count": 26,
   "id": "2bf6ab09-89bf-4e87-9692-ea8494591d45",
   "metadata": {},
   "outputs": [
    {
     "name": "stdin",
     "output_type": "stream",
     "text": [
      "Enter the marks >>> 35\n"
     ]
    },
    {
     "name": "stdout",
     "output_type": "stream",
     "text": [
      "Student will fail in exam\n"
     ]
    }
   ],
   "source": [
    "marks =int(input(\"Enter the marks >>>\"))\n",
    "if marks > 89:\n",
    "    print(\"Student will get 5* \")\n",
    "elif marks >74 and marks < 90:\n",
    "    print(\"Student will get 4* \")\n",
    "elif marks >59 and marks <75:\n",
    "    print(\"Student will get 3* \")\n",
    "elif marks >39 and marks < 60:\n",
    "    print(\"Student will get 2* \")\n",
    "else:\n",
    "    print(\"Student will fail in exam\")  "
   ]
  },
  {
   "cell_type": "markdown",
   "id": "520a2629-b8f6-4b13-b185-9c97e07b51de",
   "metadata": {},
   "source": [
    "22. Implement a program to determine the type of a triangle based on its angles."
   ]
  },
  {
   "cell_type": "code",
   "execution_count": 32,
   "id": "21380040-f707-442d-a49b-be9dec26ebc4",
   "metadata": {},
   "outputs": [
    {
     "name": "stdin",
     "output_type": "stream",
     "text": [
      "Enter the input from user : 90\n"
     ]
    },
    {
     "name": "stdout",
     "output_type": "stream",
     "text": [
      "Triangle is right angle traingle\n"
     ]
    }
   ],
   "source": [
    "angle_input =int(input(\"Enter the input from user :\"))\n",
    "if angle_input < 90:\n",
    "    print(\"Traingle is Actute angle\")\n",
    "elif angle_input == 90:\n",
    "    print(\"Triangle is right angle traingle\")\n",
    "elif angle_input > 90 and angle_input <= 180:\n",
    "    print(\"Traingle is Obtuse angle\")\n",
    "else:\n",
    "    print(\"Invalid\")"
   ]
  },
  {
   "cell_type": "markdown",
   "id": "1c3d2506-96a8-4b9c-82d9-212cab441577",
   "metadata": {},
   "source": [
    "23. Develop a program to categorize a given person's BMI into underweight, normal, overweight, or obese using elif statements.\n"
   ]
  },
  {
   "cell_type": "code",
   "execution_count": 44,
   "id": "87d6774b-1cb3-4ce9-99a8-1b60b3abac6f",
   "metadata": {},
   "outputs": [
    {
     "name": "stdin",
     "output_type": "stream",
     "text": [
      "Enter person Weight in (kg) : 65\n",
      "Enter person Height in (cm) : 167\n"
     ]
    },
    {
     "name": "stdout",
     "output_type": "stream",
     "text": [
      "Normal\n"
     ]
    }
   ],
   "source": [
    "# formula of BMI [weight (kg) / height (cm) / height (cm)] x 10,000\n",
    "Person_weight =float(input(\"Enter person Weight in (kg) :\"))\n",
    "Person_Height =float(input(\"Enter person Height in (cm) :\"))\n",
    "BMI = (Person_weight /Person_Height /Person_Height)*10000\n",
    "# print(round(BMI,2))\n",
    "\n",
    "if BMI <= 18.4 :\n",
    "    print(\"Underweight\")\n",
    "elif BMI >18.5 and BMI <25.0 :\n",
    "    print(\"Normal\")\n",
    "elif BMI >24.9 and BMI <40.0 :\n",
    "    print(\"Overwieight\")\n",
    "elif BMI >=40:\n",
    "    print(\"Obese\")\n",
    "else:\n",
    "    print(\"Invalid Entry\")"
   ]
  },
  {
   "cell_type": "markdown",
   "id": "8d0d0234-5b2a-4de7-880b-af1efa8c5d10",
   "metadata": {},
   "source": [
    "24. Create a program that determines whether a given number is positive, negative, or zero using elif statements.\n"
   ]
  },
  {
   "cell_type": "code",
   "execution_count": 55,
   "id": "ebe51776-a313-42f3-8d38-f61dace13068",
   "metadata": {},
   "outputs": [
    {
     "name": "stdin",
     "output_type": "stream",
     "text": [
      "Enter the number : 0\n"
     ]
    },
    {
     "name": "stdout",
     "output_type": "stream",
     "text": [
      "It is zero number\n"
     ]
    }
   ],
   "source": [
    "number_input =int(float(input(\"Enter the number :\")))\n",
    "if number_input == 0:\n",
    "    print(\"It is zero number\")\n",
    "elif number_input > 0:\n",
    "    print(\"It is positive number\")\n",
    "elif number_input < 0:\n",
    "    print(\"It is negative number\")\n",
    "else:\n",
    "    print(\"Invalid Entry\")"
   ]
  },
  {
   "cell_type": "markdown",
   "id": "07c85975-c8fc-44a0-93b8-eb21e9cefbd7",
   "metadata": {},
   "source": [
    "25. Write a Python script to determine the type of a character (uppercase, lowercase, or special) using elif statements.\n"
   ]
  },
  {
   "cell_type": "code",
   "execution_count": 62,
   "id": "b03b89a8-d883-404b-9799-e3b1bcae89c8",
   "metadata": {},
   "outputs": [
    {
     "name": "stdin",
     "output_type": "stream",
     "text": [
      "Enter the character : *\n"
     ]
    },
    {
     "name": "stdout",
     "output_type": "stream",
     "text": [
      "Charcter is special\n"
     ]
    }
   ],
   "source": [
    "userchar =input(\"Enter the character :\")\n",
    "if userchar.isupper():\n",
    "    print(\"Character is uppercase\")\n",
    "elif userchar.islower():\n",
    "    print(\"Character is Lowercase\")\n",
    "elif userchar in '[@_!#$%^&*()<>?/\\|}{~:]':\n",
    "    print('Charcter is special')\n",
    "else:\n",
    "    print(\"Invalid Entry\")"
   ]
  },
  {
   "cell_type": "markdown",
   "id": "4a039e9b-42ff-41ef-b126-8ea7c714dba5",
   "metadata": {},
   "source": [
    "26. Implement a program to calculate the discounted price based on different purchase amounts using elif statements."
   ]
  },
  {
   "cell_type": "code",
   "execution_count": 66,
   "id": "640d8c5c-a1a2-4f3f-81d1-d44e76a55510",
   "metadata": {},
   "outputs": [
    {
     "name": "stdin",
     "output_type": "stream",
     "text": [
      "Enter purchase amount  6000\n"
     ]
    },
    {
     "name": "stdout",
     "output_type": "stream",
     "text": [
      "Discount Amount = 100.00\n",
      "Net Bill Amount = 5900.00\n"
     ]
    }
   ],
   "source": [
    "p=int(input('Enter purchase amount :'))\n",
    "\n",
    "if p<=5000:\n",
    "    dis=0\n",
    "elif p>5000 and p<=10000:\n",
    "    dis=(p-5000)*(10/100.0)\n",
    "elif p>10000 and p<=20000:\n",
    "    dis=(p-10000)*(20/100.0)\n",
    "elif p>20000 and p<=30000:\n",
    "    dis=(p-20000)*(30/100.0)\n",
    "else:\n",
    "    dis=(p-30000)*(40/100.0)\n",
    "\n",
    "print('Discount Amount = {:.2f}'.format(dis))\n",
    "print('Net Bill Amount = {:.2f}'.format(p-dis))"
   ]
  },
  {
   "cell_type": "markdown",
   "id": "53b72be3-152a-4136-a116-36d7a8212fee",
   "metadata": {},
   "source": [
    "27. Develop a program to calculate the electricity bill based on different consumption slabs using elif statements."
   ]
  },
  {
   "cell_type": "code",
   "execution_count": null,
   "id": "bfc0c4fa-7320-4b26-8460-c036cbec1ae2",
   "metadata": {},
   "outputs": [],
   "source": [
    "# 1 to 100 units – Rs. 10/unit\n",
    "# 100 to 200 units – Rs. 15/unit\n",
    "# 200 to 300 units – Rs. 20/unit\n",
    "# above 300 units – Rs. 25/unit"
   ]
  },
  {
   "cell_type": "code",
   "execution_count": 69,
   "id": "28534810-31f3-471e-ac8a-3d7b93be9be1",
   "metadata": {},
   "outputs": [
    {
     "name": "stdin",
     "output_type": "stream",
     "text": [
      "Enter the unit : 100\n"
     ]
    },
    {
     "name": "stdout",
     "output_type": "stream",
     "text": [
      "Total consumed unit is : 100\n",
      "Electricity bill as per unit :  1500\n"
     ]
    }
   ],
   "source": [
    "unit =int(input(\"Enter the unit :\"))\n",
    "\n",
    "if unit >0 and unit< 100:\n",
    "    elect_bill = unit *10\n",
    "elif unit>= 100 and unit< 200:\n",
    "    elect_bill = unit *15\n",
    "elif unit>=200 and unit< 300:\n",
    "    elect_bill = unit *20\n",
    "elif unit>=300:\n",
    "    elect_bill = unit *25\n",
    "else:\n",
    "    print(\"Invalid entry\")\n",
    "\n",
    "print(\"Total consumed unit is :\",unit)\n",
    "print(\"Electricity bill as per unit : \",elect_bill)"
   ]
  },
  {
   "cell_type": "markdown",
   "id": "b03caf5e-6743-4c6c-912c-05293ee5e893",
   "metadata": {},
   "source": [
    "28. Create a program to determine the type of quadrilateral based on its angles and sides using elif statements.\n"
   ]
  },
  {
   "cell_type": "code",
   "execution_count": 1,
   "id": "ee78d5c6-c943-4bb9-8207-5ce244796b8c",
   "metadata": {},
   "outputs": [
    {
     "name": "stdin",
     "output_type": "stream",
     "text": [
      "Enter the length of side a:  23\n",
      "Enter the length of side b:  34\n",
      "Enter the length of side c:  56\n",
      "Enter the length of side d:  7\n",
      "Enter the measure of angle A:  89\n",
      "Enter the measure of angle B:  65\n",
      "Enter the measure of angle C:  43\n",
      "Enter the measure of angle D:  32\n"
     ]
    },
    {
     "name": "stdout",
     "output_type": "stream",
     "text": [
      "The given quadrilateral is a Other Quadrilateral.\n"
     ]
    }
   ],
   "source": [
    "# Function to determine the type of quadrilateral\n",
    "def identify_quadrilateral(a, b, c, d, A, B, C, D):\n",
    "    # Check if all angles are 90 degrees\n",
    "    if A == 90 and B == 90 and C == 90 and D == 90:\n",
    "        if a == b == c == d:\n",
    "            return \"Square\"\n",
    "        elif a == c and b == d:\n",
    "            return \"Rectangle\"\n",
    "        else:\n",
    "            return \"Quadrilateral with all right angles\"\n",
    "    # Check if opposite angles are equal\n",
    "    elif A == C and B == D:\n",
    "        if a == b == c == d:\n",
    "            return \"Rhombus\"\n",
    "        elif a == c and b == d:\n",
    "            return \"Parallelogram\"\n",
    "        else:\n",
    "            return \"Quadrilateral with opposite angles equal\"\n",
    "    # Check if only one pair of opposite angles is equal\n",
    "    elif A == C or B == D:\n",
    "        if a == b == c == d:\n",
    "            return \"Kite\"\n",
    "        elif a == c and b == d:\n",
    "            return \"Quadrilateral with one pair of opposite angles equal\"\n",
    "        else:\n",
    "            return \"Quadrilateral with one pair of opposite angles equal\"\n",
    "    else:\n",
    "        return \"Other Quadrilateral\"\n",
    "\n",
    "# Input angles and sides\n",
    "a = float(input(\"Enter the length of side a: \"))\n",
    "b = float(input(\"Enter the length of side b: \"))\n",
    "c = float(input(\"Enter the length of side c: \"))\n",
    "d = float(input(\"Enter the length of side d: \"))\n",
    "A = float(input(\"Enter the measure of angle A: \"))\n",
    "B = float(input(\"Enter the measure of angle B: \"))\n",
    "C = float(input(\"Enter the measure of angle C: \"))\n",
    "D = float(input(\"Enter the measure of angle D: \"))\n",
    "\n",
    "# Determine and print the type of quadrilateral\n",
    "result = identify_quadrilateral(a, b, c, d, A, B, C, D)\n",
    "print(f\"The given quadrilateral is a {result}.\")"
   ]
  },
  {
   "cell_type": "markdown",
   "id": "4291ca84-08d8-4317-92bd-392f50e0996f",
   "metadata": {},
   "source": [
    "30. Implement a program to determine the type of a year (leap or common) and month (30 or 31 days) using elif statements."
   ]
  },
  {
   "cell_type": "code",
   "execution_count": 5,
   "id": "3fd427e9-879a-4234-8909-797905e9788d",
   "metadata": {},
   "outputs": [
    {
     "name": "stdin",
     "output_type": "stream",
     "text": [
      "Enter the month : 3\n",
      "Enter the month : 6\n"
     ]
    },
    {
     "name": "stdout",
     "output_type": "stream",
     "text": [
      "31 days\n"
     ]
    }
   ],
   "source": [
    "month =int(input(\"Enter the month :\"))\n",
    "year =int(input(\"Enter the month :\"))\n",
    "\n",
    "if(month ==2) and (year%4 ==0) and (year%100 !=0) or (year%400 ==0):\n",
    "    print(\"29 days\")\n",
    "elif month ==2:\n",
    "    print(\"28 days\")\n",
    "elif month <=12 and month %2!=0:\n",
    "    print(\"31 days\")\n",
    "else:\n",
    "    print(\"30 days\")"
   ]
  },
  {
   "cell_type": "markdown",
   "id": "53bddba1-cbbc-4833-b016-6c3ed216c9c4",
   "metadata": {},
   "source": [
    "## `Basic Level:`"
   ]
  },
  {
   "cell_type": "markdown",
   "id": "8c0debcd-b27a-433e-8946-a7909ac9517a",
   "metadata": {},
   "source": [
    "1. Write a Python program that checks if a given number is positive, negative, or zero."
   ]
  },
  {
   "cell_type": "code",
   "execution_count": 8,
   "id": "95613351-b4e7-4552-a700-2300a50f9855",
   "metadata": {},
   "outputs": [
    {
     "name": "stdin",
     "output_type": "stream",
     "text": [
      "Enter the number:  -23\n"
     ]
    },
    {
     "name": "stdout",
     "output_type": "stream",
     "text": [
      "Number is negative..\n"
     ]
    }
   ],
   "source": [
    "num =int(input(\"Enter the number: \"))\n",
    "if (num > 0):\n",
    "    print(\"Number is positive..\")\n",
    "elif num == 0:\n",
    "    print(\"Number is zero\")\n",
    "else:\n",
    "    print(\"Number is negative..\")"
   ]
  },
  {
   "cell_type": "markdown",
   "id": "c3fb6f16-ac77-41b8-b71b-409da6f2d0d4",
   "metadata": {},
   "source": [
    "2. Create a program to determine if a person is eligible to vote based on their age."
   ]
  },
  {
   "cell_type": "code",
   "execution_count": 9,
   "id": "1320704d-6f9b-4aac-b05e-12b15bbdf843",
   "metadata": {},
   "outputs": [
    {
     "name": "stdin",
     "output_type": "stream",
     "text": [
      "Enter the age : 19\n"
     ]
    },
    {
     "name": "stdout",
     "output_type": "stream",
     "text": [
      "Person is eligible to vote\n"
     ]
    }
   ],
   "source": [
    "Age =int(input(\"Enter the age :\"))\n",
    "if Age >=18:\n",
    "    print(\"Person is eligible to vote\")\n",
    "else:\n",
    "    print(\"person is not eligible to vote\")"
   ]
  },
  {
   "cell_type": "markdown",
   "id": "24f3b3b8-f18e-4498-9672-8440957ca8cf",
   "metadata": {},
   "source": [
    "3. Write a program to find the maximum of two given numbers using conditional statements."
   ]
  },
  {
   "cell_type": "code",
   "execution_count": 10,
   "id": "ec952cbe-fa95-4203-9451-27963ccba729",
   "metadata": {},
   "outputs": [
    {
     "name": "stdin",
     "output_type": "stream",
     "text": [
      "Enter the first number : 43\n",
      "Enter the second number : 45\n"
     ]
    },
    {
     "name": "stdout",
     "output_type": "stream",
     "text": [
      "second number is greater than first number\n"
     ]
    }
   ],
   "source": [
    "first_num =int(input(\"Enter the first number :\"))\n",
    "second_num =int(input(\"Enter the second number :\"))\n",
    "if first_num > second_num:\n",
    "    print(\"First number is greater than second number\")\n",
    "else:\n",
    "    print(\"second number is greater than first number\")"
   ]
  },
  {
   "cell_type": "markdown",
   "id": "f60375de-3dd4-4293-aaa1-56f0aa707d77",
   "metadata": {},
   "source": [
    "4. Develop a program that calculates the grade of a student based on their exam score."
   ]
  },
  {
   "cell_type": "code",
   "execution_count": 11,
   "id": "024a2712-7b64-4260-a37b-88d0d155b694",
   "metadata": {},
   "outputs": [
    {
     "name": "stdin",
     "output_type": "stream",
     "text": [
      "Enter the marks >>> 90\n"
     ]
    },
    {
     "name": "stdout",
     "output_type": "stream",
     "text": [
      "Student will get 5* \n"
     ]
    }
   ],
   "source": [
    "marks =int(input(\"Enter the marks >>>\"))\n",
    "if marks > 89:\n",
    "    print(\"Student will get 5* \")\n",
    "elif marks >74 and marks < 90:\n",
    "    print(\"Student will get 4* \")\n",
    "elif marks >59 and marks <75:\n",
    "    print(\"Student will get 3* \")\n",
    "elif marks >39 and marks < 60:\n",
    "    print(\"Student will get 2* \")\n",
    "else:\n",
    "    print(\"Student will fail in exam\")  "
   ]
  },
  {
   "cell_type": "markdown",
   "id": "ebf8d42e-695a-41b2-9a75-560b99131472",
   "metadata": {},
   "source": [
    "5. Create a program that checks if a year is a leap year or not."
   ]
  },
  {
   "cell_type": "code",
   "execution_count": 12,
   "id": "61dfc052-e2d2-4808-9480-88ae17a17dce",
   "metadata": {},
   "outputs": [
    {
     "name": "stdin",
     "output_type": "stream",
     "text": [
      "Enter the year to be check >> 2012\n"
     ]
    },
    {
     "name": "stdout",
     "output_type": "stream",
     "text": [
      "these is not leap year\n"
     ]
    }
   ],
   "source": [
    "year =int(input(\"Enter the year to be check >>\"))\n",
    "\n",
    "if (year%4 ==0 and year%100 !=0 and year%400 ==0):\n",
    "    print(\"these is leap year \")\n",
    "else:\n",
    "    print(\"these is not leap year\")"
   ]
  },
  {
   "cell_type": "markdown",
   "id": "45448c5b-6040-4362-b747-67e1c4827a61",
   "metadata": {},
   "source": [
    "6. Write a program to classify a triangle based on its sides' lengths."
   ]
  },
  {
   "cell_type": "code",
   "execution_count": 13,
   "id": "97508cb8-0a4c-4437-ac07-952720594b86",
   "metadata": {},
   "outputs": [
    {
     "name": "stdin",
     "output_type": "stream",
     "text": [
      "Enter the angle : 90\n"
     ]
    },
    {
     "name": "stdout",
     "output_type": "stream",
     "text": [
      "it is right angle\n"
     ]
    }
   ],
   "source": [
    "angle =int(input(\"Enter the angle :\"))\n",
    "if angle >=90:\n",
    "    if angle >90 and angle <=180:\n",
    "        print(\"It is obtuse angle\")\n",
    "    else:\n",
    "        print(\"it is right angle\")\n",
    "else:\n",
    "    print('It is actute angle')"
   ]
  },
  {
   "cell_type": "markdown",
   "id": "cde617ef-e037-4df1-93e8-35a0586a247b",
   "metadata": {},
   "source": [
    "7. Build a program that determines the largest of three given numbers."
   ]
  },
  {
   "cell_type": "code",
   "execution_count": 14,
   "id": "710ad0b1-c374-44c9-b46a-f1b31f188cf3",
   "metadata": {},
   "outputs": [
    {
     "name": "stdin",
     "output_type": "stream",
     "text": [
      "Enter value 34\n",
      "Enter value 45\n",
      "Enter value 56\n"
     ]
    },
    {
     "name": "stdout",
     "output_type": "stream",
     "text": [
      "for loop execution completed\n",
      "values from list : [34, 45, 56]\n",
      "Greater number is :56\n"
     ]
    }
   ],
   "source": [
    "# Create a list of 3 number taken entry from user\n",
    "user_range =3\n",
    "l0 =[]\n",
    "for i in range(user_range):\n",
    "    user_input =int(input(\"Enter value\"))\n",
    "    l0.append(user_input)\n",
    "else:\n",
    "    print('for loop execution completed')\n",
    "    print('values from list :',l0)\n",
    "    \n",
    "# check the gerater no from list   \n",
    "if l0[0] >l0[1] and l0[0] > l0[2]:\n",
    "    print(f\"Greater number is :{l0[0]}\")\n",
    "elif l0[1] >l0[0] and l0[1] > l0[2]:\n",
    "    print(f\"Greater number is :{l0[1]}\")\n",
    "elif l0[2] >l0[0] and l0[2] > l0[1]:\n",
    "    print(f\"Greater number is :{l0[2]}\")\n",
    "else:\n",
    "    print(\"Nothing is grater Or invalid entry\")   "
   ]
  },
  {
   "cell_type": "markdown",
   "id": "cb9259cb-84ff-4f7d-8a63-b775dfd984ad",
   "metadata": {},
   "source": [
    "8. Develop a program that checks whether a character is a vowel or a consonant."
   ]
  },
  {
   "cell_type": "code",
   "execution_count": 15,
   "id": "9c0dae03-1f97-4926-8fb6-8ca03c013c03",
   "metadata": {},
   "outputs": [
    {
     "name": "stdin",
     "output_type": "stream",
     "text": [
      "enter the character  e\n"
     ]
    },
    {
     "name": "stdout",
     "output_type": "stream",
     "text": [
      "Charcter is vowels\n"
     ]
    }
   ],
   "source": [
    "is_check =input(\"enter the character \")\n",
    "vowels =\"AaEeIiOoUu\"\n",
    "if is_check in vowels:\n",
    "    print(\"Charcter is vowels\")\n",
    "else:\n",
    "    print(\"Character is consanant\")"
   ]
  },
  {
   "cell_type": "markdown",
   "id": "e902b777-05d2-405b-8e3d-8e5d91c5715e",
   "metadata": {},
   "source": [
    "9. Create a program to calculate the total cost of a shopping cart based on discounts."
   ]
  },
  {
   "cell_type": "code",
   "execution_count": 16,
   "id": "0483cacd-22c0-4353-b5d1-4c27fea38024",
   "metadata": {},
   "outputs": [
    {
     "name": "stdin",
     "output_type": "stream",
     "text": [
      "Enter purchase amount : 6000\n"
     ]
    },
    {
     "name": "stdout",
     "output_type": "stream",
     "text": [
      "Discount Amount = 100.00\n",
      "Net Bill Amount = 5900.00\n"
     ]
    }
   ],
   "source": [
    "p=int(input('Enter purchase amount :'))\n",
    "\n",
    "if p<=5000:\n",
    "    dis=0\n",
    "elif p>5000 and p<=10000:\n",
    "    dis=(p-5000)*(10/100.0)\n",
    "elif p>10000 and p<=20000:\n",
    "    dis=(p-10000)*(20/100.0)\n",
    "elif p>20000 and p<=30000:\n",
    "    dis=(p-20000)*(30/100.0)\n",
    "else:\n",
    "    dis=(p-30000)*(40/100.0)\n",
    "\n",
    "print('Discount Amount = {:.2f}'.format(dis))\n",
    "print('Net Bill Amount = {:.2f}'.format(p-dis))"
   ]
  },
  {
   "cell_type": "markdown",
   "id": "2cb9245e-24ca-4f82-90b5-369a66fbe47c",
   "metadata": {},
   "source": [
    "10. Write a program that checks if a given number is even or odd."
   ]
  },
  {
   "cell_type": "code",
   "execution_count": 20,
   "id": "db25b6fe-ca37-45d3-a644-5f85fe586527",
   "metadata": {},
   "outputs": [
    {
     "name": "stdin",
     "output_type": "stream",
     "text": [
      "Enter the number : 2\n"
     ]
    },
    {
     "name": "stdout",
     "output_type": "stream",
     "text": [
      "These is even number\n"
     ]
    }
   ],
   "source": [
    "j =int(input(\"Enter the number :\"))\n",
    "if j >0:\n",
    "    if j %2 ==0:\n",
    "        print(\"These is even number\")\n",
    "    else:\n",
    "        print(\"These is odd number\")\n",
    "else:\n",
    "    print(\"Invalid entry\")"
   ]
  },
  {
   "cell_type": "markdown",
   "id": "145b6d18-4a8f-40f8-9eb8-7ada6917b21f",
   "metadata": {},
   "source": [
    "## `Intermediate Level:`"
   ]
  },
  {
   "cell_type": "markdown",
   "id": "9f65def6-1f12-446d-8ab4-31c2a497cc58",
   "metadata": {},
   "source": [
    "11. Write a program that calculates the roots of a quadratic equation ."
   ]
  },
  {
   "cell_type": "code",
   "execution_count": 21,
   "id": "fd82fbe8-e877-4653-a75c-c48ee3684d35",
   "metadata": {},
   "outputs": [
    {
     "name": "stdin",
     "output_type": "stream",
     "text": [
      "Enter the value of a:  3\n",
      "Enter the value of b:  5\n",
      "Enter the value of c:  7\n"
     ]
    },
    {
     "name": "stdout",
     "output_type": "stream",
     "text": [
      "The roots are imaginary. \n"
     ]
    }
   ],
   "source": [
    "# Quadratic Equation\n",
    "a = float(input('Enter the value of a: '))  \n",
    "b = float(input('Enter the value of b: '))  \n",
    "c = float(input('Enter the value of c: '))  \n",
    "  \n",
    "# calculate the discriminant  \n",
    "d = (b**2) - (4*a*c)  \n",
    "d1=d**0.5\n",
    "if(d<0):\n",
    "    print(\"The roots are imaginary. \")\n",
    "else:\n",
    "    r1=(-b+d1)/2*a\n",
    "    r2=(-b-d1)/2*a\n",
    "    print(\"The first root: \",round(r1,2))\n",
    "    print(\"The second root: \",round(r2,2))"
   ]
  },
  {
   "cell_type": "markdown",
   "id": "86d3b438-8b6b-4504-8a15-a1061a43efcc",
   "metadata": {},
   "source": [
    "12. Create a program that determines the day of the week based on the day number (1-7)."
   ]
  },
  {
   "cell_type": "code",
   "execution_count": 29,
   "id": "28425456-1f50-4303-a213-7ee2b4f61bbd",
   "metadata": {},
   "outputs": [
    {
     "name": "stdin",
     "output_type": "stream",
     "text": [
      "Enter number of day : 2\n"
     ]
    },
    {
     "name": "stdout",
     "output_type": "stream",
     "text": [
      "Tuesday\n"
     ]
    }
   ],
   "source": [
    "no_of_day =int(input(\"Enter number of day :\"))\n",
    "if no_of_day <=7:\n",
    "    if no_of_day <=6:\n",
    "        if no_of_day <=5:\n",
    "            if no_of_day <=4:\n",
    "                if no_of_day <=3:\n",
    "                    if no_of_day <=2:\n",
    "                        if no_of_day ==1:\n",
    "                            print(\"Monday\")\n",
    "                        else:\n",
    "                            print(\"Tuesday\")\n",
    "                    else:\n",
    "                        print('Wednesday')\n",
    "                else:\n",
    "                    print(\"Thursday\")\n",
    "            else:\n",
    "                print(\"Friday\")\n",
    "        else:\n",
    "            print(\"Satuarday\")\n",
    "    else:\n",
    "        print(\"Sunday\")\n",
    "else:\n",
    "    print(\"Invalid day\")    "
   ]
  },
  {
   "cell_type": "markdown",
   "id": "5c0a4c66-7475-4d3c-883c-195d0ac4e95a",
   "metadata": {},
   "source": [
    "13. Develop a program that calculates the factorial of a given number using recursion."
   ]
  },
  {
   "cell_type": "code",
   "execution_count": 40,
   "id": "ddfbc9da-4709-4285-bf88-89593e8984cf",
   "metadata": {},
   "outputs": [
    {
     "name": "stdin",
     "output_type": "stream",
     "text": [
      "Enter the number : 5\n"
     ]
    },
    {
     "name": "stdout",
     "output_type": "stream",
     "text": [
      "The factorial of 5 is 120\n"
     ]
    }
   ],
   "source": [
    "def factorial(x):\n",
    "\n",
    "    if x == 1:\n",
    "        return 1\n",
    "    else:\n",
    "        return (x * factorial(x-1))\n",
    "\n",
    "\n",
    "num = int(input(\"Enter the number :\"))\n",
    "print(\"The factorial of\", num, \"is\", factorial(num))\n"
   ]
  },
  {
   "cell_type": "markdown",
   "id": "2018132c-b1d8-4429-a2cf-7f408a86ea7a",
   "metadata": {},
   "source": [
    "14. Write a program to find the largest among three numbers without using the `max()` function."
   ]
  },
  {
   "cell_type": "code",
   "execution_count": 42,
   "id": "c932fba2-cc5b-437a-9520-4179f8aebd82",
   "metadata": {},
   "outputs": [
    {
     "name": "stdin",
     "output_type": "stream",
     "text": [
      "Enter the numbers : 56\n",
      "Enter the numbers : 67\n",
      "Enter the numbers : 34\n"
     ]
    },
    {
     "name": "stdout",
     "output_type": "stream",
     "text": [
      "for loop execution completed\n",
      "Created 3 numbers are:  [56, 67, 34]\n",
      "Second number is greater\n"
     ]
    }
   ],
   "source": [
    "l3 =[]\n",
    "for i in range(3):\n",
    "    user =int(input(\"Enter the numbers :\"))\n",
    "    l3.append(user)\n",
    "else:\n",
    "    print(\"for loop execution completed\")\n",
    "    print('Created 3 numbers are: ',l3)\n",
    "    \n",
    "if l3[0]>l3[1] and l3[0]>l3[2]:\n",
    "    print(\"first number is greater\")\n",
    "elif l3[1]>l3[0] and l3[1]>l3[2]:\n",
    "    print(\"Second number is greater\")\n",
    "elif l3[2]>l3[0] and l3[2]>l3[1]:\n",
    "    print(\"Third number is greater\")\n",
    "else:\n",
    "    print(\"Invalid numbers\")"
   ]
  },
  {
   "cell_type": "markdown",
   "id": "c445bc75-c092-41b8-9259-ff5b3673f607",
   "metadata": {},
   "source": [
    "15. Create a program that simulates a basic ATM transaction menu."
   ]
  },
  {
   "cell_type": "code",
   "execution_count": 2,
   "id": "bd2e42e8-26e7-41b5-8f19-cbaac3c5d453",
   "metadata": {},
   "outputs": [
    {
     "name": "stdout",
     "output_type": "stream",
     "text": [
      "Welcome to Northen Frock Bank ATM\n"
     ]
    },
    {
     "name": "stdin",
     "output_type": "stream",
     "text": [
      "Please Enter You 4 Digit Pin:  12\n"
     ]
    },
    {
     "name": "stdout",
     "output_type": "stream",
     "text": [
      "Incorrect Password\n"
     ]
    },
    {
     "name": "stdin",
     "output_type": "stream",
     "text": [
      "Please Enter You 4 Digit Pin:  123\n"
     ]
    },
    {
     "name": "stdout",
     "output_type": "stream",
     "text": [
      "Incorrect Password\n"
     ]
    },
    {
     "name": "stdin",
     "output_type": "stream",
     "text": [
      "Please Enter You 4 Digit Pin:  123\n"
     ]
    },
    {
     "name": "stdout",
     "output_type": "stream",
     "text": [
      "Incorrect Password\n",
      "\n",
      "No more tries\n"
     ]
    }
   ],
   "source": [
    "print('Welcome to Northen Frock Bank ATM')\n",
    "restart=('Y')\n",
    "chances = 3\n",
    "balance = 67.14\n",
    "while chances >= 0:\n",
    "    pin = int(input('Please Enter You 4 Digit Pin: '))\n",
    "    if pin == (1234):\n",
    "        print('You entered you pin Correctly\\n')\n",
    "        while restart not in ('n','NO','no','N'):\n",
    "            print('Please Press 1 For Your Balance\\n')\n",
    "            print('Please Press 2 To Make a Withdrawl\\n')\n",
    "            print('Please Press 3 To Pay in\\n')\n",
    "            print('Please Press 4 To Return Card\\n')\n",
    "            option = int(input('What Would you like to choose?'))\n",
    "            if option == 1:\n",
    "                print('Your Balance is Â£',balance,'\\n')\n",
    "                restart = input('Would You you like to go back? ')\n",
    "                if restart in ('n','NO','no','N'):\n",
    "                    print('Thank You')\n",
    "                    break\n",
    "            elif option == 2:\n",
    "                option2 = ('y')\n",
    "                withdrawl = float(input('How Much Would you like to withdraw? \\nÂ£10/Â£20/Â£40/Â£60/Â£80/Â£100 for other enter 1: '))\n",
    "                if withdrawl in [10, 20, 40, 60, 80, 100]:\n",
    "                    balance = balance - withdrawl\n",
    "                    print ('\\nYour Balance is now Â£',balance)\n",
    "                    restart = input('Would You you like to go back? ')\n",
    "                    if restart in ('n','NO','no','N'):\n",
    "                        print('Thank You')\n",
    "                        break\n",
    "                elif withdrawl != [10, 20, 40, 60, 80, 100]:\n",
    "                    print('Invalid Amount, Please Re-try\\n')\n",
    "                    restart = ('y')\n",
    "                elif withdrawl == 1:\n",
    "                    withdrawl = float(input('Please Enter Desired amount:'))    \n",
    "\n",
    "            elif option == 3:\n",
    "                Pay_in = float(input('How Much Would You Like To Pay In? '))\n",
    "                balance = balance + Pay_in\n",
    "                print ('\\nYour Balance is now Â£',balance)\n",
    "                restart = input('Would You you like to go back? ')\n",
    "                if restart in ('n','NO','no','N'):\n",
    "                    print('Thank You')\n",
    "                    break\n",
    "            elif option == 4:\n",
    "                print('Please wait whilst your card is Returned...\\n')\n",
    "                print('Thank you for you service')\n",
    "                break\n",
    "            else:\n",
    "                print('Please Enter a correct number. \\n')\n",
    "                restart = ('y')\n",
    "    elif pin != ('1234'):\n",
    "        print('Incorrect Password')\n",
    "        chances = chances - 1\n",
    "        if chances == 0:\n",
    "            print('\\nNo more tries')\n",
    "            break"
   ]
  },
  {
   "cell_type": "markdown",
   "id": "115c6e36-fbad-4e64-932f-ba410fb356c0",
   "metadata": {},
   "source": [
    "16. Build a program that checks if a given string is a palindrome or not."
   ]
  },
  {
   "cell_type": "code",
   "execution_count": 45,
   "id": "4b6f728c-450d-4a15-b136-279a29732a8c",
   "metadata": {},
   "outputs": [
    {
     "name": "stdin",
     "output_type": "stream",
     "text": [
      "Enter the input : malayalam\n"
     ]
    },
    {
     "name": "stdout",
     "output_type": "stream",
     "text": [
      "Palindrome string is : malayalam\n",
      "====================================\n",
      "User string is palindrome\n"
     ]
    }
   ],
   "source": [
    "take =input(\"Enter the input :\")\n",
    "is_palindrome =take[::-1]\n",
    "print(\"Palindrome string is :\",is_palindrome)\n",
    "print(\"====================================\")\n",
    "\n",
    "if take == is_palindrome:\n",
    "    print(\"User string is palindrome\")\n",
    "else:\n",
    "    print(\"User string is not palindrome\")"
   ]
  },
  {
   "cell_type": "markdown",
   "id": "782c9487-fe0e-459c-a1fc-19568ffdb46a",
   "metadata": {},
   "source": [
    "17. Write a program that calculates the average of a list of numbers, excluding the smallest and largest values."
   ]
  },
  {
   "cell_type": "code",
   "execution_count": 52,
   "id": "cc3a1319-9f88-41cf-b36d-b4ffe079cebe",
   "metadata": {},
   "outputs": [
    {
     "name": "stdout",
     "output_type": "stream",
     "text": [
      "Maximum number is : 9\n",
      "Minimum number is : 1\n",
      "List L4  : [2, 3, 4, 5, 6, 6, 7, 8]\n"
     ]
    }
   ],
   "source": [
    "l4 =[1,2,3,4,5,6,6,7,8,9]\n",
    "# check The Max and Small Numbers Here\n",
    "max_m =max(l4)\n",
    "print(\"Maximum number is :\",max_m)\n",
    "min_m =min(l4)\n",
    "print(\"Minimum number is :\",min_m)\n",
    "# Remove the Largest & smallest numbers\n",
    "l4.remove(max_m)\n",
    "l4.remove(min_m)\n",
    "# print the list \n",
    "print(\"List L4  :\",l4)"
   ]
  },
  {
   "cell_type": "code",
   "execution_count": 53,
   "id": "34c0f8dd-4d33-4fee-964f-17e8984b1dca",
   "metadata": {},
   "outputs": [
    {
     "name": "stdout",
     "output_type": "stream",
     "text": [
      "Avarage of whole list excluding min & Max : 5.125\n"
     ]
    }
   ],
   "source": [
    "# Avarage of List \n",
    "sum_of_list =sum(l4)\n",
    "avarage_of_list =sum_of_list/len(l4)\n",
    "\n",
    "print(\"Avarage of whole list excluding min & Max :\",avarage_of_list)"
   ]
  },
  {
   "cell_type": "markdown",
   "id": "847905bd-bc53-4069-b916-f2302a3de9d8",
   "metadata": {},
   "source": [
    "18. Develop a program that converts a given temperature from Celsius to Fahrenheit."
   ]
  },
  {
   "cell_type": "code",
   "execution_count": 56,
   "id": "6b44cf80-7852-4b72-91a2-b3c27488c8a2",
   "metadata": {},
   "outputs": [
    {
     "name": "stdin",
     "output_type": "stream",
     "text": [
      "Enter the temperature in celsius : 34\n"
     ]
    },
    {
     "name": "stdout",
     "output_type": "stream",
     "text": [
      "Celsius to fahrenheit : 93.2\n"
     ]
    }
   ],
   "source": [
    "temp_input =int(input(\"Enter the temperature in celsius :\"))\n",
    "\n",
    "c_to_farh =(9/5)* temp_input +32\n",
    "\n",
    "print(\"Celsius to fahrenheit :\",c_to_farh)"
   ]
  },
  {
   "cell_type": "markdown",
   "id": "d5988ff6-9e2f-4403-af14-0d3f1194eb79",
   "metadata": {},
   "source": [
    "19. Create a program that simulates a basic calculator for addition, subtraction, multiplication, and division."
   ]
  },
  {
   "cell_type": "code",
   "execution_count": 61,
   "id": "f33a9534-a111-4be9-ab2c-6e778c7ad590",
   "metadata": {},
   "outputs": [
    {
     "name": "stdin",
     "output_type": "stream",
     "text": [
      "Enter the number : 23\n",
      "Enter the number : 34\n",
      "Enter operation which you want to perform : *\n"
     ]
    },
    {
     "name": "stdout",
     "output_type": "stream",
     "text": [
      "The Multiplication is :782\n"
     ]
    }
   ],
   "source": [
    "Calc_1 =int(input(\"Enter the number :\"))\n",
    "Calc_2 =int(input(\"Enter the number :\"))\n",
    "user_action =input(\"Enter operation which you want to perform :\")\n",
    "if user_action == \"+\":\n",
    "    print(f\"The addition is :{Calc_1 + Calc_2}\")\n",
    "elif user_action == \"-\":\n",
    "    print(f\"The Substraction is :{Calc_1 - Calc_2}\")\n",
    "elif user_action == \"*\":\n",
    "    print(f\"The Multiplication is :{Calc_1 * Calc_2}\")\n",
    "elif user_action == \"/\":\n",
    "    print(f\"The Division is :{Calc_1 / Calc_2}\")\n",
    "else:\n",
    "    print(\"No Operation\")"
   ]
  },
  {
   "cell_type": "markdown",
   "id": "dc180a4d-bc8c-49ea-b41a-bfb15bb01260",
   "metadata": {},
   "source": [
    "20. Write a program that determines the roots of a cubic equation using the Cardano formula."
   ]
  },
  {
   "cell_type": "markdown",
   "id": "a18fc438-cd9c-4452-a948-f0c839cae36c",
   "metadata": {},
   "source": [
    "## `Advanced Level:`"
   ]
  },
  {
   "cell_type": "markdown",
   "id": "e2a3d875-119f-4834-9bee-2c2e352ee2ca",
   "metadata": {},
   "source": [
    "21. Create a program that calculates the income tax based on the user's income and tax brackets."
   ]
  },
  {
   "cell_type": "code",
   "execution_count": 63,
   "id": "aad0941e-a48b-4208-bf36-936efad203c7",
   "metadata": {},
   "outputs": [
    {
     "name": "stdin",
     "output_type": "stream",
     "text": [
      "Please enter your taxable income in india:  250000\n"
     ]
    },
    {
     "name": "stdout",
     "output_type": "stream",
     "text": [
      "you owe 0 Rupees in tax!\n"
     ]
    }
   ],
   "source": [
    "income = int(input(\"Please enter your taxable income in india: \"))\n",
    "\n",
    "if income <= 250000:  #2 Lakh 50 thousand\n",
    "    tax = 0\n",
    "elif income <= 500000: #5 Lakh\n",
    "    tax = (income - 250000) * 0.05\n",
    "elif income <= 750000: #7 lakh 50 thousand\n",
    "    tax = (income - 500000) * 0.10 + 12500 \n",
    "elif income <= 1000000: #10 Lakh\n",
    "    tax = (income - 750000) * 0.15 + 37500 \n",
    "elif income <= 1250000: #12 lakh 50 thousand\n",
    "    tax = (income - 1000000) * 0.20 + 75000 \n",
    "elif income <= 1500000: #15 lakh\n",
    "    tax = (income - 1250000) * 0.25 + 125000 \n",
    "else:\n",
    "    tax = (income - 1500000) * 0.30 + 187500\n",
    "print(\"you owe\", tax, \"Rupees in tax!\")"
   ]
  },
  {
   "cell_type": "markdown",
   "id": "0614b93e-1de1-4934-8ce2-ab7b0d1e71a0",
   "metadata": {},
   "source": [
    "22. Write a program that simulates a rock-paper-scissors game against the computer"
   ]
  },
  {
   "cell_type": "code",
   "execution_count": 14,
   "id": "be9db66e-dea7-4376-a7c8-baa37451eaa5",
   "metadata": {},
   "outputs": [
    {
     "name": "stdout",
     "output_type": "stream",
     "text": [
      "Welcome to Rock-Paper-Scissors !!\n",
      "====================================\n"
     ]
    },
    {
     "name": "stdin",
     "output_type": "stream",
     "text": [
      "Enter the input : scissors\n"
     ]
    },
    {
     "name": "stdout",
     "output_type": "stream",
     "text": [
      "====================================\n",
      "random choice is : paper\n",
      "scissors = paper ! You win !\n"
     ]
    }
   ],
   "source": [
    "import random\n",
    "# The game required two player \n",
    "print(\"Welcome to Rock-Paper-Scissors !!\")\n",
    "print(\"====================================\")\n",
    "Random_list =['rock','paper','scissors']\n",
    "\n",
    "first_player =input(\"Enter the input :\")\n",
    "print(\"====================================\")\n",
    "computer =random.choice(Random_list)\n",
    "print(\"random choice is :\",computer)\n",
    "# Check Condition \n",
    "if (first_player == \"rock\") and (computer== \"rock\"):\n",
    "    print(f\"{first_player} = {computer} ! Match Tied !\")\n",
    "elif (first_player == \"rock\") and (computer== \"paper\"):\n",
    "    print(f\"{first_player} = {computer} ! You win !\")\n",
    "elif (first_player == \"rock\") and (computer== \"scissors\"):\n",
    "    print(f\"{first_player} = {computer} ! You win !\")\n",
    "elif (first_player == \"paper\") and (computer== \"paper\"):\n",
    "    print(f\"{first_player} = {computer} ! Match Tied !\")\n",
    "elif (first_player == \"paper\") and (computer== \"rock\"):\n",
    "    print(f\"{first_player} = {computer} ! You loose !\")\n",
    "elif (first_player == \"paper\") and (computer== \"scissors\"):\n",
    "    print(f\"{first_player} = {computer} ! You loose !\")\n",
    "elif (first_player == \"scissors\") and (computer== \"scissors\"):\n",
    "    print(f\"{first_player}is match with {computer} ! Match Tied !\")\n",
    "elif (first_player == \"scissors\") and (computer== \"rock\"):\n",
    "    print(f\"{first_player} = {computer} ! You loose !\")\n",
    "elif (first_player == \"scissors\") and (computer== \"paper\"):\n",
    "    print(f\"{first_player} = {computer} ! You win !\")\n",
    "else:\n",
    "    print(\"Invalid condition\")"
   ]
  },
  {
   "cell_type": "markdown",
   "id": "95137f52-c986-45ef-a974-396a1f31e9fd",
   "metadata": {},
   "source": [
    "23. Develop a program that generates a random password based on user preferences (length, complexity)."
   ]
  },
  {
   "cell_type": "code",
   "execution_count": 68,
   "id": "f84ebeec-86d8-45ec-80e7-7d39eafcd514",
   "metadata": {},
   "outputs": [
    {
     "name": "stdin",
     "output_type": "stream",
     "text": [
      "Enter the length of password : 6\n"
     ]
    },
    {
     "name": "stdout",
     "output_type": "stream",
     "text": [
      "For loop exe completed\n",
      "Generated password is  : 4%mk%7\n"
     ]
    }
   ],
   "source": [
    "import random\n",
    "length =int(input(\"Enter the length of password :\"))\n",
    "list_of_chars = \"ABCDEFGHIJKLMNOPQRSTUVWXYZabcdefghijklmnopqrstuvwxyz1234567890!@#$%^&*()\"\n",
    "pass_str = \"\" \n",
    "\n",
    "for i in range(length):\n",
    "    pass_str =pass_str + random.choice(list_of_chars)\n",
    "else:\n",
    "    print(\"For loop exe completed\")\n",
    "    print(\"Generated password is  :\",pass_str)"
   ]
  },
  {
   "cell_type": "markdown",
   "id": "ffbba54d-f771-453a-ba5f-b28f9dfbf62a",
   "metadata": {},
   "source": [
    "24. Create a program that implements a simple text-based adventure game with branching scenarios."
   ]
  },
  {
   "cell_type": "code",
   "execution_count": 6,
   "id": "f34d7c57-5899-449e-89c9-597f6f27fb30",
   "metadata": {},
   "outputs": [
    {
     "name": "stdout",
     "output_type": "stream",
     "text": [
      "You are standing in a dark forest.\n",
      "You can see a path leading north and south.\n"
     ]
    },
    {
     "name": "stdin",
     "output_type": "stream",
     "text": [
      "What do you do?  north\n"
     ]
    },
    {
     "name": "stdout",
     "output_type": "stream",
     "text": [
      "I don't understand.\n"
     ]
    }
   ],
   "source": [
    "def intro_scene():\n",
    "    print(\"You are standing in a dark forest.\")\n",
    "    print(\"You can see a path leading north and south.\")\n",
    "    \n",
    "    action = input(\"What do you do? \")\n",
    "    if action == \"go north\":\n",
    "        cave_scene()\n",
    "    elif action == \"go south\":\n",
    "        clearing_scene()\n",
    "    else:\n",
    "        print(\"I don't understand.\")\n",
    "\n",
    "def cave_scene():\n",
    "    print(\"You enter a dark cave.\")\n",
    "    print(\"You can hear a strange noise coming from the back of the cave.\")\n",
    "    action = input(\"What do you do? \")\n",
    "    \n",
    "    if action == \"go back\":\n",
    "        intro_scene()\n",
    "    elif action == \"investigate noise\":\n",
    "        monster_scene()\n",
    "    else:\n",
    "        print(\"I don't understand.\")\n",
    "\n",
    "def clearing_scene():\n",
    "    print(\"You come to a clearing.\")\n",
    "    print(\"There is a house in the distance.\")\n",
    "\n",
    "    action = input(\"What do you do? \")\n",
    "\n",
    "    if action == \"go to house\":\n",
    "        house_scene()\n",
    "    elif action == \"go back\":\n",
    "        intro_scene()\n",
    "    else:\n",
    "        print(\"I don't understand.\")\n",
    "\n",
    "def monster_scene():\n",
    "    print(\"You are attacked by a monster!\")\n",
    "    print(\"You die.\")\n",
    "\n",
    "def house_scene():\n",
    "    print(\"You knock on the door of the house.\")\n",
    "    print(\"A friendly old man answers the door.\")\n",
    "    print(\"He gives you directions out of the forest.\")\n",
    "    print(\"You win!\")\n",
    "\n",
    "def main():\n",
    "    intro_scene()\n",
    "\n",
    "if __name__ == \"__main__\":\n",
    "    main()"
   ]
  },
  {
   "cell_type": "markdown",
   "id": "144c0c86-a6ce-4d40-af3f-68f90c8186c2",
   "metadata": {},
   "source": [
    "25. Build a program that solves a linear equation for x, considering different cases."
   ]
  },
  {
   "cell_type": "code",
   "execution_count": 7,
   "id": "99aa0172-aeb6-433c-aef2-5abd995fb743",
   "metadata": {},
   "outputs": [
    {
     "name": "stdout",
     "output_type": "stream",
     "text": [
      "Enter the coefficients a, b, and c:\n"
     ]
    },
    {
     "name": "stdin",
     "output_type": "stream",
     "text": [
      "a =  3\n",
      "b =  4\n",
      "c =  5\n"
     ]
    },
    {
     "name": "stdout",
     "output_type": "stream",
     "text": [
      "The equation has one solution: x = -1.6666666666666667\n"
     ]
    }
   ],
   "source": [
    "def solve_linear_equation(a, b, c):\n",
    "    if a == 0:\n",
    "        if b == 0:\n",
    "            print(\"The equation has no solution.\")\n",
    "        else:\n",
    "            print(\"The equation has one solution: x = 0.\")\n",
    "    else:\n",
    "        x = -c / a\n",
    "        print(\"The equation has one solution: x = \" + str(x))\n",
    "\n",
    "\n",
    "print(\"Enter the coefficients a, b, and c:\")\n",
    "a = float(input(\"a = \"))\n",
    "b = float(input(\"b = \"))\n",
    "c = float(input(\"c = \"))\n",
    "\n",
    "solve_linear_equation(a, b, c)"
   ]
  },
  {
   "cell_type": "markdown",
   "id": "7866c073-628b-4c37-8e63-a662ff272392",
   "metadata": {},
   "source": [
    "26. Write a program that simulates a basic quiz game with multiple-choice questions and scoring."
   ]
  },
  {
   "cell_type": "code",
   "execution_count": 10,
   "id": "14b9bd49-878e-4cdc-b968-d8728dc547fa",
   "metadata": {},
   "outputs": [
    {
     "name": "stdout",
     "output_type": "stream",
     "text": [
      "Welcome to Quiz program !!\n",
      "NOTE :- If your spelling is incorrect then it is consider wrong answer\n"
     ]
    },
    {
     "name": "stdin",
     "output_type": "stream",
     "text": [
      "Do you want to play Quiz yes\n",
      "1.what does cpu stand for?  : centeral processing\n"
     ]
    },
    {
     "name": "stdout",
     "output_type": "stream",
     "text": [
      "Incorrect Answer\n",
      "correct answer is : centeral processing unit\n"
     ]
    },
    {
     "name": "stdin",
     "output_type": "stream",
     "text": [
      "2.what does GPU stand for?  : graphic processing unit\n"
     ]
    },
    {
     "name": "stdout",
     "output_type": "stream",
     "text": [
      "correct answer\n"
     ]
    },
    {
     "name": "stdin",
     "output_type": "stream",
     "text": [
      "3.what does RAM stand for?  : random access memory\n"
     ]
    },
    {
     "name": "stdout",
     "output_type": "stream",
     "text": [
      "correct answer\n"
     ]
    },
    {
     "name": "stdin",
     "output_type": "stream",
     "text": [
      "4.what does PSU stand for?  : power supply unit\n"
     ]
    },
    {
     "name": "stdout",
     "output_type": "stream",
     "text": [
      "correct answer\n"
     ]
    },
    {
     "name": "stdin",
     "output_type": "stream",
     "text": [
      "5.what does ROM Stand for? : read only memory\n"
     ]
    },
    {
     "name": "stdout",
     "output_type": "stream",
     "text": [
      "correct answer\n",
      "Number of question is : 5\n",
      "Your score is :4\n"
     ]
    }
   ],
   "source": [
    "print(\"Welcome to Quiz program !!\")\n",
    "print(\"NOTE :- If your spelling is incorrect then it is consider wrong answer\")\n",
    "score =0\n",
    "question_no =0\n",
    "playing =input(\"Do you want to play Quiz\").lower()\n",
    "if playing == \"yes\":\n",
    "    question_no =question_no+1\n",
    "    ques=input(f\"{question_no}.what does cpu stand for?  :\").lower()\n",
    "    if ques == \"centeral processing unit\":\n",
    "        print('correct answer')\n",
    "        score =score +1\n",
    "    else:\n",
    "        print(\"Incorrect Answer\")\n",
    "        print('correct answer is : centeral processing unit')\n",
    "       \n",
    "    question_no =question_no +1\n",
    "    ques =input(f\"{question_no}.what does GPU stand for?  :\").lower()\n",
    "    if ques ==\"graphic processing unit\":\n",
    "        print('correct answer')\n",
    "        score =score +1\n",
    "    else:\n",
    "        print(\"Incorrect Answer\")\n",
    "        print('correct answer is : graphic processing unit')\n",
    "    \n",
    "    question_no =question_no +1\n",
    "    ques =input(f\"{question_no}.what does RAM stand for?  :\").lower()\n",
    "    if ques ==\"random access memory\":\n",
    "        print('correct answer')\n",
    "        score =score =score +1\n",
    "    else:\n",
    "        print(\"Incorrect Answer\")\n",
    "        print('correct answer is : random access memory')\n",
    "    \n",
    "    question_no =question_no +1\n",
    "    ques =input(f\"{question_no}.what does PSU stand for?  :\").lower()\n",
    "    if ques ==\"power supply unit\":\n",
    "        print(\"correct answer\")\n",
    "        score =score +1\n",
    "    else:\n",
    "        print(\"Incorrect Answer\")\n",
    "        print(\"Correct answer is : power supply unit\")\n",
    "        \n",
    "    question_no =question_no+1\n",
    "    ques =input(f\"{question_no}.what does ROM Stand for? :\").lower()\n",
    "    if ques == \"read only memory\":\n",
    "        print(\"correct answer\")\n",
    "        score =score +1\n",
    "    else:\n",
    "        print('Incorrect answer')\n",
    "        print(\"correct answer is : read only memory\")\n",
    "else:\n",
    "    print(\"Thank  you for the quiz!\")\n",
    "    print(\"Quit\")\n",
    "print(f\"Number of question is : {question_no}\")\n",
    "print(f\"Your score is :{score}\")"
   ]
  },
  {
   "cell_type": "markdown",
   "id": "3d756fc1-35aa-462c-82c5-ac2f68c1c363",
   "metadata": {},
   "source": [
    "27. Develop a program that determines whether a given year is a prime number or not."
   ]
  },
  {
   "cell_type": "code",
   "execution_count": 21,
   "id": "f3c2f87d-95e3-4776-8e78-a0122c5383b3",
   "metadata": {},
   "outputs": [
    {
     "name": "stdin",
     "output_type": "stream",
     "text": [
      "Enter the year : 2017\n"
     ]
    },
    {
     "name": "stdout",
     "output_type": "stream",
     "text": [
      "2017 Year is prime number\n"
     ]
    }
   ],
   "source": [
    "yeariP =int(input(\"Enter the year :\"))\n",
    "\n",
    "if yeariP >2:\n",
    "    for i in range(2,int(yeariP/2)+1):\n",
    "        if yeariP% i ==0:\n",
    "            print(f\"{yeariP} Year is not prime number\")\n",
    "            break\n",
    "    else:\n",
    "        print(f\"{yeariP} Year is prime number\")\n",
    "else:\n",
    "    print(f\"{yeariP} Year is not prime number\")"
   ]
  },
  {
   "cell_type": "markdown",
   "id": "cd12cf11-c028-4382-b14d-0f3cf01e0f96",
   "metadata": {},
   "source": [
    "28. Create a program that sorts three numbers in ascending order using conditional statements."
   ]
  },
  {
   "cell_type": "code",
   "execution_count": 27,
   "id": "64aa1489-c9a1-45d2-ab20-7ceafc636b57",
   "metadata": {},
   "outputs": [
    {
     "name": "stdin",
     "output_type": "stream",
     "text": [
      "Enter a:  54\n",
      "Enter b:  72\n",
      "Enter c:  32\n"
     ]
    },
    {
     "name": "stdout",
     "output_type": "stream",
     "text": [
      "Values in ascending order :32.0 , 54.0 , 72.0\n"
     ]
    }
   ],
   "source": [
    "a = float(input(\"Enter a: \"))\n",
    "b = float(input(\"Enter b: \"))\n",
    "c = float(input(\"Enter c: \"))\n",
    "\n",
    "if a > b:\n",
    "    a,b =b,a\n",
    "if a > c:\n",
    "    a,c =c,a\n",
    "if b > c:\n",
    "    b,c =c,b\n",
    "\n",
    "print(f\"Values in ascending order :{a} , {b} , {c}\")"
   ]
  },
  {
   "cell_type": "markdown",
   "id": "1be2bd12-a472-4db8-bd0c-f6a16a093f6d",
   "metadata": {},
   "source": [
    "29. Build a program that determines the roots of a quartic equation using numerical methods."
   ]
  },
  {
   "cell_type": "code",
   "execution_count": 19,
   "id": "7e320475-9877-4003-b0c8-8fb6ab947821",
   "metadata": {},
   "outputs": [
    {
     "name": "stdout",
     "output_type": "stream",
     "text": [
      "Approximate root: 0.38184057286253836\n"
     ]
    }
   ],
   "source": [
    "import numpy as np\n",
    "import sympy as sp\n",
    "\n",
    "def quartic_equation(x, a, b, c, d, e):\n",
    "    return a * x**4 + b * x**3 + c * x**2 + d * x + e\n",
    "\n",
    "def quartic_derivative(x, a, b, c, d, e):\n",
    "    return 4 * a * x**3 + 3 * b * x**2 + 2 * c * x + d\n",
    "\n",
    "def newton_raphson_quartic(a, b, c, d, e, initial_guess, tolerance=1e-6, max_iterations=100):\n",
    "    x = initial_guess\n",
    "    for _ in range(max_iterations):\n",
    "        f_x = quartic_equation(x, a, b, c, d, e)\n",
    "        f_prime_x = quartic_derivative(x, a, b, c, d, e)\n",
    "        x -= f_x / f_prime_x\n",
    "\n",
    "        if abs(f_x) < tolerance:\n",
    "            return x\n",
    "    \n",
    "    raise Exception(\"Newton-Raphson method did not converge.\")\n",
    "\n",
    "if __name__ == \"__main__\":\n",
    "    # Coefficients of the quartic equation ax^4 + bx^3 + cx^2 + dx + e = 0\n",
    "    a = 1\n",
    "    b = -6\n",
    "    c = 11\n",
    "    d = -6\n",
    "    e = 1\n",
    "\n",
    "    # Initial guess for the root\n",
    "    initial_guess = 0\n",
    "\n",
    "    root = newton_raphson_quartic(a, b, c, d, e, initial_guess)\n",
    "    print(f\"Approximate root: {root}\")"
   ]
  },
  {
   "cell_type": "markdown",
   "id": "ad55859f-7b52-4a8f-987b-f3766e69a3f4",
   "metadata": {},
   "source": [
    "30. Write a program that calculates the BMI (Body Mass Index) and provides health recommendations based on the user's input.\n"
   ]
  },
  {
   "cell_type": "code",
   "execution_count": 3,
   "id": "68ffe672-6057-4a0f-97f0-d559cc83ba58",
   "metadata": {},
   "outputs": [
    {
     "name": "stdin",
     "output_type": "stream",
     "text": [
      "Enter person Weight in (kg) : 158\n",
      "Enter person Height in (cm) : 74\n"
     ]
    },
    {
     "name": "stdout",
     "output_type": "stream",
     "text": [
      "The person is Obese\n"
     ]
    }
   ],
   "source": [
    "# formula of BMI [weight (kg) / height (cm) / height (cm)] x 10,000\n",
    "Person_weight =float(input(\"Enter person Weight in (kg) :\"))\n",
    "Person_Height =float(input(\"Enter person Height in (cm) :\"))\n",
    "BMI = (Person_weight /Person_Height /Person_Height)*10000\n",
    "# print(round(BMI,2))\n",
    "\n",
    "if BMI <= 18.4 :\n",
    "    print(\"The person is Underweight\")\n",
    "elif BMI >18.5 and BMI <25.0 :\n",
    "    print(\"The person is Normal\")\n",
    "elif BMI >24.9 and BMI <40.0 :\n",
    "    print(\"The person is Overwieight\")\n",
    "elif BMI >=40:\n",
    "    print(\"The person is Obese\")\n",
    "else:\n",
    "    print(\"Invalid Entry\")"
   ]
  },
  {
   "cell_type": "markdown",
   "id": "97527059-6e3a-4f17-95f0-e91e6486e69f",
   "metadata": {},
   "source": [
    "## `Challenge Level:`"
   ]
  },
  {
   "cell_type": "markdown",
   "id": "5966aeab-d7a6-4154-86c2-36a239b3da2f",
   "metadata": {},
   "source": [
    "31. Create a program that validates a password based on complexity rules (length, characters, etc.)."
   ]
  },
  {
   "cell_type": "code",
   "execution_count": 73,
   "id": "32473991-4369-4f1d-bb30-0736674db9cc",
   "metadata": {},
   "outputs": [],
   "source": [
    "# test Purpose\n",
    "import re\n",
    "\n",
    "txt = \"The rain in Spain\"\n",
    "x = re.search(\"rain%&*^\", txt)"
   ]
  },
  {
   "cell_type": "code",
   "execution_count": 2,
   "id": "9d2bd176-ef5c-49b6-9b4b-cf3928fca2ff",
   "metadata": {},
   "outputs": [
    {
     "name": "stdin",
     "output_type": "stream",
     "text": [
      "Enter a password:  Bhushan@123\n"
     ]
    },
    {
     "name": "stdout",
     "output_type": "stream",
     "text": [
      "Make sure your password has a number in it\n"
     ]
    }
   ],
   "source": [
    "password = input(\"Enter a password: \")\n",
    "if len(password) < 8:\n",
    "    print(\"Make sure your password is at lest 8 letters\")\n",
    "elif not password.isdigit():\n",
    "    print(\"Make sure your password has a number in it\")\n",
    "elif not password.isupper(): \n",
    "    print(\"Make sure your password has a capital letter in it\")\n",
    "else:\n",
    "    print(\"Your password seems fine\")"
   ]
  },
  {
   "cell_type": "code",
   "execution_count": 26,
   "id": "5b1239ca-247b-4b50-8072-a4f8e685a507",
   "metadata": {},
   "outputs": [
    {
     "name": "stdin",
     "output_type": "stream",
     "text": [
      "Enter a password:  Abcdert%233\n"
     ]
    },
    {
     "name": "stdout",
     "output_type": "stream",
     "text": [
      "Your password seems fine\n"
     ]
    }
   ],
   "source": [
    "import re\n",
    "while True:\n",
    "    password = input(\"Enter a password: \")\n",
    "    if len(password) <= 8:\n",
    "        print(\"Make sure your password is at lest 8 letters\")\n",
    "    elif re.search('[0-9]',password) is None:\n",
    "        print(\"Make sure your password has a number in it\")\n",
    "    elif re.search('[A-Z]',password) is None: \n",
    "        print(\"Make sure your password has a capital letter in it\")\n",
    "    else:\n",
    "        print(\"Your password seems fine\")\n",
    "        break"
   ]
  },
  {
   "cell_type": "markdown",
   "id": "e2f6b370-3e0d-4785-b1c8-c26c8acfd48e",
   "metadata": {},
   "source": [
    "OR"
   ]
  },
  {
   "cell_type": "code",
   "execution_count": 38,
   "id": "4f806bb7-301e-4212-addc-c1bff7eb516e",
   "metadata": {},
   "outputs": [
    {
     "name": "stdin",
     "output_type": "stream",
     "text": [
      "Input your password bhushan\n"
     ]
    },
    {
     "name": "stdout",
     "output_type": "stream",
     "text": [
      "Not a Valid Password\n"
     ]
    }
   ],
   "source": [
    "import re\n",
    "p= input(\"Input your password\")\n",
    "x = True\n",
    "while x:  \n",
    "    if (len(p)<6 or len(p)>12):\n",
    "        break\n",
    "    elif not re.search(\"[a-z]\",p):\n",
    "        break\n",
    "    elif not re.search(\"[0-9]\",p):\n",
    "        break\n",
    "    elif not re.search(\"[A-Z]\",p):\n",
    "        break\n",
    "    elif not re.search(\"[$#@]\",p):\n",
    "        break\n",
    "    elif re.search(\"\\s\",p):\n",
    "        break\n",
    "    else:\n",
    "        print(\"Valid Password\")\n",
    "        x=False\n",
    "        break\n",
    "\n",
    "if x:\n",
    "    print(\"Not a Valid Password\")"
   ]
  },
  {
   "cell_type": "markdown",
   "id": "f56d91e4-1420-4c3e-9341-584e1c56cf83",
   "metadata": {},
   "source": [
    "32. Develop a program that performs matrix addition and subtraction based on user input."
   ]
  },
  {
   "cell_type": "code",
   "execution_count": 4,
   "id": "fb76477d-f679-4799-a137-4338d21c0359",
   "metadata": {},
   "outputs": [],
   "source": [
    "def matrix_addition(matrix1, matrix2):\n",
    "    rows = len(matrix1)\n",
    "    cols = len(matrix1[0])\n",
    "    result = [[0 for i in range(cols)] for j in range(rows)]\n",
    "    for i in range(rows):\n",
    "        for j in range(cols):\n",
    "            result[i][j] = matrix1[i][j] + matrix2[i][j]\n",
    "    return result"
   ]
  },
  {
   "cell_type": "code",
   "execution_count": 5,
   "id": "546f99db-e5fc-4438-b8fc-a736f802ec3e",
   "metadata": {},
   "outputs": [],
   "source": [
    "X = [[12,7,3],\n",
    "    [4 ,5,6],\n",
    "    [7 ,8,9]]\n",
    "\n",
    "Y = [[5,8,1],\n",
    "    [6,7,3],\n",
    "    [4,5,9]]"
   ]
  },
  {
   "cell_type": "code",
   "execution_count": 6,
   "id": "407bb035-00fb-4607-add9-f52baa6457b7",
   "metadata": {},
   "outputs": [
    {
     "data": {
      "text/plain": [
       "[[17, 15, 4], [10, 12, 9], [11, 13, 18]]"
      ]
     },
     "execution_count": 6,
     "metadata": {},
     "output_type": "execute_result"
    }
   ],
   "source": [
    "matrix_addition(X ,Y)"
   ]
  },
  {
   "cell_type": "markdown",
   "id": "35d8d382-dea0-4380-9944-a4eef11dee3d",
   "metadata": {},
   "source": [
    "OR"
   ]
  },
  {
   "cell_type": "code",
   "execution_count": 36,
   "id": "f9540ba2-ec0b-4c83-aee2-140266876305",
   "metadata": {},
   "outputs": [],
   "source": [
    "def matrix_Operation(matrix1, matrix2):\n",
    "    rows = len(matrix1)\n",
    "    cols = len(matrix1[0])\n",
    "   \n",
    "    Opr =input(\"Enter the operation you want to perform(add , sub) :\")    \n",
    "    result = [[0 for i in range(cols)] for j in range(rows)]\n",
    "    for i in range(rows):\n",
    "        for j in range(cols):\n",
    "            if Opr == \"add\":\n",
    "                result[i][j] = matrix1[i][j] + matrix2[i][j]\n",
    "            elif Opr == \"sub\":\n",
    "                result[i][j] = matrix1[i][j] - matrix2[i][j]\n",
    "            else:\n",
    "                print(\"No operation\")\n",
    "             \n",
    "    return result"
   ]
  },
  {
   "cell_type": "code",
   "execution_count": 30,
   "id": "0e57efab-6e84-4116-b56b-740a2dc7007c",
   "metadata": {},
   "outputs": [],
   "source": [
    "# Program to add two matrices using nested loop\n",
    "\n",
    "X = [[12,7,3],\n",
    "    [4 ,5,6],\n",
    "    [7 ,8,9]]\n",
    "\n",
    "Y = [[5,8,1],\n",
    "    [6,7,3],\n",
    "    [4,5,9]]"
   ]
  },
  {
   "cell_type": "code",
   "execution_count": 35,
   "id": "769c9ec0-d1cb-4269-876c-a89e45f468c1",
   "metadata": {},
   "outputs": [
    {
     "name": "stdin",
     "output_type": "stream",
     "text": [
      "Enter the operation you want to perform(+,-) : add\n"
     ]
    },
    {
     "data": {
      "text/plain": [
       "[[17, 15, 4], [10, 12, 9], [11, 13, 18]]"
      ]
     },
     "execution_count": 35,
     "metadata": {},
     "output_type": "execute_result"
    }
   ],
   "source": [
    "matrix_Operation(X,Y)"
   ]
  },
  {
   "cell_type": "markdown",
   "id": "6267a3f0-daac-4d65-9bd9-216a3ee1adb5",
   "metadata": {},
   "source": [
    "33. Write a program that calculates the greatest common divisor (GCD) of two numbers using the Euclidean algorithm.\n"
   ]
  },
  {
   "cell_type": "code",
   "execution_count": 39,
   "id": "061d3275-8674-44bf-adc9-c39cb986df85",
   "metadata": {},
   "outputs": [
    {
     "name": "stdin",
     "output_type": "stream",
     "text": [
      "Enter the first number:  34\n",
      "Enter the second number:  23\n"
     ]
    },
    {
     "name": "stdout",
     "output_type": "stream",
     "text": [
      "The greatest common divisor of 34 and 23 is 1\n"
     ]
    }
   ],
   "source": [
    "def gcd(a, b):\n",
    "    while b:\n",
    "        a, b = b, a % b\n",
    "    return a\n",
    "\n",
    "def main():\n",
    "    a = int(input(\"Enter the first number: \"))\n",
    "    b = int(input(\"Enter the second number: \"))\n",
    "    \n",
    "    gcd_value = gcd(a, b)\n",
    "\n",
    "  # Print the result.\n",
    "    print(\"The greatest common divisor of {} and {} is {}\".format(a, b, gcd_value))\n",
    "\n",
    "if __name__ == \"__main__\":\n",
    "    main()"
   ]
  },
  {
   "cell_type": "code",
   "execution_count": 47,
   "id": "0ff3d1bb-d81f-4b7d-a633-6532aee83592",
   "metadata": {},
   "outputs": [],
   "source": [
    "def gcd(a, b):\n",
    "    while b:\n",
    "        a, b = b, a % b\n",
    "    return a\n",
    "\n",
    "    gcd_value = gcd(a, b)\n",
    "    print(\"The greatest common divisor of {} and {} is {}\".format(a, b, gcd_value))"
   ]
  },
  {
   "cell_type": "code",
   "execution_count": 48,
   "id": "2057b920-fc36-4cb4-b1be-ed7a17deee1e",
   "metadata": {},
   "outputs": [
    {
     "data": {
      "text/plain": [
       "9"
      ]
     },
     "execution_count": 48,
     "metadata": {},
     "output_type": "execute_result"
    }
   ],
   "source": [
    "gcd(54,45)"
   ]
  },
  {
   "cell_type": "markdown",
   "id": "76dd3362-52dd-4479-ba0a-bc4dd9514898",
   "metadata": {},
   "source": [
    "34. Build a program that performs matrix multiplication using nested loops and conditional statements."
   ]
  },
  {
   "cell_type": "code",
   "execution_count": 49,
   "id": "c8202f03-4797-4261-9496-9cee08f6e2cb",
   "metadata": {},
   "outputs": [],
   "source": [
    "def matrix_multiplication(A, B):\n",
    "    n = len(A)\n",
    "    m = len(A[0])\n",
    "    p = len(B[0])\n",
    "    C = [[0 for i in range(p)] for j in range(n)]\n",
    "    for i in range(n):\n",
    "        for j in range(p):\n",
    "            for k in range(m):\n",
    "                C[i][j] += A[i][k] * B[k][j]\n",
    "    return C"
   ]
  },
  {
   "cell_type": "code",
   "execution_count": 52,
   "id": "d844d617-b66a-472a-8312-30bc32b2eeab",
   "metadata": {},
   "outputs": [
    {
     "name": "stdout",
     "output_type": "stream",
     "text": [
      "[[39, 54, 69], [49, 68, 87], [59, 82, 105]]\n",
      "[[58, 64], [139, 154]]\n"
     ]
    }
   ],
   "source": [
    "A = [[1, 2, 3], [4, 5, 6]]\n",
    "B = [[7, 8], [9, 10], [11, 12]]\n",
    "\n",
    "C = matrix_multiplication(B, A)\n",
    "d = matrix_multiplication(A, B)\n",
    "print(C)\n",
    "print(d)"
   ]
  },
  {
   "cell_type": "markdown",
   "id": "e8965fff-6934-41c7-bf01-e6dfe1fcd49c",
   "metadata": {},
   "source": [
    "35. Create a program that simulates a basic text-based tic-tac-toe game against the computer."
   ]
  },
  {
   "cell_type": "code",
   "execution_count": null,
   "id": "eb014ea2-3c62-443b-a3fd-94a77c8693a1",
   "metadata": {},
   "outputs": [
    {
     "name": "stdout",
     "output_type": "stream",
     "text": [
      "Welcome to Tic-Tac-Toe!\n",
      "  |   |  \n",
      "---------\n",
      "  |   |  \n",
      "---------\n",
      "  |   |  \n",
      "---------\n"
     ]
    },
    {
     "name": "stdin",
     "output_type": "stream",
     "text": [
      "Enter your move (1-9):  1\n"
     ]
    },
    {
     "name": "stdout",
     "output_type": "stream",
     "text": [
      "X |   |  \n",
      "---------\n",
      "  |   |  \n",
      "---------\n",
      "  |   |  \n",
      "---------\n",
      "Computer's turn:\n",
      "X |   |  \n",
      "---------\n",
      "  |   | O\n",
      "---------\n",
      "  |   |  \n",
      "---------\n"
     ]
    },
    {
     "name": "stdin",
     "output_type": "stream",
     "text": [
      "Enter your move (1-9):  2\n"
     ]
    },
    {
     "name": "stdout",
     "output_type": "stream",
     "text": [
      "X | X |  \n",
      "---------\n",
      "  |   | O\n",
      "---------\n",
      "  |   |  \n",
      "---------\n",
      "Computer's turn:\n",
      "X | X |  \n",
      "---------\n",
      "  |   | O\n",
      "---------\n",
      "  | O |  \n",
      "---------\n"
     ]
    },
    {
     "name": "stdin",
     "output_type": "stream",
     "text": [
      "Enter your move (1-9):  1\n"
     ]
    },
    {
     "name": "stdout",
     "output_type": "stream",
     "text": [
      "Invalid move. Try again.\n"
     ]
    },
    {
     "name": "stdin",
     "output_type": "stream",
     "text": [
      "Enter your move (1-9):  4\n"
     ]
    },
    {
     "name": "stdout",
     "output_type": "stream",
     "text": [
      "X | X |  \n",
      "---------\n",
      "X |   | O\n",
      "---------\n",
      "  | O |  \n",
      "---------\n",
      "Computer's turn:\n",
      "X | X | O\n",
      "---------\n",
      "X |   | O\n",
      "---------\n",
      "  | O |  \n",
      "---------\n"
     ]
    },
    {
     "name": "stdin",
     "output_type": "stream",
     "text": [
      "Enter your move (1-9):  \n"
     ]
    },
    {
     "name": "stdout",
     "output_type": "stream",
     "text": [
      "Invalid input. Enter a number between 1 and 9.\n"
     ]
    },
    {
     "name": "stdin",
     "output_type": "stream",
     "text": [
      "Enter your move (1-9):  4\n"
     ]
    },
    {
     "name": "stdout",
     "output_type": "stream",
     "text": [
      "Invalid move. Try again.\n"
     ]
    },
    {
     "name": "stdin",
     "output_type": "stream",
     "text": [
      "Enter your move (1-9):  \n"
     ]
    },
    {
     "name": "stdout",
     "output_type": "stream",
     "text": [
      "Invalid input. Enter a number between 1 and 9.\n"
     ]
    },
    {
     "name": "stdin",
     "output_type": "stream",
     "text": [
      "Enter your move (1-9):  \n"
     ]
    },
    {
     "name": "stdout",
     "output_type": "stream",
     "text": [
      "Invalid input. Enter a number between 1 and 9.\n"
     ]
    },
    {
     "name": "stdin",
     "output_type": "stream",
     "text": [
      "Enter your move (1-9):  \n"
     ]
    },
    {
     "name": "stdout",
     "output_type": "stream",
     "text": [
      "Invalid input. Enter a number between 1 and 9.\n"
     ]
    },
    {
     "name": "stdin",
     "output_type": "stream",
     "text": [
      "Enter your move (1-9):  ok\n"
     ]
    },
    {
     "name": "stdout",
     "output_type": "stream",
     "text": [
      "Invalid input. Enter a number between 1 and 9.\n"
     ]
    },
    {
     "name": "stdin",
     "output_type": "stream",
     "text": [
      "Enter your move (1-9):  123\n"
     ]
    },
    {
     "name": "stdout",
     "output_type": "stream",
     "text": [
      "Invalid move. Try again.\n"
     ]
    }
   ],
   "source": [
    "import random\n",
    "\n",
    "def print_board(board):\n",
    "    for row in board:\n",
    "        print(\" | \".join(row))\n",
    "        print(\"-\" * 9)\n",
    "\n",
    "def check_win(board, player):\n",
    "    for row in board:\n",
    "        if all(cell == player for cell in row):\n",
    "            return True\n",
    "\n",
    "    for col in range(3):\n",
    "        if all(board[row][col] == player for row in range(3)):\n",
    "            return True\n",
    "\n",
    "    if all(board[i][i] == player for i in range(3)) or all(board[i][2 - i] == player for i in range(3)):\n",
    "        return True\n",
    "\n",
    "    return False\n",
    "\n",
    "def is_board_full(board):\n",
    "    return all(cell != \" \" for row in board for cell in row)\n",
    "\n",
    "def get_player_move(board):\n",
    "    while True:\n",
    "        try:\n",
    "            move = int(input(\"Enter your move (1-9): \")) - 1\n",
    "            row, col = divmod(move, 3)\n",
    "            if 0 <= move <= 8 and board[row][col] == \" \":\n",
    "                return row, col\n",
    "            else:\n",
    "                print(\"Invalid move. Try again.\")\n",
    "        except (ValueError, IndexError):\n",
    "            print(\"Invalid input. Enter a number between 1 and 9.\")\n",
    "\n",
    "def get_computer_move(board):\n",
    "    empty_cells = [(row, col) for row in range(3) for col in range(3) if board[row][col] == \" \"]\n",
    "    return random.choice(empty_cells)\n",
    "\n",
    "def main():\n",
    "    board = [[\" \" for _ in range(3)] for _ in range(3)]\n",
    "    player = \"X\"\n",
    "    computer = \"O\"\n",
    "\n",
    "    print(\"Welcome to Tic-Tac-Toe!\")\n",
    "    print_board(board)\n",
    "\n",
    "    while True:\n",
    "        if player == \"X\":\n",
    "            row, col = get_player_move(board)\n",
    "        else:\n",
    "            print(\"Computer's turn:\")\n",
    "            row, col = get_computer_move(board)\n",
    "\n",
    "        board[row][col] = player\n",
    "        print_board(board)\n",
    "\n",
    "        if check_win(board, player):\n",
    "            print(f\"{player} wins!\")\n",
    "            break\n",
    "        elif is_board_full(board):\n",
    "            print(\"It's a tie!\")\n",
    "            break\n",
    "\n",
    "        player = \"X\" if player == \"O\" else \"O\"\n",
    "\n",
    "if __name__ == \"__main__\":\n",
    "    main()"
   ]
  },
  {
   "cell_type": "markdown",
   "id": "6f48feb3-9e0d-45bf-afa1-61fe6846f0f8",
   "metadata": {},
   "source": [
    "36. Write a program that generates Fibonacci numbers up to a specified term using iterative methods."
   ]
  },
  {
   "cell_type": "code",
   "execution_count": 55,
   "id": "f53c4a8a-792b-4260-8241-e96e901e4b04",
   "metadata": {},
   "outputs": [
    {
     "name": "stdin",
     "output_type": "stream",
     "text": [
      "Enter the range for fibonacci : 15\n"
     ]
    },
    {
     "name": "stdout",
     "output_type": "stream",
     "text": [
      "0 1 1 2 3 5 8 13 21 34 55 89 144 233 377 "
     ]
    }
   ],
   "source": [
    "def test0(n):\n",
    "    a,b =0,1\n",
    "    for i in range(n):\n",
    "        yield a\n",
    "        a,b =b,a+b\n",
    "        \n",
    "n =int(input(\"Enter the range for fibonacci :\"))\n",
    "for i in test0(n):\n",
    "    print(i,end=\" \")"
   ]
  },
  {
   "cell_type": "markdown",
   "id": "086838c3-8f7e-4777-9e0b-8854d0b64548",
   "metadata": {},
   "source": [
    "37. Develop a program that calculates the nth term of the Fibonacci sequence using memoization."
   ]
  },
  {
   "cell_type": "code",
   "execution_count": 81,
   "id": "9a40e366-89c9-4e34-8239-8449eb1318ee",
   "metadata": {},
   "outputs": [
    {
     "name": "stdout",
     "output_type": "stream",
     "text": [
      "2\n"
     ]
    }
   ],
   "source": [
    "def Fibonacci(n):\n",
    "    if n<= 0:\n",
    "        print(\"Incorrect input\")\n",
    "    elif n == 1:\n",
    "        return 0\n",
    "    elif n == 2:\n",
    "        return 1\n",
    "    else:\n",
    "        return Fibonacci(n-1)+Fibonacci(n-2)\n",
    "print(Fibonacci(4))"
   ]
  },
  {
   "cell_type": "code",
   "execution_count": null,
   "id": "41784340-1f35-4a74-ad67-cc814f7cb3b2",
   "metadata": {},
   "outputs": [],
   "source": [
    "print(Fibonacci(15))"
   ]
  },
  {
   "cell_type": "markdown",
   "id": "c6c851b1-3d2e-4d45-9248-910005c5486e",
   "metadata": {},
   "source": [
    "38. Create a program that generates a calendar for a given month and year using conditional statements."
   ]
  },
  {
   "cell_type": "code",
   "execution_count": 61,
   "id": "d029f9f3-a1b3-4d48-9adf-fbdb5d13c32e",
   "metadata": {},
   "outputs": [
    {
     "name": "stdin",
     "output_type": "stream",
     "text": [
      "Enter the year : 1995\n",
      "Enter the month (1-12) : 7\n"
     ]
    },
    {
     "name": "stdout",
     "output_type": "stream",
     "text": [
      "     July 1995\n",
      "Mo Tu We Th Fr Sa Su\n",
      "                1  2\n",
      " 3  4  5  6  7  8  9\n",
      "10 11 12 13 14 15 16\n",
      "17 18 19 20 21 22 23\n",
      "24 25 26 27 28 29 30\n",
      "31\n",
      "\n"
     ]
    }
   ],
   "source": [
    "import calendar\n",
    "year =int(input(\"Enter the year :\"))\n",
    "month =int(input(\"Enter the month (1-12) :\"))\n",
    "if year > 1950 and  month <=12 and month>=1:\n",
    "    cal =calendar.month(year,month)\n",
    "    print(cal)\n",
    "else:\n",
    "    print(\"Invalid year, Month\")"
   ]
  },
  {
   "cell_type": "markdown",
   "id": "9bb73c14-da3c-4f1e-9ec7-33654978bd33",
   "metadata": {},
   "source": [
    "39. Build a program that simulates a basic text-based blackjack game against the computer."
   ]
  },
  {
   "cell_type": "code",
   "execution_count": 6,
   "id": "ad987ba2-8714-4146-bd69-4e91b0a6d019",
   "metadata": {},
   "outputs": [
    {
     "name": "stdout",
     "output_type": "stream",
     "text": [
      "Your hand: [5, 10] (score: 15 )\n",
      "Hit (h) or stand (s)?\n"
     ]
    },
    {
     "name": "stdin",
     "output_type": "stream",
     "text": [
      " h\n"
     ]
    },
    {
     "name": "stdout",
     "output_type": "stream",
     "text": [
      "Your hand: [5, 10, 6] (score: 21 )\n",
      "Hit (h) or stand (s)?\n"
     ]
    },
    {
     "name": "stdin",
     "output_type": "stream",
     "text": [
      " s\n"
     ]
    },
    {
     "name": "stdout",
     "output_type": "stream",
     "text": [
      "You win!\n"
     ]
    }
   ],
   "source": [
    "import random\n",
    "\n",
    "def deal_card():\n",
    "    card_value = random.randint(1, 13)\n",
    "    if card_value <= 10:\n",
    "        return card_value\n",
    "    else:\n",
    "        return 10\n",
    "\n",
    "def calculate_score(hand):\n",
    "    score = 0\n",
    "    for card in hand:\n",
    "        if card == 1:\n",
    "            score += 11\n",
    "        else:\n",
    "            score += card\n",
    "\n",
    "  # If the hand contains an ace and the score is less than or equal to 21,\n",
    "  # then the ace can be counted as 11 or 1.\n",
    "\n",
    "    if score <= 21 and 1 in hand:\n",
    "        score += 10\n",
    "    return score\n",
    "\n",
    "def play_blackjack():\n",
    "    player_hand = []\n",
    "    dealer_hand = []\n",
    "\n",
    "  # Deal two cards to each player.\n",
    "\n",
    "    for _ in range(2):\n",
    "        player_hand.append(deal_card())\n",
    "        dealer_hand.append(deal_card())\n",
    "\n",
    "  # The player's turn.\n",
    "\n",
    "    while True:\n",
    "        print(\"Your hand:\", player_hand, \"(score:\", calculate_score(player_hand), \")\")\n",
    "        print(\"Hit (h) or stand (s)?\")\n",
    "        action = input()\n",
    "        if action == \"h\":\n",
    "            player_hand.append(deal_card())\n",
    "        else:\n",
    "            break\n",
    "\n",
    "  # The dealer's turn.\n",
    "\n",
    "    while calculate_score(dealer_hand) < 17:\n",
    "        dealer_hand.append(deal_card())\n",
    "\n",
    "  # Determine the winner.\n",
    "\n",
    "    if calculate_score(player_hand) > 21:\n",
    "        return \"You bust!\"\n",
    "    elif calculate_score(dealer_hand) > 21:\n",
    "        return \"Dealer bust!\"\n",
    "    elif calculate_score(player_hand) > calculate_score(dealer_hand):\n",
    "        return \"You win!\"\n",
    "    else:\n",
    "        return \"Dealer wins!\"\n",
    "\n",
    "if __name__ == \"__main__\":\n",
    "    print(play_blackjack())"
   ]
  },
  {
   "cell_type": "markdown",
   "id": "378c6b03-e0a3-47f6-86b1-a47f5d78a4ba",
   "metadata": {},
   "source": [
    "40. Write a program that generates the prime factors of a given number using trial division."
   ]
  },
  {
   "cell_type": "code",
   "execution_count": 71,
   "id": "40c4e1ed-ede2-4734-9d66-9f17ae3b5bd5",
   "metadata": {},
   "outputs": [
    {
     "name": "stdout",
     "output_type": "stream",
     "text": [
      "23\n"
     ]
    }
   ],
   "source": [
    "def largest_prime_factor(n):  \n",
    "    i = 2  \n",
    "    while i * i <= n:  \n",
    "        if n % i:  \n",
    "            i += 1  \n",
    "        else:  \n",
    "            n //= i  \n",
    "    return n  \n",
    "  \n",
    "print(largest_prime_factor(345))"
   ]
  },
  {
   "cell_type": "code",
   "execution_count": 72,
   "id": "a0f646c6-eca9-4ca0-91c7-7de9f2d1a883",
   "metadata": {},
   "outputs": [
    {
     "name": "stdout",
     "output_type": "stream",
     "text": [
      "5\n"
     ]
    }
   ],
   "source": [
    "print(largest_prime_factor(45))"
   ]
  },
  {
   "cell_type": "code",
   "execution_count": null,
   "id": "fe74aef9-6635-40b8-85b7-6ce1de452621",
   "metadata": {},
   "outputs": [],
   "source": []
  }
 ],
 "metadata": {
  "kernelspec": {
   "display_name": "Python 3 (ipykernel)",
   "language": "python",
   "name": "python3"
  },
  "language_info": {
   "codemirror_mode": {
    "name": "ipython",
    "version": 3
   },
   "file_extension": ".py",
   "mimetype": "text/x-python",
   "name": "python",
   "nbconvert_exporter": "python",
   "pygments_lexer": "ipython3",
   "version": "3.10.8"
  }
 },
 "nbformat": 4,
 "nbformat_minor": 5
}
