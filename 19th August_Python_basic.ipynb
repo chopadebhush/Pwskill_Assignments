{
 "cells": [
  {
   "cell_type": "markdown",
   "id": "e6176edc-def7-4d9c-8eb8-484d0fec7355",
   "metadata": {
    "tags": []
   },
   "source": [
    "## `Assignment :1`\n"
   ]
  },
  {
   "cell_type": "markdown",
   "id": "909477a4-6e82-40e4-89c1-94480e7aa80e",
   "metadata": {},
   "source": [
    "## `TOPIC: Python Basics Variable......`"
   ]
  },
  {
   "cell_type": "markdown",
   "id": "d9fe3745-c649-4248-9216-c8c9e1ef26f8",
   "metadata": {},
   "source": [
    "1.` Declare two variables, `x` and `y`, and assign them integer values.Swap the\n",
    "values of these variables without using any temporary variable`"
   ]
  },
  {
   "cell_type": "code",
   "execution_count": 34,
   "id": "9261e834-0670-4042-9e80-3232823592fd",
   "metadata": {},
   "outputs": [
    {
     "name": "stdout",
     "output_type": "stream",
     "text": [
      "Value of x :10\n",
      "Value of y :20\n"
     ]
    }
   ],
   "source": [
    "# Normal conditions & print the regualar values of variable\n",
    "x= 10 \n",
    "y= 20\n",
    "print(f'Value of x :{x}')\n",
    "print(f'Value of y :{y}')"
   ]
  },
  {
   "cell_type": "code",
   "execution_count": 35,
   "id": "7236706d-2ae7-42bb-b0e8-a7abc2041b46",
   "metadata": {},
   "outputs": [
    {
     "name": "stdout",
     "output_type": "stream",
     "text": [
      "Value of x :20\n",
      "Value of y :10\n"
     ]
    }
   ],
   "source": [
    "# Swap Values without temparary Variable\n",
    "# Using Comma Seprater x,y value assigned to y,x \n",
    "x,y = y,x\n",
    "print(f'Value of x :{x}')\n",
    "print(f'Value of y :{y}')"
   ]
  },
  {
   "cell_type": "markdown",
   "id": "c9a2d03d-63d7-43b0-b5d5-5882fe3dad4b",
   "metadata": {},
   "source": [
    "`2. Create a program that calculates the area of a rectangle. Take the length and\n",
    "width as inputs from the user and store them in variables. Calculate and\n",
    "display the area.`"
   ]
  },
  {
   "cell_type": "code",
   "execution_count": 37,
   "id": "c5069aa8-483d-4fff-9e6d-02173395a576",
   "metadata": {},
   "outputs": [
    {
     "name": "stdin",
     "output_type": "stream",
     "text": [
      "Enter the length : 12.455\n",
      "Enter the width : 45\n"
     ]
    },
    {
     "name": "stdout",
     "output_type": "stream",
     "text": [
      "The Area of Rectangle is :560.475\n"
     ]
    }
   ],
   "source": [
    "length =float(input(\"Enter the length :\")) # Taken Lenth input from user\n",
    "width =float(input(\"Enter the width :\")) # Width input from user\n",
    "Area_of_rectangle = length * width  # Formula\n",
    "print(f\"The Area of Rectangle is :{Area_of_rectangle}\") # Print the Area of rectangle"
   ]
  },
  {
   "cell_type": "markdown",
   "id": "719dff30-fefa-4205-b641-ca09fc468cdf",
   "metadata": {},
   "source": [
    "`3.  Write a Python program that converts temperatures from Celsius to\n",
    "Fahrenheit.Take the temperature in Celsius as input, store it in a variable,\n",
    "convert it to Fahrenheit, and display the result`"
   ]
  },
  {
   "cell_type": "code",
   "execution_count": 39,
   "id": "4229ac30-3232-4bbc-bf61-f60e8f4b6471",
   "metadata": {},
   "outputs": [
    {
     "name": "stdout",
     "output_type": "stream",
     "text": [
      "Temperature conversion into Fahrenheit :93.2\n"
     ]
    }
   ],
   "source": [
    "# f=c*1.8+32 formulea to convert celsius to fahrenheit:\n",
    "celsius = 34\n",
    "fahrenheit =(celsius*1.8+32)\n",
    "print(f\"Temperature conversion into Fahrenheit :{fahrenheit}\")"
   ]
  },
  {
   "cell_type": "code",
   "execution_count": 41,
   "id": "437f66fa-d3a1-4363-a58e-14fc873f485c",
   "metadata": {},
   "outputs": [
    {
     "name": "stdin",
     "output_type": "stream",
     "text": [
      "Enter the value of temp C : 23.34\n"
     ]
    },
    {
     "name": "stdout",
     "output_type": "stream",
     "text": [
      "Temperature conversion into Fahrenheit :74.012\n"
     ]
    }
   ],
   "source": [
    "# Take input from User \n",
    "cel = float(input(\"Enter the value of temp C :\"))\n",
    "f=(cel*1.8+32)\n",
    "print(f\"Temperature conversion into Fahrenheit :{f}\")"
   ]
  },
  {
   "cell_type": "markdown",
   "id": "c32d1585-e936-4039-b91d-e6a5fae30421",
   "metadata": {},
   "source": [
    "## `TOPIC: String Based Questions :`"
   ]
  },
  {
   "cell_type": "markdown",
   "id": "eae142bf-08fe-4130-b6ed-7278fde9bda2",
   "metadata": {},
   "source": [
    "`1. Write a Python program that takes a string as input and prints the length of\n",
    "the string`"
   ]
  },
  {
   "cell_type": "code",
   "execution_count": 43,
   "id": "38340b3b-1325-4d6e-8abf-9788aac55138",
   "metadata": {},
   "outputs": [
    {
     "name": "stdin",
     "output_type": "stream",
     "text": [
      "Enter the string : India is my country\n"
     ]
    },
    {
     "name": "stdout",
     "output_type": "stream",
     "text": [
      "19\n"
     ]
    }
   ],
   "source": [
    "String =input(\"Enter the string :\") # Taken input from string\n",
    "print(len(String)) # Print the length of string"
   ]
  },
  {
   "cell_type": "markdown",
   "id": "cb54e420-2262-4fa2-a012-2013061fd809",
   "metadata": {},
   "source": [
    "`2. Create a program that takes a sentence from the user and counts the number\n",
    "of vowels (a, e, i, o, u) in the string`"
   ]
  },
  {
   "cell_type": "code",
   "execution_count": 59,
   "id": "1d49b4a0-30fc-46d9-acb7-0628301ee9fc",
   "metadata": {},
   "outputs": [
    {
     "name": "stdin",
     "output_type": "stream",
     "text": [
      "Enter the sentence from user : Hello My name is bhushan from pune\n"
     ]
    },
    {
     "name": "stdout",
     "output_type": "stream",
     "text": [
      "length of string is: 34\n",
      "count of a :2, count of e:3, Count of i :1,Count of O :2,Count of u :2\n"
     ]
    }
   ],
   "source": [
    "var_a =input(\"Enter the sentence from user :\") #Take the input from user\n",
    "print(f\"length of string is: {len(var_a)}\") # Print the lenght of Strings\n",
    "\n",
    "\n",
    "#Count the numbers of vowels Print statements:\n",
    "print(f\"count of a :{var_a.count('a')}, count of e:{var_a.count('e')}, Count of i :{var_a.count('i')},Count of O :{var_a.count('o')},Count of u :{var_a.count('u')}\")"
   ]
  },
  {
   "cell_type": "markdown",
   "id": "d5a9ebc2-9970-42f7-a516-282604391371",
   "metadata": {},
   "source": [
    "`3. Given a string, reverse the order of characters using string slicing and print\n",
    "the reversed string`"
   ]
  },
  {
   "cell_type": "code",
   "execution_count": 67,
   "id": "a19bd606-1b69-414b-bf9d-c494411c5d18",
   "metadata": {},
   "outputs": [
    {
     "data": {
      "text/plain": [
       "'enup morf nahsuhb si eman ym olleH'"
      ]
     },
     "execution_count": 67,
     "metadata": {},
     "output_type": "execute_result"
    }
   ],
   "source": [
    "# define the s1 as string\n",
    "S1= \"Hello my name is bhushan from pune\"\n",
    "S1[::-1] # Start- Stop- Steps"
   ]
  },
  {
   "cell_type": "markdown",
   "id": "833da185-62f5-4b7e-9161-259418dc9f50",
   "metadata": {},
   "source": [
    "`4. Write a program that takes a string as input and checks if it is a palindrome\n",
    "(reads the same forwards and backwards).`"
   ]
  },
  {
   "cell_type": "code",
   "execution_count": 38,
   "id": "0cbbb570-c193-459e-b2b8-611a291b91fa",
   "metadata": {},
   "outputs": [
    {
     "name": "stdin",
     "output_type": "stream",
     "text": [
      "Enter the your input : nayan\n"
     ]
    },
    {
     "name": "stdout",
     "output_type": "stream",
     "text": [
      "The string is panlindrome\n"
     ]
    }
   ],
   "source": [
    "User_input =input(\"Enter the your input :\")  # Teken input from user\n",
    " # Do reverse string\n",
    "if (User_input == User_input[::-1]): #Check Condition\n",
    "    print(\"The string is panlindrome\") # If Yes\n",
    "else:\n",
    "    print(\"The string is not panlindrome\") # If N0"
   ]
  },
  {
   "cell_type": "markdown",
   "id": "2dba8d56-c6f9-451a-97c6-26c10051f5c0",
   "metadata": {},
   "source": [
    "`5. Create a program that takes a string as input and removes all the spaces from\n",
    "it. Print the modified string without spaces.`"
   ]
  },
  {
   "cell_type": "code",
   "execution_count": 71,
   "id": "e41517b1-c722-4769-9582-e73a40f74613",
   "metadata": {},
   "outputs": [
    {
     "name": "stdout",
     "output_type": "stream",
     "text": [
      "HelloMynameisBhushan\n"
     ]
    }
   ],
   "source": [
    "user_string =\"Hello My name is Bhushan\" #Define string as input\n",
    "After_replace=user_string.replace(\" \",\"\") #Remove space by using replace \n",
    "# Print after removing Spaces\n",
    "print(After_replace)"
   ]
  },
  {
   "cell_type": "code",
   "execution_count": null,
   "id": "18a88538-ede6-4696-81d2-6078b24adaac",
   "metadata": {},
   "outputs": [],
   "source": []
  }
 ],
 "metadata": {
  "kernelspec": {
   "display_name": "Python 3 (ipykernel)",
   "language": "python",
   "name": "python3"
  },
  "language_info": {
   "codemirror_mode": {
    "name": "ipython",
    "version": 3
   },
   "file_extension": ".py",
   "mimetype": "text/x-python",
   "name": "python",
   "nbconvert_exporter": "python",
   "pygments_lexer": "ipython3",
   "version": "3.10.8"
  }
 },
 "nbformat": 4,
 "nbformat_minor": 5
}
