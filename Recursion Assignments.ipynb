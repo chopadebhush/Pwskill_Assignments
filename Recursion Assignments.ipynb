{
 "cells": [
  {
   "cell_type": "markdown",
   "id": "557383c7-7eab-4f9b-a488-31aa69d79bbf",
   "metadata": {},
   "source": [
    "Q1.Can you explain the logic and working of the Tower of Hanoi algorithm by writing a Java program?\n",
    "How does the recursion work, and how are the movements of disks between rods accomplished?"
   ]
  },
  {
   "cell_type": "markdown",
   "id": "96010794-2f1c-4b8a-b171-46fadf0fcdd1",
   "metadata": {},
   "source": [
    "Ans :\n",
    "    \n",
    "    The logic of the Tower of Hanoi algorithm is based on recursion, a technique where a function calls itself repeatedly to solve a problem. In this case, the function takes the number of disks, the source rod, the destination rod, and the auxiliary rod as parameters. The function then recursively moves the top (n-1) disks from the source rod to the auxiliary rod using the destination rod as a temporary storage. Next, it moves the remaining disk from the source rod to the destination rod. Finally, it recursively moves the (n-1) disks from the auxiliary rod to the destination rod using the source rod as a temporary storage.\n",
    "    \n",
    "    In this program, the towerOfHanoi function recursively moves the disks from the source rod to the destination rod using the auxiliary rod as a temporary storage. The recursion stops when the number of disks to be moved is 1, in which case the disk is simply moved from the source rod to the destination rod.\n",
    "\n",
    "    The movements of disks between rods are accomplished by printing a message indicating which disk is being moved from which rod to which rod. This message is printed within the towerOfHanoi function, so it is printed for each recursive call, representing the movement of a single disk.\n",
    "    "
   ]
  },
  {
   "cell_type": "markdown",
   "id": "af677597-7a91-469e-a9e4-1d4b0f716b22",
   "metadata": {},
   "source": [
    "Q.2 Given two strings word1 and word2, return the minimum number of operations required to convert word1 to word2."
   ]
  },
  {
   "cell_type": "markdown",
   "id": "38d8d4ff-51b5-42b7-a3f3-60b9cfcb7736",
   "metadata": {},
   "source": [
    "Example 1:\n",
    "\n",
    " Input: word1 = \"horse\", word2 = \"ros\"\n",
    "\n",
    " Output: 3\n",
    "\n",
    " Explanation: \n",
    "\n",
    " horse -> rorse (replace 'h' with 'r')\n",
    "\n",
    " rorse -> rose (remove 'r')\n",
    "\n",
    " rose -> ros (remove 'e')"
   ]
  },
  {
   "cell_type": "markdown",
   "id": "a6be21ce-deeb-4f8e-a508-848d90f1d246",
   "metadata": {},
   "source": [
    "Example 2:\n",
    "\n",
    " Input: word1 = \"intention\", word2 = \"execution\"\n",
    "\n",
    " Output: 5\n",
    "\n",
    " Explanation: \n",
    "\n",
    " intention -> inention (remove 't')\n",
    "\n",
    " inention -> enention (replace 'i' with 'e')\n",
    "\n",
    " enention -> exention (replace 'n' with 'x')\n",
    "\n",
    " exention -> exection (replace 'n' with 'c')\n",
    "\n",
    " exection -> execution (insert 'u'"
   ]
  },
  {
   "cell_type": "code",
   "execution_count": 2,
   "id": "870130d6-d77d-40bb-8472-cebf3014bd65",
   "metadata": {},
   "outputs": [
    {
     "name": "stdout",
     "output_type": "stream",
     "text": [
      "3\n"
     ]
    }
   ],
   "source": [
    "def minDistance(word1, word2):\n",
    "    m, n = len(word1), len(word2)\n",
    "\n",
    "    # Create a 2D array to store the minimum number of operations\n",
    "    dp = [[0] * (n + 1) for _ in range(m + 1)]\n",
    "\n",
    "    # Initialize the first row and first column\n",
    "    for i in range(m + 1):\n",
    "        dp[i][0] = i\n",
    "    for j in range(n + 1):\n",
    "        dp[0][j] = j\n",
    "\n",
    "    # Fill in the DP array\n",
    "    for i in range(1, m + 1):\n",
    "        for j in range(1, n + 1):\n",
    "            if word1[i - 1] == word2[j - 1]:\n",
    "                dp[i][j] = dp[i - 1][j - 1]\n",
    "            else:\n",
    "                dp[i][j] = min(dp[i - 1][j], dp[i][j - 1], dp[i - 1][j - 1]) + 1\n",
    "\n",
    "    return dp[m][n]\n",
    "\n",
    "# Drvier Code:\n",
    "word1 = \"horse\"\n",
    "word2 = \"ros\"\n",
    "result = minDistance(word1, word2)\n",
    "print(result)  # Output: 3"
   ]
  },
  {
   "cell_type": "markdown",
   "id": "5fba81c9-a96f-4e1c-a8df-62910e664e29",
   "metadata": {},
   "source": [
    "Q. 3 Print the max value of the array [ 13, 1, -3, 22, 5]"
   ]
  },
  {
   "cell_type": "code",
   "execution_count": 12,
   "id": "8a8825d4-55e9-403b-a6bf-63e22be01e8b",
   "metadata": {},
   "outputs": [
    {
     "name": "stdout",
     "output_type": "stream",
     "text": [
      "25\n"
     ]
    }
   ],
   "source": [
    "def Find_Max(n):\n",
    "    # Base Case Condition\n",
    "    if n == []:\n",
    "        return n[0]\n",
    "    \n",
    "    max_num = n[0]\n",
    "    for i in range(1,len(n)):\n",
    "        if n[i] > max_num :\n",
    "            max_num =n[i]\n",
    "    return max_num\n",
    "    \n",
    "# Driver Code\n",
    "array =[ 13, 1, -3, 25, 5]\n",
    "result =Find_Max(array)\n",
    "print(result)"
   ]
  },
  {
   "cell_type": "markdown",
   "id": "429f0b5c-097d-4ec0-91e6-9776f082dc9c",
   "metadata": {},
   "source": [
    "OR"
   ]
  },
  {
   "cell_type": "code",
   "execution_count": 4,
   "id": "fa009ab7-fc12-4979-9a45-68e22d7bcdc6",
   "metadata": {},
   "outputs": [],
   "source": [
    "def findMaxRec(A, n):\n",
    "    if (n == 1):\n",
    "        return A[0]\n",
    "    return max(A[n - 1], findMaxRec(A, n - 1))"
   ]
  },
  {
   "cell_type": "code",
   "execution_count": 8,
   "id": "989ba019-5102-40f3-9f4c-7fc2d4900848",
   "metadata": {},
   "outputs": [
    {
     "name": "stdout",
     "output_type": "stream",
     "text": [
      "25\n"
     ]
    }
   ],
   "source": [
    "array =[ 13, 1, -3, 25, 5]\n",
    "n = len(array)\n",
    "result =findMaxRec(array ,n)\n",
    "print(result)"
   ]
  },
  {
   "cell_type": "markdown",
   "id": "6f4bbb25-3fad-4123-96ed-6a9cd4c73b93",
   "metadata": {},
   "source": [
    "Q.4 Find the sum of the values of the array [92, 23, 15, -20, 10]."
   ]
  },
  {
   "cell_type": "code",
   "execution_count": 9,
   "id": "46eac6b3-8a95-424f-a3de-6ab9c4dd790f",
   "metadata": {},
   "outputs": [],
   "source": [
    "def Find_Sum(a ,n):\n",
    "    # Base Case Condition\n",
    "    if n == 0 :\n",
    "        return 0\n",
    "    \n",
    "    else :\n",
    "        return Find_Sum(a ,n-1) + a[n-1]\n",
    "        "
   ]
  },
  {
   "cell_type": "code",
   "execution_count": 10,
   "id": "90044359-08fd-4a7d-8fe6-d1a51aa9c6eb",
   "metadata": {},
   "outputs": [
    {
     "name": "stdout",
     "output_type": "stream",
     "text": [
      "120\n"
     ]
    }
   ],
   "source": [
    "# Driver code\n",
    "array = [92, 23, 15, -20, 10]\n",
    "rest = Find_Sum(array ,len(array))\n",
    "print(rest)"
   ]
  },
  {
   "cell_type": "markdown",
   "id": "899392e4-5e22-4e8a-b1d5-c17546d4929f",
   "metadata": {},
   "source": [
    "Q.5 Given a number n. Print if it is an armstrong number or not.An armstrong number is a number if the sum \n",
    "of every digit in that number raised to the power of total digits in that number is equal to the number.\n",
    "\n",
    "Example : 153 = 1^3 + 5^3 + 3^3 = 1 + 125 + 27 = 153 hence 153 is an armstrong number. (Easy)\n",
    "\n",
    "\n",
    "Input1 : 153\n",
    "\n",
    "\n",
    "Output1 : Yes\n",
    "\n",
    "\n",
    "\n",
    "Input 2 : 134\n",
    "\n",
    "Output2 : No"
   ]
  },
  {
   "cell_type": "code",
   "execution_count": 2,
   "id": "cc318823-793c-4c17-9d5c-1ce9f2a74bd0",
   "metadata": {},
   "outputs": [
    {
     "name": "stdin",
     "output_type": "stream",
     "text": [
      "Enter a number:  1\n"
     ]
    },
    {
     "name": "stdout",
     "output_type": "stream",
     "text": [
      "Yes\n"
     ]
    }
   ],
   "source": [
    "def is_armstrong_number(n):\n",
    "    # Calculate the total number of digits in n\n",
    "    num_digits = len(str(n))\n",
    "    \n",
    "    # Calculate the sum of each digit raised to the power of the total number of digits\n",
    "    sum_of_digits = sum(int(digit) ** num_digits for digit in str(n))\n",
    "    \n",
    "    # Check if the sum is equal to the original number\n",
    "    if sum_of_digits == n:\n",
    "        return \"Yes\"\n",
    "    else:\n",
    "        return \"No\"\n",
    "\n",
    "# Example usage:\n",
    "input_number = int(input(\"Enter a number: \"))\n",
    "result = is_armstrong_number(input_number)\n",
    "print(result)"
   ]
  },
  {
   "cell_type": "code",
   "execution_count": null,
   "id": "472dc778-681d-44ff-bc29-09871fc34663",
   "metadata": {},
   "outputs": [],
   "source": []
  },
  {
   "cell_type": "code",
   "execution_count": null,
   "id": "ddd976d9-2a0c-4364-a937-fdc48e97a8f8",
   "metadata": {},
   "outputs": [],
   "source": []
  },
  {
   "cell_type": "code",
   "execution_count": null,
   "id": "f04a8dc6-57dd-44a9-b8bf-97d457bdf4e5",
   "metadata": {},
   "outputs": [],
   "source": []
  },
  {
   "cell_type": "code",
   "execution_count": null,
   "id": "c003ea2f-8601-459b-b340-c399930f17b7",
   "metadata": {},
   "outputs": [],
   "source": []
  },
  {
   "cell_type": "code",
   "execution_count": null,
   "id": "0273abd9-3f73-48d7-b4d6-681cdc2ace85",
   "metadata": {},
   "outputs": [],
   "source": []
  },
  {
   "cell_type": "code",
   "execution_count": null,
   "id": "37663b9c-e3a5-47a9-8a2d-c2ba4b0ac5e9",
   "metadata": {},
   "outputs": [],
   "source": []
  }
 ],
 "metadata": {
  "kernelspec": {
   "display_name": "Python 3 (ipykernel)",
   "language": "python",
   "name": "python3"
  },
  "language_info": {
   "codemirror_mode": {
    "name": "ipython",
    "version": 3
   },
   "file_extension": ".py",
   "mimetype": "text/x-python",
   "name": "python",
   "nbconvert_exporter": "python",
   "pygments_lexer": "ipython3",
   "version": "3.10.8"
  }
 },
 "nbformat": 4,
 "nbformat_minor": 5
}
