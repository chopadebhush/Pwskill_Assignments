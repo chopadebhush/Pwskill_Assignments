{
 "cells": [
  {
   "cell_type": "markdown",
   "id": "06c7f55f-ca7a-42d8-b713-f0e25e86b402",
   "metadata": {},
   "source": [
    "Problem 1.Given an array of n numbers, give an algorithm which gives the element appearing maximum\n",
    "number of times?"
   ]
  },
  {
   "cell_type": "code",
   "execution_count": 46,
   "id": "23d7fa8e-98c8-4076-9633-6a7e5a1a3a98",
   "metadata": {},
   "outputs": [],
   "source": [
    "def Element_Appear(arr):\n",
    "    n=len(arr)\n",
    "    max_count = 0 \n",
    "    element_having_max_freq =0\n",
    "    for i in range(0,n):\n",
    "        count =0\n",
    "        for j in range(0,n):\n",
    "            if arr[i] ==arr[j]:\n",
    "                count =count +1\n",
    "        if(count > max_count) :\n",
    "            max_count =count\n",
    "            element_having_max_freq =arr[i]\n",
    "    else:\n",
    "        print(\"Computation has completed...\")\n",
    "    return element_having_max_freq , max_count"
   ]
  },
  {
   "cell_type": "code",
   "execution_count": 47,
   "id": "61fd87e0-cd54-4433-8906-c4c51a69b0e7",
   "metadata": {},
   "outputs": [
    {
     "name": "stdout",
     "output_type": "stream",
     "text": [
      "Computation has completed...\n",
      "(1, 4)\n"
     ]
    }
   ],
   "source": [
    "#driver Code\n",
    "arr =[6,1,1,1,1,6,2]\n",
    "\n",
    "print(Element_Appear(arr))"
   ]
  },
  {
   "cell_type": "markdown",
   "id": "4c9063b0-5f58-402f-a18d-f53ddc97fa64",
   "metadata": {},
   "source": [
    "Problem 2 : We are given a list of n-1 integers and these integers are in the range of 1 to n . There are no\n",
    "duplicates in the list. One of the integers is missing in the list. Give an algorithm to find that element Ex:\n",
    "[1,2,4,6,3,7,8] 5 is the missing num."
   ]
  },
  {
   "cell_type": "code",
   "execution_count": 21,
   "id": "0220bb8a-62f5-423d-ad48-8a20ec428ff6",
   "metadata": {},
   "outputs": [],
   "source": [
    "def FindInteger(arr):\n",
    "    # Find length of Arr\n",
    "    n =len(arr)+1\n",
    "    \n",
    "    # Calcualte Expected sum of by using length\n",
    "    expected_sum = n*(n+1)/2\n",
    "    \n",
    "    # By using For loop compute actual Sum of array\n",
    "    Actual_sum = 0\n",
    "    for i in range(len(arr)):\n",
    "        Actual_sum =Actual_sum +arr[i]\n",
    "    \n",
    "    # Find the missing Values \n",
    "    missing_number = expected_sum - Actual_sum\n",
    "    return round(missing_number)          "
   ]
  },
  {
   "cell_type": "code",
   "execution_count": 28,
   "id": "b3f7fd28-5e2f-4a28-b45d-eda5b095a153",
   "metadata": {},
   "outputs": [
    {
     "name": "stdout",
     "output_type": "stream",
     "text": [
      "The missing integer is : 5\n"
     ]
    }
   ],
   "source": [
    "# Driver code\n",
    "arr =[1,2,4,6,3,7,8]\n",
    "print(\"The missing integer is :\",FindInteger(arr))"
   ]
  },
  {
   "cell_type": "markdown",
   "id": "ccd72e1f-eb92-4982-860b-b35693ea663f",
   "metadata": {},
   "source": [
    "Problem 3 : Given an array of n positive numbers. All numbers occurs even number of times except 1 which\n",
    "occurs odd number of times. Find that number in O(n) time and O(1) space. Ex: [1,2,3,2,3,1,3]. 3 is repeats odd\n",
    "times."
   ]
  },
  {
   "cell_type": "code",
   "execution_count": 25,
   "id": "e413aef0-3768-4f30-b976-d590ddbc7b14",
   "metadata": {},
   "outputs": [],
   "source": [
    "def FindOddOccurance(arr):\n",
    "    # Xor all given elements\n",
    "    Xor = 0\n",
    "    for i in range(len(arr)):\n",
    "        Xor ^= arr[i]\n",
    "    return Xor"
   ]
  },
  {
   "cell_type": "code",
   "execution_count": 27,
   "id": "0e26da0d-da86-4dc6-8c02-c7085ca7f8d7",
   "metadata": {},
   "outputs": [
    {
     "name": "stdout",
     "output_type": "stream",
     "text": [
      "The odd occurance element is : 3\n"
     ]
    }
   ],
   "source": [
    "# Driver Code \n",
    "arr =[1,2,3,2,3,1,3]\n",
    "print(\"The odd occurance element is :\",FindOddOccurance(arr))"
   ]
  },
  {
   "cell_type": "markdown",
   "id": "2a5e367d-f8c2-4d46-86b3-e99d61aa2883",
   "metadata": {},
   "source": [
    "Problem 4 : Given an array of n elements. Find two elements in the array such that their sum is equal to given\n",
    "element K."
   ]
  },
  {
   "cell_type": "code",
   "execution_count": 31,
   "id": "0ec9cc1b-f7c1-4b78-86a8-4ac65fd28600",
   "metadata": {},
   "outputs": [],
   "source": [
    "def Sum_of_Two(arr ,k):\n",
    "    for i in range(0, len(arr)-1):\n",
    "        for j in range(i+1 ,len(arr)):\n",
    "            if (arr[i] + arr[j]== k):\n",
    "                return True\n",
    "            \n",
    "    return False"
   ]
  },
  {
   "cell_type": "code",
   "execution_count": 41,
   "id": "7cafca6b-2878-47ed-a2e7-5923dd585e66",
   "metadata": {},
   "outputs": [
    {
     "name": "stdout",
     "output_type": "stream",
     "text": [
      "True\n"
     ]
    }
   ],
   "source": [
    "# Driver Code\n",
    "arr =[1,2,3,2,3,1,3]\n",
    "print(Sum_of_Two(arr,2))"
   ]
  },
  {
   "cell_type": "markdown",
   "id": "e5b8816a-ee19-4b6b-966b-72ff3b25fde6",
   "metadata": {},
   "source": [
    "Problem 5 : Given an array of both positive and negative numbers, find two numbers such that their sum is\n",
    "closest to 0. Ex: [ 1 ,60 ,-10, 70, -80,85]. Ans : -80,85."
   ]
  },
  {
   "cell_type": "code",
   "execution_count": 168,
   "id": "20b9092c-47c1-4692-aa40-8014e04eab6d",
   "metadata": {},
   "outputs": [],
   "source": [
    "def closest_pair(arr):\n",
    "    arr.sort()\n",
    "    left ,right = 0 ,len(arr)-1\n",
    "    min_differance = float(\"inf\")\n",
    "    closest_pair =None\n",
    "    \n",
    "    while(left < right):\n",
    "        current_diff = abs(arr[left] + arr[right])\n",
    "        if current_diff < min_differance:\n",
    "            min_differance =current_diff\n",
    "            closest_pair = arr[left] ,arr[right]\n",
    "            \n",
    "        if  arr[left] + arr[right] < 0:\n",
    "            left =left +1\n",
    "        else:\n",
    "            right =right -1\n",
    "    return closest_pair ,min_differance"
   ]
  },
  {
   "cell_type": "code",
   "execution_count": 178,
   "id": "3217652c-d44d-46f2-b7f6-8a0fc230ef6c",
   "metadata": {},
   "outputs": [
    {
     "name": "stdout",
     "output_type": "stream",
     "text": [
      "((-80, 85), 5)\n"
     ]
    }
   ],
   "source": [
    "arr =[1 ,60 ,-10, 70,-80, 85]\n",
    "print(closest_pair(arr))"
   ]
  },
  {
   "cell_type": "markdown",
   "id": "ab3d3922-83c3-4569-852e-300e2835e67e",
   "metadata": {},
   "source": [
    "Problem 6 : Given an array of n elements . Find three elements such that their sum is equal to the given\n",
    "number."
   ]
  },
  {
   "cell_type": "code",
   "execution_count": 180,
   "id": "24ddcbca-3594-444d-8df9-677f4053dc84",
   "metadata": {},
   "outputs": [],
   "source": [
    "def Sum_ofGivenNum(arr ,num):\n",
    "    for i in range(len(arr)):\n",
    "        for j in range(i+1 ,len(arr)):\n",
    "            for k in range(j+1 ,len(arr)):\n",
    "                if arr[i] + arr[j] + arr[k] == num :\n",
    "                    return arr[i] ,arr[j] ,arr[k]\n",
    "    return None"
   ]
  },
  {
   "cell_type": "code",
   "execution_count": 185,
   "id": "9fa68bb6-4ea7-4335-93a7-083a4a2ca483",
   "metadata": {},
   "outputs": [
    {
     "name": "stdout",
     "output_type": "stream",
     "text": [
      "(20, 20, 10)\n"
     ]
    }
   ],
   "source": [
    "arr =[1,20,20,10,60,70]\n",
    "print(Sum_ofGivenNum(arr ,50))"
   ]
  },
  {
   "cell_type": "markdown",
   "id": "7fa47310-f49a-44f8-90a7-8ee8156fff58",
   "metadata": {},
   "source": [
    "Problem 7 : Given an array of n elements . Find three elements i, j, k in the array such that\n",
    "i * i + j * j = k*k."
   ]
  },
  {
   "cell_type": "code",
   "execution_count": 60,
   "id": "e4299abf-00ba-4c2f-83a5-ae6b50b1d389",
   "metadata": {},
   "outputs": [],
   "source": [
    "def ThreeElement(arr):\n",
    "    for i in range(len(arr)):\n",
    "        for j in range(i+1 ,len(arr)):\n",
    "            for k in range(j+1 ,len(arr)):\n",
    "                if arr[i]*arr[i] + arr[j] *arr[j] == arr[k] * arr[k]:\n",
    "                    return arr[i] ,arr[j] ,arr[k]\n",
    "    return None"
   ]
  },
  {
   "cell_type": "code",
   "execution_count": 61,
   "id": "73e8ce5a-3dc3-4caf-8cfa-55f89138c4b6",
   "metadata": {},
   "outputs": [],
   "source": [
    "arr =[1,3,2,2,50,60]\n",
    "ThreeElement(arr)"
   ]
  },
  {
   "cell_type": "markdown",
   "id": "ba50059e-b5c6-49d0-b2e9-70e30364dbe5",
   "metadata": {},
   "source": [
    "Problem 8 : An element is a majority if it appears more than n/2 times. Give an algorithm takes an array of n\n",
    "element as argument and identifies a majority (if it exists)."
   ]
  },
  {
   "cell_type": "code",
   "execution_count": 48,
   "id": "90086145-4c7e-4679-80d5-097e4b516731",
   "metadata": {},
   "outputs": [],
   "source": [
    "def majority(arr):\n",
    "    max_count =0\n",
    "    index = -1\n",
    "    for i in range(len(arr)):\n",
    "        count = 1\n",
    "        for j in range(i+1 ,len(arr)):\n",
    "            if arr[i] == arr[j]:\n",
    "                count +=1\n",
    "        if count > max_count:\n",
    "            max_count =count\n",
    "            index = i\n",
    "            \n",
    "    if max_count > len(arr)//2:\n",
    "        print(arr[index])\n",
    "            \n",
    "    else:\n",
    "        print(\"No majority Elements found\")"
   ]
  },
  {
   "cell_type": "code",
   "execution_count": 58,
   "id": "db7d3d54-9299-46fb-b5bf-78ac47e030b9",
   "metadata": {},
   "outputs": [
    {
     "name": "stdout",
     "output_type": "stream",
     "text": [
      "3\n"
     ]
    }
   ],
   "source": [
    "#Driver Code\n",
    "\n",
    "arr =[2,3,3,3,3,3,2,1]\n",
    "majority(arr)"
   ]
  },
  {
   "cell_type": "markdown",
   "id": "d9649001-7575-44b0-8cff-d1142b76c063",
   "metadata": {},
   "source": [
    "Problem 9 : Given n × n matrix, and in each row all 1’s are followed by 0’s. Find the row with the maximum\n",
    "number of 0’s."
   ]
  },
  {
   "cell_type": "code",
   "execution_count": 62,
   "id": "4148eacf-dc50-4bf3-b9d2-76a6fbe24f30",
   "metadata": {},
   "outputs": [],
   "source": [
    "def find_row_with_most_zeros(matrix):\n",
    "    max_count = 0\n",
    "    row_with_most_zeros = 0\n",
    "    for i, row in enumerate(matrix):\n",
    "        current_count = 0\n",
    "        for element in row:\n",
    "            if element == 0:\n",
    "                current_count += 1\n",
    "            else:\n",
    "                current_count = 0\n",
    "    if current_count > max_count:\n",
    "        max_count = current_count\n",
    "        row_with_most_zeros = i\n",
    "    return row_with_most_zeros"
   ]
  },
  {
   "cell_type": "code",
   "execution_count": 65,
   "id": "8d06e00a-4dbb-41cd-972c-3eae53e14498",
   "metadata": {},
   "outputs": [
    {
     "name": "stdout",
     "output_type": "stream",
     "text": [
      "Row with the most 0's: 4\n"
     ]
    }
   ],
   "source": [
    "# driver Code\n",
    "matrix = [[1, 1, 1, 0, 0, 0],\n",
    "          [1, 1, 0, 0, 0, 0],\n",
    "          [1, 0, 0, 0, 0, 0],\n",
    "          [0, 0, 0, 0, 0, 0]]\n",
    "\n",
    "\n",
    "row_index=find_row_with_most_zeros(matrix)\n",
    "print(f\"Row with the most 0's: {row_index + 1}\")"
   ]
  },
  {
   "cell_type": "markdown",
   "id": "c8ff325c-92ce-483d-a066-3ce9ccfd4e8c",
   "metadata": {},
   "source": [
    "Problem 10 : Sort an array of 0’s, 1’s and 2’s [or R’s, G’s and B’s]: Given an array A[] consisting of 0’s, 1’s and\n",
    "2’s, give an algorithm for sorting A[].The algorithm should put all 0’s first, then all 1’s and finally all 2’s at the\n",
    "end. Example Input = {0,1,1,0,1,2,1,2,0,0,0,1}, Output = {0,0,0,0,0,1,1,1,1,1,2,2}"
   ]
  },
  {
   "cell_type": "code",
   "execution_count": 23,
   "id": "89228a3d-4fdd-47e1-b5e3-337ac5c5abc4",
   "metadata": {},
   "outputs": [],
   "source": [
    "def sort012(arr, n):\n",
    "    # Initialisation\n",
    "    l = 0\n",
    "    r = n - 1\n",
    " \n",
    "    i = 0\n",
    "    while i < n and i <= r:\n",
    "        # current element is 0\n",
    "        if arr[i] == 0:\n",
    "            arr[l], arr[i] = arr[i], arr[l]\n",
    "            l += 1\n",
    "            i += 1\n",
    "        # current element is 2\n",
    "        elif arr[i] == 2:\n",
    "            arr[i], arr[r] = arr[r], arr[i]\n",
    "            r -= 1\n",
    "        # current element is 1\n",
    "        else:\n",
    "            i += 1\n",
    "    return arr"
   ]
  },
  {
   "cell_type": "code",
   "execution_count": 30,
   "id": "458e52ff-57a4-4190-abeb-a8d39d1707b1",
   "metadata": {},
   "outputs": [
    {
     "data": {
      "text/plain": [
       "[0, 0, 1, 2, 2, 2, 2]"
      ]
     },
     "execution_count": 30,
     "metadata": {},
     "output_type": "execute_result"
    }
   ],
   "source": [
    "arr =[2,2,2,0,2,1,0]\n",
    "sort012(arr,len(arr))"
   ]
  },
  {
   "cell_type": "code",
   "execution_count": null,
   "id": "1118fe7b-6fab-44a6-8adc-bb229874717e",
   "metadata": {},
   "outputs": [],
   "source": []
  },
  {
   "cell_type": "code",
   "execution_count": null,
   "id": "7debec83-a8ff-4f36-a275-5c8e5b44e6b1",
   "metadata": {},
   "outputs": [],
   "source": []
  }
 ],
 "metadata": {
  "kernelspec": {
   "display_name": "Python 3 (ipykernel)",
   "language": "python",
   "name": "python3"
  },
  "language_info": {
   "codemirror_mode": {
    "name": "ipython",
    "version": 3
   },
   "file_extension": ".py",
   "mimetype": "text/x-python",
   "name": "python",
   "nbconvert_exporter": "python",
   "pygments_lexer": "ipython3",
   "version": "3.10.8"
  }
 },
 "nbformat": 4,
 "nbformat_minor": 5
}
