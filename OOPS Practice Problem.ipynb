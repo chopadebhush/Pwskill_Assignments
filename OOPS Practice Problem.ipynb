{
 "cells": [
  {
   "cell_type": "markdown",
   "id": "bdf6fb77-8a0b-4b69-a2fc-5e891333c5c0",
   "metadata": {},
   "source": [
    "`Problem 1:` Bank Account Create a class representing a bank account with attributes like account number, account holder name, and balance. Implement methods to deposit and withdraw money from the account."
   ]
  },
  {
   "cell_type": "code",
   "execution_count": 73,
   "id": "364aee81-3c24-4d51-acc9-ada0478903a7",
   "metadata": {},
   "outputs": [],
   "source": [
    "class bank_account :\n",
    "    \n",
    "    def __init__(self ,account_number, account_holderName, balance):\n",
    "        self.account_number =account_number\n",
    "        self.account_holderName =account_holderName\n",
    "        self.balance =balance\n",
    "        \n",
    "    def deposite_amt(self ,deposite_amount):\n",
    "        print(\"Current Balance is :\",self.balance)\n",
    "        self.balance = self.balance + deposite_amount\n",
    "        print(\"You are Deposited amount in bank is :\",self.balance)\n",
    "        \n",
    "\n",
    "        \n",
    "    def withdraw_amt(self ,withdraw_amount):\n",
    "        print(\"Current Balance is :\",self.balance)\n",
    "        self.balance = self.balance - withdraw_amount\n",
    "        print(\"You are withdraw amount fro bank is :\",self.balance)"
   ]
  },
  {
   "cell_type": "code",
   "execution_count": 74,
   "id": "c289169d-306d-4d58-b219-125dff9afe84",
   "metadata": {},
   "outputs": [],
   "source": [
    "obj_bank_account =bank_account(\"312333445144\",\"Bhushan Chopade\",10000)"
   ]
  },
  {
   "cell_type": "code",
   "execution_count": 75,
   "id": "a2b4492a-93d5-4ea5-9fa8-23c5942b7a4a",
   "metadata": {},
   "outputs": [
    {
     "data": {
      "text/plain": [
       "'Bhushan Chopade'"
      ]
     },
     "execution_count": 75,
     "metadata": {},
     "output_type": "execute_result"
    }
   ],
   "source": [
    "obj_bank_account.account_holderName"
   ]
  },
  {
   "cell_type": "code",
   "execution_count": 76,
   "id": "1a11d7ad-ecd7-427e-af4b-c03d77b98c1c",
   "metadata": {},
   "outputs": [
    {
     "data": {
      "text/plain": [
       "'312333445144'"
      ]
     },
     "execution_count": 76,
     "metadata": {},
     "output_type": "execute_result"
    }
   ],
   "source": [
    "obj_bank_account.account_number"
   ]
  },
  {
   "cell_type": "code",
   "execution_count": 77,
   "id": "af1f5588-3f0c-45d9-b6c3-50afd1197e93",
   "metadata": {},
   "outputs": [
    {
     "data": {
      "text/plain": [
       "10000"
      ]
     },
     "execution_count": 77,
     "metadata": {},
     "output_type": "execute_result"
    }
   ],
   "source": [
    "obj_bank_account.balance"
   ]
  },
  {
   "cell_type": "code",
   "execution_count": 78,
   "id": "db8596d8-8da5-465d-8df5-36664d27eb10",
   "metadata": {},
   "outputs": [
    {
     "name": "stdout",
     "output_type": "stream",
     "text": [
      "Current Balance is : 10000\n",
      "You are Deposited amount in bank is : 11000\n"
     ]
    }
   ],
   "source": [
    "obj_bank_account.deposite_amt(1000)"
   ]
  },
  {
   "cell_type": "code",
   "execution_count": 79,
   "id": "ed6bfef8-33c8-4d47-9685-de10d1649ea3",
   "metadata": {},
   "outputs": [
    {
     "name": "stdout",
     "output_type": "stream",
     "text": [
      "Current Balance is : 11000\n",
      "You are withdraw amount fro bank is : 9000\n"
     ]
    }
   ],
   "source": [
    "obj_bank_account.withdraw_amt(2000)"
   ]
  },
  {
   "cell_type": "markdown",
   "id": "728e30c5-4590-4a83-9351-fd62335f32e1",
   "metadata": {},
   "source": [
    "`Problem 2:` Employee Management Create a class representing an employee with attributes like employee ID, name, and salary. Implement methods to calculate the yearly bonus and display employee details."
   ]
  },
  {
   "cell_type": "code",
   "execution_count": 81,
   "id": "01427c4b-88df-42aa-86cc-f0321bb5f057",
   "metadata": {},
   "outputs": [],
   "source": [
    "class employee_management :\n",
    "    \n",
    "    def __init__(self ,employeeID ,employeeName ,employeeSalery):\n",
    "        self.employeeID =employeeID\n",
    "        self.employeeName =employeeName\n",
    "        self.employeeSalery =employeeSalery\n",
    "        \n",
    "    def display_employee_details(self):\n",
    "        return self.employeeID ,self.employeeName ,self.employeeSalery\n",
    "    \n",
    "    def yearly_bonus(self):\n",
    "        year_bonus =self.employeeSalery / 2\n",
    "        print(\"Yearly bonus of employee is :\",year_bonus)"
   ]
  },
  {
   "cell_type": "code",
   "execution_count": 82,
   "id": "29d483ac-84c6-4171-b0f6-062a59fd4bc7",
   "metadata": {},
   "outputs": [],
   "source": [
    "Bhushan  =employee_management(1 ,\"Bhushan chopade\",50000)"
   ]
  },
  {
   "cell_type": "code",
   "execution_count": 83,
   "id": "a094eb91-b19f-47c0-af69-876f5d0fb8ef",
   "metadata": {},
   "outputs": [
    {
     "data": {
      "text/plain": [
       "1"
      ]
     },
     "execution_count": 83,
     "metadata": {},
     "output_type": "execute_result"
    }
   ],
   "source": [
    "Bhushan.employeeID"
   ]
  },
  {
   "cell_type": "code",
   "execution_count": 84,
   "id": "8f43fca6-3f53-4e14-9f89-5f9660733efe",
   "metadata": {},
   "outputs": [
    {
     "data": {
      "text/plain": [
       "'Bhushan chopade'"
      ]
     },
     "execution_count": 84,
     "metadata": {},
     "output_type": "execute_result"
    }
   ],
   "source": [
    "Bhushan.employeeName"
   ]
  },
  {
   "cell_type": "code",
   "execution_count": 85,
   "id": "acb253e1-fe46-404a-9311-ec6472755c18",
   "metadata": {},
   "outputs": [
    {
     "data": {
      "text/plain": [
       "50000"
      ]
     },
     "execution_count": 85,
     "metadata": {},
     "output_type": "execute_result"
    }
   ],
   "source": [
    "Bhushan.employeeSalery"
   ]
  },
  {
   "cell_type": "code",
   "execution_count": 87,
   "id": "0765dccc-c323-4abf-b0c2-f2ebeb2d17c1",
   "metadata": {},
   "outputs": [
    {
     "data": {
      "text/plain": [
       "(1, 'Bhushan chopade', 50000)"
      ]
     },
     "execution_count": 87,
     "metadata": {},
     "output_type": "execute_result"
    }
   ],
   "source": [
    "Bhushan.display_employee_details()"
   ]
  },
  {
   "cell_type": "code",
   "execution_count": 89,
   "id": "5947aa65-9e9f-4d49-8fb9-9eafb0a91463",
   "metadata": {},
   "outputs": [
    {
     "name": "stdout",
     "output_type": "stream",
     "text": [
      "Yearly bonus of employee is : 25000.0\n"
     ]
    }
   ],
   "source": [
    "Bhushan.yearly_bonus()"
   ]
  },
  {
   "cell_type": "markdown",
   "id": "f18b4fa4-9ef5-4461-8873-67d7b1ca4768",
   "metadata": {},
   "source": [
    "`Problem 3:` Vehicle Rental Create a class representing a vehicle rental system. Implement methods to rent a vehicle, return a vehicle, and display available vehicles."
   ]
  },
  {
   "cell_type": "code",
   "execution_count": 61,
   "id": "c7aaa33e-cd6c-48e3-9c71-232d315a82e5",
   "metadata": {},
   "outputs": [],
   "source": [
    "class rental_vehicle :\n",
    "\n",
    "    def __init__(self ,*available_vehicle):\n",
    "        self.available_vehicle = list(available_vehicle)\n",
    "        \n",
    "        \n",
    "    def rent_vehicle(self,vehicle_name ,vehicle_rent):\n",
    "        self.vehicle_name =vehicle_name\n",
    "        self.vehicle_rent =vehicle_rent\n",
    "        print(f\"You have taken {vehicle_name} on rent. rent is {vehicle_rent}\")\n",
    "        \n",
    "    def return_vehicle(self):\n",
    "        return self.vehicle_name , self.vehicle_rent\n",
    "    \n",
    "    def display_available_vehicle(self):\n",
    "        return self.available_vehicle"
   ]
  },
  {
   "cell_type": "code",
   "execution_count": 62,
   "id": "c885724a-5a03-471a-8dd1-17d669e90bcf",
   "metadata": {},
   "outputs": [],
   "source": [
    "obj_rentalVehicle =rental_vehicle(\"Bike\",\"Car\",\"Auto\",\"Sport\",\"Tractor\")"
   ]
  },
  {
   "cell_type": "code",
   "execution_count": 63,
   "id": "e88144a9-f344-4007-9a40-6eee6fde9841",
   "metadata": {},
   "outputs": [
    {
     "data": {
      "text/plain": [
       "['Bike', 'Car', 'Auto', 'Sport', 'Tractor']"
      ]
     },
     "execution_count": 63,
     "metadata": {},
     "output_type": "execute_result"
    }
   ],
   "source": [
    "obj_rentalVehicle.display_available_vehicle()"
   ]
  },
  {
   "cell_type": "code",
   "execution_count": 66,
   "id": "09ab3faa-fd53-4c00-9e56-6b2111a56464",
   "metadata": {},
   "outputs": [
    {
     "name": "stdout",
     "output_type": "stream",
     "text": [
      "You have taken 'Car' on rent. rent is 1000\n"
     ]
    }
   ],
   "source": [
    "obj_rentalVehicle.rent_vehicle(\"'Car'\",1000)"
   ]
  },
  {
   "cell_type": "code",
   "execution_count": 67,
   "id": "7748bce0-b01d-408a-9daa-1a01b2862216",
   "metadata": {},
   "outputs": [
    {
     "data": {
      "text/plain": [
       "(\"'Car'\", 1000)"
      ]
     },
     "execution_count": 67,
     "metadata": {},
     "output_type": "execute_result"
    }
   ],
   "source": [
    "obj_rentalVehicle.return_vehicle()"
   ]
  },
  {
   "cell_type": "markdown",
   "id": "7bc15efa-4182-4cad-81c3-3ea1a6785389",
   "metadata": {},
   "source": [
    "`Problem 4`: Library Catalog Create classes representing a library and a book. Implement methods to add books to the library, borrow books, and display available books."
   ]
  },
  {
   "cell_type": "code",
   "execution_count": 62,
   "id": "79ec8598-e89b-416b-b1cb-5d9a73071d9d",
   "metadata": {},
   "outputs": [],
   "source": [
    "class library :\n",
    "    \n",
    "    def add_book(self ,add_book_name) :\n",
    "        print(f\"You have added {add_book_name} book in library \")\n",
    "    \n",
    "    def borrow_book(self ,borrow_book_name) :\n",
    "        print(f\"You have borrow {borrow_book_name} book from library\")\n",
    "        \n",
    "    def display_available_book(self ,*args) :\n",
    "        print(f\"Availabe book in library are {args}\")"
   ]
  },
  {
   "cell_type": "code",
   "execution_count": 55,
   "id": "ede03d00-b87e-4896-a1d4-bc1f0a192864",
   "metadata": {},
   "outputs": [],
   "source": [
    "Bhushan =library_book()"
   ]
  },
  {
   "cell_type": "code",
   "execution_count": 70,
   "id": "cdacc20f-c4ce-4437-abf7-d31469bcf30d",
   "metadata": {},
   "outputs": [
    {
     "name": "stdout",
     "output_type": "stream",
     "text": [
      "You have added Python 3 book in library \n"
     ]
    }
   ],
   "source": [
    "Bhushan.add_book(\"Python 3\")"
   ]
  },
  {
   "cell_type": "code",
   "execution_count": 71,
   "id": "8babdf2b-2519-4adc-b0b5-8ffdc297ec2a",
   "metadata": {},
   "outputs": [
    {
     "name": "stdout",
     "output_type": "stream",
     "text": [
      "You have borrow Machine learning book from library\n"
     ]
    }
   ],
   "source": [
    "Bhushan.borrow_book(\"Machine learning\")"
   ]
  },
  {
   "cell_type": "code",
   "execution_count": 72,
   "id": "23a5c63e-bfb9-43d1-ad2e-e644fe85cf59",
   "metadata": {},
   "outputs": [
    {
     "name": "stdout",
     "output_type": "stream",
     "text": [
      "Availabe book in library are ('Python', 'DS', 'Big Data', 'ML', 'DL')\n"
     ]
    }
   ],
   "source": [
    "Bhushan.display_available_book(\"Python\",\"DS\",\"Big Data\",\"ML\",\"DL\")"
   ]
  },
  {
   "cell_type": "code",
   "execution_count": 7,
   "id": "5fbd82ec-3c71-4c45-b031-9e60e315c974",
   "metadata": {},
   "outputs": [],
   "source": [
    "class library :\n",
    "    \n",
    "    def display_available_book(self, *args):\n",
    "        return args"
   ]
  },
  {
   "cell_type": "code",
   "execution_count": 8,
   "id": "1890268e-b4d5-4d3d-a0d9-9421f1ae7d60",
   "metadata": {},
   "outputs": [],
   "source": [
    "class book(library) :\n",
    "    \n",
    "    def add_book_library(self ,add_book_name):\n",
    "        print(f\"You have added {add_book_name} book in library \")\n",
    "        \n",
    "    def borrow_book(self ,borrow_book_name) :\n",
    "        print(f\"You have borrow {borrow_book_name} book from library\")"
   ]
  },
  {
   "cell_type": "code",
   "execution_count": 9,
   "id": "0c9b25df-4e78-4f56-8c0b-2507deb5a239",
   "metadata": {},
   "outputs": [],
   "source": [
    "obj_book = book()"
   ]
  },
  {
   "cell_type": "code",
   "execution_count": 11,
   "id": "db276375-591a-46a3-85e0-9da5477e31c1",
   "metadata": {},
   "outputs": [
    {
     "name": "stdout",
     "output_type": "stream",
     "text": [
      "You have added python 3.10 book in library \n"
     ]
    }
   ],
   "source": [
    "obj_book.add_book_library(\"python 3.10\")"
   ]
  },
  {
   "cell_type": "code",
   "execution_count": 13,
   "id": "690734f0-c723-4bee-b28f-817771417c95",
   "metadata": {},
   "outputs": [
    {
     "data": {
      "text/plain": [
       "('DS', 'ML', 'AI', 'DL', 'Pyhon')"
      ]
     },
     "execution_count": 13,
     "metadata": {},
     "output_type": "execute_result"
    }
   ],
   "source": [
    "obj_book.display_available_book(\"DS\",\"ML\",\"AI\",\"DL\",\"Pyhon\")"
   ]
  },
  {
   "cell_type": "markdown",
   "id": "61268d38-4c85-4cc4-9dc3-a96558f388f8",
   "metadata": {},
   "source": [
    "Problem 5: Product Inventory Create classes representing a product and an inventory system. Implement methods to add products to the inventory, update product quantity, and display available products."
   ]
  },
  {
   "cell_type": "code",
   "execution_count": 21,
   "id": "6d9d6a69-9c8b-42a6-ac28-51f041cb825a",
   "metadata": {},
   "outputs": [],
   "source": [
    "class inventory :\n",
    "    \n",
    "    def __init__(self ,product ,product_quantity, *Available_product):\n",
    "        self.product =product\n",
    "        self.product_quantity =product_quantity\n",
    "        self.Available_product =Available_product"
   ]
  },
  {
   "cell_type": "code",
   "execution_count": 31,
   "id": "a2717063-9cf7-4e11-aa2d-9987764f410c",
   "metadata": {},
   "outputs": [],
   "source": [
    "class product(inventory):\n",
    "    \n",
    "    def add_product_inventory(self ,addProduct):\n",
    "        print(\"Product has been added to inventroty :\",self.product + addProduct)\n",
    "    \n",
    "    def update_product_quantity(self ,updateProduct):\n",
    "        print(\"Product has been updated :\",self.product_quantity + updateProduct)\n",
    "        \n",
    "    def display_available_product(self):\n",
    "        return self.Available_product"
   ]
  },
  {
   "cell_type": "code",
   "execution_count": 32,
   "id": "efc75fec-20f5-4296-82fb-7c38e3e5dab7",
   "metadata": {},
   "outputs": [],
   "source": [
    "Obj_product =product(1000 ,700, \"oil\",'sugar',\"Bed\",\"Box\",\"Pot\")"
   ]
  },
  {
   "cell_type": "code",
   "execution_count": 33,
   "id": "83819cb8-385e-445c-8c09-a8a8b4f74308",
   "metadata": {},
   "outputs": [
    {
     "data": {
      "text/plain": [
       "('oil', 'sugar', 'Bed', 'Box', 'Pot')"
      ]
     },
     "execution_count": 33,
     "metadata": {},
     "output_type": "execute_result"
    }
   ],
   "source": [
    "Obj_product.display_available_product()"
   ]
  },
  {
   "cell_type": "code",
   "execution_count": 35,
   "id": "97aabbe7-aaef-4123-89a3-78ff92db8a1e",
   "metadata": {},
   "outputs": [
    {
     "name": "stdout",
     "output_type": "stream",
     "text": [
      "Product has been added to inventroty : 1020\n"
     ]
    }
   ],
   "source": [
    "Obj_product.add_product_inventory(20)"
   ]
  },
  {
   "cell_type": "code",
   "execution_count": 36,
   "id": "85ea0bc4-f557-42ba-b383-37697da888c0",
   "metadata": {},
   "outputs": [
    {
     "name": "stdout",
     "output_type": "stream",
     "text": [
      "Product has been updated : 1700\n"
     ]
    }
   ],
   "source": [
    "Obj_product.update_product_quantity(1000)"
   ]
  },
  {
   "cell_type": "markdown",
   "id": "fdb788d7-3b39-4c2e-9f02-b9cdf9584b8f",
   "metadata": {},
   "source": [
    "Problem 6: Shape Calculation Create a class representing a shape with attributes like length, width, and height. Implement methods to calculate the area and perimeter of the shape."
   ]
  },
  {
   "cell_type": "code",
   "execution_count": 84,
   "id": "97c4d3ea-1545-4da8-bb63-296d11c420fe",
   "metadata": {},
   "outputs": [],
   "source": [
    "\n",
    "class shape_calculation :\n",
    "    \n",
    "    def __init__(self ,length ,width, height):\n",
    "        self.length =length \n",
    "        self.width =width\n",
    "        self.height =height\n",
    "        \n",
    "    def calc_perimeter(self,*args):\n",
    "        d =reduce(lambda x,y :x+y,args)\n",
    "        return d\n",
    "        \n",
    "    \n",
    "    def calc_area(self):\n",
    "        return 1/2 * self.length * self.width *self.height"
   ]
  },
  {
   "cell_type": "code",
   "execution_count": 85,
   "id": "03591411-8841-4ea5-b827-ebf087ab548b",
   "metadata": {},
   "outputs": [],
   "source": [
    "Traiangle =shape_calculation(12,2,23)"
   ]
  },
  {
   "cell_type": "code",
   "execution_count": 86,
   "id": "08fc70ac-e8b7-43c6-8d50-b22935d350a9",
   "metadata": {},
   "outputs": [
    {
     "data": {
      "text/plain": [
       "23"
      ]
     },
     "execution_count": 86,
     "metadata": {},
     "output_type": "execute_result"
    }
   ],
   "source": [
    "Traiangle.height"
   ]
  },
  {
   "cell_type": "code",
   "execution_count": 87,
   "id": "3228cb17-9f32-4570-9fdb-716e2c10f8fb",
   "metadata": {},
   "outputs": [
    {
     "data": {
      "text/plain": [
       "12"
      ]
     },
     "execution_count": 87,
     "metadata": {},
     "output_type": "execute_result"
    }
   ],
   "source": [
    "Traiangle.length"
   ]
  },
  {
   "cell_type": "code",
   "execution_count": 88,
   "id": "37dc1fb0-291f-4701-8613-1707d2a4fb77",
   "metadata": {},
   "outputs": [
    {
     "data": {
      "text/plain": [
       "2"
      ]
     },
     "execution_count": 88,
     "metadata": {},
     "output_type": "execute_result"
    }
   ],
   "source": [
    "Traiangle.width"
   ]
  },
  {
   "cell_type": "code",
   "execution_count": 89,
   "id": "f5f5fd89-d8c3-410e-8460-23d3200d9a98",
   "metadata": {},
   "outputs": [
    {
     "data": {
      "text/plain": [
       "87"
      ]
     },
     "execution_count": 89,
     "metadata": {},
     "output_type": "execute_result"
    }
   ],
   "source": [
    "Traiangle.calc_perimeter(23,2,26,36)"
   ]
  },
  {
   "cell_type": "code",
   "execution_count": 90,
   "id": "7657a15d-7378-4f8c-bfc0-caa8dd74b460",
   "metadata": {},
   "outputs": [
    {
     "data": {
      "text/plain": [
       "276.0"
      ]
     },
     "execution_count": 90,
     "metadata": {},
     "output_type": "execute_result"
    }
   ],
   "source": [
    "Traiangle.calc_area()"
   ]
  },
  {
   "cell_type": "markdown",
   "id": "9e866a56-c93e-424a-96ba-50275f5ea0f1",
   "metadata": {},
   "source": [
    "Problem 7: Student Management Create a class representing a student with attributes like student ID, name, and grades. Implement methods to calculate the average grade and display student details."
   ]
  },
  {
   "cell_type": "code",
   "execution_count": 3,
   "id": "f277b0e0-152a-4dfc-9583-c820d6e982bc",
   "metadata": {},
   "outputs": [],
   "source": [
    "class student :\n",
    "    \n",
    "    def __init__(self ,studentID ,name ,grade):\n",
    "        self.studentID =studentID\n",
    "        self.name =name\n",
    "        self.grade =grade\n",
    "        \n",
    "    def cal_avg_grade(self):\n",
    "        avg = self.grade / 2\n",
    "        return avg\n",
    "\n",
    "    def display_student(self):\n",
    "        return self.studentID , self.name ,self.grade\n",
    "        "
   ]
  },
  {
   "cell_type": "code",
   "execution_count": 4,
   "id": "0545b764-ac37-457b-b549-ea169f1c81b2",
   "metadata": {},
   "outputs": [],
   "source": [
    "obj_student1 =student(1,\"bhushan\",4)"
   ]
  },
  {
   "cell_type": "code",
   "execution_count": 6,
   "id": "f8b0305f-b8d8-4063-b59b-679bbdd31b81",
   "metadata": {},
   "outputs": [
    {
     "data": {
      "text/plain": [
       "2.0"
      ]
     },
     "execution_count": 6,
     "metadata": {},
     "output_type": "execute_result"
    }
   ],
   "source": [
    "obj_student1.cal_avg_grade()"
   ]
  },
  {
   "cell_type": "code",
   "execution_count": 7,
   "id": "aa6955e6-877d-4abd-8abf-a1a884ef317a",
   "metadata": {},
   "outputs": [
    {
     "data": {
      "text/plain": [
       "(1, 'bhushan', 4)"
      ]
     },
     "execution_count": 7,
     "metadata": {},
     "output_type": "execute_result"
    }
   ],
   "source": [
    "obj_student1.display_student()"
   ]
  },
  {
   "cell_type": "code",
   "execution_count": 9,
   "id": "943ce19b-d970-47d9-858d-63b4d604b883",
   "metadata": {},
   "outputs": [
    {
     "data": {
      "text/plain": [
       "4"
      ]
     },
     "execution_count": 9,
     "metadata": {},
     "output_type": "execute_result"
    }
   ],
   "source": [
    "obj_student1.grade"
   ]
  },
  {
   "cell_type": "code",
   "execution_count": 10,
   "id": "038115bc-037c-4a18-a16f-e8f90aea3261",
   "metadata": {},
   "outputs": [
    {
     "data": {
      "text/plain": [
       "'bhushan'"
      ]
     },
     "execution_count": 10,
     "metadata": {},
     "output_type": "execute_result"
    }
   ],
   "source": [
    "obj_student1.name"
   ]
  },
  {
   "cell_type": "markdown",
   "id": "ad1dbe51-2dcb-4424-861d-f0db38466e56",
   "metadata": {},
   "source": [
    "Problem 8: Email Management Create a class representing an email with attributes like sender, recipient, and subject. Implement methods to send an email and display email details."
   ]
  },
  {
   "cell_type": "code",
   "execution_count": 94,
   "id": "045df7df-f18b-4607-ba11-c569f55268c8",
   "metadata": {},
   "outputs": [],
   "source": [
    "class email_management :\n",
    "    \n",
    "    def __init__(self, sender ,recipient ,subject):\n",
    "        self.sender =sender\n",
    "        self.recipient =recipient\n",
    "        self.subject =subject\n",
    "        \n",
    "    def send_email(self,Sent_mail):\n",
    "        if Sent_mail ==\"yes\" or \"YES\" or \"Yes\":\n",
    "            print(\"your email has been successfully sent\")\n",
    "        else:\n",
    "            print(\"your have discarded sending email\")\n",
    "        \n",
    "    def display_email_details(self):\n",
    "        return self.sender ,self.recipient ,self.subject\n",
    "        "
   ]
  },
  {
   "cell_type": "code",
   "execution_count": 95,
   "id": "1e3ed7a5-7c0b-4b8b-9452-2f4d12b882e7",
   "metadata": {},
   "outputs": [],
   "source": [
    "obj_email_management =email_management(\"bhush@gmail.com\",\"sudh@gmail.com\",\"Dear sir, please find attach doc\")"
   ]
  },
  {
   "cell_type": "code",
   "execution_count": 96,
   "id": "9b31e9b8-b17a-4834-a877-a6fa3493f522",
   "metadata": {},
   "outputs": [
    {
     "data": {
      "text/plain": [
       "'bhush@gmail.com'"
      ]
     },
     "execution_count": 96,
     "metadata": {},
     "output_type": "execute_result"
    }
   ],
   "source": [
    "obj_email_management.sender"
   ]
  },
  {
   "cell_type": "code",
   "execution_count": 97,
   "id": "d549494c-48e4-4a6e-a404-555a12ecd9a2",
   "metadata": {},
   "outputs": [
    {
     "data": {
      "text/plain": [
       "'sudh@gmail.com'"
      ]
     },
     "execution_count": 97,
     "metadata": {},
     "output_type": "execute_result"
    }
   ],
   "source": [
    "obj_email_management.recipient"
   ]
  },
  {
   "cell_type": "code",
   "execution_count": 98,
   "id": "0785b092-bdde-4c5b-a61e-499da69f0f23",
   "metadata": {},
   "outputs": [
    {
     "data": {
      "text/plain": [
       "'Dear sir, please find attach doc'"
      ]
     },
     "execution_count": 98,
     "metadata": {},
     "output_type": "execute_result"
    }
   ],
   "source": [
    "obj_email_management.subject"
   ]
  },
  {
   "cell_type": "code",
   "execution_count": 103,
   "id": "8206d714-cc18-4549-93e1-d588afd6ebbf",
   "metadata": {},
   "outputs": [
    {
     "name": "stdout",
     "output_type": "stream",
     "text": [
      "your email has been successfully sent\n"
     ]
    }
   ],
   "source": [
    "obj_email_management.send_email(\"a\")"
   ]
  },
  {
   "cell_type": "code",
   "execution_count": 54,
   "id": "27607d11-d7b5-4386-99e5-e990ed0728af",
   "metadata": {},
   "outputs": [
    {
     "data": {
      "text/plain": [
       "('bhush@gmail.com', 'sudh@gmail.com', 'Dear sir, please find attach doc')"
      ]
     },
     "execution_count": 54,
     "metadata": {},
     "output_type": "execute_result"
    }
   ],
   "source": [
    "obj_email_management.display_email_details()"
   ]
  },
  {
   "cell_type": "markdown",
   "id": "4d660f68-547f-446e-be6f-cc0e38aca50e",
   "metadata": {},
   "source": [
    "Problem 9: Social Media Profile Create a class representing a social media profile with attributes like username and posts. Implement methods to add posts, display posts, and search for posts by keyword."
   ]
  },
  {
   "cell_type": "code",
   "execution_count": 1,
   "id": "5ef67a70-c4a7-4ae3-83a0-2bc8a55a8d8c",
   "metadata": {},
   "outputs": [],
   "source": [
    "class social_media_profile :\n",
    "    \n",
    "    def __init__(self ,username ,post):\n",
    "        self.username =username\n",
    "        self.post =post\n",
    "        \n",
    "    def addPost(self, add_post):\n",
    "        print(\"you have post has been sent on timeline :\",add_post)\n",
    "        \n",
    "    def searchPost(self, search_post):\n",
    "        print(\"you are serching post on timeline :\",search_post)\n",
    "        "
   ]
  },
  {
   "cell_type": "code",
   "execution_count": 2,
   "id": "ee867d34-6764-4084-879c-dcdaf6eb71f0",
   "metadata": {},
   "outputs": [],
   "source": [
    "obj_socialMedia_profile =social_media_profile(\"bhushan890\" ,\"yo are sucessfully completed assignments\")"
   ]
  },
  {
   "cell_type": "code",
   "execution_count": 3,
   "id": "ce574128-1a9e-4eb6-bdf4-a36f07b3bbe7",
   "metadata": {},
   "outputs": [
    {
     "data": {
      "text/plain": [
       "'yo are sucessfully completed assignments'"
      ]
     },
     "execution_count": 3,
     "metadata": {},
     "output_type": "execute_result"
    }
   ],
   "source": [
    "obj_socialMedia_profile.post"
   ]
  },
  {
   "cell_type": "code",
   "execution_count": 4,
   "id": "4bff18c4-4674-417d-8b24-9faed23c2f89",
   "metadata": {},
   "outputs": [
    {
     "data": {
      "text/plain": [
       "'bhushan890'"
      ]
     },
     "execution_count": 4,
     "metadata": {},
     "output_type": "execute_result"
    }
   ],
   "source": [
    "obj_socialMedia_profile.username"
   ]
  },
  {
   "cell_type": "code",
   "execution_count": 5,
   "id": "412d5114-62a4-41fd-935e-e195a31559dc",
   "metadata": {},
   "outputs": [
    {
     "name": "stdout",
     "output_type": "stream",
     "text": [
      "you have post has been sent on timeline : Your have got grade A\n"
     ]
    }
   ],
   "source": [
    "obj_socialMedia_profile.addPost(\"Your have got grade A\")"
   ]
  },
  {
   "cell_type": "code",
   "execution_count": 6,
   "id": "f395c8c3-498f-4a05-a6e7-9b16adf13d7a",
   "metadata": {},
   "outputs": [
    {
     "name": "stdout",
     "output_type": "stream",
     "text": [
      "you are serching post on timeline : You have got grade a\n"
     ]
    }
   ],
   "source": [
    "obj_socialMedia_profile.searchPost(\"You have got grade a\")"
   ]
  },
  {
   "cell_type": "markdown",
   "id": "8270c425-1a2e-4df5-af35-0646f8ef225b",
   "metadata": {},
   "source": [
    "Problem 10: ToDo List Create a class representing a ToDo list with attributes like tasks and due dates. Implement methods to add tasks, mark tasks as completed, and display pending tasks."
   ]
  },
  {
   "cell_type": "code",
   "execution_count": 142,
   "id": "8b969b0e-0326-4c92-a8ee-6aac203c595f",
   "metadata": {},
   "outputs": [],
   "source": [
    "class TODO_List:\n",
    "    \n",
    "    def __init__(self,tasks ,Due_dates):\n",
    "        self.tasks =tasks \n",
    "        self.Due_dates =Due_dates\n",
    "        \n",
    "    def addTasks(self ,add_task) :\n",
    "        print(\"You have added task :\",add_task)\n",
    "        \n",
    "    def mark_as_completed(self):\n",
    "        mark_Completed =input(\"Enter the user entry as mark completed :\")\n",
    "        if mark_Completed == \"Yes\" :\n",
    "            print(\"Your task is completed\")\n",
    "        else:\n",
    "            print(\"Your task is not Completed\")\n",
    "        \n",
    "    def display_pending_task(self ,pending_task) :\n",
    "        print(\"show pending task :\",pending_task)"
   ]
  },
  {
   "cell_type": "code",
   "execution_count": 143,
   "id": "06e2f599-d888-4c70-997c-12123fb179d7",
   "metadata": {},
   "outputs": [],
   "source": [
    "obj_Todo_list =TODO_List(\"Python code practice\",'14-10-2023')"
   ]
  },
  {
   "cell_type": "code",
   "execution_count": 144,
   "id": "ddeea354-597d-4f3f-a553-f60809c77776",
   "metadata": {},
   "outputs": [
    {
     "name": "stdout",
     "output_type": "stream",
     "text": [
      "You have added task : OPPS Practice\n"
     ]
    }
   ],
   "source": [
    "obj_Todo_list.addTasks(\"OPPS Practice\")"
   ]
  },
  {
   "cell_type": "code",
   "execution_count": 147,
   "id": "c7c9e99c-ca19-4fef-aa05-ed5c475bf588",
   "metadata": {},
   "outputs": [
    {
     "name": "stdin",
     "output_type": "stream",
     "text": [
      "Enter the user entry as mark completed : Yes\n"
     ]
    },
    {
     "name": "stdout",
     "output_type": "stream",
     "text": [
      "Your task is completed\n"
     ]
    }
   ],
   "source": [
    "obj_Todo_list.mark_as_completed()"
   ]
  },
  {
   "cell_type": "code",
   "execution_count": 110,
   "id": "c053c5d0-7065-40aa-8aad-a4e20c4cd4ed",
   "metadata": {},
   "outputs": [
    {
     "name": "stdout",
     "output_type": "stream",
     "text": [
      "show pending task : Python code practice\n"
     ]
    }
   ],
   "source": [
    "obj_Todo_list.display_pending_task(\"Python code practice\")"
   ]
  },
  {
   "cell_type": "code",
   "execution_count": null,
   "id": "08dd3211-a106-4c81-8077-ac27dd3628ad",
   "metadata": {},
   "outputs": [],
   "source": []
  },
  {
   "cell_type": "code",
   "execution_count": null,
   "id": "33ee818f-354d-427e-83b9-1659fc12d0a5",
   "metadata": {},
   "outputs": [],
   "source": []
  },
  {
   "cell_type": "code",
   "execution_count": null,
   "id": "55603287-5bcc-4552-ba1a-e2855c7616ff",
   "metadata": {},
   "outputs": [],
   "source": []
  },
  {
   "cell_type": "code",
   "execution_count": null,
   "id": "f92d1c4a-1477-4aa4-8bc1-8c92787fbdfc",
   "metadata": {},
   "outputs": [],
   "source": []
  }
 ],
 "metadata": {
  "kernelspec": {
   "display_name": "Python 3 (ipykernel)",
   "language": "python",
   "name": "python3"
  },
  "language_info": {
   "codemirror_mode": {
    "name": "ipython",
    "version": 3
   },
   "file_extension": ".py",
   "mimetype": "text/x-python",
   "name": "python",
   "nbconvert_exporter": "python",
   "pygments_lexer": "ipython3",
   "version": "3.10.8"
  }
 },
 "nbformat": 4,
 "nbformat_minor": 5
}
